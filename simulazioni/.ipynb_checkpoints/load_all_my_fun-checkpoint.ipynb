{
 "cells": [
  {
   "cell_type": "code",
   "execution_count": 1,
   "id": "8fe1d0c8",
   "metadata": {},
   "outputs": [],
   "source": [
    "# Python libraries\n",
    "import os\n",
    "from scipy.io import loadmat\n",
    "import pandas as pd\n",
    "import numpy as np\n",
    "import itertools"
   ]
  },
  {
   "cell_type": "code",
   "execution_count": 2,
   "id": "95aaa0cc",
   "metadata": {},
   "outputs": [],
   "source": [
    "# Check current working directory.\n",
    "oldcwd = os.getcwd()"
   ]
  },
  {
   "cell_type": "code",
   "execution_count": 3,
   "id": "e5802cae",
   "metadata": {},
   "outputs": [],
   "source": [
    "# Now change the directory\n",
    "newcwd = oldcwd + \"/my_functions\"\n",
    "os.chdir(newcwd)"
   ]
  },
  {
   "cell_type": "code",
   "execution_count": 4,
   "id": "22df5fcd",
   "metadata": {},
   "outputs": [],
   "source": [
    "package = \"ipynb.fs.defs.\"\n",
    "name = \"\"\n",
    "# equivalent to\n",
    "# from os import path as imported\n",
    "\n",
    "# assign directory\n",
    "directory = newcwd\n",
    " \n",
    "# iterate over files in that directory\n",
    "for filename in os.listdir(directory):\n",
    "    filename_noext = filename.split('.')[0] # filename without extension\n",
    "    __import__(package+filename_noext)"
   ]
  },
  {
   "cell_type": "code",
   "execution_count": 5,
   "id": "3b33ee0d",
   "metadata": {},
   "outputs": [],
   "source": [
    "# Get back to the old cwd\n",
    "os.chdir(oldcwd)"
   ]
  },
  {
   "cell_type": "code",
   "execution_count": null,
   "id": "5ec870af",
   "metadata": {},
   "outputs": [],
   "source": []
  }
 ],
 "metadata": {
  "kernelspec": {
   "display_name": "Python 3 (ipykernel)",
   "language": "python",
   "name": "python3"
  },
  "language_info": {
   "codemirror_mode": {
    "name": "ipython",
    "version": 3
   },
   "file_extension": ".py",
   "mimetype": "text/x-python",
   "name": "python",
   "nbconvert_exporter": "python",
   "pygments_lexer": "ipython3",
   "version": "3.10.9"
  }
 },
 "nbformat": 4,
 "nbformat_minor": 5
}
