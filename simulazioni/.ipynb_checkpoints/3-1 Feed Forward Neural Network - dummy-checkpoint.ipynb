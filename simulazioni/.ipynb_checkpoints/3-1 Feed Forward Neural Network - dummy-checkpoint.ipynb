{
 "cells": [
  {
   "cell_type": "markdown",
   "id": "b1244e2c",
   "metadata": {},
   "source": [
    "# Import libraries"
   ]
  },
  {
   "cell_type": "code",
   "execution_count": 1,
   "id": "b7b2fb88",
   "metadata": {},
   "outputs": [
    {
     "name": "stdout",
     "output_type": "stream",
     "text": [
      "pandas: 1.5.3\n",
      "numpy: 1.23.5\n"
     ]
    },
    {
     "name": "stderr",
     "output_type": "stream",
     "text": [
      "2023-08-15 18:05:15.858423: I tensorflow/core/platform/cpu_feature_guard.cc:193] This TensorFlow binary is optimized with oneAPI Deep Neural Network Library (oneDNN) to use the following CPU instructions in performance-critical operations:  SSE4.1 SSE4.2 AVX AVX2 FMA\n",
      "To enable them in other operations, rebuild TensorFlow with the appropriate compiler flags.\n"
     ]
    }
   ],
   "source": [
    "# Python libraries\n",
    "import os\n",
    "import matplotlib.pyplot as plt\n",
    "\n",
    "# Data manipulation\n",
    "import pandas as pd # for data manipulation\n",
    "print('pandas: %s' % pd.__version__) # print version\n",
    "import numpy as np # for data manipulation\n",
    "print('numpy: %s' % np.__version__) # print version\n",
    "\n",
    "# To enable LaTeX and select a font\n",
    "plt.rcParams.update({\n",
    "    \"text.usetex\": True,\n",
    "    \"font.family\": \"sans-serif\",\n",
    "    \"font.sans-serif\": \"Helvetica\",\n",
    "})\n",
    "\n",
    "# Using ipynb import functions defined in other nb\n",
    "from ipynb.fs.defs.myfun_load_dataset import *\n",
    "from ipynb.fs.defs.myfun_models import *\n",
    "# from ipynb.fs.full.myfun_plot import *"
   ]
  },
  {
   "cell_type": "markdown",
   "id": "4828fb37",
   "metadata": {},
   "source": [
    "# Data Acquisition"
   ]
  },
  {
   "cell_type": "code",
   "execution_count": 2,
   "id": "6a596e24",
   "metadata": {},
   "outputs": [],
   "source": [
    "# Load the dataset\n",
    "par_dir = os.path.dirname(os.getcwd()) # parent dir\n",
    "dir_name = par_dir + \"/NN-interaction\"\n",
    "merged_df, dflist = load_dataset(dir_name, 'post') # we have 10 pandas dataframe, one for each couple(camera,sequence)"
   ]
  },
  {
   "cell_type": "markdown",
   "id": "572797a8",
   "metadata": {},
   "source": [
    "> **WARNING:**\n",
    "> I have to standardize the data?"
   ]
  },
  {
   "cell_type": "markdown",
   "id": "be7b1cf9",
   "metadata": {},
   "source": [
    "# Train and Evaluate a Neural Network"
   ]
  },
  {
   "cell_type": "markdown",
   "id": "691417f9",
   "metadata": {},
   "source": [
    "## Step 1: Select data for modeling\n",
    "\n",
    "* X will be the consective distances btw vehicles\n",
    "* y will be the approximated velocity"
   ]
  },
  {
   "cell_type": "code",
   "execution_count": 3,
   "id": "67be0c45",
   "metadata": {},
   "outputs": [],
   "source": [
    "# For sake of simplicity conseder only a scene\n",
    "df = dflist[0] # fix a sequence\n",
    "scn = df.T[0]  # fix a scene"
   ]
  },
  {
   "cell_type": "code",
   "execution_count": 4,
   "id": "e48c41b9",
   "metadata": {},
   "outputs": [
    {
     "data": {
      "text/plain": [
       "Tarr           [9.440000000000001, 9.64, 9.840000000000002, 1...\n",
       "Xarr           [[29.373325674060805, 34.22142942994519, 38.50...\n",
       "Cons Dis       [[28.985128254938463, 28.827356057195246, 29.0...\n",
       "N. vehicles                                                    3\n",
       "cam                                                            1\n",
       "day                                                            1\n",
       "seq                                                            1\n",
       "N. file                                                        1\n",
       "Name: 0, dtype: object"
      ]
     },
     "execution_count": 4,
     "metadata": {},
     "output_type": "execute_result"
    }
   ],
   "source": [
    "scn"
   ]
  },
  {
   "cell_type": "markdown",
   "id": "91933e9d",
   "metadata": {},
   "source": [
    "### Create X"
   ]
  },
  {
   "cell_type": "code",
   "execution_count": 5,
   "id": "b679ae50",
   "metadata": {},
   "outputs": [
    {
     "data": {
      "text/plain": [
       "array([28.98512825,  1.78659013])"
      ]
     },
     "execution_count": 5,
     "metadata": {},
     "output_type": "execute_result"
    }
   ],
   "source": [
    "X = scn['Cons Dis'][:,0] # consecutive distances btw vehicles at initial time\n",
    "X"
   ]
  },
  {
   "cell_type": "markdown",
   "id": "41d79db8",
   "metadata": {},
   "source": [
    "### Create y"
   ]
  },
  {
   "cell_type": "code",
   "execution_count": 6,
   "id": "92269ed4",
   "metadata": {},
   "outputs": [
    {
     "data": {
      "text/plain": [
       "array([[  24.24051878,   21.42551813,   25.90595108,  -20.76701156,\n",
       "          17.2505642 ],\n",
       "       [  23.45165779,   22.56197993,   28.20275155, -120.54398325,\n",
       "          36.80699865],\n",
       "       [  26.96201742,   26.07238731,   38.06411685,    5.39850737,\n",
       "          35.72984852]])"
      ]
     },
     "execution_count": 6,
     "metadata": {},
     "output_type": "execute_result"
    }
   ],
   "source": [
    "dX_arr = np.diff(scn['Xarr'],axis=1)\n",
    "dT_arr = np.diff(scn['Tarr'])\n",
    "y_arr = dX_arr/dT_arr # velocity at the timestamps\n",
    "y_arr"
   ]
  },
  {
   "cell_type": "code",
   "execution_count": 7,
   "id": "fd08a429",
   "metadata": {},
   "outputs": [
    {
     "data": {
      "text/plain": [
       "array([24.24051878, 23.45165779])"
      ]
     },
     "execution_count": 7,
     "metadata": {},
     "output_type": "execute_result"
    }
   ],
   "source": [
    "# we choose the first velocity discretized as (x_(i+1)-x_i)/deltaT\n",
    "y_arr_0 = y_arr[:,0]\n",
    "y = y_arr_0[:-1] #drop the last one\n",
    "y"
   ]
  },
  {
   "cell_type": "markdown",
   "id": "b7294ac0",
   "metadata": {},
   "source": [
    "### Comparing trajectories of our scene and the one using the velocity in y"
   ]
  },
  {
   "cell_type": "markdown",
   "id": "d4897528",
   "metadata": {},
   "source": [
    "#### Computing trajs using the velocity in y"
   ]
  },
  {
   "cell_type": "code",
   "execution_count": 8,
   "id": "ac6754a9",
   "metadata": {},
   "outputs": [],
   "source": [
    "# time discretization\n",
    "tstamps = scn['Tarr']                              # timestamps scene\n",
    "deltat = 0.05                                      # timestep for our ODE, factor to match timestep of data\n",
    "Nt = int((tstamps[-1]-tstamps[0])/deltat) + 1      # number of discretization points (we need to cast the value)\n",
    "tspan = np.linspace(tstamps[0], tstamps[-1], Nt)   # timespan\n",
    "\n",
    "# space\n",
    "N = scn['N. vehicles']  # numbers of vehicles\n",
    "x0 =  scn['Xarr'][:,0]  # initial condition"
   ]
  },
  {
   "cell_type": "code",
   "execution_count": 9,
   "id": "0bad7be3",
   "metadata": {},
   "outputs": [
    {
     "name": "stdout",
     "output_type": "stream",
     "text": [
      "timestamps coincide!\n",
      "* tstamps: \t\t [ 9.44  9.64  9.84 10.04 10.24 10.44] \n",
      "* tspan[::,factor]: \t [ 9.44  9.64  9.84 10.04 10.24 10.44]\n"
     ]
    }
   ],
   "source": [
    "# To recover the same timestep in the data\n",
    "factor = int(0.2/deltat)\n",
    "\n",
    "if len(set(tstamps - tspan[::factor])) == 1:\n",
    "    print(f\"timestamps coincide!\")\n",
    "    print(\"* tstamps: \\t\\t\", tstamps,\\\n",
    "          \"\\n* tspan[::,factor]: \\t\",tspan[::factor])\n",
    "else:\n",
    "    print(f\"There is a mismatch in the timestamps: tstamps != tspan[::factor]\")"
   ]
  },
  {
   "cell_type": "code",
   "execution_count": 10,
   "id": "75014455",
   "metadata": {},
   "outputs": [],
   "source": [
    "# For a single argument do not forget to add the comma in the tuple e.g.\n",
    "v0 = 30\n",
    "vel = np.append(y,v0) \n",
    "sol = odeint(TD_ANN_model, x0, tspan, args=(vel,), tfirst = True).T\n",
    "sol_matched = sol[:,::factor] # match the sol in the same timestamps as data"
   ]
  },
  {
   "cell_type": "code",
   "execution_count": 11,
   "id": "26a1d508",
   "metadata": {},
   "outputs": [],
   "source": [
    "# tspan_ann, sol_ann = odesolver_ann(x0,vel,tstamps[0],tstamps[-1], tout=\"end\", deltat = 0.05)\n",
    "# sol_ann[:,::factor] == sol_matched"
   ]
  },
  {
   "cell_type": "markdown",
   "id": "e544031c",
   "metadata": {},
   "source": [
    "#### Plot"
   ]
  },
  {
   "cell_type": "code",
   "execution_count": 12,
   "id": "a651c240",
   "metadata": {
    "scrolled": false
   },
   "outputs": [
    {
     "data": {
      "image/png": "[encoded data removed]",
      "text/plain": [
       "<Figure size 700x500 with 1 Axes>"
      ]
     },
     "metadata": {},
     "output_type": "display_data"
    }
   ],
   "source": [
    "# Params\n",
    "N = scn['N. vehicles']\n",
    "t0, tf = tstamps[0], tstamps[-1]\n",
    "trajs = [scn['Xarr'],sol_matched]\n",
    "labels_plot = [\"true\", \"sim\"]\n",
    "title = f\"Initialization\"\n",
    "\n",
    "# fig \n",
    "width, height = 7, 5\n",
    "fig, ax = plt.subplots(figsize=(width,height))\n",
    "\n",
    "for veh in range(0,N):\n",
    "    ax.plot(tstamps, trajs[0][veh])\n",
    "    ax.plot(tspan[::factor], trajs[1][veh], '*')\n",
    "\n",
    "# Annotate the name of each variable at the last value\n",
    "scale = 1.004\n",
    "labels = list(range(1,N+1,1))\n",
    "for ycoord in trajs:\n",
    "    coords = zip([tf*scale]*N,ycoord[:,-1]) # last value where I want to annotate the corresponding label\n",
    "    for coord,lab in zip(coords,labels):\n",
    "        ax.annotate(xy=coord,                    # The point (x, y) to annotate.\n",
    "                    xytext=coord,                # The position (x, y) to place the text at.\n",
    "    #                 textcoords='offset points',\n",
    "                    text=lab,\n",
    "                    verticalalignment='center')\n",
    "\n",
    "ax.set_xlabel(\"t\")\n",
    "ax.set_ylabel(\"X(t)\")\n",
    "ax.set_title(title, fontsize=15)\n",
    "# X LIM\n",
    "xbal = 0.01\n",
    "ax.set_xlim(tstamps[0]*(1-xbal), tstamps[-1]*(1+xbal))\n",
    "# Y LIM\n",
    "ybal = 0.05\n",
    "mmin, mmax = min([x.min() for x in trajs]), max([x.max() for x in trajs])\n",
    "ax.set_ylim(mmin*(1-10*ybal), mmax*(1+ybal))\n",
    "plt.legend(labels_plot)\n",
    "plt.grid()\n",
    "plt.show()"
   ]
  },
  {
   "cell_type": "code",
   "execution_count": 13,
   "id": "180e23f6",
   "metadata": {},
   "outputs": [
    {
     "data": {
      "text/plain": [
       "array([[29.37332567, 34.22142943, 38.50653306, 43.68772327, 39.53432096,\n",
       "        42.9844338 ],\n",
       "       [58.35845393, 63.04878549, 67.56118147, 73.20173178, 49.09293513,\n",
       "        56.45433487],\n",
       "       [60.14504406, 65.53744755, 70.75192501, 78.36474838, 79.44444985,\n",
       "        86.59041956]])"
      ]
     },
     "execution_count": 13,
     "metadata": {},
     "output_type": "execute_result"
    }
   ],
   "source": [
    "scn['Xarr']"
   ]
  },
  {
   "cell_type": "markdown",
   "id": "9f5dd3e9",
   "metadata": {},
   "source": [
    "> !**Warning**: macchinina 2 true impazzita"
   ]
  },
  {
   "cell_type": "markdown",
   "id": "1e2c63af",
   "metadata": {},
   "source": [
    "## Step 2: Create training and testing samples"
   ]
  },
  {
   "cell_type": "code",
   "execution_count": 14,
   "id": "25109adc",
   "metadata": {},
   "outputs": [],
   "source": [
    "# X_train, X_test, y_train, y_test = train_test_split(X, y, test_size=0.2, random_state=0)"
   ]
  },
  {
   "cell_type": "markdown",
   "id": "010c4f7a",
   "metadata": {},
   "source": [
    "> !**WARNING**:\\\n",
    "> It doesn't make sense t split X and y\\\n",
    "> to add randomness we need to choose a particular sequence instead of all the dataset?"
   ]
  },
  {
   "cell_type": "markdown",
   "id": "d998953f",
   "metadata": {},
   "source": [
    "## Step 3: Specify the structure of a Neural Network (1-2-1)"
   ]
  },
  {
   "cell_type": "code",
   "execution_count": 15,
   "id": "f018e6d7",
   "metadata": {},
   "outputs": [],
   "source": [
    "DOE =[[1,2,1]] #Design of experiment"
   ]
  },
  {
   "cell_type": "code",
   "execution_count": 16,
   "id": "288c5de5",
   "metadata": {},
   "outputs": [
    {
     "name": "stdout",
     "output_type": "stream",
     "text": [
      "Model: \"sequential\"\n",
      "_________________________________________________________________\n",
      " Layer (type)                Output Shape              Param #   \n",
      "=================================================================\n",
      " Hidden-Layer-1 (Dense)      (None, 2)                 4         \n",
      "                                                                 \n",
      " Output-Layer (Dense)        (None, 1)                 3         \n",
      "                                                                 \n",
      "=================================================================\n",
      "Total params: 7\n",
      "Trainable params: 7\n",
      "Non-trainable params: 0\n",
      "_________________________________________________________________\n"
     ]
    }
   ],
   "source": [
    "model = create_model(DOE[0])\n",
    "\n",
    "model.summary()"
   ]
  },
  {
   "cell_type": "markdown",
   "id": "a445d952",
   "metadata": {},
   "source": [
    "## Step 4: Compile keras model"
   ]
  },
  {
   "cell_type": "code",
   "execution_count": 17,
   "id": "a9d8cfe5",
   "metadata": {},
   "outputs": [],
   "source": [
    "model.compile(optimizer='adam', # default='rmsprop', an algorithm to be used in backpropagation\n",
    "              loss='mean_squared_error', # Loss function to be optimized. tf.keras.losses.Loss instance.\n",
    "              metrics=[metrics.mae] # List of metrics to be evaluated by the model during training and testing.\n",
    "           )"
   ]
  },
  {
   "cell_type": "markdown",
   "id": "d56eca7c",
   "metadata": {},
   "source": [
    "## Step 5: Fit keras model on the dataset"
   ]
  },
  {
   "cell_type": "code",
   "execution_count": 18,
   "id": "fdf2f86a",
   "metadata": {
    "scrolled": true
   },
   "outputs": [
    {
     "name": "stdout",
     "output_type": "stream",
     "text": [
      "Epoch 1/3\n",
      "1/1 [==============================] - 0s 389ms/step - loss: 585.6902 - mean_absolute_error: 24.1948\n",
      "Epoch 2/3\n",
      "1/1 [==============================] - 0s 22ms/step - loss: 583.8927 - mean_absolute_error: 24.1583\n",
      "Epoch 3/3\n",
      "1/1 [==============================] - 0s 7ms/step - loss: 582.0999 - mean_absolute_error: 24.1218\n"
     ]
    },
    {
     "data": {
      "text/plain": [
       "<keras.callbacks.History at 0x7f10feb73b20>"
      ]
     },
     "execution_count": 18,
     "metadata": {},
     "output_type": "execute_result"
    }
   ],
   "source": [
    "model.fit(X, # input data\n",
    "          y, # target data\n",
    "          batch_size=10, # default=32, Number of samples per gradient update.\n",
    "          epochs=3, # default=1, Number of epochs to train the model.\n",
    "                    # An epoch is an iteration over the entire x and y data provided\n",
    "          verbose='auto'\n",
    "        )"
   ]
  },
  {
   "cell_type": "markdown",
   "id": "e98b8dec",
   "metadata": {},
   "source": [
    "> This two steps are equivalent to call:\\\n",
    "> train_nn(model, X, y, batch_size=bs, epochs=N_epochs, verbose='auto')"
   ]
  },
  {
   "cell_type": "markdown",
   "id": "6adcd2b7",
   "metadata": {},
   "source": [
    "## Step 6: Use model to make predictions"
   ]
  },
  {
   "cell_type": "code",
   "execution_count": 19,
   "id": "1d2b297d",
   "metadata": {},
   "outputs": [
    {
     "name": "stdout",
     "output_type": "stream",
     "text": [
      "1/1 [==============================] - 0s 72ms/step\n"
     ]
    }
   ],
   "source": [
    "y_pred = model.predict(X)"
   ]
  },
  {
   "cell_type": "markdown",
   "id": "925033f6",
   "metadata": {},
   "source": [
    "## Step 7: Model Performance Summary"
   ]
  },
  {
   "cell_type": "code",
   "execution_count": 20,
   "id": "4e479463",
   "metadata": {},
   "outputs": [
    {
     "name": "stdout",
     "output_type": "stream",
     "text": [
      "\n",
      "-------------------- Model Summary --------------------\n",
      "Model: \"sequential\"\n",
      "_________________________________________________________________\n",
      " Layer (type)                Output Shape              Param #   \n",
      "=================================================================\n",
      " Hidden-Layer-1 (Dense)      (None, 2)                 4         \n",
      "                                                                 \n",
      " Output-Layer (Dense)        (None, 1)                 3         \n",
      "                                                                 \n",
      "=================================================================\n",
      "Total params: 7\n",
      "Trainable params: 7\n",
      "Non-trainable params: 0\n",
      "_________________________________________________________________\n",
      "\n",
      "-------------------- Weights and Biases --------------------\n",
      "Layer:  Hidden-Layer-1\n",
      "  --Kernels (Weights):  [[0.38108462 0.56754744]]\n",
      "  --Biases:  [-0.00299965  0.00300004]\n",
      "Layer:  Output-Layer\n",
      "  --Kernels (Weights):  [[-0.7815042]\n",
      " [ 0.5059935]]\n",
      "  --Biases:  [0.00299983]\n",
      "\n"
     ]
    }
   ],
   "source": [
    "print(\"\")\n",
    "print('-------------------- Model Summary --------------------')\n",
    "model.summary() # print model summary\n",
    "print(\"\")\n",
    "print('-------------------- Weights and Biases --------------------')\n",
    "for layer in model.layers:\n",
    "    print(\"Layer: \", layer.name) # print layer name\n",
    "    print(\"  --Kernels (Weights): \", layer.get_weights()[0]) # kernels (weights)\n",
    "    print(\"  --Biases: \", layer.get_weights()[1]) # biases\n",
    "    \n",
    "print(\"\")"
   ]
  },
  {
   "cell_type": "markdown",
   "id": "3520434d",
   "metadata": {},
   "source": [
    "## Step 8: Solve the ODE with the output of the ANN"
   ]
  },
  {
   "cell_type": "code",
   "execution_count": 21,
   "id": "d6beaa02",
   "metadata": {},
   "outputs": [],
   "source": [
    "# For a single argument do not forget to add the comma in the tuple e.g.\n",
    "vel_ann = np.append(y_pred[:,0],v0)\n",
    "sol_ann = odeint(TD_ANN_model, x0, tspan, args=(vel_ann,), tfirst = True).T\n",
    "y_ann = sol_ann[:,::factor]"
   ]
  },
  {
   "cell_type": "code",
   "execution_count": 22,
   "id": "547d41a2",
   "metadata": {},
   "outputs": [
    {
     "data": {
      "image/png": "[encoded data removed]",
      "text/plain": [
       "<Figure size 700x500 with 1 Axes>"
      ]
     },
     "metadata": {},
     "output_type": "display_data"
    }
   ],
   "source": [
    "# Params\n",
    "N = scn['N. vehicles']\n",
    "t0, tf = tstamps[0], tstamps[-1]\n",
    "trajs = [scn['Xarr'],sol_matched, y_ann]\n",
    "labels_plot = [\"true\",\"init sim\",\"nn sim\"]\n",
    "title = f\"After the simulation\"\n",
    "\n",
    "# fig \n",
    "width, height = 7, 5\n",
    "fig, ax = plt.subplots(figsize=(width,height))\n",
    "\n",
    "for veh in range(0,N):\n",
    "    ax.plot(tstamps, trajs[0][veh])\n",
    "    ax.plot(tspan[::factor], trajs[1][veh], '*')\n",
    "    ax.plot(tspan[::factor], y_ann[veh], '--')\n",
    "\n",
    "\n",
    "# Annotate the name of each variable at the last value§\n",
    "scale = 1.004\n",
    "labels = list(range(1,N+1,1))\n",
    "for ycoord in trajs:\n",
    "    coords = zip([tf*scale]*N,ycoord[:,-1]) # last value where I want to annotate the corresponding label\n",
    "    for coord,lab in zip(coords,labels):\n",
    "        ax.annotate(xy=coord,                    # The point (x, y) to annotate.\n",
    "                    xytext=coord,                # The position (x, y) to place the text at.\n",
    "    #                 textcoords='offset points',\n",
    "                    text=lab,\n",
    "                    verticalalignment='center')\n",
    "\n",
    "\n",
    "ax.set_xlabel(\"t\")\n",
    "ax.set_ylabel(\"X(t)\")\n",
    "ax.set_title(title, fontsize=15)\n",
    "# X LIM\n",
    "xbal = 0.01\n",
    "ax.set_xlim(tstamps[0]*(1-xbal), tstamps[-1]*(1+xbal))\n",
    "# Y LIM\n",
    "ybal = 0.05\n",
    "mmin, mmax = min([x.min() for x in trajs]), max([x.max() for x in trajs])\n",
    "ax.set_ylim(mmin*(1-10*ybal), mmax*(1+ybal))\n",
    "plt.legend(labels_plot)\n",
    "plt.grid()\n",
    "plt.show()"
   ]
  }
 ],
 "metadata": {
  "kernelspec": {
   "display_name": "Python 3 (ipykernel)",
   "language": "python",
   "name": "python3"
  },
  "language_info": {
   "codemirror_mode": {
    "name": "ipython",
    "version": 3
   },
   "file_extension": ".py",
   "mimetype": "text/x-python",
   "name": "python",
   "nbconvert_exporter": "python",
   "pygments_lexer": "ipython3",
   "version": "3.10.9"
  }
 },
 "nbformat": 4,
 "nbformat_minor": 5
}
