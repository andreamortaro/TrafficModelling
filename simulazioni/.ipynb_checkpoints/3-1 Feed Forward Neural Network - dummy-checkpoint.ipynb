{
 "cells": [
  {
   "cell_type": "markdown",
   "id": "b1244e2c",
   "metadata": {},
   "source": [
    "# Import libraries"
   ]
  },
  {
   "cell_type": "code",
   "execution_count": 1,
   "id": "b7b2fb88",
   "metadata": {},
   "outputs": [
    {
     "name": "stdout",
     "output_type": "stream",
     "text": [
      "pandas: 1.5.3\n",
      "numpy: 1.23.5\n"
     ]
    },
    {
     "name": "stderr",
     "output_type": "stream",
     "text": [
      "2023-08-17 17:30:36.603606: I tensorflow/core/platform/cpu_feature_guard.cc:193] This TensorFlow binary is optimized with oneAPI Deep Neural Network Library (oneDNN) to use the following CPU instructions in performance-critical operations:  SSE4.1 SSE4.2 AVX AVX2 FMA\n",
      "To enable them in other operations, rebuild TensorFlow with the appropriate compiler flags.\n"
     ]
    }
   ],
   "source": [
    "# Python libraries\n",
    "import os\n",
    "import matplotlib.pyplot as plt\n",
    "\n",
    "# Data manipulation\n",
    "import pandas as pd # for data manipulation\n",
    "print('pandas: %s' % pd.__version__) # print version\n",
    "import numpy as np # for data manipulation\n",
    "print('numpy: %s' % np.__version__) # print version\n",
    "\n",
    "# To enable LaTeX and select a font\n",
    "plt.rcParams.update({\n",
    "    \"text.usetex\": True,\n",
    "    \"font.family\": \"sans-serif\",\n",
    "    \"font.sans-serif\": \"Helvetica\",\n",
    "})\n",
    "\n",
    "# Using ipynb import functions defined in other nb\n",
    "from ipynb.fs.defs.myfun_load_dataset import *\n",
    "from ipynb.fs.defs.myfun_models import *\n",
    "# from ipynb.fs.full.myfun_plot import *"
   ]
  },
  {
   "cell_type": "markdown",
   "id": "4828fb37",
   "metadata": {},
   "source": [
    "# Data Acquisition"
   ]
  },
  {
   "cell_type": "code",
   "execution_count": 2,
   "id": "6a596e24",
   "metadata": {},
   "outputs": [],
   "source": [
    "# Load the dataset\n",
    "par_dir = os.path.dirname(os.getcwd()) # parent dir\n",
    "dir_name = par_dir + \"/NN-interaction\"\n",
    "merged_df, dflist = load_dataset(dir_name, 'post') # we have 10 pandas dataframe, one for each couple(camera,sequence)"
   ]
  },
  {
   "cell_type": "markdown",
   "id": "691417f9",
   "metadata": {},
   "source": [
    "## Step 1: Select data for modeling\n",
    "\n",
    "* X will be the consective distances btw vehicles\n",
    "* y will be the approximated velocity"
   ]
  },
  {
   "cell_type": "code",
   "execution_count": 3,
   "id": "67be0c45",
   "metadata": {},
   "outputs": [],
   "source": [
    "# For sake of simplicity conseder only a scene\n",
    "df = dflist[0] # fix a sequence\n",
    "scn = df.T[0]  # fix a scene"
   ]
  },
  {
   "cell_type": "code",
   "execution_count": 4,
   "id": "e48c41b9",
   "metadata": {},
   "outputs": [
    {
     "data": {
      "text/plain": [
       "Tarr           [9.440000000000001, 9.64, 9.840000000000002, 1...\n",
       "Xarr           [[29.373325674060805, 34.22142942994519, 38.50...\n",
       "Cons Dis       [[28.985128254938463, 28.827356057195246, 29.0...\n",
       "N. vehicles                                                    3\n",
       "cam                                                            1\n",
       "day                                                            1\n",
       "seq                                                            1\n",
       "N. file                                                        1\n",
       "Name: 0, dtype: object"
      ]
     },
     "execution_count": 4,
     "metadata": {},
     "output_type": "execute_result"
    }
   ],
   "source": [
    "scn"
   ]
  },
  {
   "cell_type": "markdown",
   "id": "91933e9d",
   "metadata": {},
   "source": [
    "### Create X"
   ]
  },
  {
   "cell_type": "code",
   "execution_count": 5,
   "id": "b679ae50",
   "metadata": {},
   "outputs": [
    {
     "data": {
      "text/plain": [
       "array([28.98512825,  1.78659013])"
      ]
     },
     "execution_count": 5,
     "metadata": {},
     "output_type": "execute_result"
    }
   ],
   "source": [
    "X = scn['Cons Dis'][:,0] # consecutive distances btw vehicles at initial time\n",
    "X"
   ]
  },
  {
   "cell_type": "markdown",
   "id": "41d79db8",
   "metadata": {},
   "source": [
    "### Create y"
   ]
  },
  {
   "cell_type": "code",
   "execution_count": 6,
   "id": "92269ed4",
   "metadata": {},
   "outputs": [
    {
     "data": {
      "text/plain": [
       "array([[  24.24051878,   21.42551813,   25.90595108,  -20.76701156,\n",
       "          17.2505642 ],\n",
       "       [  23.45165779,   22.56197993,   28.20275155, -120.54398325,\n",
       "          36.80699865],\n",
       "       [  26.96201742,   26.07238731,   38.06411685,    5.39850737,\n",
       "          35.72984852]])"
      ]
     },
     "execution_count": 6,
     "metadata": {},
     "output_type": "execute_result"
    }
   ],
   "source": [
    "dX_arr = np.diff(scn['Xarr'],axis=1)\n",
    "dT_arr = np.diff(scn['Tarr'])\n",
    "y_arr = dX_arr/dT_arr # velocity at the timestamps\n",
    "y_arr"
   ]
  },
  {
   "cell_type": "code",
   "execution_count": 7,
   "id": "fd08a429",
   "metadata": {},
   "outputs": [
    {
     "data": {
      "text/plain": [
       "array([24.24051878, 23.45165779])"
      ]
     },
     "execution_count": 7,
     "metadata": {},
     "output_type": "execute_result"
    }
   ],
   "source": [
    "# we choose the first velocity discretized as (x_(i+1)-x_i)/deltaT\n",
    "y_arr_0 = y_arr[:,0]\n",
    "y = y_arr_0[:-1] #drop the last one\n",
    "y"
   ]
  },
  {
   "cell_type": "markdown",
   "id": "b7294ac0",
   "metadata": {},
   "source": [
    "### Comparing trajectories of our scene and the one using the velocity in y"
   ]
  },
  {
   "cell_type": "markdown",
   "id": "d4897528",
   "metadata": {},
   "source": [
    "#### Computing trajs using the velocity in y"
   ]
  },
  {
   "cell_type": "code",
   "execution_count": 8,
   "id": "ac6754a9",
   "metadata": {},
   "outputs": [],
   "source": [
    "# time discretization\n",
    "tstamps = scn['Tarr']                              # timestamps scene\n",
    "deltat = 0.05                                      # timestep for our ODE, factor to match timestep of data\n",
    "Nt = int((tstamps[-1]-tstamps[0])/deltat) + 1      # number of discretization points (we need to cast the value)\n",
    "tspan = np.linspace(tstamps[0], tstamps[-1], Nt)   # timespan\n",
    "\n",
    "# space\n",
    "N = scn['N. vehicles']  # numbers of vehicles\n",
    "x0 =  scn['Xarr'][:,0]  # initial condition"
   ]
  },
  {
   "cell_type": "code",
   "execution_count": 9,
   "id": "0bad7be3",
   "metadata": {},
   "outputs": [
    {
     "name": "stdout",
     "output_type": "stream",
     "text": [
      "timestamps coincide!\n",
      "* tstamps: \t\t [ 9.44  9.64  9.84 10.04 10.24 10.44] \n",
      "* tspan[::,factor]: \t [ 9.44  9.64  9.84 10.04 10.24 10.44]\n"
     ]
    }
   ],
   "source": [
    "# To recover the same timestep in the data\n",
    "factor = int(0.2/deltat)\n",
    "\n",
    "if len(set(tstamps - tspan[::factor])) == 1:\n",
    "    print(f\"timestamps coincide!\")\n",
    "    print(\"* tstamps: \\t\\t\", tstamps,\\\n",
    "          \"\\n* tspan[::,factor]: \\t\",tspan[::factor])\n",
    "else:\n",
    "    print(f\"There is a mismatch in the timestamps: tstamps != tspan[::factor]\")"
   ]
  },
  {
   "cell_type": "code",
   "execution_count": 10,
   "id": "75014455",
   "metadata": {},
   "outputs": [],
   "source": [
    "# For a single argument do not forget to add the comma in the tuple e.g.\n",
    "v0 = 30\n",
    "vel = np.append(y,v0) \n",
    "sol = odeint(TD_ANN_model, x0, tspan, args=(vel,), tfirst = True).T\n",
    "sol_matched = sol[:,::factor] # match the sol in the same timestamps as data"
   ]
  },
  {
   "cell_type": "code",
   "execution_count": 11,
   "id": "26a1d508",
   "metadata": {},
   "outputs": [],
   "source": [
    "# tspan_ann, sol_ann = odesolver_ann(x0,vel,tstamps[0],tstamps[-1], tout=\"end\", deltat = 0.05)\n",
    "# sol_ann[:,::factor] == sol_matched"
   ]
  },
  {
   "cell_type": "markdown",
   "id": "d998953f",
   "metadata": {},
   "source": [
    "## Step 3: Specify the structure of a Neural Network (1-2-1)"
   ]
  },
  {
   "cell_type": "code",
   "execution_count": 12,
   "id": "f018e6d7",
   "metadata": {},
   "outputs": [],
   "source": [
    "DOE =[[1,2,1]] #Design of experiment"
   ]
  },
  {
   "cell_type": "code",
   "execution_count": 13,
   "id": "288c5de5",
   "metadata": {},
   "outputs": [
    {
     "name": "stdout",
     "output_type": "stream",
     "text": [
      "Model: \"sequential\"\n",
      "_________________________________________________________________\n",
      " Layer (type)                Output Shape              Param #   \n",
      "=================================================================\n",
      " Hidden-Layer-1 (Dense)      (None, 2)                 4         \n",
      "                                                                 \n",
      " Output-Layer (Dense)        (None, 1)                 3         \n",
      "                                                                 \n",
      "=================================================================\n",
      "Total params: 7\n",
      "Trainable params: 7\n",
      "Non-trainable params: 0\n",
      "_________________________________________________________________\n"
     ]
    }
   ],
   "source": [
    "model = create_model(DOE[0])\n",
    "\n",
    "model.summary()"
   ]
  },
  {
   "cell_type": "markdown",
   "id": "a445d952",
   "metadata": {},
   "source": [
    "## Step 4: Compile keras model"
   ]
  },
  {
   "cell_type": "code",
   "execution_count": 14,
   "id": "a9d8cfe5",
   "metadata": {},
   "outputs": [],
   "source": [
    "model.compile(optimizer='adam', # default='rmsprop', an algorithm to be used in backpropagation\n",
    "              loss='mean_squared_error', # Loss function to be optimized. tf.keras.losses.Loss instance.\n",
    "              metrics=[metrics.mae] # List of metrics to be evaluated by the model during training and testing.\n",
    "           )"
   ]
  },
  {
   "cell_type": "markdown",
   "id": "d56eca7c",
   "metadata": {},
   "source": [
    "## Step 5: Fit keras model on the dataset"
   ]
  },
  {
   "cell_type": "code",
   "execution_count": 15,
   "id": "fcc09862",
   "metadata": {},
   "outputs": [],
   "source": [
    "# parameters to set\n",
    "epochs = 200\n",
    "batch_size = 100"
   ]
  },
  {
   "cell_type": "code",
   "execution_count": 16,
   "id": "fdf2f86a",
   "metadata": {
    "scrolled": true
   },
   "outputs": [
    {
     "name": "stdout",
     "output_type": "stream",
     "text": [
      "Epoch 1/200\n",
      "1/1 [==============================] - 0s 468ms/step - loss: 503.5676 - mean_absolute_error: 22.4344\n",
      "Epoch 2/200\n",
      "1/1 [==============================] - 0s 6ms/step - loss: 503.1292 - mean_absolute_error: 22.4245\n",
      "Epoch 3/200\n",
      "1/1 [==============================] - 0s 15ms/step - loss: 502.6897 - mean_absolute_error: 22.4145\n",
      "Epoch 4/200\n",
      "1/1 [==============================] - 0s 8ms/step - loss: 502.2491 - mean_absolute_error: 22.4046\n",
      "Epoch 5/200\n",
      "1/1 [==============================] - 0s 25ms/step - loss: 501.8073 - mean_absolute_error: 22.3945\n",
      "Epoch 6/200\n",
      "1/1 [==============================] - 0s 5ms/step - loss: 501.3643 - mean_absolute_error: 22.3845\n",
      "Epoch 7/200\n",
      "1/1 [==============================] - 0s 14ms/step - loss: 500.9203 - mean_absolute_error: 22.3744\n",
      "Epoch 8/200\n",
      "1/1 [==============================] - 0s 7ms/step - loss: 500.4750 - mean_absolute_error: 22.3643\n",
      "Epoch 9/200\n",
      "1/1 [==============================] - 0s 19ms/step - loss: 500.0285 - mean_absolute_error: 22.3541\n",
      "Epoch 10/200\n",
      "1/1 [==============================] - 0s 7ms/step - loss: 499.5808 - mean_absolute_error: 22.3439\n",
      "Epoch 11/200\n",
      "1/1 [==============================] - 0s 16ms/step - loss: 499.1319 - mean_absolute_error: 22.3337\n",
      "Epoch 12/200\n",
      "1/1 [==============================] - 0s 10ms/step - loss: 498.6817 - mean_absolute_error: 22.3235\n",
      "Epoch 13/200\n",
      "1/1 [==============================] - 0s 5ms/step - loss: 498.2303 - mean_absolute_error: 22.3132\n",
      "Epoch 14/200\n",
      "1/1 [==============================] - 0s 10ms/step - loss: 497.7776 - mean_absolute_error: 22.3028\n",
      "Epoch 15/200\n",
      "1/1 [==============================] - 0s 4ms/step - loss: 497.3236 - mean_absolute_error: 22.2925\n",
      "Epoch 16/200\n",
      "1/1 [==============================] - 0s 7ms/step - loss: 496.8683 - mean_absolute_error: 22.2821\n",
      "Epoch 17/200\n",
      "1/1 [==============================] - 0s 13ms/step - loss: 496.4117 - mean_absolute_error: 22.2716\n",
      "Epoch 18/200\n",
      "1/1 [==============================] - 0s 4ms/step - loss: 495.9538 - mean_absolute_error: 22.2611\n",
      "Epoch 19/200\n",
      "1/1 [==============================] - 0s 13ms/step - loss: 495.4946 - mean_absolute_error: 22.2506\n",
      "Epoch 20/200\n",
      "1/1 [==============================] - 0s 12ms/step - loss: 495.0340 - mean_absolute_error: 22.2401\n",
      "Epoch 21/200\n",
      "1/1 [==============================] - 0s 7ms/step - loss: 494.5721 - mean_absolute_error: 22.2295\n",
      "Epoch 22/200\n",
      "1/1 [==============================] - 0s 8ms/step - loss: 494.1087 - mean_absolute_error: 22.2188\n",
      "Epoch 23/200\n",
      "1/1 [==============================] - 0s 10ms/step - loss: 493.6440 - mean_absolute_error: 22.2082\n",
      "Epoch 24/200\n",
      "1/1 [==============================] - 0s 4ms/step - loss: 493.1779 - mean_absolute_error: 22.1975\n",
      "Epoch 25/200\n",
      "1/1 [==============================] - 0s 9ms/step - loss: 492.7104 - mean_absolute_error: 22.1867\n",
      "Epoch 26/200\n",
      "1/1 [==============================] - 0s 14ms/step - loss: 492.2415 - mean_absolute_error: 22.1759\n",
      "Epoch 27/200\n",
      "1/1 [==============================] - 0s 5ms/step - loss: 491.7712 - mean_absolute_error: 22.1651\n",
      "Epoch 28/200\n",
      "1/1 [==============================] - 0s 8ms/step - loss: 491.2996 - mean_absolute_error: 22.1542\n",
      "Epoch 29/200\n",
      "1/1 [==============================] - 0s 13ms/step - loss: 490.8264 - mean_absolute_error: 22.1433\n",
      "Epoch 30/200\n",
      "1/1 [==============================] - 0s 16ms/step - loss: 490.3519 - mean_absolute_error: 22.1323\n",
      "Epoch 31/200\n",
      "1/1 [==============================] - 0s 14ms/step - loss: 489.8759 - mean_absolute_error: 22.1213\n",
      "Epoch 32/200\n",
      "1/1 [==============================] - 0s 5ms/step - loss: 489.3984 - mean_absolute_error: 22.1103\n",
      "Epoch 33/200\n",
      "1/1 [==============================] - 0s 10ms/step - loss: 488.9196 - mean_absolute_error: 22.0992\n",
      "Epoch 34/200\n",
      "1/1 [==============================] - 0s 10ms/step - loss: 488.4391 - mean_absolute_error: 22.0881\n",
      "Epoch 35/200\n",
      "1/1 [==============================] - 0s 12ms/step - loss: 487.9573 - mean_absolute_error: 22.0769\n",
      "Epoch 36/200\n",
      "1/1 [==============================] - 0s 5ms/step - loss: 487.4741 - mean_absolute_error: 22.0657\n",
      "Epoch 37/200\n",
      "1/1 [==============================] - 0s 13ms/step - loss: 486.9894 - mean_absolute_error: 22.0545\n",
      "Epoch 38/200\n",
      "1/1 [==============================] - 0s 10ms/step - loss: 486.5032 - mean_absolute_error: 22.0432\n",
      "Epoch 39/200\n",
      "1/1 [==============================] - 0s 6ms/step - loss: 486.0155 - mean_absolute_error: 22.0318\n",
      "Epoch 40/200\n",
      "1/1 [==============================] - 0s 7ms/step - loss: 485.5264 - mean_absolute_error: 22.0204\n",
      "Epoch 41/200\n",
      "1/1 [==============================] - 0s 12ms/step - loss: 485.0357 - mean_absolute_error: 22.0090\n",
      "Epoch 42/200\n",
      "1/1 [==============================] - 0s 14ms/step - loss: 484.5436 - mean_absolute_error: 21.9975\n",
      "Epoch 43/200\n",
      "1/1 [==============================] - 0s 13ms/step - loss: 484.0501 - mean_absolute_error: 21.9860\n",
      "Epoch 44/200\n",
      "1/1 [==============================] - 0s 11ms/step - loss: 483.5550 - mean_absolute_error: 21.9745\n",
      "Epoch 45/200\n",
      "1/1 [==============================] - 0s 17ms/step - loss: 483.0585 - mean_absolute_error: 21.9629\n",
      "Epoch 46/200\n",
      "1/1 [==============================] - 0s 10ms/step - loss: 482.5605 - mean_absolute_error: 21.9512\n",
      "Epoch 47/200\n",
      "1/1 [==============================] - 0s 5ms/step - loss: 482.0610 - mean_absolute_error: 21.9395\n",
      "Epoch 48/200\n",
      "1/1 [==============================] - 0s 6ms/step - loss: 481.5601 - mean_absolute_error: 21.9278\n",
      "Epoch 49/200\n",
      "1/1 [==============================] - 0s 12ms/step - loss: 481.0576 - mean_absolute_error: 21.9160\n",
      "Epoch 50/200\n",
      "1/1 [==============================] - 0s 6ms/step - loss: 480.5536 - mean_absolute_error: 21.9042\n",
      "Epoch 51/200\n",
      "1/1 [==============================] - 0s 12ms/step - loss: 480.0483 - mean_absolute_error: 21.8923\n",
      "Epoch 52/200\n",
      "1/1 [==============================] - 0s 12ms/step - loss: 479.5414 - mean_absolute_error: 21.8804\n",
      "Epoch 53/200\n",
      "1/1 [==============================] - 0s 6ms/step - loss: 479.0331 - mean_absolute_error: 21.8684\n",
      "Epoch 54/200\n",
      "1/1 [==============================] - 0s 6ms/step - loss: 478.5233 - mean_absolute_error: 21.8564\n",
      "Epoch 55/200\n",
      "1/1 [==============================] - 0s 6ms/step - loss: 478.0120 - mean_absolute_error: 21.8444\n",
      "Epoch 56/200\n",
      "1/1 [==============================] - 0s 10ms/step - loss: 477.4991 - mean_absolute_error: 21.8323\n",
      "Epoch 57/200\n",
      "1/1 [==============================] - 0s 12ms/step - loss: 476.9850 - mean_absolute_error: 21.8201\n",
      "Epoch 58/200\n",
      "1/1 [==============================] - 0s 6ms/step - loss: 476.4693 - mean_absolute_error: 21.8079\n",
      "Epoch 59/200\n",
      "1/1 [==============================] - 0s 6ms/step - loss: 475.9521 - mean_absolute_error: 21.7957\n",
      "Epoch 60/200\n",
      "1/1 [==============================] - 0s 8ms/step - loss: 475.4335 - mean_absolute_error: 21.7834\n",
      "Epoch 61/200\n",
      "1/1 [==============================] - 0s 13ms/step - loss: 474.9134 - mean_absolute_error: 21.7711\n",
      "Epoch 62/200\n",
      "1/1 [==============================] - 0s 8ms/step - loss: 474.3919 - mean_absolute_error: 21.7587\n",
      "Epoch 63/200\n",
      "1/1 [==============================] - 0s 4ms/step - loss: 473.8689 - mean_absolute_error: 21.7463\n",
      "Epoch 64/200\n",
      "1/1 [==============================] - 0s 7ms/step - loss: 473.3445 - mean_absolute_error: 21.7339\n",
      "Epoch 65/200\n",
      "1/1 [==============================] - 0s 6ms/step - loss: 472.8186 - mean_absolute_error: 21.7213\n",
      "Epoch 66/200\n",
      "1/1 [==============================] - 0s 7ms/step - loss: 472.2913 - mean_absolute_error: 21.7088\n",
      "Epoch 67/200\n",
      "1/1 [==============================] - 0s 13ms/step - loss: 471.7626 - mean_absolute_error: 21.6962\n",
      "Epoch 68/200\n",
      "1/1 [==============================] - 0s 5ms/step - loss: 471.2324 - mean_absolute_error: 21.6836\n",
      "Epoch 69/200\n",
      "1/1 [==============================] - 0s 24ms/step - loss: 470.7008 - mean_absolute_error: 21.6709\n",
      "Epoch 70/200\n",
      "1/1 [==============================] - 0s 4ms/step - loss: 470.1677 - mean_absolute_error: 21.6581\n",
      "Epoch 71/200\n",
      "1/1 [==============================] - 0s 11ms/step - loss: 469.6332 - mean_absolute_error: 21.6453\n",
      "Epoch 72/200\n",
      "1/1 [==============================] - 0s 4ms/step - loss: 469.0974 - mean_absolute_error: 21.6325\n",
      "Epoch 73/200\n",
      "1/1 [==============================] - 0s 10ms/step - loss: 468.5601 - mean_absolute_error: 21.6196\n",
      "Epoch 74/200\n",
      "1/1 [==============================] - 0s 15ms/step - loss: 468.0214 - mean_absolute_error: 21.6067\n",
      "Epoch 75/200\n",
      "1/1 [==============================] - 0s 14ms/step - loss: 467.4813 - mean_absolute_error: 21.5937\n",
      "Epoch 76/200\n",
      "1/1 [==============================] - 0s 13ms/step - loss: 466.9397 - mean_absolute_error: 21.5807\n",
      "Epoch 77/200\n",
      "1/1 [==============================] - 0s 14ms/step - loss: 466.3968 - mean_absolute_error: 21.5677\n",
      "Epoch 78/200\n",
      "1/1 [==============================] - 0s 4ms/step - loss: 465.8525 - mean_absolute_error: 21.5546\n",
      "Epoch 79/200\n",
      "1/1 [==============================] - 0s 8ms/step - loss: 465.3068 - mean_absolute_error: 21.5414\n",
      "Epoch 80/200\n",
      "1/1 [==============================] - 0s 5ms/step - loss: 464.7598 - mean_absolute_error: 21.5282\n",
      "Epoch 81/200\n",
      "1/1 [==============================] - 0s 8ms/step - loss: 464.2113 - mean_absolute_error: 21.5150\n",
      "Epoch 82/200\n",
      "1/1 [==============================] - 0s 11ms/step - loss: 463.6615 - mean_absolute_error: 21.5017\n",
      "Epoch 83/200\n",
      "1/1 [==============================] - 0s 4ms/step - loss: 463.1103 - mean_absolute_error: 21.4883\n",
      "Epoch 84/200\n",
      "1/1 [==============================] - 0s 8ms/step - loss: 462.5578 - mean_absolute_error: 21.4749\n",
      "Epoch 85/200\n",
      "1/1 [==============================] - 0s 8ms/step - loss: 462.0039 - mean_absolute_error: 21.4615\n",
      "Epoch 86/200\n",
      "1/1 [==============================] - 0s 12ms/step - loss: 461.4486 - mean_absolute_error: 21.4480\n",
      "Epoch 87/200\n",
      "1/1 [==============================] - 0s 13ms/step - loss: 460.8920 - mean_absolute_error: 21.4345\n",
      "Epoch 88/200\n",
      "1/1 [==============================] - 0s 12ms/step - loss: 460.3340 - mean_absolute_error: 21.4209\n",
      "Epoch 89/200\n",
      "1/1 [==============================] - 0s 11ms/step - loss: 459.7748 - mean_absolute_error: 21.4073\n",
      "Epoch 90/200\n",
      "1/1 [==============================] - 0s 4ms/step - loss: 459.2142 - mean_absolute_error: 21.3936\n",
      "Epoch 91/200\n",
      "1/1 [==============================] - 0s 7ms/step - loss: 458.6523 - mean_absolute_error: 21.3799\n",
      "Epoch 92/200\n",
      "1/1 [==============================] - 0s 5ms/step - loss: 458.0891 - mean_absolute_error: 21.3662\n",
      "Epoch 93/200\n",
      "1/1 [==============================] - 0s 10ms/step - loss: 457.5245 - mean_absolute_error: 21.3523\n",
      "Epoch 94/200\n",
      "1/1 [==============================] - 0s 5ms/step - loss: 456.9587 - mean_absolute_error: 21.3385\n",
      "Epoch 95/200\n",
      "1/1 [==============================] - 0s 8ms/step - loss: 456.3915 - mean_absolute_error: 21.3246\n",
      "Epoch 96/200\n",
      "1/1 [==============================] - 0s 5ms/step - loss: 455.8231 - mean_absolute_error: 21.3106\n",
      "Epoch 97/200\n",
      "1/1 [==============================] - 0s 9ms/step - loss: 455.2533 - mean_absolute_error: 21.2966\n",
      "Epoch 98/200\n",
      "1/1 [==============================] - 0s 5ms/step - loss: 454.6824 - mean_absolute_error: 21.2826\n",
      "Epoch 99/200\n",
      "1/1 [==============================] - 0s 12ms/step - loss: 454.1101 - mean_absolute_error: 21.2685\n",
      "Epoch 100/200\n",
      "1/1 [==============================] - 0s 5ms/step - loss: 453.5366 - mean_absolute_error: 21.2544\n",
      "Epoch 101/200\n",
      "1/1 [==============================] - 0s 7ms/step - loss: 452.9618 - mean_absolute_error: 21.2402\n",
      "Epoch 102/200\n",
      "1/1 [==============================] - 0s 5ms/step - loss: 452.3857 - mean_absolute_error: 21.2260\n",
      "Epoch 103/200\n",
      "1/1 [==============================] - 0s 8ms/step - loss: 451.8084 - mean_absolute_error: 21.2117\n",
      "Epoch 104/200\n",
      "1/1 [==============================] - 0s 8ms/step - loss: 451.2299 - mean_absolute_error: 21.1974\n",
      "Epoch 105/200\n",
      "1/1 [==============================] - 0s 7ms/step - loss: 450.6502 - mean_absolute_error: 21.1830\n",
      "Epoch 106/200\n",
      "1/1 [==============================] - 0s 11ms/step - loss: 450.0692 - mean_absolute_error: 21.1686\n",
      "Epoch 107/200\n",
      "1/1 [==============================] - 0s 6ms/step - loss: 449.4870 - mean_absolute_error: 21.1541\n",
      "Epoch 108/200\n",
      "1/1 [==============================] - 0s 6ms/step - loss: 448.9036 - mean_absolute_error: 21.1396\n",
      "Epoch 109/200\n",
      "1/1 [==============================] - 0s 5ms/step - loss: 448.3189 - mean_absolute_error: 21.1251\n",
      "Epoch 110/200\n",
      "1/1 [==============================] - 0s 9ms/step - loss: 447.7332 - mean_absolute_error: 21.1105\n",
      "Epoch 111/200\n",
      "1/1 [==============================] - 0s 13ms/step - loss: 447.1461 - mean_absolute_error: 21.0958\n",
      "Epoch 112/200\n",
      "1/1 [==============================] - 0s 13ms/step - loss: 446.5580 - mean_absolute_error: 21.0811\n",
      "Epoch 113/200\n",
      "1/1 [==============================] - 0s 13ms/step - loss: 445.9686 - mean_absolute_error: 21.0664\n",
      "Epoch 114/200\n",
      "1/1 [==============================] - 0s 14ms/step - loss: 445.3781 - mean_absolute_error: 21.0516\n",
      "Epoch 115/200\n",
      "1/1 [==============================] - 0s 12ms/step - loss: 444.7865 - mean_absolute_error: 21.0368\n",
      "Epoch 116/200\n",
      "1/1 [==============================] - 0s 13ms/step - loss: 444.1937 - mean_absolute_error: 21.0219\n",
      "Epoch 117/200\n",
      "1/1 [==============================] - 0s 7ms/step - loss: 443.5997 - mean_absolute_error: 21.0070\n",
      "Epoch 118/200\n",
      "1/1 [==============================] - 0s 11ms/step - loss: 443.0046 - mean_absolute_error: 20.9920\n",
      "Epoch 119/200\n",
      "1/1 [==============================] - 0s 11ms/step - loss: 442.4084 - mean_absolute_error: 20.9770\n",
      "Epoch 120/200\n",
      "1/1 [==============================] - 0s 6ms/step - loss: 441.8111 - mean_absolute_error: 20.9619\n",
      "Epoch 121/200\n",
      "1/1 [==============================] - 0s 6ms/step - loss: 441.2126 - mean_absolute_error: 20.9468\n",
      "Epoch 122/200\n",
      "1/1 [==============================] - 0s 6ms/step - loss: 440.6131 - mean_absolute_error: 20.9317\n",
      "Epoch 123/200\n",
      "1/1 [==============================] - 0s 5ms/step - loss: 440.0125 - mean_absolute_error: 20.9164\n",
      "Epoch 124/200\n",
      "1/1 [==============================] - 0s 7ms/step - loss: 439.4107 - mean_absolute_error: 20.9012\n",
      "Epoch 125/200\n",
      "1/1 [==============================] - 0s 6ms/step - loss: 438.8079 - mean_absolute_error: 20.8859\n",
      "Epoch 126/200\n",
      "1/1 [==============================] - 0s 17ms/step - loss: 438.2041 - mean_absolute_error: 20.8706\n",
      "Epoch 127/200\n",
      "1/1 [==============================] - 0s 6ms/step - loss: 437.5992 - mean_absolute_error: 20.8552\n",
      "Epoch 128/200\n",
      "1/1 [==============================] - 0s 25ms/step - loss: 436.9932 - mean_absolute_error: 20.8397\n",
      "Epoch 129/200\n",
      "1/1 [==============================] - 0s 6ms/step - loss: 436.3862 - mean_absolute_error: 20.8243\n",
      "Epoch 130/200\n",
      "1/1 [==============================] - 0s 20ms/step - loss: 435.7781 - mean_absolute_error: 20.8087\n",
      "Epoch 131/200\n",
      "1/1 [==============================] - 0s 19ms/step - loss: 435.1690 - mean_absolute_error: 20.7932\n",
      "Epoch 132/200\n",
      "1/1 [==============================] - 0s 6ms/step - loss: 434.5589 - mean_absolute_error: 20.7775\n",
      "Epoch 133/200\n",
      "1/1 [==============================] - 0s 6ms/step - loss: 433.9478 - mean_absolute_error: 20.7619\n",
      "Epoch 134/200\n",
      "1/1 [==============================] - 0s 7ms/step - loss: 433.3358 - mean_absolute_error: 20.7462\n",
      "Epoch 135/200\n",
      "1/1 [==============================] - 0s 7ms/step - loss: 432.7227 - mean_absolute_error: 20.7304\n",
      "Epoch 136/200\n",
      "1/1 [==============================] - 0s 5ms/step - loss: 432.1086 - mean_absolute_error: 20.7146\n",
      "Epoch 137/200\n",
      "1/1 [==============================] - 0s 5ms/step - loss: 431.4936 - mean_absolute_error: 20.6988\n",
      "Epoch 138/200\n",
      "1/1 [==============================] - 0s 6ms/step - loss: 430.8776 - mean_absolute_error: 20.6829\n",
      "Epoch 139/200\n",
      "1/1 [==============================] - 0s 5ms/step - loss: 430.2606 - mean_absolute_error: 20.6669\n",
      "Epoch 140/200\n",
      "1/1 [==============================] - 0s 4ms/step - loss: 429.6427 - mean_absolute_error: 20.6509\n",
      "Epoch 141/200\n",
      "1/1 [==============================] - 0s 6ms/step - loss: 429.0239 - mean_absolute_error: 20.6349\n",
      "Epoch 142/200\n",
      "1/1 [==============================] - 0s 10ms/step - loss: 428.4041 - mean_absolute_error: 20.6188\n",
      "Epoch 143/200\n",
      "1/1 [==============================] - 0s 16ms/step - loss: 427.7835 - mean_absolute_error: 20.6027\n",
      "Epoch 144/200\n",
      "1/1 [==============================] - 0s 4ms/step - loss: 427.1619 - mean_absolute_error: 20.5866\n",
      "Epoch 145/200\n"
     ]
    },
    {
     "name": "stdout",
     "output_type": "stream",
     "text": [
      "1/1 [==============================] - 0s 12ms/step - loss: 426.5395 - mean_absolute_error: 20.5703\n",
      "Epoch 146/200\n",
      "1/1 [==============================] - 0s 12ms/step - loss: 425.9161 - mean_absolute_error: 20.5541\n",
      "Epoch 147/200\n",
      "1/1 [==============================] - 0s 7ms/step - loss: 425.2919 - mean_absolute_error: 20.5378\n",
      "Epoch 148/200\n",
      "1/1 [==============================] - 0s 10ms/step - loss: 424.6669 - mean_absolute_error: 20.5214\n",
      "Epoch 149/200\n",
      "1/1 [==============================] - 0s 12ms/step - loss: 424.0409 - mean_absolute_error: 20.5051\n",
      "Epoch 150/200\n",
      "1/1 [==============================] - 0s 13ms/step - loss: 423.4141 - mean_absolute_error: 20.4886\n",
      "Epoch 151/200\n",
      "1/1 [==============================] - 0s 10ms/step - loss: 422.7865 - mean_absolute_error: 20.4721\n",
      "Epoch 152/200\n",
      "1/1 [==============================] - 0s 6ms/step - loss: 422.1580 - mean_absolute_error: 20.4556\n",
      "Epoch 153/200\n",
      "1/1 [==============================] - 0s 12ms/step - loss: 421.5287 - mean_absolute_error: 20.4390\n",
      "Epoch 154/200\n",
      "1/1 [==============================] - 0s 15ms/step - loss: 420.8987 - mean_absolute_error: 20.4224\n",
      "Epoch 155/200\n",
      "1/1 [==============================] - 0s 4ms/step - loss: 420.2678 - mean_absolute_error: 20.4058\n",
      "Epoch 156/200\n",
      "1/1 [==============================] - 0s 6ms/step - loss: 419.6362 - mean_absolute_error: 20.3891\n",
      "Epoch 157/200\n",
      "1/1 [==============================] - 0s 19ms/step - loss: 419.0037 - mean_absolute_error: 20.3723\n",
      "Epoch 158/200\n",
      "1/1 [==============================] - 0s 8ms/step - loss: 418.3705 - mean_absolute_error: 20.3555\n",
      "Epoch 159/200\n",
      "1/1 [==============================] - 0s 10ms/step - loss: 417.7366 - mean_absolute_error: 20.3387\n",
      "Epoch 160/200\n",
      "1/1 [==============================] - 0s 14ms/step - loss: 417.1019 - mean_absolute_error: 20.3218\n",
      "Epoch 161/200\n",
      "1/1 [==============================] - 0s 9ms/step - loss: 416.4665 - mean_absolute_error: 20.3049\n",
      "Epoch 162/200\n",
      "1/1 [==============================] - 0s 17ms/step - loss: 415.8304 - mean_absolute_error: 20.2879\n",
      "Epoch 163/200\n",
      "1/1 [==============================] - 0s 7ms/step - loss: 415.1935 - mean_absolute_error: 20.2709\n",
      "Epoch 164/200\n",
      "1/1 [==============================] - 0s 6ms/step - loss: 414.5559 - mean_absolute_error: 20.2539\n",
      "Epoch 165/200\n",
      "1/1 [==============================] - 0s 13ms/step - loss: 413.9177 - mean_absolute_error: 20.2368\n",
      "Epoch 166/200\n",
      "1/1 [==============================] - 0s 7ms/step - loss: 413.2788 - mean_absolute_error: 20.2196\n",
      "Epoch 167/200\n",
      "1/1 [==============================] - 0s 16ms/step - loss: 412.6392 - mean_absolute_error: 20.2024\n",
      "Epoch 168/200\n",
      "1/1 [==============================] - 0s 5ms/step - loss: 411.9989 - mean_absolute_error: 20.1852\n",
      "Epoch 169/200\n",
      "1/1 [==============================] - 0s 11ms/step - loss: 411.3580 - mean_absolute_error: 20.1679\n",
      "Epoch 170/200\n",
      "1/1 [==============================] - 0s 5ms/step - loss: 410.7165 - mean_absolute_error: 20.1506\n",
      "Epoch 171/200\n",
      "1/1 [==============================] - 0s 7ms/step - loss: 410.0742 - mean_absolute_error: 20.1332\n",
      "Epoch 172/200\n",
      "1/1 [==============================] - 0s 5ms/step - loss: 409.4315 - mean_absolute_error: 20.1158\n",
      "Epoch 173/200\n",
      "1/1 [==============================] - 0s 8ms/step - loss: 408.7881 - mean_absolute_error: 20.0984\n",
      "Epoch 174/200\n",
      "1/1 [==============================] - 0s 6ms/step - loss: 408.1441 - mean_absolute_error: 20.0809\n",
      "Epoch 175/200\n",
      "1/1 [==============================] - 0s 8ms/step - loss: 407.4996 - mean_absolute_error: 20.0634\n",
      "Epoch 176/200\n",
      "1/1 [==============================] - 0s 6ms/step - loss: 406.8544 - mean_absolute_error: 20.0458\n",
      "Epoch 177/200\n",
      "1/1 [==============================] - 0s 6ms/step - loss: 406.2088 - mean_absolute_error: 20.0282\n",
      "Epoch 178/200\n",
      "1/1 [==============================] - 0s 6ms/step - loss: 405.5625 - mean_absolute_error: 20.0105\n",
      "Epoch 179/200\n",
      "1/1 [==============================] - 0s 7ms/step - loss: 404.9158 - mean_absolute_error: 19.9928\n",
      "Epoch 180/200\n",
      "1/1 [==============================] - 0s 5ms/step - loss: 404.2685 - mean_absolute_error: 19.9751\n",
      "Epoch 181/200\n",
      "1/1 [==============================] - 0s 9ms/step - loss: 403.6207 - mean_absolute_error: 19.9573\n",
      "Epoch 182/200\n",
      "1/1 [==============================] - 0s 5ms/step - loss: 402.9724 - mean_absolute_error: 19.9395\n",
      "Epoch 183/200\n",
      "1/1 [==============================] - 0s 5ms/step - loss: 402.3236 - mean_absolute_error: 19.9216\n",
      "Epoch 184/200\n",
      "1/1 [==============================] - 0s 5ms/step - loss: 401.6743 - mean_absolute_error: 19.9037\n",
      "Epoch 185/200\n",
      "1/1 [==============================] - 0s 11ms/step - loss: 401.0246 - mean_absolute_error: 19.8858\n",
      "Epoch 186/200\n",
      "1/1 [==============================] - 0s 8ms/step - loss: 400.3744 - mean_absolute_error: 19.8678\n",
      "Epoch 187/200\n",
      "1/1 [==============================] - 0s 9ms/step - loss: 399.7238 - mean_absolute_error: 19.8497\n",
      "Epoch 188/200\n",
      "1/1 [==============================] - 0s 8ms/step - loss: 399.0727 - mean_absolute_error: 19.8316\n",
      "Epoch 189/200\n",
      "1/1 [==============================] - 0s 15ms/step - loss: 398.4212 - mean_absolute_error: 19.8135\n",
      "Epoch 190/200\n",
      "1/1 [==============================] - 0s 11ms/step - loss: 397.7693 - mean_absolute_error: 19.7954\n",
      "Epoch 191/200\n",
      "1/1 [==============================] - 0s 4ms/step - loss: 397.1170 - mean_absolute_error: 19.7772\n",
      "Epoch 192/200\n",
      "1/1 [==============================] - 0s 13ms/step - loss: 396.4643 - mean_absolute_error: 19.7589\n",
      "Epoch 193/200\n",
      "1/1 [==============================] - 0s 13ms/step - loss: 395.8113 - mean_absolute_error: 19.7407\n",
      "Epoch 194/200\n",
      "1/1 [==============================] - 0s 9ms/step - loss: 395.1578 - mean_absolute_error: 19.7223\n",
      "Epoch 195/200\n",
      "1/1 [==============================] - 0s 7ms/step - loss: 394.5041 - mean_absolute_error: 19.7040\n",
      "Epoch 196/200\n",
      "1/1 [==============================] - 0s 13ms/step - loss: 393.8500 - mean_absolute_error: 19.6856\n",
      "Epoch 197/200\n",
      "1/1 [==============================] - 0s 19ms/step - loss: 393.1956 - mean_absolute_error: 19.6671\n",
      "Epoch 198/200\n",
      "1/1 [==============================] - 0s 5ms/step - loss: 392.5408 - mean_absolute_error: 19.6487\n",
      "Epoch 199/200\n",
      "1/1 [==============================] - 0s 8ms/step - loss: 391.8858 - mean_absolute_error: 19.6301\n",
      "Epoch 200/200\n",
      "1/1 [==============================] - 0s 6ms/step - loss: 391.2304 - mean_absolute_error: 19.6116\n"
     ]
    },
    {
     "data": {
      "text/plain": [
       "<keras.callbacks.History at 0x7f14f09072e0>"
      ]
     },
     "execution_count": 16,
     "metadata": {},
     "output_type": "execute_result"
    }
   ],
   "source": [
    "model.fit(X, # input data\n",
    "          y, # target data\n",
    "          batch_size, # default=32, Number of samples per gradient update.\n",
    "          epochs,     # default=1, Number of epochs to train the model.\n",
    "                      # An epoch is an iteration over the entire x and y data provided\n",
    "          verbose='auto'\n",
    "        )"
   ]
  },
  {
   "cell_type": "markdown",
   "id": "e98b8dec",
   "metadata": {},
   "source": [
    "> This two steps are equivalent to call:\\\n",
    "> train_nn(model, X, y, batch_size=bs, epochs=N_epochs, verbose='auto')"
   ]
  },
  {
   "cell_type": "markdown",
   "id": "6adcd2b7",
   "metadata": {},
   "source": [
    "## Step 6: Use model to make predictions"
   ]
  },
  {
   "cell_type": "code",
   "execution_count": 17,
   "id": "1d2b297d",
   "metadata": {},
   "outputs": [
    {
     "name": "stdout",
     "output_type": "stream",
     "text": [
      "1/1 [==============================] - 0s 84ms/step\n"
     ]
    }
   ],
   "source": [
    "y_pred = model.predict(X)"
   ]
  },
  {
   "cell_type": "markdown",
   "id": "925033f6",
   "metadata": {},
   "source": [
    "## Step 7: Model Performance Summary"
   ]
  },
  {
   "cell_type": "code",
   "execution_count": 18,
   "id": "4e479463",
   "metadata": {},
   "outputs": [
    {
     "name": "stdout",
     "output_type": "stream",
     "text": [
      "\n",
      "-------------------- Model Summary --------------------\n",
      "Model: \"sequential\"\n",
      "_________________________________________________________________\n",
      " Layer (type)                Output Shape              Param #   \n",
      "=================================================================\n",
      " Hidden-Layer-1 (Dense)      (None, 2)                 4         \n",
      "                                                                 \n",
      " Output-Layer (Dense)        (None, 1)                 3         \n",
      "                                                                 \n",
      "=================================================================\n",
      "Total params: 7\n",
      "Trainable params: 7\n",
      "Non-trainable params: 0\n",
      "_________________________________________________________________\n",
      "\n",
      "-------------------- Weights and Biases --------------------\n",
      "Layer:  Hidden-Layer-1\n",
      "  --Kernels (Weights):  [[ 0.5169559  -0.53667426]]\n",
      "  --Biases:  [ 0.64474124 -0.4939915 ]\n",
      "Layer:  Output-Layer\n",
      "  --Kernels (Weights):  [[ 0.42405394]\n",
      " [-0.37974682]]\n",
      "  --Biases:  [0.606638]\n",
      "\n"
     ]
    }
   ],
   "source": [
    "print(\"\")\n",
    "print('-------------------- Model Summary --------------------')\n",
    "model.summary() # print model summary\n",
    "print(\"\")\n",
    "print('-------------------- Weights and Biases --------------------')\n",
    "for layer in model.layers:\n",
    "    print(\"Layer: \", layer.name) # print layer name\n",
    "    print(\"  --Kernels (Weights): \", layer.get_weights()[0]) # kernels (weights)\n",
    "    print(\"  --Biases: \", layer.get_weights()[1]) # biases\n",
    "    \n",
    "print(\"\")"
   ]
  },
  {
   "cell_type": "markdown",
   "id": "3520434d",
   "metadata": {},
   "source": [
    "## Step 8: Solve the ODE with the output of the ANN"
   ]
  },
  {
   "cell_type": "code",
   "execution_count": 19,
   "id": "d6beaa02",
   "metadata": {},
   "outputs": [],
   "source": [
    "# For a single argument do not forget to add the comma in the tuple e.g.\n",
    "vel_ann = np.append(y_pred[:,0],v0)\n",
    "sol_ann = odeint(TD_ANN_model, x0, tspan, args=(vel_ann,), tfirst = True).T\n",
    "y_ann = sol_ann[:,::factor]"
   ]
  },
  {
   "cell_type": "code",
   "execution_count": 47,
   "id": "bec72f44",
   "metadata": {},
   "outputs": [],
   "source": [
    "def odesolver_ann_scene2(nn_model, scn, batch_size, epochs, v0, verbose=\"auto\"):\n",
    "    \n",
    "    \"\"\"\n",
    "    \n",
    "    t_ann_list, x_ann_list, vel_ann_list = odesolver_ann_scene(nn_model, scn, batch_size, epochs, v0, verbose=\"auto\")\n",
    "    \n",
    "    odesolver_ann_scene solve the ode model driven by a nn in a scene.\n",
    "    \"\"\"\n",
    "    \n",
    "    N = scn['N. vehicles']\n",
    "    tstamps = scn['Tarr']\n",
    "    \n",
    "    vel_ann_list = []\n",
    "    t_ann_list = [scn['Tarr'][0]]\n",
    "    x_ann_list = [[i] for i in scn['Xarr'][:,0]]\n",
    "\n",
    "    X_arr, y_arr = create_data_ann_scene(scn)\n",
    "    \n",
    "    for_end = len(tstamps)-1\n",
    "    \n",
    "    print(f\"We have {for_end} time intervals inside [{tstamps[0]},{tstamps[-1]}]\\n\")\n",
    "    \n",
    "    for i in range(0,for_end):\n",
    "\n",
    "        print(\"--\"*50)\n",
    "        print(f\"Time interval n.{i}: [{scn['Tarr'][i]},{scn['Tarr'][i+1]}]\\n\")\n",
    "        \n",
    "        ## STEP 1: Neural Network\n",
    "        # Create the dataset and train the nn model\n",
    "        X, y = X_arr[:,i], y_arr[:,i]\n",
    "        train_nn(nn_model, X, y, batch_size, epochs, verbose)\n",
    "        \n",
    "        # Predict the rhs of the TD_ANN_model\n",
    "        y_pred = nn_model(X).numpy().flatten().tolist() # To avoid that the funcion is retraced at every call.\n",
    "        vel_ann_list.append(np.append(y_pred,v0).tolist())\n",
    "\n",
    "        print(f\"\\\n",
    "        * y_true: {y}\\n\\\n",
    "        * y_pred: {y_pred}\\n\")\n",
    "        \n",
    "        ## STEP 2: Solve the ODE sys in this time interval\n",
    "        # x0 = scn['Xarr'][:,i]                                     # not use the true value\n",
    "        x0 = [list[-1] for list in np.vstack(x_ann_list).tolist()]  # last values computed\n",
    "        t0, tend = scn['Tarr'][i], scn['Tarr'][i+1]\n",
    "        vel_ann = vel_ann_list[i]\n",
    "        tspan_ann, sol_ann = odesolver_ann(x0, vel_ann, t0, tend, deltat = 0.05)\n",
    "\n",
    "        x_ann = sol_ann.tolist()\n",
    "        t_ann = tspan_ann[1:]    # avoid the first recording, because added before the for\n",
    "\n",
    "        # add the solution to the correct vehicle path\n",
    "        for j in range(0,N):\n",
    "            # avoid the first recording, because added before the for\n",
    "            tmp = x_ann[j][1:]\n",
    "            x_ann_list[j] = np.concatenate([x_ann_list[j],tmp])\n",
    "        t_ann_list = np.concatenate([t_ann_list,t_ann]).tolist()\n",
    "\n",
    "        print(\"--\"*50)\n",
    "            \n",
    "    return t_ann_list, x_ann_list, vel_ann_list"
   ]
  },
  {
   "cell_type": "code",
   "execution_count": 48,
   "id": "c667f9eb",
   "metadata": {
    "scrolled": true
   },
   "outputs": [
    {
     "name": "stdout",
     "output_type": "stream",
     "text": [
      "We have 5 time intervals inside [9.440000000000001,10.440000000000001]\n",
      "\n",
      "----------------------------------------------------------------------------------------------------\n",
      "Time interval n.0: [9.440000000000001,9.64]\n",
      "\n",
      "        * y_true: [24.24051878 23.45165779]\n",
      "        * y_pred: [24.238758087158203, 23.467056274414062]\n",
      "\n",
      "9.440000000000001\n",
      "----------------------------------------------------------------------------------------------------\n",
      "----------------------------------------------------------------------------------------------------\n",
      "Time interval n.1: [9.64,9.840000000000002]\n",
      "\n",
      "        * y_true: [21.42551813 22.56197993]\n",
      "        * y_pred: [21.417755126953125, 22.615062713623047]\n",
      "\n",
      "9.64\n",
      "----------------------------------------------------------------------------------------------------\n",
      "----------------------------------------------------------------------------------------------------\n",
      "Time interval n.2: [9.840000000000002,10.040000000000001]\n",
      "\n",
      "        * y_true: [25.90595108 28.20275155]\n",
      "        * y_pred: [26.329864501953125, 24.934032440185547]\n",
      "\n",
      "9.840000000000002\n",
      "----------------------------------------------------------------------------------------------------\n",
      "----------------------------------------------------------------------------------------------------\n",
      "Time interval n.3: [10.040000000000001,10.240000000000002]\n",
      "\n",
      "        * y_true: [ -20.76701156 -120.54398325]\n",
      "        * y_pred: [5.077125549316406, 18.122060775756836]\n",
      "\n",
      "10.040000000000001\n",
      "----------------------------------------------------------------------------------------------------\n",
      "----------------------------------------------------------------------------------------------------\n",
      "Time interval n.4: [10.240000000000002,10.440000000000001]\n",
      "\n",
      "        * y_true: [17.2505642  36.80699865]\n",
      "        * y_pred: [26.486894607543945, 30.84293556213379]\n",
      "\n",
      "10.240000000000002\n",
      "----------------------------------------------------------------------------------------------------\n"
     ]
    }
   ],
   "source": [
    "t_ann_list, x_ann_list, vel_ann_list = odesolver_ann_scene2(model, scn, batch_size, epochs, v0, verbose=0)"
   ]
  },
  {
   "cell_type": "code",
   "execution_count": 45,
   "id": "2284c678",
   "metadata": {},
   "outputs": [
    {
     "data": {
      "text/plain": [
       "(23, 21)"
      ]
     },
     "execution_count": 45,
     "metadata": {},
     "output_type": "execute_result"
    }
   ],
   "source": [
    "len(t_ann_list), len(tspan)"
   ]
  },
  {
   "cell_type": "code",
   "execution_count": 46,
   "id": "718be0f1",
   "metadata": {},
   "outputs": [
    {
     "data": {
      "text/plain": [
       "array([ 9.44      ,  9.44      ,  9.50666667,  9.57333333,  9.64      ,\n",
       "        9.64      ,  9.69      ,  9.74      ,  9.79      ,  9.84      ,\n",
       "        9.84      ,  9.90666667,  9.97333333, 10.04      , 10.04      ,\n",
       "       10.09      , 10.14      , 10.19      , 10.24      , 10.24      ,\n",
       "       10.30666667, 10.37333333, 10.44      ])"
      ]
     },
     "execution_count": 46,
     "metadata": {},
     "output_type": "execute_result"
    }
   ],
   "source": [
    "np.array(t_ann_list)"
   ]
  },
  {
   "cell_type": "code",
   "execution_count": 32,
   "id": "a19604aa",
   "metadata": {},
   "outputs": [
    {
     "data": {
      "text/plain": [
       "array([ 9.44,  9.49,  9.54,  9.59,  9.64,  9.69,  9.74,  9.79,  9.84,\n",
       "        9.89,  9.94,  9.99, 10.04, 10.09, 10.14, 10.19, 10.24, 10.29,\n",
       "       10.34, 10.39, 10.44])"
      ]
     },
     "execution_count": 32,
     "metadata": {},
     "output_type": "execute_result"
    }
   ],
   "source": [
    "tspan"
   ]
  },
  {
   "cell_type": "code",
   "execution_count": 20,
   "id": "547d41a2",
   "metadata": {},
   "outputs": [
    {
     "data": {
      "image/png": "[encoded data removed]",
      "text/plain": [
       "<Figure size 700x500 with 1 Axes>"
      ]
     },
     "metadata": {},
     "output_type": "display_data"
    }
   ],
   "source": [
    "# Params\n",
    "N = scn['N. vehicles']\n",
    "t0, tf = tstamps[0], tstamps[-1]\n",
    "trajs = [scn['Xarr'],sol_matched, y_ann]\n",
    "labels_plot = [\"true\",\"init sim\",\"nn sim\"]\n",
    "title = f\"After the simulation\"\n",
    "\n",
    "# fig \n",
    "width, height = 7, 5\n",
    "fig, ax = plt.subplots(figsize=(width,height))\n",
    "\n",
    "for veh in range(0,N):\n",
    "    ax.plot(tstamps, trajs[0][veh])\n",
    "    ax.plot(tspan[::factor], trajs[1][veh], '*')\n",
    "    ax.plot(tspan[::factor], y_ann[veh], '--')\n",
    "\n",
    "\n",
    "# Annotate the name of each variable at the last value§\n",
    "scale = 1.004\n",
    "labels = list(range(1,N+1,1))\n",
    "for ycoord in trajs:\n",
    "    coords = zip([tf*scale]*N,ycoord[:,-1]) # last value where I want to annotate the corresponding label\n",
    "    for coord,lab in zip(coords,labels):\n",
    "        ax.annotate(xy=coord,                    # The point (x, y) to annotate.\n",
    "                    xytext=coord,                # The position (x, y) to place the text at.\n",
    "    #                 textcoords='offset points',\n",
    "                    text=lab,\n",
    "                    verticalalignment='center')\n",
    "\n",
    "\n",
    "ax.set_xlabel(\"t\")\n",
    "ax.set_ylabel(\"X(t)\")\n",
    "ax.set_title(title, fontsize=15)\n",
    "# X LIM\n",
    "xbal = 0.01\n",
    "ax.set_xlim(tstamps[0]*(1-xbal), tstamps[-1]*(1+xbal))\n",
    "# Y LIM\n",
    "ybal = 0.05\n",
    "mmin, mmax = min([x.min() for x in trajs]), max([x.max() for x in trajs])\n",
    "ax.set_ylim(mmin*(1-10*ybal), mmax*(1+ybal))\n",
    "plt.legend(labels_plot)\n",
    "plt.grid()\n",
    "plt.show()"
   ]
  }
 ],
 "metadata": {
  "kernelspec": {
   "display_name": "Python 3 (ipykernel)",
   "language": "python",
   "name": "python3"
  },
  "language_info": {
   "codemirror_mode": {
    "name": "ipython",
    "version": 3
   },
   "file_extension": ".py",
   "mimetype": "text/x-python",
   "name": "python",
   "nbconvert_exporter": "python",
   "pygments_lexer": "ipython3",
   "version": "3.10.9"
  }
 },
 "nbformat": 4,
 "nbformat_minor": 5
}
