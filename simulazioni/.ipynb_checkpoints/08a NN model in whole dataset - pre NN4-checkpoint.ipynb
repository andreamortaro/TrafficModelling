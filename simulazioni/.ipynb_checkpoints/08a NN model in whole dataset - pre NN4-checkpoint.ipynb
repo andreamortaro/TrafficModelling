{
 "cells": [
  {
   "cell_type": "markdown",
   "id": "ad5e4d47",
   "metadata": {},
   "source": [
    "## Import libraries"
   ]
  },
  {
   "cell_type": "code",
   "execution_count": null,
   "id": "c84869a2",
   "metadata": {
    "scrolled": false
   },
   "outputs": [],
   "source": [
    "# Python libraries\n",
    "import os\n",
    "import sys\n",
    "import pandas as pd # for data manipulation\n",
    "import numpy as np # for data manipulation\n",
    "import tensorflow as tf\n",
    "from sklearn.model_selection import train_test_split\n",
    "from datetime import datetime\n",
    "import time\n",
    "\n",
    "# Plotting\n",
    "import matplotlib.pyplot as plt\n",
    "\n",
    "# To enable LaTeX and select a font\n",
    "plt.rcParams.update({\n",
    "    \"text.usetex\": True,\n",
    "    \"font.family\": \"sans-serif\",\n",
    "    \"font.sans-serif\": \"Helvetica\",\n",
    "})\n",
    "\n",
    "# Using ipynb import functions defined in other nb\n",
    "sys.path.append(\"myfun/\")\n",
    "from ipynb.fs.defs.myfun_load_dataset import *\n",
    "from ipynb.fs.full.myfun_model_nn import *\n",
    "from ipynb.fs.defs.myfun_plot import *"
   ]
  },
  {
   "cell_type": "markdown",
   "id": "0e0e4056",
   "metadata": {},
   "source": [
    "## Data Acquisition"
   ]
  },
  {
   "cell_type": "code",
   "execution_count": null,
   "id": "12ab8161",
   "metadata": {},
   "outputs": [],
   "source": [
    "# Load the dataset\n",
    "par_dir = os.path.dirname(os.getcwd()) # parent dir\n",
    "dir_name = par_dir + \"/NN-interaction\""
   ]
  },
  {
   "cell_type": "code",
   "execution_count": null,
   "id": "3a1949d7",
   "metadata": {},
   "outputs": [],
   "source": [
    "processed_flag = 'pre'\n",
    "# load the data\n",
    "_, dflist = load_dataset(dir_name, processed_flag)\n",
    "dataset = dflist"
   ]
  },
  {
   "cell_type": "code",
   "execution_count": null,
   "id": "f7592f01",
   "metadata": {},
   "outputs": [],
   "source": [
    "# params\n",
    "DOE =[1,4,1] #Design of experiment\n",
    "v0_guess = 30\n",
    "NUM_ITER = 500\n",
    "LEARNING_RATE_v0 = 0.5\n",
    "flag_save = True"
   ]
  },
  {
   "cell_type": "markdown",
   "id": "978727e7",
   "metadata": {},
   "source": [
    "## NN: 1-4-1"
   ]
  },
  {
   "cell_type": "code",
   "execution_count": null,
   "id": "54fd3a51",
   "metadata": {},
   "outputs": [],
   "source": [
    "info_nn4 = solve_nn_dataset(DOE, v0_guess, dataset, processed_flag, NUM_ITER, LEARNING_RATE_v0)"
   ]
  },
  {
   "cell_type": "markdown",
   "id": "dacc526f",
   "metadata": {},
   "source": [
    "## Prepare the out dir"
   ]
  },
  {
   "cell_type": "code",
   "execution_count": null,
   "id": "359e5609",
   "metadata": {},
   "outputs": [],
   "source": [
    "# Create the directory..\n",
    "if flag_save:\n",
    "    \n",
    "    ext = \".svg\"\n",
    "    \n",
    "    df_seen = [df['N. file'][0] for df in dataset]\n",
    "    df_seen_str = '-'.join(str(x) for x in df_seen)\n",
    "    \n",
    "    # Create directory where to save the image\n",
    "    now = datetime.now() \n",
    "    d = now.strftime(f\"%Y-%m-%d_%H-%M-%S_df{df_seen_str}_{NUM_ITER}it-PRE-nn{DOE[1]}\")\n",
    "    \n",
    "    path = 'out/' + d\n",
    "    os.mkdir(path)"
   ]
  },
  {
   "cell_type": "code",
   "execution_count": null,
   "id": "6b5287a0",
   "metadata": {},
   "outputs": [],
   "source": [
    "if flag_save:\n",
    "    # Save the solution in a file\n",
    "    namefile = '/info_nn4.txt'\n",
    "\n",
    "    with open(path + namefile, 'w') as output:\n",
    "        info_nn4.to_csv(path + namefile, sep=',', index=False)"
   ]
  }
 ],
 "metadata": {
  "kernelspec": {
   "display_name": "Python 3 (ipykernel)",
   "language": "python",
   "name": "python3"
  },
  "language_info": {
   "codemirror_mode": {
    "name": "ipython",
    "version": 3
   },
   "file_extension": ".py",
   "mimetype": "text/x-python",
   "name": "python",
   "nbconvert_exporter": "python",
   "pygments_lexer": "ipython3",
   "version": "3.10.9"
  }
 },
 "nbformat": 4,
 "nbformat_minor": 5
}
