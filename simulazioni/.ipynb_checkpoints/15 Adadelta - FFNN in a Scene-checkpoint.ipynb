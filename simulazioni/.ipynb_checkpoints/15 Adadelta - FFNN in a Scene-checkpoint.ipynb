{
 "cells": [
  {
   "cell_type": "markdown",
   "id": "b1244e2c",
   "metadata": {},
   "source": [
    "## Import libraries"
   ]
  },
  {
   "cell_type": "code",
   "execution_count": 1,
   "id": "b7b2fb88",
   "metadata": {
    "scrolled": true
   },
   "outputs": [
    {
     "name": "stderr",
     "output_type": "stream",
     "text": [
      "2023-09-27 16:36:13.962996: I tensorflow/core/platform/cpu_feature_guard.cc:193] This TensorFlow binary is optimized with oneAPI Deep Neural Network Library (oneDNN) to use the following CPU instructions in performance-critical operations:  SSE4.1 SSE4.2 AVX AVX2 FMA\n",
      "To enable them in other operations, rebuild TensorFlow with the appropriate compiler flags.\n"
     ]
    },
    {
     "name": "stdout",
     "output_type": "stream",
     "text": [
      "Tensorflow/Keras: 2.11.0\n",
      "sklearn: 1.3.0\n"
     ]
    }
   ],
   "source": [
    "# Python libraries\n",
    "import os\n",
    "import sys\n",
    "import pandas as pd # for data manipulation\n",
    "import numpy as np # for data manipulation\n",
    "import tensorflow as tf\n",
    "import matplotlib.pyplot as plt\n",
    "\n",
    "# To enable LaTeX and select a font\n",
    "plt.rcParams.update({\n",
    "    \"text.usetex\": True,\n",
    "    \"font.family\": \"sans-serif\",\n",
    "    \"font.sans-serif\": \"Helvetica\",\n",
    "})\n",
    "\n",
    "# Using ipynb import functions defined in other nb\n",
    "sys.path.append(\"myfun/\")\n",
    "from ipynb.fs.defs.myfun_load_dataset import *\n",
    "from ipynb.fs.full.myfun_model_usefulfuns import *\n",
    "from ipynb.fs.full.myfun_nn import *\n",
    "# from ipynb.fs.defs.myfun_model_nn import *\n",
    "from ipynb.fs.defs.myfun_plot import *"
   ]
  },
  {
   "cell_type": "markdown",
   "id": "4828fb37",
   "metadata": {},
   "source": [
    "## Data Acquisition"
   ]
  },
  {
   "cell_type": "code",
   "execution_count": 2,
   "id": "6a596e24",
   "metadata": {},
   "outputs": [],
   "source": [
    "# Load the dataset\n",
    "par_dir = os.path.dirname(os.getcwd()) # parent dir\n",
    "dir_name = par_dir + \"/NN-interaction\"\n",
    "merged_df, dflist = load_dataset(dir_name, 'post') # we have 10 pandas dataframe, one for each couple(camera,sequence)"
   ]
  },
  {
   "cell_type": "code",
   "execution_count": 3,
   "id": "a791e4b1",
   "metadata": {},
   "outputs": [],
   "source": [
    "idx = 20"
   ]
  },
  {
   "cell_type": "code",
   "execution_count": 4,
   "id": "67be0c45",
   "metadata": {
    "scrolled": true
   },
   "outputs": [],
   "source": [
    "# For sake of simplicity conseder only a scene\n",
    "df = dflist[7] # sequence\n",
    "scn = df.T[idx]  # scene\n",
    "\n",
    "# Useful params\n",
    "N = scn['N. vehicles']\n",
    "tstamps = scn['Tarr']"
   ]
  },
  {
   "cell_type": "code",
   "execution_count": 5,
   "id": "8f322843",
   "metadata": {},
   "outputs": [
    {
     "data": {
      "text/plain": [
       "Tarr            [256.44000000000005, 256.64000000000004, 256.8...\n",
       "Xarr            [[44.438903257217746, 45.93550959178505, 48.55...\n",
       "cons_dis        [[0.01454846373347607, 0.5334773658157914, 0.5...\n",
       "N. vehicles                                                     4\n",
       "cam                                                             4\n",
       "day                                                             1\n",
       "seq                                                             2\n",
       "N. file                                                         8\n",
       "Xarr_std        [[-0.7756670614816098, -0.6856487273991732, -0...\n",
       "XarrMean                                                57.334812\n",
       "XarrStd                                                 16.625572\n",
       "cons_dis_std    [[0.0008750654320361928, 0.032087759240514324,...\n",
       "Name: 20, dtype: object"
      ]
     },
     "execution_count": 5,
     "metadata": {},
     "output_type": "execute_result"
    }
   ],
   "source": [
    "scn"
   ]
  },
  {
   "cell_type": "markdown",
   "id": "d998953f",
   "metadata": {},
   "source": [
    "## Create the model NN"
   ]
  },
  {
   "cell_type": "code",
   "execution_count": 6,
   "id": "a6bb4137",
   "metadata": {
    "scrolled": false
   },
   "outputs": [
    {
     "name": "stdout",
     "output_type": "stream",
     "text": [
      "Model: \"sequential\"\n",
      "_________________________________________________________________\n",
      " Layer (type)                Output Shape              Param #   \n",
      "=================================================================\n",
      " Hidden-Layer-1 (Dense)      (None, 2)                 4         \n",
      "                                                                 \n",
      " Output-Layer (Dense)        (None, 1)                 2         \n",
      "                                                                 \n",
      "=================================================================\n",
      "Total params: 6\n",
      "Trainable params: 6\n",
      "Non-trainable params: 0\n",
      "_________________________________________________________________\n"
     ]
    }
   ],
   "source": [
    "DOE =[[1,2,1]] #Design of experiment\n",
    "\n",
    "# # Create the model\n",
    "model = create_model(DOE[0])\n",
    "model.summary()"
   ]
  },
  {
   "cell_type": "markdown",
   "id": "b9017b14",
   "metadata": {},
   "source": [
    "## Functions from myfun_model_nn"
   ]
  },
  {
   "cell_type": "code",
   "execution_count": 7,
   "id": "f24708c3",
   "metadata": {},
   "outputs": [],
   "source": [
    "## Traffic dynamic with ANN\n",
    "\n",
    "def TD_ANN_model(t, X, vel):\n",
    "    \n",
    "    \"\"\"\n",
    "    Lighthill-Whitham-Richards (LWR) traffic flow model in 1D\n",
    "    Transform a list as vel into a function of t,X.\n",
    "    \"\"\"\n",
    "    \n",
    "    d_x = vel\n",
    "        \n",
    "    return d_x"
   ]
  },
  {
   "cell_type": "code",
   "execution_count": 8,
   "id": "f9a7a517",
   "metadata": {},
   "outputs": [],
   "source": [
    "def odesolver_ann(x0, vel, t0, tend, deltat = 0.05):\n",
    "    \n",
    "    \"\"\"\n",
    "    odesolver_ann solves the TD_ANN_model ode system:\n",
    "    * in [t0, tend] with timestep as deltat,\n",
    "    * starting from x0\n",
    "    * vel is the rhs passed to TD_ANN_model to create the model\n",
    "    \"\"\"\n",
    "    \n",
    "    tspan_ann = time_discretization(t0,tend,deltat)\n",
    "        \n",
    "    sol_ann = odeint(TD_ANN_model, x0, tspan_ann, args=(vel,), tfirst = True).T\n",
    "\n",
    "    return tspan_ann, sol_ann"
   ]
  },
  {
   "cell_type": "code",
   "execution_count": 9,
   "id": "f7b8bd01",
   "metadata": {},
   "outputs": [],
   "source": [
    "def create_data_ann_scene(scn):\n",
    "    \n",
    "    \"\"\"\n",
    "    create_data_ann_scene gives the X and y for an entire scene\n",
    "    \n",
    "    X_scn, y_scn = create_data_ann_scene(scn)\n",
    "    \n",
    "    X_scn is a list of consecutive distances btw the vehicles of a scene, at each timestamps\n",
    "    y_scn is a list of approximated velocities, of all the vehicles except the leader one.\n",
    "    \"\"\"\n",
    "\n",
    "    ## Create X\n",
    "    X_scn = scn['cons_dis']\n",
    "\n",
    "    ## Create y\n",
    "    dX_scn = np.diff(scn['Xarr'],axis=1)\n",
    "    dT_scn = np.diff(scn['Tarr'])\n",
    "    velocity = dX_scn/dT_scn # velocity at the timestamps\n",
    "\n",
    "    # we choose the first velocity discretized as (x_(i+1)-x_i)/deltaT\n",
    "    y_scn = velocity[:-1] #drop the last vehicle\n",
    "    \n",
    "    return X_scn, y_scn"
   ]
  },
  {
   "cell_type": "markdown",
   "id": "dd30dab6",
   "metadata": {},
   "source": [
    "## Adadelta loop"
   ]
  },
  {
   "cell_type": "code",
   "execution_count": 10,
   "id": "be0e4103",
   "metadata": {},
   "outputs": [],
   "source": [
    "def SGD_v0(scn, x_list_matched, v0, LEARNING_RATE_v0):\n",
    "    \n",
    "    \"\"\"\n",
    "    v0_upd, loss_val, grads, g = SGD_v0(scn, x_list_matched, v0, LEARNING_RATE_v0)\n",
    "    \"\"\"\n",
    "    \n",
    "    loss_objective = tf.keras.losses.MeanSquaredError()\n",
    "    \n",
    "    with tf.GradientTape(persistent=True) as tape:\n",
    "\n",
    "        trajs_true_tensor = tf.convert_to_tensor(scn['Xarr'], dtype=tf.float64)\n",
    "\n",
    "        # Create tensor that you will watch\n",
    "        trajs_pred_tensor = tf.convert_to_tensor(x_list_matched, dtype=tf.float64)\n",
    "        tape.watch(trajs_pred_tensor)\n",
    "\n",
    "        loss_val = loss_objective(y_true = trajs_true_tensor, y_pred = trajs_pred_tensor)\n",
    "\n",
    "    # Compute gradients\n",
    "    grads = tape.gradient(loss_val, trajs_pred_tensor)\n",
    "\n",
    "    # Update weights\n",
    "    g = grads[-1].numpy()[1:].mean() # I'm watching at a mean velocity of the leader car..\n",
    "    v0_upd = v0 - LEARNING_RATE_v0*g\n",
    "    \n",
    "    return v0_upd, loss_val, grads, g"
   ]
  },
  {
   "cell_type": "code",
   "execution_count": 11,
   "id": "6c415cf2",
   "metadata": {},
   "outputs": [],
   "source": [
    "def solve_scn_adadelta(model, scn, v0, LEARNING_RATE_NN = 0.001, LEARNING_RATE_v0=0.5, NUM_ITER=20, PLOT_ITER=25):\n",
    "    \n",
    "    N, tstamps, fmt = scn['N. vehicles'], scn['Tarr'], '{0:.02f}'\n",
    "    v0_scn = []\n",
    "    \n",
    "    print(\"==\"*50)\n",
    "    print(f\"\\\n",
    "    We have {len(tstamps)-1} time intervals inside [{fmt.format(tstamps[0])},{fmt.format(tstamps[-1])}]\")\n",
    "\n",
    "    optimizer = tf.keras.optimizers.SGD(learning_rate=LEARNING_RATE_NN)\n",
    "    loss_fn = tf.keras.losses.MeanSquaredError()\n",
    "    \n",
    "    it = 0\n",
    "        \n",
    "    # STEP 1: Simulate the dynamic over a scene with v0\n",
    "    x_list, t_list, v_list = [[i] for i in scn['Xarr'][:,0]], [scn['Tarr'][0]], []\n",
    "    t_list, x_list, v_list = solve_step_adadelta(model, scn, v0, it, PLOT_ITER,\n",
    "                                                lists = [t_list, x_list, v_list],\n",
    "                                                nn_fun = [loss_fn, optimizer])\n",
    "    _, sol_ann_matched = match_timestamps_scene(t_list, x_list)\n",
    "\n",
    "\n",
    "#     # STEP 2: Update v0 with SGD\n",
    "#     v0_upd, loss_val, grads, g = SGD_v0(scn, sol_ann_matched, v0, LEARNING_RATE_v0) \n",
    "\n",
    "#     ## Store v0 and update it\n",
    "#     v0_scn.append(v0)\n",
    "#     v0 = v0_upd\n",
    "\n",
    "    err = loss_fn(y_true=scn['Xarr'], y_pred = sol_ann_matched).numpy()\n",
    "\n",
    "    # plot function\n",
    "    tscale = 1+(tstamps[-1]-tstamps[0])/10000\n",
    "    title = f\"$df\\  n.\\ {scn['N. file']}\\ -\\ Scene\\ n.\\ {scn.name},\\ at\\ it={it-1}$\"\n",
    "    plot_scn(scn, sol_ann_matched, title, xbal=0.01, ybal=0.05, scale=tscale)\n",
    "    \n",
    "#     return t_best, x_best, v_best, v0_scn, it\n",
    "    return t_list, x_list"
   ]
  },
  {
   "cell_type": "markdown",
   "id": "4cb4cc10",
   "metadata": {},
   "source": [
    "## Solve the nn model in a scene"
   ]
  },
  {
   "cell_type": "code",
   "execution_count": 12,
   "id": "a4558427",
   "metadata": {},
   "outputs": [],
   "source": [
    "v0 = 30\n",
    "LEARNING_RATE_NN = 0.001\n",
    "LEARNING_RATE_v0=0.5\n",
    "NUM_ITER = 1\n",
    "PLOT_ITER = NUM_ITER"
   ]
  },
  {
   "cell_type": "code",
   "execution_count": 21,
   "id": "538b4251",
   "metadata": {},
   "outputs": [],
   "source": [
    "def solve_step_adadelta(model, scn, v0, it, PLOT_ITER, lists, nn_fun):\n",
    "\n",
    "    t_list, x_list, v_list = lists\n",
    "    X_arr, y_arr = create_data_ann_scene(scn)\n",
    "    N, tstamps, fmt = scn['N. vehicles'], scn['Tarr'], '{0:.02f}'\n",
    "\n",
    "    loss_fn, optimizer = nn_fun\n",
    "    \n",
    "    for i in range(0,len(tstamps)-1):\n",
    "\n",
    "        ## STEP 1: Solve the ODE sys in this time interval\n",
    "        X, y = X_arr[:,i], y_arr[:,i]\n",
    "        \n",
    "        x0 = [l[-1] for l in np.vstack(x_list).tolist()]  # last values computed\n",
    "        t0, tend = scn['Tarr'][i], scn['Tarr'][i+1]\n",
    "        y_pred = model(X, training=True)\n",
    "        v_ann = np.append(y_pred.numpy().flatten().tolist(),v0).tolist()\n",
    "        tspan_ann, sol_ann = odesolver_ann(x0, v_ann, t0, tend, deltat=0.05)    \n",
    "        \n",
    "        ## STEP 2: Compute the grads of the NN model wrt trajs\n",
    "        loss_objective = tf.keras.losses.MeanSquaredError()\n",
    "\n",
    "        with tf.GradientTape(persistent=True) as tape:\n",
    "\n",
    "            trajs_tensor = tf.convert_to_tensor(scn['Xarr'][:,i], dtype=tf.float64)\n",
    "            tape.watch(trajs_tensor)\n",
    "            \n",
    "            cons_dis_tensor = tf.convert_to_tensor(np.diff(trajs_tensor,axis=0), dtype=tf.float64)\n",
    "            tape.watch(cons_dis_tensor)\n",
    "\n",
    "            print(trajs_tensor)\n",
    "            print(cons_dis_tensor)\n",
    "            \n",
    "            W = model(trajs_tensor, training=True)\n",
    "            \n",
    "        # Compute gradients\n",
    "        grads = tape.gradient(W, trajs_tensor)       \n",
    "        \n",
    "        print(grads)\n",
    "\n",
    "        # STEP 4: Store the info\n",
    "        x_list, t_list = update_sol_lists(N, tspan_ann, sol_ann, x_list, t_list)\n",
    "        v_list.append(v_ann)\n",
    "                \n",
    "        if it % PLOT_ITER == 0:\n",
    "            print(\"--\"*50)\n",
    "            print(f\"- Time interval n.{i}: [{fmt.format(scn['Tarr'][i])}, {fmt.format(scn['Tarr'][i+1])}]\\n\\\n",
    "                * y_true: {y}\\n\\\n",
    "                * v_ann: {v_ann}\")\n",
    "            print(\"--\"*50)\n",
    "        \n",
    "    return t_list, x_list, v_list"
   ]
  },
  {
   "cell_type": "code",
   "execution_count": 22,
   "id": "67c9317b",
   "metadata": {
    "scrolled": false
   },
   "outputs": [
    {
     "name": "stdout",
     "output_type": "stream",
     "text": [
      "====================================================================================================\n",
      "    We have 4 time intervals inside [256.44,257.24]\n",
      "tf.Tensor([44.43890326 44.45345172 44.63945743 66.85510776], shape=(4,), dtype=float64)\n",
      "tf.Tensor([1.45484637e-02 1.86005709e-01 2.22156503e+01], shape=(3,), dtype=float64)\n",
      "None\n",
      "----------------------------------------------------------------------------------------------------\n",
      "- Time interval n.0: [256.44, 256.64]\n",
      "                * y_true: [ 7.48303167 10.07767618 21.73093279]\n",
      "                * v_ann: [0.5897883176803589, 0.5599543452262878, 0.0019751412328332663, 30.0]\n",
      "----------------------------------------------------------------------------------------------------\n",
      "tf.Tensor([45.93550959 46.46898696 48.98564399 70.33540911], shape=(4,), dtype=float64)\n",
      "tf.Tensor([ 0.53347737  2.51665703 21.34976512], shape=(3,), dtype=float64)\n",
      "None\n",
      "----------------------------------------------------------------------------------------------------\n",
      "- Time interval n.1: [256.64, 256.84]\n",
      "                * y_true: [13.09283525 13.17831107 21.42106847]\n",
      "                * v_ann: [0.5034831762313843, 0.2709616720676422, 0.0024035798851400614, 30.0]\n",
      "----------------------------------------------------------------------------------------------------\n",
      "tf.Tensor([48.55407664 49.10464917 53.26985768 73.44573366], shape=(4,), dtype=float64)\n",
      "tf.Tensor([ 0.55057253  4.16520851 20.17587598], shape=(3,), dtype=float64)\n",
      "None\n",
      "----------------------------------------------------------------------------------------------------\n",
      "- Time interval n.2: [256.84, 257.04]\n",
      "                * y_true: [11.5255681  16.82586504 17.99104223]\n",
      "                * v_ann: [0.5008399486541748, 0.16347593069076538, 0.003137592226266861, 30.0]\n",
      "----------------------------------------------------------------------------------------------------\n",
      "tf.Tensor([50.85919026 52.46982218 56.86806613 76.55605822], shape=(4,), dtype=float64)\n",
      "tf.Tensor([ 1.61063192  4.39824395 19.68799209], shape=(3,), dtype=float64)\n",
      "None\n",
      "----------------------------------------------------------------------------------------------------\n",
      "- Time interval n.3: [257.04, 257.24]\n",
      "                * y_true: [10.66053629 16.53589178 24.03163218]\n",
      "                * v_ann: [0.3599405586719513, 0.15250396728515625, 0.003505603177472949, 30.0]\n",
      "----------------------------------------------------------------------------------------------------\n"
     ]
    },
    {
     "data": {
      "image/png": "[encoded data removed]",
      "text/plain": [
       "<Figure size 700x500 with 1 Axes>"
      ]
     },
     "metadata": {},
     "output_type": "display_data"
    }
   ],
   "source": [
    "# t_cus, x_cus, _, _, _ = solve_scn_adadelta(model, scn, v0, LEARNING_RATE_NN, LEARNING_RATE_v0, NUM_ITER, PLOT_ITER)\n",
    "t_cus, x_cus = solve_scn_adadelta(model, scn, v0, LEARNING_RATE_NN, LEARNING_RATE_v0, NUM_ITER, PLOT_ITER)"
   ]
  },
  {
   "cell_type": "markdown",
   "id": "b1f52114",
   "metadata": {},
   "source": [
    "## Plot"
   ]
  },
  {
   "cell_type": "code",
   "execution_count": null,
   "id": "d6dbe360",
   "metadata": {},
   "outputs": [],
   "source": [
    "# Params for the plot\n",
    "trajs = [scn['Xarr'],  np.array(x_cus)]\n",
    "labels_plot = [\"true\", \"nn sim custom\"]\n",
    "title = f\"Trajs simulated by NN driven LWR model\""
   ]
  },
  {
   "cell_type": "code",
   "execution_count": null,
   "id": "9e233439",
   "metadata": {
    "scrolled": false
   },
   "outputs": [],
   "source": [
    "# fig \n",
    "width, height = 7, 5\n",
    "fig, ax = plt.subplots(figsize=(width,height))\n",
    "\n",
    "for veh in range(0,N):\n",
    "    ax.plot(tstamps, scn['Xarr'][veh])\n",
    "    ax.plot(t_cus, x_cus[veh], '--')\n",
    "\n",
    "\n",
    "for ts in tstamps:\n",
    "    ax.axvline(x = ts, color = 'red', linestyle = '--', linewidth=0.75)\n",
    "    \n",
    "# Annotate the name of each variable at the last value\n",
    "plot_annotation(ax, scn, trajs, scale=1.00001)\n",
    "\n",
    "ax.set_xlabel(\"t\")\n",
    "ax.set_ylabel(\"X(t)\")\n",
    "ax.set_title(title, fontsize=15)\n",
    "# Limits for the plot\n",
    "plot_limits(ax, scn, trajs, xbal=0.00005, ybal=0.05)\n",
    "plt.legend(labels_plot)\n",
    "plt.grid()\n",
    "plt.show()"
   ]
  }
 ],
 "metadata": {
  "kernelspec": {
   "display_name": "Python 3 (ipykernel)",
   "language": "python",
   "name": "python3"
  },
  "language_info": {
   "codemirror_mode": {
    "name": "ipython",
    "version": 3
   },
   "file_extension": ".py",
   "mimetype": "text/x-python",
   "name": "python",
   "nbconvert_exporter": "python",
   "pygments_lexer": "ipython3",
   "version": "3.10.9"
  }
 },
 "nbformat": 4,
 "nbformat_minor": 5
}
