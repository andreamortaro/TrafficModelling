{
 "cells": [
  {
   "cell_type": "markdown",
   "id": "f5273615",
   "metadata": {},
   "source": [
    "# Writing a training loop from scratch\n",
    "https://www.tensorflow.org/guide/keras/writing_a_training_loop_from_scratch"
   ]
  },
  {
   "cell_type": "markdown",
   "id": "ad5e4d47",
   "metadata": {},
   "source": [
    "## Import libraries"
   ]
  },
  {
   "cell_type": "code",
   "execution_count": null,
   "id": "c84869a2",
   "metadata": {
    "scrolled": false
   },
   "outputs": [],
   "source": [
    "# Python libraries\n",
    "import os\n",
    "import pandas as pd # for data manipulation\n",
    "import numpy as np # for data manipulation\n",
    "import tensorflow as tf\n",
    "import matplotlib.pyplot as plt\n",
    "from sklearn.model_selection import train_test_split\n",
    "\n",
    "\n",
    "# To enable LaTeX and select a font\n",
    "plt.rcParams.update({\n",
    "    \"text.usetex\": True,\n",
    "    \"font.family\": \"sans-serif\",\n",
    "    \"font.sans-serif\": \"Helvetica\",\n",
    "})\n",
    "\n",
    "# Using ipynb import functions defined in other nb\n",
    "from ipynb.fs.defs.myfun_load_dataset import *\n",
    "from ipynb.fs.full.myfun_models import *\n",
    "from ipynb.fs.full.myfun_nn import *\n",
    "from ipynb.fs.full.myfun_opt import *\n",
    "from ipynb.fs.defs.myfun_plot import *"
   ]
  },
  {
   "cell_type": "markdown",
   "id": "0e0e4056",
   "metadata": {},
   "source": [
    "## Data Acquisition"
   ]
  },
  {
   "cell_type": "code",
   "execution_count": null,
   "id": "12ab8161",
   "metadata": {},
   "outputs": [],
   "source": [
    "# Load the dataset\n",
    "par_dir = os.path.dirname(os.getcwd()) # parent dir\n",
    "dir_name = par_dir + \"/NN-interaction\"\n",
    "merged_df, dflist = load_dataset(dir_name, 'post')"
   ]
  },
  {
   "cell_type": "markdown",
   "id": "2be758bc",
   "metadata": {},
   "source": [
    "## Create the model NN"
   ]
  },
  {
   "cell_type": "code",
   "execution_count": null,
   "id": "c7861360",
   "metadata": {},
   "outputs": [],
   "source": [
    "# Create the model\n",
    "DOE =[[1,2,1]] #Design of experiment\n",
    "model = create_model(DOE[0])"
   ]
  },
  {
   "cell_type": "markdown",
   "id": "707c9870",
   "metadata": {},
   "source": [
    "## Training loop"
   ]
  },
  {
   "cell_type": "code",
   "execution_count": null,
   "id": "7b401046",
   "metadata": {},
   "outputs": [],
   "source": [
    "# Create the dataset using scene\n",
    "df = dflist[8]"
   ]
  },
  {
   "cell_type": "code",
   "execution_count": null,
   "id": "f7592f01",
   "metadata": {},
   "outputs": [],
   "source": [
    "# params\n",
    "NUM_EPOCHS = 150\n",
    "\n",
    "## FOR NN\n",
    "LEARNING_RATE_NN = 0.1\n",
    "\n",
    "## FOR OPTIMIZING v0\n",
    "LEARNING_RATE_v0 = 0.5"
   ]
  },
  {
   "cell_type": "code",
   "execution_count": null,
   "id": "419e758c",
   "metadata": {
    "scrolled": true
   },
   "outputs": [],
   "source": [
    "import time\n",
    "\n",
    "#v0_mean_list = []\n",
    "v0_dflist = []\n",
    "\n",
    "start_time1 = time.time()\n",
    "\n",
    "for df in dflist:\n",
    "    \n",
    "    v0 = 30\n",
    "    start_time2 = time.time()\n",
    "\n",
    "    print(\"==\"*30)\n",
    "    print(f\"In df n.{df['N. file'][0]}/{len(dflist)} we have {len(df)} scenes\")\n",
    "    print(\"--\"*30)\n",
    "    info_df = solve_nn_df(df, model, v0, NUM_EPOCHS, LEARNING_RATE_NN, LEARNING_RATE_v0)\n",
    "    \n",
    "    v0_list = [l[1] for l in info_df]\n",
    "    v0_mean = np.array(v0_list).mean()\n",
    "    #v0_mean_list.append(v0_mean)\n",
    "    \n",
    "    v0_df = pd.DataFrame({'v0_list': v0_list,\\\n",
    "                          'n_scn': len(df),\\\n",
    "                          'N. file': df['N. file'][0]})\n",
    "    \n",
    "    v0_dflist.append(v0_df)\n",
    "    \n",
    "    print(f\"\\nv0_mean in this df is: {v0_mean}\")\n",
    "    print(\"Time taken: %.2fs\" % (time.time() - start_time1))\n",
    "\n",
    "    print(\"==\"*30)\n",
    "print(\"Time taken: %.2fs\" % (time.time() - start_time2))"
   ]
  },
  {
   "cell_type": "code",
   "execution_count": null,
   "id": "ad220e3a",
   "metadata": {},
   "outputs": [],
   "source": [
    "# Initialize the figure\n",
    "width, height = 5, 5\n",
    "fig, ax = plt.subplots(figsize=(width,height))\n",
    "\n",
    "v0_mean_dflist = []\n",
    "for v0_df in v0_dflist:\n",
    "    ax.scatter(v0_df['N. file'], v0_df['v0_list'], alpha = .2, color = 'darkblue');\n",
    "    v0_mean_df = v0_df['v0_list'].mean()\n",
    "    ax.plot(v0_df['N. file'][0], v0_mean_df, color = 'r', marker=\"x\"); # line of best values\n",
    "    v0_mean_dflist.append(v0_mean_df)\n",
    "\n",
    "tmp = np.array(v0_mean_dflist).mean()\n",
    "ax.plot(range(1,len(v0_dflist)+1), [tmp] * (len(v0_dflist)), color = 'r'); # line of best values\n",
    "\n",
    "\n",
    "ax.set_xlabel(\"data set\",fontsize=14)\n",
    "ax.set_ylabel(\"v_{0} [km/h]\",fontsize=14)\n",
    "ax.set_title(\"Velocities v_{0} of the leading car\",fontsize=18)\n",
    "\n",
    "ax.grid(color='grey', linestyle='-', linewidth=0.5);\n",
    "\n",
    "ax.set_xlim(0.5,10.5)\n",
    "\n",
    "# fig.suptitle('Forward Subset Selection',fontsize=25, y=0.98);\n",
    "# fig.subplots_adjust(top=0.8)\n",
    "plt.show()"
   ]
  }
 ],
 "metadata": {
  "kernelspec": {
   "display_name": "Python 3 (ipykernel)",
   "language": "python",
   "name": "python3"
  },
  "language_info": {
   "codemirror_mode": {
    "name": "ipython",
    "version": 3
   },
   "file_extension": ".py",
   "mimetype": "text/x-python",
   "name": "python",
   "nbconvert_exporter": "python",
   "pygments_lexer": "ipython3",
   "version": "3.10.9"
  }
 },
 "nbformat": 4,
 "nbformat_minor": 5
}
