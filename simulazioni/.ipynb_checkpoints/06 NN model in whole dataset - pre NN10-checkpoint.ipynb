{
 "cells": [
  {
   "cell_type": "markdown",
   "id": "ad5e4d47",
   "metadata": {},
   "source": [
    "## Import libraries"
   ]
  },
  {
   "cell_type": "code",
   "execution_count": 1,
   "id": "c84869a2",
   "metadata": {
    "scrolled": false
   },
   "outputs": [
    {
     "name": "stderr",
     "output_type": "stream",
     "text": [
      "2023-09-12 08:43:19.718551: I tensorflow/core/platform/cpu_feature_guard.cc:193] This TensorFlow binary is optimized with oneAPI Deep Neural Network Library (oneDNN) to use the following CPU instructions in performance-critical operations:  SSE4.1 SSE4.2 AVX AVX2 FMA\n",
      "To enable them in other operations, rebuild TensorFlow with the appropriate compiler flags.\n"
     ]
    },
    {
     "name": "stdout",
     "output_type": "stream",
     "text": [
      "Tensorflow/Keras: 2.11.0\n",
      "sklearn: 1.3.0\n"
     ]
    }
   ],
   "source": [
    "# Python libraries\n",
    "import os\n",
    "import sys\n",
    "import pandas as pd # for data manipulation\n",
    "import numpy as np # for data manipulation\n",
    "import tensorflow as tf\n",
    "from sklearn.model_selection import train_test_split\n",
    "from datetime import datetime\n",
    "import time\n",
    "\n",
    "# Plotting\n",
    "import matplotlib.pyplot as plt\n",
    "\n",
    "# To enable LaTeX and select a font\n",
    "plt.rcParams.update({\n",
    "    \"text.usetex\": True,\n",
    "    \"font.family\": \"sans-serif\",\n",
    "    \"font.sans-serif\": \"Helvetica\",\n",
    "})\n",
    "\n",
    "# Using ipynb import functions defined in other nb\n",
    "sys.path.append(\"myfun/\")\n",
    "from ipynb.fs.defs.myfun_load_dataset import *\n",
    "from ipynb.fs.full.myfun_model_nn import *\n",
    "from ipynb.fs.defs.myfun_plot import *"
   ]
  },
  {
   "cell_type": "markdown",
   "id": "0e0e4056",
   "metadata": {},
   "source": [
    "## Data Acquisition"
   ]
  },
  {
   "cell_type": "code",
   "execution_count": 2,
   "id": "12ab8161",
   "metadata": {},
   "outputs": [],
   "source": [
    "# Load the dataset\n",
    "par_dir = os.path.dirname(os.getcwd()) # parent dir\n",
    "dir_name = par_dir + \"/NN-interaction\""
   ]
  },
  {
   "cell_type": "code",
   "execution_count": 3,
   "id": "3a1949d7",
   "metadata": {},
   "outputs": [],
   "source": [
    "processed_flag = 'pre'\n",
    "# load the data\n",
    "_, dflist = load_dataset(dir_name, processed_flag)\n",
    "dataset = dflist\n",
    "\n",
    "print(f\"In this dataset we have {np.sum([d.shape[0] for d in dataset])} scenes\")"
   ]
  },
  {
   "cell_type": "markdown",
   "id": "7f61886c",
   "metadata": {},
   "source": [
    "## Params"
   ]
  },
  {
   "cell_type": "code",
   "execution_count": 4,
   "id": "f7592f01",
   "metadata": {},
   "outputs": [],
   "source": [
    "# params\n",
    "DOE =[1,10,1] #Design of experiment\n",
    "\n",
    "v0 = 30\n",
    "NUM_ITER = 500\n",
    "LEARNING_RATE_v0 = 0.5\n",
    "test = 0.33\n",
    "\n",
    "plot_flag=True\n",
    "flag_save = True"
   ]
  },
  {
   "cell_type": "markdown",
   "id": "978727e7",
   "metadata": {},
   "source": [
    "## NN: 1-10-1"
   ]
  },
  {
   "cell_type": "code",
   "execution_count": null,
   "id": "b9e30add",
   "metadata": {},
   "outputs": [],
   "source": [
    "info_nn10, model_trained = solve_nn_dataset(dataset, DOE, v0, processed_flag, NUM_ITER, LEARNING_RATE_v0,\n",
    "                                           test, plot_flag)"
   ]
  },
  {
   "cell_type": "markdown",
   "id": "dacc526f",
   "metadata": {},
   "source": [
    "## Prepare the out dir"
   ]
  },
  {
   "cell_type": "code",
   "execution_count": 6,
   "id": "359e5609",
   "metadata": {},
   "outputs": [],
   "source": [
    "# Create the directory..\n",
    "if flag_save:\n",
    "    \n",
    "    df_seen = [df['N. file'][0] for df in dataset]\n",
    "    df_seen_str = '-'.join(str(x) for x in df_seen)\n",
    "    \n",
    "    # Create directory where to save the image\n",
    "    now = datetime.now() \n",
    "    d = now.strftime(f\"%Y-%m-%d_%H-%M-%S_df{df_seen_str}_{NUM_ITER}it-PRE-nn{DOE[1]}\")\n",
    "    \n",
    "    path = 'out/' + d\n",
    "    os.mkdir(path)\n",
    "    \n",
    "    # Save the solution in a file\n",
    "    namefile = '/info_nn10.txt'\n",
    "\n",
    "    with open(path + namefile, 'w') as output:\n",
    "        info_nn10.to_csv(path + namefile, sep=',', index=False)\n",
    "        \n",
    "    # Save model in a file\n",
    "    namefile_model = '/model_nn10.keras'\n",
    "    model_trained.compile(optimizer='SGD', loss='MAE')\n",
    "    model_trained.save(path + namefile_model)  # The file needs to end with the .keras extension"
   ]
  }
 ],
 "metadata": {
  "kernelspec": {
   "display_name": "Python 3 (ipykernel)",
   "language": "python",
   "name": "python3"
  },
  "language_info": {
   "codemirror_mode": {
    "name": "ipython",
    "version": 3
   },
   "file_extension": ".py",
   "mimetype": "text/x-python",
   "name": "python",
   "nbconvert_exporter": "python",
   "pygments_lexer": "ipython3",
   "version": "3.10.9"
  }
 },
 "nbformat": 4,
 "nbformat_minor": 5
}
