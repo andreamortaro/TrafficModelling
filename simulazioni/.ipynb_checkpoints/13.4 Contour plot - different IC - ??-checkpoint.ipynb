{
 "cells": [
  {
   "cell_type": "code",
   "execution_count": 1,
   "id": "a7402294",
   "metadata": {
    "scrolled": false
   },
   "outputs": [
    {
     "name": "stderr",
     "output_type": "stream",
     "text": [
      "2024-03-08 13:08:24.201628: E external/local_xla/xla/stream_executor/cuda/cuda_dnn.cc:9261] Unable to register cuDNN factory: Attempting to register factory for plugin cuDNN when one has already been registered\n",
      "2024-03-08 13:08:24.201659: E external/local_xla/xla/stream_executor/cuda/cuda_fft.cc:607] Unable to register cuFFT factory: Attempting to register factory for plugin cuFFT when one has already been registered\n",
      "2024-03-08 13:08:24.202520: E external/local_xla/xla/stream_executor/cuda/cuda_blas.cc:1515] Unable to register cuBLAS factory: Attempting to register factory for plugin cuBLAS when one has already been registered\n",
      "2024-03-08 13:08:24.208381: I tensorflow/core/platform/cpu_feature_guard.cc:182] This TensorFlow binary is optimized to use available CPU instructions in performance-critical operations.\n",
      "To enable the following instructions: AVX2 FMA, in other operations, rebuild TensorFlow with the appropriate compiler flags.\n",
      "2024-03-08 13:08:25.020581: W tensorflow/compiler/tf2tensorrt/utils/py_utils.cc:38] TF-TRT Warning: Could not find TensorRT\n"
     ]
    }
   ],
   "source": [
    "# Python libraries\n",
    "import os\n",
    "import sys\n",
    "import pandas as pd # for data manipulation\n",
    "import numpy as np # for data manipulation\n",
    "import keras\n",
    "import matplotlib.pyplot as plt\n",
    "from datetime import datetime\n",
    "from sklearn.metrics import mean_absolute_error\n",
    "\n",
    "# To enable LaTeX and select a font\n",
    "plt.rcParams.update({\n",
    "    \"text.usetex\": True,\n",
    "    \"font.family\": \"sans-serif\",\n",
    "    \"font.sans-serif\": \"Helvetica\",\n",
    "})\n",
    "\n",
    "# Import custom functions from other notebooks\n",
    "sys.path.append(\"myfun/\")\n",
    "from ipynb.fs.full.myfun_model_linlog import *\n",
    "from ipynb.fs.full.myfun_model_nn import *\n",
    "from ipynb.fs.full.myfun_density import *\n",
    "from ipynb.fs.full.myfun_model_usefulfuns import *"
   ]
  },
  {
   "cell_type": "markdown",
   "id": "7a29ae37",
   "metadata": {},
   "source": [
    "# Preliminary: load NN model"
   ]
  },
  {
   "cell_type": "code",
   "execution_count": 2,
   "id": "776cc8fe",
   "metadata": {},
   "outputs": [],
   "source": [
    "dir_nn10 = \"2023-12-10_11-38-47_df1-2-3-4-5-6-7-8-9-10_500it-PRE-nn10\"\n",
    "# dir_nn10_v2 = \"2024-03-04_03-44-51_df1-2-3-4-5-6-7-8-9-10_500it-PRE-nn10-v2\"\n",
    "\n",
    "target_dir = \"./out/\"\n",
    "namefile_model_nn = \"/model_nn10.keras\""
   ]
  },
  {
   "cell_type": "code",
   "execution_count": 3,
   "id": "df1d9dd9",
   "metadata": {},
   "outputs": [],
   "source": [
    "# Load NN10 model\n",
    "dir_nn = dir_nn10\n",
    "# dir_nn = dir_nn10_v2\n",
    "\n",
    "path = target_dir + dir_nn\n",
    "model_nn = keras.models.load_model(path + namefile_model_nn)"
   ]
  },
  {
   "cell_type": "markdown",
   "id": "5812bdcb",
   "metadata": {},
   "source": [
    "## Preliminary"
   ]
  },
  {
   "cell_type": "code",
   "execution_count": 4,
   "id": "2cc5a6dd",
   "metadata": {},
   "outputs": [],
   "source": [
    "flag_save = False"
   ]
  },
  {
   "cell_type": "code",
   "execution_count": 5,
   "id": "ae73ff8d",
   "metadata": {},
   "outputs": [],
   "source": [
    "# Create the directory..\n",
    "if flag_save:\n",
    "    \n",
    "    ext = \".svg\"\n",
    "    \n",
    "    # Create directory where to save the image\n",
    "    now = datetime.now() \n",
    "    d = now.strftime(f\"%Y-%m-%d_%H-%M-%S_contour_ic2\")\n",
    "    \n",
    "    path = 'out/' + d\n",
    "    os.mkdir(path)"
   ]
  },
  {
   "cell_type": "markdown",
   "id": "93196e77",
   "metadata": {},
   "source": [
    "# Contour plot: equispaced case"
   ]
  },
  {
   "cell_type": "markdown",
   "id": "3f89905b",
   "metadata": {},
   "source": [
    "## Preliminary"
   ]
  },
  {
   "cell_type": "code",
   "execution_count": 6,
   "id": "042ea2f3",
   "metadata": {},
   "outputs": [],
   "source": [
    "## Params\n",
    "Nx = 400\n",
    "Nt = 320\n",
    "T = .5"
   ]
  },
  {
   "cell_type": "code",
   "execution_count": 7,
   "id": "96725f10",
   "metadata": {},
   "outputs": [],
   "source": [
    "# Space\n",
    "xspan = np.linspace(-1,1,Nx)**2\n",
    "\n",
    "# Time\n",
    "tspan = np.linspace(0,T,Nt)"
   ]
  },
  {
   "cell_type": "code",
   "execution_count": 8,
   "id": "ee347cbb",
   "metadata": {},
   "outputs": [
    {
     "data": {
      "image/png": "[encoded data removed]",
      "text/plain": [
       "<Figure size 800x300 with 1 Axes>"
      ]
     },
     "metadata": {},
     "output_type": "display_data"
    }
   ],
   "source": [
    "# Initialize the fig\n",
    "fig, ax = plt.subplots(1,1,figsize=(8,3))\n",
    "\n",
    "stepp = 5\n",
    "\n",
    "ax.plot(xspan[::stepp],xspan[::stepp]*0,marker='*', ls='None')\n",
    "\n",
    "ax.set_xlabel(r\"$x$\",fontsize=14)\n",
    "ax.set_title(fr\"$xspan$\",fontsize=14)\n",
    "ax.grid(color='grey', linestyle='-', linewidth=0.5)\n",
    "    \n",
    "plt.show()"
   ]
  },
  {
   "cell_type": "markdown",
   "id": "cdb08c4f",
   "metadata": {},
   "source": [
    "## Simulations"
   ]
  },
  {
   "cell_type": "markdown",
   "id": "bae9ca0d",
   "metadata": {},
   "source": [
    "### LIN"
   ]
  },
  {
   "cell_type": "code",
   "execution_count": 9,
   "id": "bcbaffea",
   "metadata": {},
   "outputs": [],
   "source": [
    "# Model params\n",
    "L_lin = .0025\n",
    "v0 = 1\n",
    "\n",
    "# Solving the ODE\n",
    "sol_lin = odeint(TD_LWR_model, xspan, tspan, args=(Nx, v0, L_lin, 'Lin'), tfirst = True).T\n",
    "\n",
    "# Discretized density\n",
    "ln = 1/Nx\n",
    "rho_dis_lin = ln/np.diff(sol_lin, axis=0)"
   ]
  },
  {
   "cell_type": "code",
   "execution_count": 10,
   "id": "be87a64d",
   "metadata": {},
   "outputs": [],
   "source": [
    "# Density and car trajs matrices\n",
    "DM_lin = []\n",
    "CTM_lin = []\n",
    "for i_t in range(len(tspan)):\n",
    "    \n",
    "    # Density matrix\n",
    "    tmp1 = rho_dis_lin[:,i_t] # density sliced at time tspan[i_t]\n",
    "    DM_lin.append(tmp1.flatten().tolist())\n",
    "    \n",
    "    # Car Trajs matrix\n",
    "    tmp2 = sol_lin[:,i_t][1:]\n",
    "    CTM_lin.append(tmp2.flatten().tolist())\n",
    "    \n",
    "TM_lin = [[t]*(Nx-1) for t in tspan]"
   ]
  },
  {
   "cell_type": "code",
   "execution_count": 11,
   "id": "52d9c844",
   "metadata": {},
   "outputs": [],
   "source": [
    "# len(DM_lin), len(CTM_lin), len(TM_lin), len(DM_lin[0]), len(CTM_lin[0]), len(TM_lin[0])"
   ]
  },
  {
   "cell_type": "markdown",
   "id": "742f1ec5",
   "metadata": {},
   "source": [
    "### LOG"
   ]
  },
  {
   "cell_type": "code",
   "execution_count": 12,
   "id": "eb97caf4",
   "metadata": {},
   "outputs": [
    {
     "name": "stderr",
     "output_type": "stream",
     "text": [
      "myfun/myfun_model_linlog.ipynb:33: RuntimeWarning: invalid value encountered in log\n",
      "  \"from ipynb.fs.full.myfun_model_usefulfuns import *\\n\",\n"
     ]
    }
   ],
   "source": [
    "# Model params\n",
    "L_log = .001875\n",
    "v0 = 1\n",
    "\n",
    "# Solving the ODE\n",
    "sol_log = odeint(TD_LWR_model, xspan, tspan, args=(Nx, v0, L_log, 'Log'), tfirst = True).T\n",
    "\n",
    "# Discretized density\n",
    "ln = 1/Nx\n",
    "rho_dis_log = ln/np.diff(sol_log, axis=0)"
   ]
  },
  {
   "cell_type": "code",
   "execution_count": 13,
   "id": "0fc0d90e",
   "metadata": {},
   "outputs": [],
   "source": [
    "# Density and car trajs matrices\n",
    "DM_log = []\n",
    "CTM_log = []\n",
    "for i_t in range(len(tspan)):\n",
    "    \n",
    "    # Density matrix\n",
    "    tmp1 = rho_dis_log[:,i_t] # density sliced at time tspan[i_t]\n",
    "    DM_log.append(tmp1.flatten().tolist())\n",
    "    \n",
    "    # Car Trajs matrix\n",
    "    tmp2 = sol_log[:,i_t][1:]\n",
    "    CTM_log.append(tmp2.flatten().tolist())\n",
    "    \n",
    "TM_log= [[t]*(Nx-1) for t in tspan]"
   ]
  },
  {
   "cell_type": "code",
   "execution_count": 14,
   "id": "cc066c03",
   "metadata": {},
   "outputs": [],
   "source": [
    "# len(DM_log), len(CTM_log), len(TM_log), len(DM_log[0]), len(CTM_log[0]), len(TM_log[0])"
   ]
  },
  {
   "cell_type": "markdown",
   "id": "2f3e776b",
   "metadata": {},
   "source": [
    "### NN10"
   ]
  },
  {
   "cell_type": "code",
   "execution_count": 15,
   "id": "1b4ab04b",
   "metadata": {},
   "outputs": [],
   "source": [
    "# ODE computation\n",
    "normalize_flag = True\n",
    "t_list, sol_ann_list, v_list = nn_odesolver(model_nn, Nx, xspan, tspan, normalize_flag)\n",
    "\n",
    "## Discretized density reconstruction\n",
    "ln = 1/Nx\n",
    "rho_dis_ann = ln/np.diff(sol_ann_list, axis=0)"
   ]
  },
  {
   "cell_type": "code",
   "execution_count": 16,
   "id": "ad200d5f",
   "metadata": {},
   "outputs": [],
   "source": [
    "# Density and car trajs matrices\n",
    "DM_nn = []\n",
    "CTM_nn = []\n",
    "for i_t in range(len(tspan)):\n",
    "    \n",
    "    # Density matrix\n",
    "    tmp1 = rho_dis_ann[:,i_t] # density sliced at time tspan[i_t]\n",
    "    DM_nn.append(tmp1.flatten().tolist())\n",
    "    \n",
    "    # Car Trajs matrix\n",
    "    tmp2 = sol_ann_list[:,i_t][1:]\n",
    "    CTM_nn.append(tmp2.flatten().tolist())\n",
    "    \n",
    "TM_nn = [[t]*(Nx-1) for t in tspan]"
   ]
  },
  {
   "cell_type": "code",
   "execution_count": 17,
   "id": "ed59b102",
   "metadata": {},
   "outputs": [],
   "source": [
    "# len(DM_nn), len(CTM_nn), len(TM_nn), len(DM_nn[0]), len(CTM_nn[0]), len(TM_nn[0])"
   ]
  },
  {
   "cell_type": "markdown",
   "id": "cde86954",
   "metadata": {},
   "source": [
    "## Plot"
   ]
  },
  {
   "cell_type": "markdown",
   "id": "cc0b9280",
   "metadata": {},
   "source": [
    "### LIN"
   ]
  },
  {
   "cell_type": "code",
   "execution_count": 18,
   "id": "a23c85b4",
   "metadata": {
    "scrolled": false
   },
   "outputs": [
    {
     "data": {
      "image/png": "[encoded data removed]",
      "text/plain": [
       "<Figure size 600x412.5 with 2 Axes>"
      ]
     },
     "metadata": {},
     "output_type": "display_data"
    }
   ],
   "source": [
    "# Initialize the fig\n",
    "nrow, ncol = 1, 1\n",
    "width, height = 8,5.5 # single subplot\n",
    "fig, ax = plt.subplots(nrow,ncol,figsize=(width*ncol*.75,height*.75))\n",
    "\n",
    "X = CTM_lin\n",
    "Y = TM_lin\n",
    "Z = DM_lin\n",
    "\n",
    "cs = ax.contourf(X, Y, Z)\n",
    "cbar = fig.colorbar(cs)\n",
    "\n",
    "# Mask blank areas\n",
    "cmap = cs.get_cmap()\n",
    "colors = cmap(np.linspace(0, 1, 10))\n",
    "plt.gca().patch.set_color(colors[0])\n",
    "\n",
    "# ax.set_xlim([-1,2])\n",
    "ax.set_ylim([0, T])\n",
    "ax.set_xlabel(r\"$x$\",fontsize=12)\n",
    "ax.set_ylabel(r\"$t$\",fontsize=12)\n",
    "ax.set_title(fr\"$Lin\\ case$\",fontsize=14)\n",
    "\n",
    "fig.tight_layout()\n",
    "plt.show()\n",
    "\n",
    "# Save figure\n",
    "if flag_save:\n",
    "\n",
    "    title = f\"/contour_lin_ic2\"     \n",
    "    fig.savefig(path+title+ext, bbox_inches='tight')"
   ]
  },
  {
   "cell_type": "markdown",
   "id": "66d801a5",
   "metadata": {},
   "source": [
    "### LOG"
   ]
  },
  {
   "cell_type": "code",
   "execution_count": 19,
   "id": "939395d8",
   "metadata": {},
   "outputs": [
    {
     "data": {
      "image/png": "[encoded data removed]",
      "text/plain": [
       "<Figure size 600x412.5 with 2 Axes>"
      ]
     },
     "metadata": {},
     "output_type": "display_data"
    }
   ],
   "source": [
    "# Initialize the fig\n",
    "nrow, ncol = 1, 1\n",
    "width, height = 8,5.5 # single subplot\n",
    "fig, ax = plt.subplots(nrow,ncol,figsize=(width*ncol*.75,height*.75))\n",
    "\n",
    "X = CTM_log\n",
    "Y = TM_log\n",
    "Z = DM_log\n",
    "\n",
    "cs = ax.contourf(X, Y, Z)\n",
    "cbar = fig.colorbar(cs)\n",
    "\n",
    "# Mask blank areas\n",
    "cmap = cs.get_cmap()\n",
    "colors = cmap(np.linspace(0, 1, 10))\n",
    "plt.gca().patch.set_color(colors[0])\n",
    "\n",
    "# ax.set_xlim([-1,2])\n",
    "ax.set_ylim([0, T])\n",
    "ax.set_xlabel(r\"$x$\",fontsize=12)\n",
    "ax.set_ylabel(r\"$t$\",fontsize=12)\n",
    "ax.set_title(fr\"$Log\\ case$\",fontsize=14)\n",
    "\n",
    "fig.tight_layout()\n",
    "plt.show()\n",
    "\n",
    "# Save figure\n",
    "if flag_save:\n",
    "\n",
    "    title = f\"/contour_log_ic2\"     \n",
    "    fig.savefig(path+title+ext, bbox_inches='tight')"
   ]
  },
  {
   "cell_type": "markdown",
   "id": "e671db95",
   "metadata": {},
   "source": [
    "### NN10"
   ]
  },
  {
   "cell_type": "code",
   "execution_count": 20,
   "id": "9e2d71cd",
   "metadata": {
    "scrolled": false
   },
   "outputs": [
    {
     "data": {
      "image/png": "[encoded data removed]",
      "text/plain": [
       "<Figure size 600x412.5 with 2 Axes>"
      ]
     },
     "metadata": {},
     "output_type": "display_data"
    }
   ],
   "source": [
    "# Initialize the fig\n",
    "nrow, ncol = 1, 1\n",
    "width, height = 8,5.5 # single subplot\n",
    "fig, ax = plt.subplots(nrow,ncol,figsize=(width*ncol*.75,height*.75))\n",
    "\n",
    "X = CTM_nn\n",
    "Y = TM_nn\n",
    "Z = DM_nn\n",
    "\n",
    "cs = ax.contourf(X, Y, Z)\n",
    "cbar = fig.colorbar(cs)\n",
    "\n",
    "# Mask blank areas\n",
    "cmap = cs.get_cmap()\n",
    "colors = cmap(np.linspace(0, 1, 10))\n",
    "plt.gca().patch.set_color(colors[0])\n",
    "\n",
    "# ax.set_xlim([-1,2])\n",
    "ax.set_ylim([0, T])\n",
    "ax.set_xlabel(r\"$x$\",fontsize=12)\n",
    "ax.set_ylabel(r\"$t$\",fontsize=12)\n",
    "ax.set_title(fr\"$NN10\\ case$\",fontsize=14)\n",
    "\n",
    "fig.tight_layout()\n",
    "plt.show()\n",
    "\n",
    "# Save figure\n",
    "if flag_save:\n",
    "\n",
    "    title = f\"/contour_nn_ic2\"     \n",
    "    fig.savefig(path+title+ext, bbox_inches='tight')"
   ]
  }
 ],
 "metadata": {
  "kernelspec": {
   "display_name": "Python 3 (ipykernel)",
   "language": "python",
   "name": "python3"
  },
  "language_info": {
   "codemirror_mode": {
    "name": "ipython",
    "version": 3
   },
   "file_extension": ".py",
   "mimetype": "text/x-python",
   "name": "python",
   "nbconvert_exporter": "python",
   "pygments_lexer": "ipython3",
   "version": "3.11.7"
  }
 },
 "nbformat": 4,
 "nbformat_minor": 5
}
