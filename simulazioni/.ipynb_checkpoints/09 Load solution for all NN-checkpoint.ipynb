{
 "cells": [
  {
   "cell_type": "code",
   "execution_count": 1,
   "id": "a2abf80e",
   "metadata": {},
   "outputs": [
    {
     "name": "stderr",
     "output_type": "stream",
     "text": [
      "2023-09-12 17:01:54.547083: I tensorflow/core/platform/cpu_feature_guard.cc:193] This TensorFlow binary is optimized with oneAPI Deep Neural Network Library (oneDNN) to use the following CPU instructions in performance-critical operations:  SSE4.1 SSE4.2 AVX AVX2 FMA\n",
      "To enable them in other operations, rebuild TensorFlow with the appropriate compiler flags.\n"
     ]
    }
   ],
   "source": [
    "# Python libraries\n",
    "import os\n",
    "import sys\n",
    "import pandas as pd # for data manipulation\n",
    "import numpy as np # for data manipulation\n",
    "import tensorflow as tf\n",
    "import matplotlib.pyplot as plt\n",
    "from datetime import datetime\n",
    "\n",
    "# To enable LaTeX and select a font\n",
    "plt.rcParams.update({\n",
    "    \"text.usetex\": True,\n",
    "    \"font.family\": \"sans-serif\",\n",
    "    \"font.sans-serif\": \"Helvetica\",\n",
    "})\n",
    "\n",
    "# # Using ipynb import functions defined in other nb\n",
    "# sys.path.append(\"myfun/\")\n",
    "# from ipynb.fs.defs.myfun_load_dataset import *\n",
    "# from ipynb.fs.full.myfun_models import *\n",
    "# from ipynb.fs.full.myfun_nn import *\n",
    "# from ipynb.fs.defs.myfun_plot import *"
   ]
  },
  {
   "cell_type": "code",
   "execution_count": 2,
   "id": "dd73431a",
   "metadata": {},
   "outputs": [
    {
     "name": "stdout",
     "output_type": "stream",
     "text": [
      "2023-09-08_02-31-32_df1-2-3-4-5-6-7-8-9-10_500it-POST\n",
      "2023-09-09_02-13-05_df1-2-3-4-5-6-7-8-9-10_350it-POST\n",
      "2023-09-09_17-34-04_df1-2-3-4-5-6-7-8-9-10-LINLOG-POST\n",
      "2023-09-10_23-27-53_df1-2-3-4-5-6-7-8-9-10-LINLOG-both\n",
      "2023-09-11_00-12-13_all\n",
      "2023-09-12_00-24-13_df1-2-3-4-5-6-7-8-9-10_500it-PRE-nn2\n",
      "2023-09-12_03-46-07_df1-2-3-4-5-6-7-8-9-10_500it-PRE-nn4\n",
      "2023-09-12_12-12-01_df1-2-3-4-5-6-7-8-9-10_500it-PRE-nn10\n"
     ]
    }
   ],
   "source": [
    "target_dir = \"./out/\"\n",
    "for name in sorted(os.listdir(target_dir)):\n",
    "    print(name)"
   ]
  },
  {
   "cell_type": "code",
   "execution_count": 3,
   "id": "b5c19af5",
   "metadata": {},
   "outputs": [],
   "source": [
    "dir_nn2 = \"2023-09-12_00-24-13_df1-2-3-4-5-6-7-8-9-10_500it-PRE-nn2\"\n",
    "dir_nn4 = \"2023-09-12_03-46-07_df1-2-3-4-5-6-7-8-9-10_500it-PRE-nn4\"\n",
    "dir_nn10 = \"2023-09-12_12-12-01_df1-2-3-4-5-6-7-8-9-10_500it-PRE-nn10\""
   ]
  },
  {
   "cell_type": "markdown",
   "id": "8b2868e8",
   "metadata": {},
   "source": [
    "## Loading DF"
   ]
  },
  {
   "cell_type": "markdown",
   "id": "7855cad0",
   "metadata": {},
   "source": [
    "### NN2"
   ]
  },
  {
   "cell_type": "code",
   "execution_count": 4,
   "id": "eb25f3ab",
   "metadata": {},
   "outputs": [
    {
     "name": "stdout",
     "output_type": "stream",
     "text": [
      "08a NN model in whole dataset - pre NN2 - Jupyter Notebook.pdf\n",
      "info_nn2.txt\n"
     ]
    }
   ],
   "source": [
    "path = target_dir + dir_nn2\n",
    "for name in sorted(os.listdir(path)):\n",
    "    print(name)"
   ]
  },
  {
   "cell_type": "code",
   "execution_count": 5,
   "id": "271d5666",
   "metadata": {},
   "outputs": [],
   "source": [
    "namefile_nn2 = \"/info_nn2.txt\""
   ]
  },
  {
   "cell_type": "code",
   "execution_count": 6,
   "id": "76bcbe71",
   "metadata": {},
   "outputs": [],
   "source": [
    "# Construct a list for header\n",
    "with open(path + namefile_nn2) as f:\n",
    "    header = f.readline().split(sep=',')\n",
    "header[-1] = header[-1].split(\"\\n\")[0]"
   ]
  },
  {
   "cell_type": "code",
   "execution_count": 7,
   "id": "5de5e4fb",
   "metadata": {},
   "outputs": [],
   "source": [
    "info_nn2 = pd.read_csv(path + namefile_nn2, sep=',', usecols= header)"
   ]
  },
  {
   "cell_type": "markdown",
   "id": "cde6ede8",
   "metadata": {},
   "source": [
    "### NN4"
   ]
  },
  {
   "cell_type": "code",
   "execution_count": 8,
   "id": "e4f2d281",
   "metadata": {},
   "outputs": [
    {
     "name": "stdout",
     "output_type": "stream",
     "text": [
      "08a NN model in whole dataset - pre NN4 - Jupyter Notebook.pdf\n",
      "info_nn4.txt\n"
     ]
    }
   ],
   "source": [
    "path = target_dir + dir_nn4\n",
    "for name in sorted(os.listdir(path)):\n",
    "    print(name)"
   ]
  },
  {
   "cell_type": "code",
   "execution_count": 9,
   "id": "89c38c70",
   "metadata": {},
   "outputs": [],
   "source": [
    "namefile_nn4 = \"/info_nn4.txt\""
   ]
  },
  {
   "cell_type": "code",
   "execution_count": 10,
   "id": "eb384b9d",
   "metadata": {},
   "outputs": [],
   "source": [
    "# Construct a list for header\n",
    "with open(path + namefile_nn4) as f:\n",
    "    header = f.readline().split(sep=',')\n",
    "header[-1] = header[-1].split(\"\\n\")[0]"
   ]
  },
  {
   "cell_type": "code",
   "execution_count": 11,
   "id": "b255f5ac",
   "metadata": {},
   "outputs": [],
   "source": [
    "info_nn4 = pd.read_csv(path + namefile_nn4, sep=',', usecols= header)"
   ]
  },
  {
   "cell_type": "markdown",
   "id": "5e0f98e3",
   "metadata": {},
   "source": [
    "### NN10"
   ]
  },
  {
   "cell_type": "code",
   "execution_count": 12,
   "id": "7f9a52ce",
   "metadata": {},
   "outputs": [
    {
     "name": "stdout",
     "output_type": "stream",
     "text": [
      "08a NN model in whole dataset - pre NN10 - Jupyter Notebook.pdf\n",
      "info_nn10.txt\n"
     ]
    }
   ],
   "source": [
    "path = target_dir + dir_nn10\n",
    "for name in sorted(os.listdir(path)):\n",
    "    print(name)"
   ]
  },
  {
   "cell_type": "code",
   "execution_count": 13,
   "id": "fb8cb3e8",
   "metadata": {},
   "outputs": [],
   "source": [
    "namefile_nn10 = \"/info_nn10.txt\""
   ]
  },
  {
   "cell_type": "code",
   "execution_count": 14,
   "id": "a165889b",
   "metadata": {},
   "outputs": [],
   "source": [
    "# Construct a list for header\n",
    "with open(path + namefile_nn10) as f:\n",
    "    header = f.readline().split(sep=',')\n",
    "header[-1] = header[-1].split(\"\\n\")[0]"
   ]
  },
  {
   "cell_type": "code",
   "execution_count": 15,
   "id": "2621acc1",
   "metadata": {},
   "outputs": [],
   "source": [
    "info_nn10 = pd.read_csv(path + namefile_nn10, sep=',', usecols= header)"
   ]
  },
  {
   "cell_type": "markdown",
   "id": "ced7818f",
   "metadata": {},
   "source": [
    "## Stats"
   ]
  },
  {
   "cell_type": "code",
   "execution_count": 16,
   "id": "0525afdf",
   "metadata": {},
   "outputs": [],
   "source": [
    "# For better handling the plot\n",
    "info_alldataset = pd.concat([info_nn2, info_nn4, info_nn10])"
   ]
  },
  {
   "cell_type": "code",
   "execution_count": 17,
   "id": "0cad9ef9",
   "metadata": {},
   "outputs": [
    {
     "data": {
      "text/html": [
       "<div>\n",
       "<style scoped>\n",
       "    .dataframe tbody tr th:only-of-type {\n",
       "        vertical-align: middle;\n",
       "    }\n",
       "\n",
       "    .dataframe tbody tr th {\n",
       "        vertical-align: top;\n",
       "    }\n",
       "\n",
       "    .dataframe thead th {\n",
       "        text-align: right;\n",
       "    }\n",
       "</style>\n",
       "<table border=\"1\" class=\"dataframe\">\n",
       "  <thead>\n",
       "    <tr style=\"text-align: right;\">\n",
       "      <th></th>\n",
       "      <th></th>\n",
       "      <th>v0_scn_mean</th>\n",
       "    </tr>\n",
       "    <tr>\n",
       "      <th>N. file</th>\n",
       "      <th>DOE</th>\n",
       "      <th></th>\n",
       "    </tr>\n",
       "  </thead>\n",
       "  <tbody>\n",
       "    <tr>\n",
       "      <th rowspan=\"3\" valign=\"top\">1</th>\n",
       "      <th>[1, 10, 1]</th>\n",
       "      <td>103.981300</td>\n",
       "    </tr>\n",
       "    <tr>\n",
       "      <th>[1, 2, 1]</th>\n",
       "      <td>103.985213</td>\n",
       "    </tr>\n",
       "    <tr>\n",
       "      <th>[1, 4, 1]</th>\n",
       "      <td>103.987844</td>\n",
       "    </tr>\n",
       "    <tr>\n",
       "      <th rowspan=\"3\" valign=\"top\">2</th>\n",
       "      <th>[1, 10, 1]</th>\n",
       "      <td>76.481543</td>\n",
       "    </tr>\n",
       "    <tr>\n",
       "      <th>[1, 2, 1]</th>\n",
       "      <td>76.527795</td>\n",
       "    </tr>\n",
       "    <tr>\n",
       "      <th>[1, 4, 1]</th>\n",
       "      <td>76.457544</td>\n",
       "    </tr>\n",
       "    <tr>\n",
       "      <th rowspan=\"3\" valign=\"top\">3</th>\n",
       "      <th>[1, 10, 1]</th>\n",
       "      <td>105.452462</td>\n",
       "    </tr>\n",
       "    <tr>\n",
       "      <th>[1, 2, 1]</th>\n",
       "      <td>105.456079</td>\n",
       "    </tr>\n",
       "    <tr>\n",
       "      <th>[1, 4, 1]</th>\n",
       "      <td>105.448175</td>\n",
       "    </tr>\n",
       "    <tr>\n",
       "      <th rowspan=\"3\" valign=\"top\">4</th>\n",
       "      <th>[1, 10, 1]</th>\n",
       "      <td>83.766860</td>\n",
       "    </tr>\n",
       "    <tr>\n",
       "      <th>[1, 2, 1]</th>\n",
       "      <td>83.805244</td>\n",
       "    </tr>\n",
       "    <tr>\n",
       "      <th>[1, 4, 1]</th>\n",
       "      <td>83.746191</td>\n",
       "    </tr>\n",
       "    <tr>\n",
       "      <th rowspan=\"3\" valign=\"top\">5</th>\n",
       "      <th>[1, 10, 1]</th>\n",
       "      <td>98.366240</td>\n",
       "    </tr>\n",
       "    <tr>\n",
       "      <th>[1, 2, 1]</th>\n",
       "      <td>98.386821</td>\n",
       "    </tr>\n",
       "    <tr>\n",
       "      <th>[1, 4, 1]</th>\n",
       "      <td>98.338935</td>\n",
       "    </tr>\n",
       "    <tr>\n",
       "      <th rowspan=\"3\" valign=\"top\">6</th>\n",
       "      <th>[1, 10, 1]</th>\n",
       "      <td>79.561240</td>\n",
       "    </tr>\n",
       "    <tr>\n",
       "      <th>[1, 2, 1]</th>\n",
       "      <td>79.630553</td>\n",
       "    </tr>\n",
       "    <tr>\n",
       "      <th>[1, 4, 1]</th>\n",
       "      <td>79.611467</td>\n",
       "    </tr>\n",
       "    <tr>\n",
       "      <th rowspan=\"3\" valign=\"top\">7</th>\n",
       "      <th>[1, 10, 1]</th>\n",
       "      <td>96.548613</td>\n",
       "    </tr>\n",
       "    <tr>\n",
       "      <th>[1, 2, 1]</th>\n",
       "      <td>96.635592</td>\n",
       "    </tr>\n",
       "    <tr>\n",
       "      <th>[1, 4, 1]</th>\n",
       "      <td>96.559678</td>\n",
       "    </tr>\n",
       "    <tr>\n",
       "      <th rowspan=\"3\" valign=\"top\">8</th>\n",
       "      <th>[1, 10, 1]</th>\n",
       "      <td>82.622718</td>\n",
       "    </tr>\n",
       "    <tr>\n",
       "      <th>[1, 2, 1]</th>\n",
       "      <td>82.688465</td>\n",
       "    </tr>\n",
       "    <tr>\n",
       "      <th>[1, 4, 1]</th>\n",
       "      <td>82.663905</td>\n",
       "    </tr>\n",
       "    <tr>\n",
       "      <th rowspan=\"3\" valign=\"top\">9</th>\n",
       "      <th>[1, 10, 1]</th>\n",
       "      <td>90.944974</td>\n",
       "    </tr>\n",
       "    <tr>\n",
       "      <th>[1, 2, 1]</th>\n",
       "      <td>90.992070</td>\n",
       "    </tr>\n",
       "    <tr>\n",
       "      <th>[1, 4, 1]</th>\n",
       "      <td>90.950434</td>\n",
       "    </tr>\n",
       "    <tr>\n",
       "      <th rowspan=\"3\" valign=\"top\">10</th>\n",
       "      <th>[1, 10, 1]</th>\n",
       "      <td>75.237999</td>\n",
       "    </tr>\n",
       "    <tr>\n",
       "      <th>[1, 2, 1]</th>\n",
       "      <td>75.232424</td>\n",
       "    </tr>\n",
       "    <tr>\n",
       "      <th>[1, 4, 1]</th>\n",
       "      <td>75.475631</td>\n",
       "    </tr>\n",
       "  </tbody>\n",
       "</table>\n",
       "</div>"
      ],
      "text/plain": [
       "                    v0_scn_mean\n",
       "N. file DOE                    \n",
       "1       [1, 10, 1]   103.981300\n",
       "        [1, 2, 1]    103.985213\n",
       "        [1, 4, 1]    103.987844\n",
       "2       [1, 10, 1]    76.481543\n",
       "        [1, 2, 1]     76.527795\n",
       "        [1, 4, 1]     76.457544\n",
       "3       [1, 10, 1]   105.452462\n",
       "        [1, 2, 1]    105.456079\n",
       "        [1, 4, 1]    105.448175\n",
       "4       [1, 10, 1]    83.766860\n",
       "        [1, 2, 1]     83.805244\n",
       "        [1, 4, 1]     83.746191\n",
       "5       [1, 10, 1]    98.366240\n",
       "        [1, 2, 1]     98.386821\n",
       "        [1, 4, 1]     98.338935\n",
       "6       [1, 10, 1]    79.561240\n",
       "        [1, 2, 1]     79.630553\n",
       "        [1, 4, 1]     79.611467\n",
       "7       [1, 10, 1]    96.548613\n",
       "        [1, 2, 1]     96.635592\n",
       "        [1, 4, 1]     96.559678\n",
       "8       [1, 10, 1]    82.622718\n",
       "        [1, 2, 1]     82.688465\n",
       "        [1, 4, 1]     82.663905\n",
       "9       [1, 10, 1]    90.944974\n",
       "        [1, 2, 1]     90.992070\n",
       "        [1, 4, 1]     90.950434\n",
       "10      [1, 10, 1]    75.237999\n",
       "        [1, 2, 1]     75.232424\n",
       "        [1, 4, 1]     75.475631"
      ]
     },
     "execution_count": 17,
     "metadata": {},
     "output_type": "execute_result"
    }
   ],
   "source": [
    "info_alldataset.groupby(['N. file','DOE']).mean(numeric_only=True)[['v0_scn_mean']]*3.6"
   ]
  },
  {
   "cell_type": "code",
   "execution_count": 18,
   "id": "53f0607f",
   "metadata": {},
   "outputs": [
    {
     "data": {
      "text/html": [
       "<div>\n",
       "<style scoped>\n",
       "    .dataframe tbody tr th:only-of-type {\n",
       "        vertical-align: middle;\n",
       "    }\n",
       "\n",
       "    .dataframe tbody tr th {\n",
       "        vertical-align: top;\n",
       "    }\n",
       "\n",
       "    .dataframe thead th {\n",
       "        text-align: right;\n",
       "    }\n",
       "</style>\n",
       "<table border=\"1\" class=\"dataframe\">\n",
       "  <thead>\n",
       "    <tr style=\"text-align: right;\">\n",
       "      <th></th>\n",
       "      <th>v0_scn_mean</th>\n",
       "    </tr>\n",
       "    <tr>\n",
       "      <th>N. file</th>\n",
       "      <th></th>\n",
       "    </tr>\n",
       "  </thead>\n",
       "  <tbody>\n",
       "    <tr>\n",
       "      <th>1</th>\n",
       "      <td>103.984786</td>\n",
       "    </tr>\n",
       "    <tr>\n",
       "      <th>2</th>\n",
       "      <td>76.488961</td>\n",
       "    </tr>\n",
       "    <tr>\n",
       "      <th>3</th>\n",
       "      <td>105.452239</td>\n",
       "    </tr>\n",
       "    <tr>\n",
       "      <th>4</th>\n",
       "      <td>83.772765</td>\n",
       "    </tr>\n",
       "    <tr>\n",
       "      <th>5</th>\n",
       "      <td>98.363998</td>\n",
       "    </tr>\n",
       "    <tr>\n",
       "      <th>6</th>\n",
       "      <td>79.601087</td>\n",
       "    </tr>\n",
       "    <tr>\n",
       "      <th>7</th>\n",
       "      <td>96.581294</td>\n",
       "    </tr>\n",
       "    <tr>\n",
       "      <th>8</th>\n",
       "      <td>82.658363</td>\n",
       "    </tr>\n",
       "    <tr>\n",
       "      <th>9</th>\n",
       "      <td>90.962493</td>\n",
       "    </tr>\n",
       "    <tr>\n",
       "      <th>10</th>\n",
       "      <td>75.315351</td>\n",
       "    </tr>\n",
       "  </tbody>\n",
       "</table>\n",
       "</div>"
      ],
      "text/plain": [
       "         v0_scn_mean\n",
       "N. file             \n",
       "1         103.984786\n",
       "2          76.488961\n",
       "3         105.452239\n",
       "4          83.772765\n",
       "5          98.363998\n",
       "6          79.601087\n",
       "7          96.581294\n",
       "8          82.658363\n",
       "9          90.962493\n",
       "10         75.315351"
      ]
     },
     "execution_count": 18,
     "metadata": {},
     "output_type": "execute_result"
    }
   ],
   "source": [
    "# Averaging over DOE\n",
    "info_alldataset.groupby(['N. file']).mean(numeric_only=True)[['v0_scn_mean']]*3.6"
   ]
  },
  {
   "cell_type": "code",
   "execution_count": 19,
   "id": "d9b3a92d",
   "metadata": {},
   "outputs": [
    {
     "data": {
      "text/plain": [
       "89.3181335417148"
      ]
     },
     "execution_count": 19,
     "metadata": {},
     "output_type": "execute_result"
    }
   ],
   "source": [
    "# Averaging over N.file and DOE\n",
    "info_alldataset.groupby(['N. file']).mean(numeric_only=True)[['v0_scn_mean']].mean()[0]*3.6"
   ]
  },
  {
   "cell_type": "code",
   "execution_count": 20,
   "id": "80977bc0",
   "metadata": {},
   "outputs": [
    {
     "data": {
      "text/html": [
       "<div>\n",
       "<style scoped>\n",
       "    .dataframe tbody tr th:only-of-type {\n",
       "        vertical-align: middle;\n",
       "    }\n",
       "\n",
       "    .dataframe tbody tr th {\n",
       "        vertical-align: top;\n",
       "    }\n",
       "\n",
       "    .dataframe thead th {\n",
       "        text-align: right;\n",
       "    }\n",
       "</style>\n",
       "<table border=\"1\" class=\"dataframe\">\n",
       "  <thead>\n",
       "    <tr style=\"text-align: right;\">\n",
       "      <th></th>\n",
       "      <th>v0_scn_mean</th>\n",
       "    </tr>\n",
       "    <tr>\n",
       "      <th>DOE</th>\n",
       "      <th></th>\n",
       "    </tr>\n",
       "  </thead>\n",
       "  <tbody>\n",
       "    <tr>\n",
       "      <th>[1, 10, 1]</th>\n",
       "      <td>90.169342</td>\n",
       "    </tr>\n",
       "    <tr>\n",
       "      <th>[1, 2, 1]</th>\n",
       "      <td>90.199893</td>\n",
       "    </tr>\n",
       "    <tr>\n",
       "      <th>[1, 4, 1]</th>\n",
       "      <td>90.198263</td>\n",
       "    </tr>\n",
       "  </tbody>\n",
       "</table>\n",
       "</div>"
      ],
      "text/plain": [
       "            v0_scn_mean\n",
       "DOE                    \n",
       "[1, 10, 1]    90.169342\n",
       "[1, 2, 1]     90.199893\n",
       "[1, 4, 1]     90.198263"
      ]
     },
     "execution_count": 20,
     "metadata": {},
     "output_type": "execute_result"
    }
   ],
   "source": [
    "# Averaging over N.file\n",
    "info_alldataset.groupby(['DOE']).mean(numeric_only=True)[['v0_scn_mean']]*3.6"
   ]
  },
  {
   "cell_type": "markdown",
   "id": "b5e5b5ca",
   "metadata": {},
   "source": [
    "## Plot"
   ]
  },
  {
   "cell_type": "code",
   "execution_count": 21,
   "id": "f63e888f",
   "metadata": {},
   "outputs": [],
   "source": [
    "# Create the model NN\n",
    "DOE =[[1,2,1], [1,4,1], [1,10,1]] #Design of experiment\n",
    "\n",
    "# params\n",
    "NUM_ITER = int(dir_nn2.split(\"_\")[-1].split(\"it\")[0]) #same for all the models\n",
    "flag_save = True"
   ]
  },
  {
   "cell_type": "markdown",
   "id": "96b23dad",
   "metadata": {},
   "source": [
    "### Create the out dir"
   ]
  },
  {
   "cell_type": "code",
   "execution_count": 22,
   "id": "9dc12e21",
   "metadata": {},
   "outputs": [],
   "source": [
    "# Create the directory..\n",
    "if flag_save:\n",
    "    \n",
    "    ext = \".svg\"\n",
    "    \n",
    "    df_seen_str = dir_nn2.split(\"_\")[2]\n",
    "    \n",
    "    # Create directory where to save the image\n",
    "    now = datetime.now() \n",
    "    d = now.strftime(f\"%Y-%m-%d_%H-%M-%S_{df_seen_str}_{NUM_ITER}it-PRE-nn-all\")\n",
    "    \n",
    "    path = 'out/' + d\n",
    "    os.mkdir(path)"
   ]
  },
  {
   "cell_type": "code",
   "execution_count": null,
   "id": "c9b8d4b9",
   "metadata": {},
   "outputs": [
    {
     "data": {
      "image/png": "[encoded data removed]",
      "text/plain": [
       "<Figure size 700x500 with 1 Axes>"
      ]
     },
     "metadata": {},
     "output_type": "display_data"
    },
    {
     "data": {
      "image/png": "[encoded data removed]",
      "text/plain": [
       "<Figure size 700x500 with 1 Axes>"
      ]
     },
     "metadata": {},
     "output_type": "display_data"
    }
   ],
   "source": [
    "ms2kmh = 3.6\n",
    "\n",
    "for d in DOE:\n",
    "        \n",
    "    # Initialize the figure\n",
    "    width, height = 7, 5\n",
    "    fig, ax = plt.subplots(figsize=(width,height))\n",
    "    \n",
    "#     # Before to save in csv\n",
    "#     info_dataset = info_alldataset.loc[info_alldataset['DOE'].isin([d])]\n",
    "    \n",
    "    # Using csv..\n",
    "    info_dataset = info_alldataset.loc[info_alldataset['DOE'] == str(d)]   \n",
    "    \n",
    "    for _, scn in info_dataset.iterrows():\n",
    "        \n",
    "        # Convert velocities to km/h\n",
    "        v0_scn_mean_kmh = scn['v0_scn_mean']*ms2kmh\n",
    "\n",
    "        # For each scene, plot v0 mean (averagin over iterations)\n",
    "        ax.scatter(scn['N. file'], v0_scn_mean_kmh, alpha = .2, color = 'darkblue');\n",
    "\n",
    "    # For a dataset, plot v0 mean (averaging v0 mean in all the scenes)\n",
    "    info_grouped = info_dataset.groupby(['N. file']).mean(numeric_only=True)\n",
    "    for nf, p in info_grouped.iterrows():\n",
    "        ax.plot(nf, p['v0_scn_mean']*ms2kmh, color = 'r', marker=\"x\")\n",
    "\n",
    "    # Plot v0 mean over all dfs\n",
    "    alldfs = [a for a, _ in info_grouped.iterrows()]\n",
    "    v0_mean_alldfs = info_grouped['v0_scn_mean'].mean()*ms2kmh\n",
    "    ax.plot(alldfs, [v0_mean_alldfs]*len(alldfs), color = 'r')  \n",
    "\n",
    "    ax.set_xlabel(r\"$data set$\",fontsize=14)\n",
    "    ax.set_ylabel(r\"$v_{0}\\ [km/h]$\",fontsize=14)\n",
    "    ax.set_title(fr\"$Velocities\\ v_{0}\\ of\\ the\\ leading\\ car$\"\n",
    "                   \"\\n\"  # Newline: the backslash is interpreted as usual\n",
    "                 fr\"$with\\ {NUM_ITER}\\ iter\\ and\\ NN\\ structure\\ {str(d)}$\",fontsize=14)\n",
    "\n",
    "    xlim = [0.75,10.25]\n",
    "    ax.set_xlim(xlim)\n",
    "    ax.set_xticks(range(1,11))\n",
    "    ylim = ax.get_ylim()\n",
    "\n",
    "    ax.grid(color='grey', linestyle='-', linewidth=0.5);\n",
    "\n",
    "    plt.show()\n",
    "    \n",
    "    # Save figure\n",
    "    if flag_save:\n",
    "\n",
    "        title = f\"/v0_df{df_seen_str}_{NUM_ITER}it_NN-{str(d[1]).zfill(2)}\"     \n",
    "        fig.savefig(path+title+ext, bbox_inches='tight')"
   ]
  },
  {
   "cell_type": "markdown",
   "id": "7ba78a38",
   "metadata": {},
   "source": [
    "### Plot together"
   ]
  },
  {
   "cell_type": "code",
   "execution_count": null,
   "id": "e31c6529",
   "metadata": {
    "scrolled": true
   },
   "outputs": [],
   "source": [
    "# define subplot grid\n",
    "width, height = 7, 5\n",
    "nfig = len(DOE)\n",
    "\n",
    "fig, axes = plt.subplots(nrows=1, ncols=nfig, figsize = (width*nfig,height))\n",
    "plt.subplots_adjust(hspace=0.4)\n",
    "\n",
    "suptitle = fr\"$Velocities\\ v_{0}\\ of\\ the\\ leading\\ car,\\ using\\ {NUM_ITER}\\ iter$\"\n",
    "fig.suptitle(suptitle, fontsize=30, y=1.075)\n",
    "\n",
    "ms2kmh = 3.6\n",
    "\n",
    "for ax, d in zip(axes.ravel(), DOE):\n",
    "\n",
    "#     # Before to save in csv\n",
    "#     info_dataset = info_alldataset.loc[info_alldataset['DOE'].isin([d])]\n",
    "    \n",
    "    # Using csv..\n",
    "    info_dataset = info_alldataset.loc[info_alldataset['DOE'] == str(d)]   \n",
    "    \n",
    "    for _, scn in info_dataset.iterrows():\n",
    "\n",
    "        # Convert velocities to km/h\n",
    "        v0_scn_mean_kmh = scn['v0_scn_mean']*ms2kmh\n",
    "\n",
    "        # For each scene, plot v0 mean (averagin over iterations)\n",
    "        ax.scatter(scn['N. file'], v0_scn_mean_kmh, alpha = .2, color = 'darkblue');\n",
    "\n",
    "    # For a dataset, plot v0 mean (averaging v0 mean in all the scenes)\n",
    "    info_grouped = info_dataset.groupby(['N. file']).mean(numeric_only=True)\n",
    "    for nf, p in info_grouped.iterrows():\n",
    "        ax.plot(nf, p['v0_scn_mean']*ms2kmh, color = 'r', marker=\"x\")\n",
    "\n",
    "    # Plot v0 mean over all dfs\n",
    "    alldfs = [a for a, _ in info_grouped.iterrows()]\n",
    "    v0_mean_alldfs = info_grouped['v0_scn_mean'].mean()*ms2kmh\n",
    "    ax.plot(alldfs, [v0_mean_alldfs]*len(alldfs), color = 'r')\n",
    "        \n",
    "    ax.set_xlabel(r\"$data set$\",fontsize=14)\n",
    "    ax.set_ylabel(r\"$v_{0}\\ [km/h]$\",fontsize=14)\n",
    "    ax.set_title(fr\"$NN\\ structure\\ {d}$\",fontsize=20)\n",
    "\n",
    "    # Limits\n",
    "    xlim = [0.75,10.25]\n",
    "    ax.set_xlim(xlim)\n",
    "    ax.set_xticks(range(1,11))\n",
    "    ylim = ax.get_ylim()\n",
    "\n",
    "    ax.grid(color='grey', linestyle='-', linewidth=0.5);\n",
    "    \n",
    "plt.show()"
   ]
  },
  {
   "cell_type": "code",
   "execution_count": null,
   "id": "ab4d458e",
   "metadata": {},
   "outputs": [],
   "source": [
    "# Save figure\n",
    "if flag_save:\n",
    "\n",
    "    title = f\"/v0_df{df_seen_str}_{NUM_ITER}it_NN-ALL\"     \n",
    "    fig.savefig(path+title+ext, bbox_inches='tight')"
   ]
  },
  {
   "cell_type": "markdown",
   "id": "d392c38c",
   "metadata": {},
   "source": [
    "### Plot comparing"
   ]
  },
  {
   "cell_type": "code",
   "execution_count": null,
   "id": "06cc219d",
   "metadata": {},
   "outputs": [],
   "source": [
    "# Initialize the figure\n",
    "width, height = 7, 5\n",
    "fig, ax = plt.subplots(figsize=(width,height))\n",
    "\n",
    "ms2kmh = 3.6\n",
    "\n",
    "palette = ['black', 'royalblue', 'coral']\n",
    "\n",
    "for step, d in enumerate(DOE):   \n",
    "        \n",
    "#     # Before to save in csv\n",
    "#     info_dataset = info_alldataset.loc[info_alldataset['DOE'].isin([d])]\n",
    "    \n",
    "    # Using csv..\n",
    "    info_dataset = info_alldataset.loc[info_alldataset['DOE'] == str(d)]\n",
    "    \n",
    "    color = palette[step]\n",
    "\n",
    "    # For a dataset, plot v0 mean (averaging v0 mean in all the scenes)\n",
    "    info_grouped = info_dataset.groupby(['N. file']).mean(numeric_only=True)\n",
    "    for nf, p in info_grouped.iterrows():\n",
    "        ax.scatter(nf, p['v0_scn_mean']*ms2kmh, facecolors='none', edgecolors=color)\n",
    "\n",
    "    # Plot v0 mean over all dfs\n",
    "    alldfs = [a for a, _ in info_grouped.iterrows()]\n",
    "    v0_mean_alldfs = info_grouped['v0_scn_mean'].mean()*ms2kmh\n",
    "    ax.plot(alldfs, [v0_mean_alldfs]*len(alldfs), color = color, label=str(d))\n",
    "\n",
    "ax.set_xlabel(r\"$data set$\",fontsize=14)\n",
    "ax.set_ylabel(r\"$v_{0}\\ [km/h]$\",fontsize=14)\n",
    "ax.set_title(fr\"$Velocities\\ v_{0}\\ of\\ the\\ leading\\ car, with\\ {NUM_ITER}\\ iter$\",fontsize=14)\n",
    "\n",
    "xlim = [0.75,10.25]\n",
    "ax.set_xlim(xlim)\n",
    "ax.set_xticks(range(1,11))\n",
    "ylim = ax.get_ylim()\n",
    "\n",
    "ax.legend()\n",
    "ax.grid(color='grey', linestyle='-', linewidth=0.5);\n",
    "\n",
    "plt.show()"
   ]
  },
  {
   "cell_type": "code",
   "execution_count": null,
   "id": "77edb2fe",
   "metadata": {},
   "outputs": [],
   "source": [
    "# Save figure\n",
    "if flag_save:\n",
    "\n",
    "    title = f\"/v0_df{df_seen_str}_{NUM_ITER}iter_NN-ALL-comparing\"\n",
    "    fig.savefig(path+title+ext, bbox_inches='tight')"
   ]
  }
 ],
 "metadata": {
  "kernelspec": {
   "display_name": "Python 3 (ipykernel)",
   "language": "python",
   "name": "python3"
  },
  "language_info": {
   "codemirror_mode": {
    "name": "ipython",
    "version": 3
   },
   "file_extension": ".py",
   "mimetype": "text/x-python",
   "name": "python",
   "nbconvert_exporter": "python",
   "pygments_lexer": "ipython3",
   "version": "3.10.9"
  }
 },
 "nbformat": 4,
 "nbformat_minor": 5
}
