{
 "cells": [
  {
   "cell_type": "code",
   "execution_count": 1,
   "id": "a2abf80e",
   "metadata": {},
   "outputs": [
    {
     "name": "stderr",
     "output_type": "stream",
     "text": [
      "2023-09-07 17:29:46.952236: I tensorflow/core/platform/cpu_feature_guard.cc:193] This TensorFlow binary is optimized with oneAPI Deep Neural Network Library (oneDNN) to use the following CPU instructions in performance-critical operations:  SSE4.1 SSE4.2 AVX AVX2 FMA\n",
      "To enable them in other operations, rebuild TensorFlow with the appropriate compiler flags.\n"
     ]
    }
   ],
   "source": [
    "# Python libraries\n",
    "import os\n",
    "import sys\n",
    "import pandas as pd # for data manipulation\n",
    "import numpy as np # for data manipulation\n",
    "import tensorflow as tf\n",
    "import matplotlib.pyplot as plt\n",
    "from datetime import datetime\n",
    "\n",
    "# To enable LaTeX and select a font\n",
    "plt.rcParams.update({\n",
    "    \"text.usetex\": True,\n",
    "    \"font.family\": \"sans-serif\",\n",
    "    \"font.sans-serif\": \"Helvetica\",\n",
    "})\n",
    "\n",
    "# # Using ipynb import functions defined in other nb\n",
    "# sys.path.append(\"myfun/\")\n",
    "# from ipynb.fs.defs.myfun_load_dataset import *\n",
    "# from ipynb.fs.full.myfun_models import *\n",
    "# from ipynb.fs.full.myfun_nn import *\n",
    "# from ipynb.fs.defs.myfun_plot import *"
   ]
  },
  {
   "cell_type": "code",
   "execution_count": 5,
   "id": "eda60852",
   "metadata": {},
   "outputs": [
    {
     "name": "stdout",
     "output_type": "stream",
     "text": [
      "2023-09-07_17-28-26_df1-2-3_1it\n"
     ]
    }
   ],
   "source": [
    "target_dir = \"./out\"\n",
    "for name in sorted(os.listdir(target_dir)):\n",
    "    print(name)"
   ]
  },
  {
   "cell_type": "code",
   "execution_count": 6,
   "id": "d0a3c4d8",
   "metadata": {},
   "outputs": [
    {
     "data": {
      "text/plain": [
       "'2023-09-07_17-28-26_df1-2-3_1it'"
      ]
     },
     "execution_count": 6,
     "metadata": {},
     "output_type": "execute_result"
    }
   ],
   "source": [
    "last = sorted(os.listdir(target_dir))[-1]\n",
    "last"
   ]
  },
  {
   "cell_type": "markdown",
   "id": "9ee8574b",
   "metadata": {},
   "source": [
    "### Load the df"
   ]
  },
  {
   "cell_type": "code",
   "execution_count": 7,
   "id": "93a7193c",
   "metadata": {},
   "outputs": [],
   "source": [
    "path = target_dir + last\n",
    "namefile = '/info_dataset.txt'\n",
    "colnames = ['t_list', 'x_list', 'v_list', 'v0_scn', 'v0_scn_mean', 'n_scn', 'N. file', 'iter', 'DOE', 'processed']"
   ]
  },
  {
   "cell_type": "code",
   "execution_count": null,
   "id": "3a8244dd",
   "metadata": {},
   "outputs": [],
   "source": [
    "path"
   ]
  },
  {
   "cell_type": "code",
   "execution_count": null,
   "id": "2d6ae75c",
   "metadata": {},
   "outputs": [],
   "source": [
    "A = pd.read_csv(path + namefile, sep=',', usecols= colnames)"
   ]
  },
  {
   "cell_type": "code",
   "execution_count": null,
   "id": "dfb2c3f7",
   "metadata": {},
   "outputs": [],
   "source": [
    "A"
   ]
  }
 ],
 "metadata": {
  "kernelspec": {
   "display_name": "Python 3 (ipykernel)",
   "language": "python",
   "name": "python3"
  },
  "language_info": {
   "codemirror_mode": {
    "name": "ipython",
    "version": 3
   },
   "file_extension": ".py",
   "mimetype": "text/x-python",
   "name": "python",
   "nbconvert_exporter": "python",
   "pygments_lexer": "ipython3",
   "version": "3.10.9"
  }
 },
 "nbformat": 4,
 "nbformat_minor": 5
}
