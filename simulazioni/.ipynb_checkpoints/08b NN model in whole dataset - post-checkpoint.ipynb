{
 "cells": [
  {
   "cell_type": "markdown",
   "id": "ad5e4d47",
   "metadata": {},
   "source": [
    "## Import libraries"
   ]
  },
  {
   "cell_type": "code",
   "execution_count": null,
   "id": "c84869a2",
   "metadata": {
    "scrolled": false
   },
   "outputs": [],
   "source": [
    "# Python libraries\n",
    "import os\n",
    "import sys\n",
    "import pandas as pd # for data manipulation\n",
    "import numpy as np # for data manipulation\n",
    "import tensorflow as tf\n",
    "from sklearn.model_selection import train_test_split\n",
    "from datetime import datetime\n",
    "import time\n",
    "\n",
    "# Plotting\n",
    "import matplotlib.pyplot as plt\n",
    "\n",
    "# To enable LaTeX and select a font\n",
    "plt.rcParams.update({\n",
    "    \"text.usetex\": True,\n",
    "    \"font.family\": \"sans-serif\",\n",
    "    \"font.sans-serif\": \"Helvetica\",\n",
    "})\n",
    "\n",
    "# Using ipynb import functions defined in other nb\n",
    "sys.path.append(\"myfun/\")\n",
    "from ipynb.fs.defs.myfun_load_dataset import *\n",
    "from ipynb.fs.full.myfun_model_nn import *\n",
    "from ipynb.fs.defs.myfun_plot import *"
   ]
  },
  {
   "cell_type": "markdown",
   "id": "0e0e4056",
   "metadata": {},
   "source": [
    "## Data Acquisition"
   ]
  },
  {
   "cell_type": "code",
   "execution_count": null,
   "id": "12ab8161",
   "metadata": {},
   "outputs": [],
   "source": [
    "# Load the dataset\n",
    "par_dir = os.path.dirname(os.getcwd()) # parent dir\n",
    "dir_name = par_dir + \"/NN-interaction\""
   ]
  },
  {
   "cell_type": "code",
   "execution_count": null,
   "id": "3a1949d7",
   "metadata": {},
   "outputs": [],
   "source": [
    "processed_flag = 'post'\n",
    "# load the data\n",
    "_, dflist = load_dataset(dir_name, processed_flag)\n",
    "dataset = dflist"
   ]
  },
  {
   "cell_type": "code",
   "execution_count": null,
   "id": "f7592f01",
   "metadata": {},
   "outputs": [],
   "source": [
    "# params\n",
    "v0_guess = 30\n",
    "NUM_ITER = 500\n",
    "LEARNING_RATE_v0 = 0.5\n",
    "flag_save = True"
   ]
  },
  {
   "cell_type": "code",
   "execution_count": null,
   "id": "2b9b8825",
   "metadata": {
    "scrolled": true
   },
   "outputs": [],
   "source": [
    "info_alldataset = solve_nn_dataset_DOE(v0_guess, dataset, processed_flag, NUM_ITER, LEARNING_RATE_v0)"
   ]
  },
  {
   "cell_type": "markdown",
   "id": "1622003b",
   "metadata": {},
   "source": [
    "## Prepare the out dir"
   ]
  },
  {
   "cell_type": "code",
   "execution_count": null,
   "id": "cb59ef38",
   "metadata": {},
   "outputs": [],
   "source": [
    "# Create the directory..\n",
    "if flag_save:\n",
    "    \n",
    "    ext = \".svg\"\n",
    "    \n",
    "    df_seen = [df['N. file'][0] for df in dataset]\n",
    "    df_seen_str = '-'.join(str(x) for x in df_seen)\n",
    "    \n",
    "    # Create directory where to save the image\n",
    "    now = datetime.now() \n",
    "    d = now.strftime(f\"%Y-%m-%d_%H-%M-%S_df{df_seen_str}_{NUM_ITER}it-POST\")\n",
    "    \n",
    "    path = 'out/' + d\n",
    "    os.mkdir(path)\n",
    "    \n",
    "    # Save the solution in a file\n",
    "    namefile = '/info_alldataset.txt'\n",
    "\n",
    "    with open(path + namefile, 'w') as output:\n",
    "        info_alldataset.to_csv(path + namefile, sep=',', index=False)"
   ]
  },
  {
   "cell_type": "markdown",
   "id": "80a3be78",
   "metadata": {},
   "source": [
    "## Plot"
   ]
  },
  {
   "cell_type": "code",
   "execution_count": null,
   "id": "8707212d",
   "metadata": {},
   "outputs": [],
   "source": [
    "DOE =[[1,2,1], [1,4,1], [1,10,1]] #Design of experiment\n",
    "ms2kmh = 3.6"
   ]
  },
  {
   "cell_type": "code",
   "execution_count": null,
   "id": "bb8a7aba",
   "metadata": {
    "scrolled": false
   },
   "outputs": [],
   "source": [
    "for d in DOE:\n",
    "\n",
    "    # Initialize the figure\n",
    "    width, height = 7, 5\n",
    "    fig, ax = plt.subplots(figsize=(width,height))\n",
    "\n",
    "    info_dataset = info_alldataset.loc[info_alldataset['DOE'].isin([d])]\n",
    "\n",
    "    for _, scn in info_dataset.iterrows():\n",
    "\n",
    "        # Convert velocities to km/h\n",
    "        v0_scn_mean_kmh = scn['v0_scn_mean']*ms2kmh\n",
    "\n",
    "        # For each scene, plot v0 mean (averagin over iterations)\n",
    "        ax.scatter(scn['N. file'], v0_scn_mean_kmh, alpha = .2, color = 'darkblue');\n",
    "\n",
    "    # For a dataset, plot v0 mean (averaging v0 mean in all the scenes)\n",
    "    info_grouped = info_dataset.groupby(['N. file']).mean(numeric_only=True)\n",
    "    for nf, p in info_grouped.iterrows():\n",
    "        ax.plot(nf, p['v0_scn_mean']*ms2kmh, color = 'r', marker=\"x\")\n",
    "\n",
    "    # Plot v0 mean over all dfs\n",
    "    alldfs = [a for a, _ in info_grouped.iterrows()]\n",
    "    v0_mean_alldfs = info_grouped['v0_scn_mean'].mean()*ms2kmh\n",
    "    ax.plot(alldfs, [v0_mean_alldfs]*len(alldfs), color = 'r')  \n",
    "\n",
    "    ax.set_xlabel(r\"$data set$\",fontsize=14)\n",
    "    ax.set_ylabel(r\"$v_{0}\\ [km/h]$\",fontsize=14)\n",
    "    ax.set_title(fr\"$Velocities\\ v_{0}\\ of\\ the\\ leading\\ car$\"\n",
    "                   \"\\n\"  # Newline: the backslash is interpreted as usual\n",
    "                 fr\"$with\\ {NUM_ITER}\\ iter\\ and\\ NN\\ structure\\ {str(d)}$\",fontsize=14)\n",
    "\n",
    "    xlim = [0.75,10.25]\n",
    "    ax.set_xlim(xlim)\n",
    "    ax.set_xticks(range(1,11))\n",
    "    ylim = ax.get_ylim()\n",
    "\n",
    "    ax.grid(color='grey', linestyle='-', linewidth=0.5);\n",
    "    plt.show()\n",
    "\n",
    "    # Save figure\n",
    "    if flag_save:\n",
    "\n",
    "        title = f\"/v0_df{df_seen_str}_{NUM_ITER}it_NN-{str(d[1]).zfill(2)}\"     \n",
    "        fig.savefig(path+title+ext, bbox_inches='tight')"
   ]
  },
  {
   "cell_type": "markdown",
   "id": "f8257c2e",
   "metadata": {},
   "source": [
    "> **WARNING**: The maximal km speed allowed on the highway is 100 h"
   ]
  },
  {
   "cell_type": "markdown",
   "id": "ccfadcf2",
   "metadata": {},
   "source": [
    "### Plot togheter"
   ]
  },
  {
   "cell_type": "code",
   "execution_count": null,
   "id": "2aa01006",
   "metadata": {},
   "outputs": [],
   "source": [
    "# define subplot grid\n",
    "width, height = 7, 5\n",
    "nfig = len(DOE)\n",
    "\n",
    "fig, axes = plt.subplots(nrows=1, ncols=nfig, figsize = (width*nfig,height))\n",
    "plt.subplots_adjust(hspace=0.4)\n",
    "\n",
    "suptitle = fr\"$Velocities\\ v_{0}\\ of\\ the\\ leading\\ car,\\ using\\ {NUM_ITER}\\ iter$\"\n",
    "fig.suptitle(suptitle, fontsize=30, y=1.075)\n",
    "\n",
    "ms2kmh = 3.6\n",
    "\n",
    "for ax, d in zip(axes.ravel(), DOE):\n",
    "\n",
    "    # get the right df\n",
    "    info_dataset = info_alldataset.loc[info_alldataset['DOE'].isin([d])]\n",
    "    \n",
    "    for _, scn in info_dataset.iterrows():\n",
    "\n",
    "        # Convert velocities to km/h\n",
    "        v0_scn_mean_kmh = scn['v0_scn_mean']*ms2kmh\n",
    "\n",
    "        # For each scene, plot v0 mean (averagin over iterations)\n",
    "        ax.scatter(scn['N. file'], v0_scn_mean_kmh, alpha = .2, color = 'darkblue');\n",
    "\n",
    "    # For a dataset, plot v0 mean (averaging v0 mean in all the scenes)\n",
    "    info_grouped = info_dataset.groupby(['N. file']).mean(numeric_only=True)\n",
    "    for nf, p in info_grouped.iterrows():\n",
    "        ax.plot(nf, p['v0_scn_mean']*ms2kmh, color = 'r', marker=\"x\")\n",
    "\n",
    "    # Plot v0 mean over all dfs\n",
    "    alldfs = [a for a, _ in info_grouped.iterrows()]\n",
    "    v0_mean_alldfs = info_grouped['v0_scn_mean'].mean()*ms2kmh\n",
    "    ax.plot(alldfs, [v0_mean_alldfs]*len(alldfs), color = 'r')\n",
    "        \n",
    "    ax.set_xlabel(r\"$data set$\",fontsize=14)\n",
    "    ax.set_ylabel(r\"$v_{0}\\ [km/h]$\",fontsize=14)\n",
    "    ax.set_title(fr\"$NN\\ structure\\ {d}$\",fontsize=20)\n",
    "\n",
    "    # Limits\n",
    "    xlim = [0.75,10.25]\n",
    "    ax.set_xlim(xlim)\n",
    "    ax.set_xticks(range(1,11))\n",
    "    ylim = ax.get_ylim()\n",
    "\n",
    "    ax.grid(color='grey', linestyle='-', linewidth=0.5);\n",
    "    \n",
    "plt.show()"
   ]
  },
  {
   "cell_type": "code",
   "execution_count": null,
   "id": "63db607c",
   "metadata": {},
   "outputs": [],
   "source": [
    "# Save figure\n",
    "if flag_save:\n",
    "\n",
    "    title = f\"/v0_df{df_seen_str}_{NUM_ITER}it_NN-ALL\"     \n",
    "    fig.savefig(path+title+ext, bbox_inches='tight')"
   ]
  },
  {
   "cell_type": "markdown",
   "id": "ee716c26",
   "metadata": {},
   "source": [
    "### Plot comparing"
   ]
  },
  {
   "cell_type": "code",
   "execution_count": null,
   "id": "469c362c",
   "metadata": {},
   "outputs": [],
   "source": [
    "# Initialize the figure\n",
    "width, height = 7, 5\n",
    "fig, ax = plt.subplots(figsize=(width,height))\n",
    "\n",
    "ms2kmh = 3.6\n",
    "\n",
    "palette = ['black', 'royalblue', 'coral']\n",
    "\n",
    "for step, d in enumerate(DOE):   \n",
    "        \n",
    "    # get the right df\n",
    "    info_dataset = info_alldataset.loc[info_alldataset['DOE'].isin([d])]\n",
    "    color = palette[step]\n",
    "\n",
    "    # For a dataset, plot v0 mean (averaging v0 mean in all the scenes)\n",
    "    info_grouped = info_dataset.groupby(['N. file']).mean(numeric_only=True)\n",
    "    for nf, p in info_grouped.iterrows():\n",
    "        ax.scatter(nf, p['v0_scn_mean']*ms2kmh, facecolors='none', edgecolors=color)\n",
    "\n",
    "    # Plot v0 mean over all dfs\n",
    "    alldfs = [a for a, _ in info_grouped.iterrows()]\n",
    "    v0_mean_alldfs = info_grouped['v0_scn_mean'].mean()*ms2kmh\n",
    "    ax.plot(alldfs, [v0_mean_alldfs]*len(alldfs), color = color, label=str(d))\n",
    "\n",
    "ax.set_xlabel(r\"$data set$\",fontsize=14)\n",
    "ax.set_ylabel(r\"$v_{0}\\ [km/h]$\",fontsize=14)\n",
    "ax.set_title(fr\"$Velocities\\ v_{0}\\ of\\ the\\ leading\\ car, with\\ {NUM_ITER}\\ iter$\",fontsize=14)\n",
    "\n",
    "xlim = [0.75,10.25]\n",
    "ax.set_xlim(xlim)\n",
    "ax.set_xticks(range(1,11))\n",
    "ylim = ax.get_ylim()\n",
    "\n",
    "ax.legend()\n",
    "ax.grid(color='grey', linestyle='-', linewidth=0.5);\n",
    "\n",
    "plt.show()"
   ]
  },
  {
   "cell_type": "code",
   "execution_count": null,
   "id": "25d431b1",
   "metadata": {},
   "outputs": [],
   "source": [
    "# Save figure\n",
    "if flag_save:\n",
    "\n",
    "    title = f\"/v0_df{df_seen_str}_{NUM_ITER}iter_NN-ALL-comparing\"\n",
    "    fig.savefig(path+title+ext, bbox_inches='tight')"
   ]
  }
 ],
 "metadata": {
  "kernelspec": {
   "display_name": "Python 3 (ipykernel)",
   "language": "python",
   "name": "python3"
  },
  "language_info": {
   "codemirror_mode": {
    "name": "ipython",
    "version": 3
   },
   "file_extension": ".py",
   "mimetype": "text/x-python",
   "name": "python",
   "nbconvert_exporter": "python",
   "pygments_lexer": "ipython3",
   "version": "3.10.9"
  }
 },
 "nbformat": 4,
 "nbformat_minor": 5
}
