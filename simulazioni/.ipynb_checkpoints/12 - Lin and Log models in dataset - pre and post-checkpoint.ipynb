{
 "cells": [
  {
   "cell_type": "code",
   "execution_count": null,
   "id": "529206ff",
   "metadata": {},
   "outputs": [],
   "source": [
    "## Libraries\n",
    "import os\n",
    "import sys\n",
    "import numpy as np\n",
    "import matplotlib.pyplot as plt\n",
    "from sklearn.metrics import mean_squared_error\n",
    "from datetime import datetime\n",
    "\n",
    "# To enable LaTeX and select a font\n",
    "plt.rcParams.update({\n",
    "    \"text.usetex\": True,\n",
    "    \"font.family\": \"sans-serif\",\n",
    "    \"font.sans-serif\": \"Helvetica\",\n",
    "})\n",
    "\n",
    "# Using ipynb import functions defined in other nb\n",
    "sys.path.append(\"myfun/\")\n",
    "from ipynb.fs.defs.myfun_load_dataset import *\n",
    "from ipynb.fs.defs.myfun_models import *"
   ]
  },
  {
   "cell_type": "markdown",
   "id": "71cb4624",
   "metadata": {},
   "source": [
    "## Data Acquisition"
   ]
  },
  {
   "cell_type": "code",
   "execution_count": null,
   "id": "094aa44b",
   "metadata": {},
   "outputs": [],
   "source": [
    "# Load the dataset\n",
    "par_dir = os.path.dirname(os.getcwd()) # parent dir\n",
    "dir_name = par_dir + \"/NN-interaction\""
   ]
  },
  {
   "cell_type": "markdown",
   "id": "7360189c",
   "metadata": {},
   "source": [
    "## Solve Lin/Log models in a df"
   ]
  },
  {
   "cell_type": "code",
   "execution_count": null,
   "id": "4e89998f",
   "metadata": {},
   "outputs": [],
   "source": [
    "flag_save = False"
   ]
  },
  {
   "cell_type": "code",
   "execution_count": null,
   "id": "7c847d65",
   "metadata": {},
   "outputs": [],
   "source": [
    "l = []\n",
    "for flag_processed in ['pre', 'post']:\n",
    "\n",
    "    # Load the desired dflist\n",
    "    _, dflist = load_dataset(dir_name, flag_processed)\n",
    "    \n",
    "    # Compute\n",
    "    tmp = solve_TD_LWR_dataset(dflist, TD_LWR_model, v0=30, L=5, deltat=0.05, tol=1e-8, pplot=False)\n",
    "    tmp['processed'] = [flag_processed] * tmp.shape[0]\n",
    "    \n",
    "    l.append(tmp)\n",
    "    \n",
    "info_alldataset = pd.concat(l)"
   ]
  },
  {
   "cell_type": "code",
   "execution_count": null,
   "id": "5f761bf5",
   "metadata": {},
   "outputs": [],
   "source": [
    "info_alldataset"
   ]
  },
  {
   "cell_type": "code",
   "execution_count": null,
   "id": "7085e62b",
   "metadata": {},
   "outputs": [],
   "source": [
    "info_alldataset.groupby(['LWR_flag','N. file']).mean(numeric_only=True)"
   ]
  },
  {
   "cell_type": "markdown",
   "id": "1d1ec094",
   "metadata": {},
   "source": [
    "## Prepare the out dir"
   ]
  },
  {
   "cell_type": "code",
   "execution_count": null,
   "id": "08be250c",
   "metadata": {},
   "outputs": [],
   "source": [
    "# Create the directory..\n",
    "if flag_save:\n",
    "    \n",
    "    ext = \".svg\"\n",
    "    \n",
    "    df_seen = [df['N. file'][0] for df in dflist]\n",
    "    df_seen_str = '-'.join(str(x) for x in df_seen)\n",
    "    \n",
    "    # Create directory where to save the image\n",
    "    now = datetime.now() \n",
    "    d = now.strftime(f\"%Y-%m-%d_%H-%M-%S_df{df_seen_str}-LINLOG-POST\")\n",
    "    \n",
    "    path = 'out/' + d\n",
    "    os.mkdir(path)\n",
    "    \n",
    "    # Save the solution in a file\n",
    "    namefile = '/info_alldataset.txt'\n",
    "\n",
    "    with open(path + namefile, 'w') as output:\n",
    "        info_alldataset.to_csv(path + namefile, sep=',', index=False)"
   ]
  },
  {
   "cell_type": "markdown",
   "id": "e05b3267",
   "metadata": {},
   "source": [
    "## Plot"
   ]
  },
  {
   "cell_type": "code",
   "execution_count": null,
   "id": "4365c105",
   "metadata": {
    "scrolled": true
   },
   "outputs": [],
   "source": [
    "ms2kmh = 3.6\n",
    "\n",
    "# Initialize the figure\n",
    "width, height = 7, 5\n",
    "fig, ax = plt.subplots(figsize=(width,height))\n",
    "\n",
    "lin_color, log_color = 'gold', 'olive'\n",
    "\n",
    "# For all df\n",
    "for key, grp in info_alldataset.groupby(['LWR_flag','N. file']):\n",
    "    tmp = grp.mean(numeric_only=True)\n",
    "    nf = key[1]\n",
    "    match key[0]:\n",
    "        case 'Lin':\n",
    "            ax.plot(nf, tmp['v0_scn']*ms2kmh, color = lin_color, marker=\"x\")\n",
    "        case 'Log':\n",
    "            ax.plot(nf, tmp['v0_scn']*ms2kmh, color = log_color, marker=\"x\")\n",
    "\n",
    "# mean line\n",
    "for key, grp in info_alldataset.groupby('LWR_flag'):\n",
    "    tmp = grp.mean(numeric_only=True)\n",
    "    \n",
    "    xrange = [i for i in range(1,11)]\n",
    "    yval = [tmp['v0_scn']*ms2kmh] * len(xrange) \n",
    "    match key:\n",
    "        case 'Lin':\n",
    "            ax.plot(xrange, yval, color = lin_color, label = key)\n",
    "        case 'Log':\n",
    "            ax.plot(xrange, yval, color = log_color,  label = key)\n",
    "\n",
    "xlim = [0.75,10.25]\n",
    "ax.set_xlim(xlim)\n",
    "ax.set_xticks(range(1,11))\n",
    "ylim = ax.get_ylim()\n",
    "\n",
    "ax.set_xlabel(r\"$data set$\",fontsize=14)\n",
    "ax.set_ylabel(r\"$v_{0}\\ [km/h]$\",fontsize=14)\n",
    "ax.set_title(fr\"$Velocities\\ v_{0}\\ of\\ the\\ leading\\ car$\",fontsize=14)\n",
    "ax.legend()\n",
    "\n",
    "plt.show()"
   ]
  },
  {
   "cell_type": "code",
   "execution_count": null,
   "id": "8ce07851",
   "metadata": {},
   "outputs": [],
   "source": [
    "# Save figure\n",
    "if flag_save:\n",
    "\n",
    "    title = f\"/v0_df{df_seen_str}_1\"     \n",
    "    fig.savefig(path+title+ext, bbox_inches='tight')"
   ]
  }
 ],
 "metadata": {
  "kernelspec": {
   "display_name": "Python 3 (ipykernel)",
   "language": "python",
   "name": "python3"
  },
  "language_info": {
   "codemirror_mode": {
    "name": "ipython",
    "version": 3
   },
   "file_extension": ".py",
   "mimetype": "text/x-python",
   "name": "python",
   "nbconvert_exporter": "python",
   "pygments_lexer": "ipython3",
   "version": "3.10.9"
  }
 },
 "nbformat": 4,
 "nbformat_minor": 5
}
