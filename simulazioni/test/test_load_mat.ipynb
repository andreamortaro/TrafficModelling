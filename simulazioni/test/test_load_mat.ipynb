{
 "cells": [
  {
   "cell_type": "code",
   "execution_count": 1,
   "id": "c59bb6f9",
   "metadata": {},
   "outputs": [],
   "source": [
    "# Python libraries\n",
    "import os\n",
    "from scipy.io import loadmat\n",
    "import pandas as pd\n",
    "import numpy as np\n",
    "import itertools"
   ]
  },
  {
   "cell_type": "markdown",
   "id": "ed7b562f",
   "metadata": {},
   "source": [
    "## Some info about the dataset\n",
    "\n",
    "We have one-dimensional traffic data (x-coordinate) and the data contain 3+ vehicles in one lane.\n",
    "\n",
    "First, we interpolate the position data with timestamps to a\n",
    "reference time discretization. We filtered sequences of data where two or more vehicles are present in the camera frame. This yields a database with various sequences of different length and with different number of vehicles.\n",
    "\n",
    "### How to read these filenames?\n",
    "* The first number refers to the camera (1,...,5)\n",
    "* The second number is the day\n",
    "* The third number refers to the sequence\n",
    "\n",
    "### What do .mat files contain?\n",
    "These .mat files contain a cell array with several struct objects, each of these structs contains position and timestamps for the cars involved in that sequence.\n",
    "\n",
    "### Observation\n",
    "* sequence_data_1-1_1 is preprocessed\n",
    "* sequence_data1-1_1 is postprocessed"
   ]
  },
  {
   "cell_type": "markdown",
   "id": "2362d7a0",
   "metadata": {},
   "source": [
    "## Loading .mat files"
   ]
  },
  {
   "cell_type": "code",
   "execution_count": 19,
   "id": "90c4f95c",
   "metadata": {},
   "outputs": [],
   "source": [
    "par_dir = os.path.dirname(os.path.dirname(os.getcwd())) # parent dir of the actual one\n",
    "dir_name = par_dir + \"/NN-interaction\"\n",
    "base_filename = \"sequence_data1-1_1\"\n",
    "suffix = '.mat'\n",
    "pathfile = os.path.join(dir_name, base_filename + suffix)"
   ]
  },
  {
   "cell_type": "code",
   "execution_count": 20,
   "id": "1b8e7821",
   "metadata": {},
   "outputs": [],
   "source": [
    "mat = loadmat(pathfile) #The loadmat method returns a python dictionary (as data struct)."
   ]
  },
  {
   "cell_type": "markdown",
   "id": "e2006589",
   "metadata": {},
   "source": [
    "## Formatting the data"
   ]
  },
  {
   "cell_type": "code",
   "execution_count": 4,
   "id": "b169180c",
   "metadata": {
    "scrolled": true
   },
   "outputs": [
    {
     "data": {
      "text/plain": [
       "{'__header__': b'MATLAB 5.0 MAT-file, Platform: GLNXA64, Created on: Wed Aug 18 16:20:03 2021',\n",
       " '__version__': '1.0',\n",
       " '__globals__': [],\n",
       " 'sequences': array([[array([[(array([[29.37332567, 34.22142943, 38.50653306, 43.68772327, 39.53432096,\n",
       "                         42.9844338 ],\n",
       "                        [58.35845393, 63.04878549, 67.56118147, 73.20173178, 49.09293513,\n",
       "                         56.45433487],\n",
       "                        [60.14504406, 65.53744755, 70.75192501, 78.36474838, 79.44444985,\n",
       "                         86.59041956]]), array([[ 9.44,  9.64,  9.84, 10.04, 10.24, 10.44]]))]],\n",
       "               dtype=[('Xarr', 'O'), ('Tarr', 'O')])                                            ],\n",
       "        [array([[(array([[47.39131046, 53.82017734, 60.3346048 ],\n",
       "                        [51.39004619, 55.54426992, 60.39859453],\n",
       "                        [71.53057024, 77.25613794, 82.38676944]]), array([[14.24, 14.44, 14.64]]))]],\n",
       "               dtype=[('Xarr', 'O'), ('Tarr', 'O')])                                                 ],\n",
       "        [array([[(array([[39.20354853, 44.53373068, 50.34401771, 56.15430475, 61.56970303,\n",
       "                         66.98510131],\n",
       "                        [46.59381456, 51.92406617, 57.81944964, 63.71483312, 68.67528654,\n",
       "                         73.63573996],\n",
       "                        [67.1031215 , 73.22570523, 79.22237926, 86.72138461, 92.25823097,\n",
       "                         97.64116926]]), array([[23.64, 23.84, 24.04, 24.24, 24.44, 24.64]]))]],\n",
       "               dtype=[('Xarr', 'O'), ('Tarr', 'O')])                                            ],\n",
       "        [array([[(array([[ 2.73338702,  7.90338948, 13.9034021 , 18.65342471, 24.63347589,\n",
       "                         29.64354379],\n",
       "                        [24.60125514, 30.82135453, 37.58550949, 42.82367164, 48.24589489,\n",
       "                         53.87817929],\n",
       "                        [57.93441825, 64.33488214, 68.2252129 , 75.37592642, 80.62158589,\n",
       "                         85.86724536]]), array([[72.44, 72.64, 72.84, 73.04, 73.24, 73.44]]))]],\n",
       "               dtype=[('Xarr', 'O'), ('Tarr', 'O')])                                            ],\n",
       "        [array([[(array([[21.74922515, 27.63729639, 33.0393944 , 38.55953386],\n",
       "                        [30.53274927, 35.22884433, 40.08497981, 46.61521661],\n",
       "                        [72.12361339, 78.65231978, 84.23804759, 88.87371148]]), array([[84.24, 84.44, 84.64, 84.84]]))]],\n",
       "               dtype=[('Xarr', 'O'), ('Tarr', 'O')])                                                                     ],\n",
       "        [array([[(array([[29.92533961, 36.08548747, 42.117647  ],\n",
       "                        [32.50621833, 38.32835337, 43.94254888],\n",
       "                        [68.80830847, 74.91390935, 79.76844317]]), array([[131.64, 131.84, 132.04]]))]],\n",
       "               dtype=[('Xarr', 'O'), ('Tarr', 'O')])                                                    ],\n",
       "        [array([[(array([[48.20188876, 52.58811573, 57.22339205],\n",
       "                        [61.00463006, 66.18503637, 72.82565786],\n",
       "                        [73.44573965, 78.82936684, 84.63510644]]), array([[148.04, 148.24, 148.44]]))]],\n",
       "               dtype=[('Xarr', 'O'), ('Tarr', 'O')])                                                    ],\n",
       "        [array([[(array([[28.43130969, 34.76343487, 40.75560069],\n",
       "                        [35.84145807, 40.98162776, 46.44181713],\n",
       "                        [66.68112381, 74.04684652, 80.14249034]]), array([[161.64, 161.84, 162.04]]))]],\n",
       "               dtype=[('Xarr', 'O'), ('Tarr', 'O')])                                                    ],\n",
       "        [array([[(array([[ 1.67315327,  7.26315606, 12.60316719, 17.84319184],\n",
       "                        [29.8673355 , 36.37347718, 42.65966924, 48.18188973],\n",
       "                        [69.96041499, 75.51594211, 84.92711358, 88.35761055]]), array([[164.04, 164.24, 164.44, 164.64]]))]],\n",
       "               dtype=[('Xarr', 'O'), ('Tarr', 'O')])                                                                         ],\n",
       "        [array([[(array([[ 7.56715783, 13.42317201, 19.23320491],\n",
       "                        [33.0153937 , 39.96357861, 46.73782678],\n",
       "                        [66.04304808, 73.52774137, 81.04862208]]), array([[215.64, 215.84, 216.04]]))]],\n",
       "               dtype=[('Xarr', 'O'), ('Tarr', 'O')])                                                    ],\n",
       "        [array([[(array([[23.00124099, 30.50534908, 38.47153995],\n",
       "                        [37.4235057 , 44.24973077, 51.01202849],\n",
       "                        [68.22328745, 75.85900892, 81.49866117]]), array([[216.64, 216.84, 217.04]]))]],\n",
       "               dtype=[('Xarr', 'O'), ('Tarr', 'O')])                                                    ],\n",
       "        [array([[(array([[ 49.73996871,  55.69228375,  54.30820357,  60.20657535,\n",
       "                          42.72366368],\n",
       "                        [ 74.92388597,  80.98260075,  60.5406058 ,  67.54518006,\n",
       "                          65.20896688],\n",
       "                        [ 77.08012808,  82.36880538,  87.33447252,  93.68854118,\n",
       "                         100.38971023]]), array([[235.84, 236.04, 236.24, 236.44, 236.64]]))]],\n",
       "               dtype=[('Xarr', 'O'), ('Tarr', 'O')])                                           ],\n",
       "        [array([[(array([[37.36149996, 43.06968178, 49.74196838],\n",
       "                        [72.75365783, 77.67818823, 84.69310597],\n",
       "                        [81.26168384, 87.93759368, 94.592636  ]]), array([[240.64, 240.84, 241.04]]))]],\n",
       "               dtype=[('Xarr', 'O'), ('Tarr', 'O')])                                                    ],\n",
       "        [array([[(array([[26.83550775, 32.19759205, 38.49774491],\n",
       "                        [44.53373124, 50.15397651, 57.2244277 ],\n",
       "                        [73.06370637, 78.35930221, 84.25303821]]), array([[253.64, 253.84, 254.04]]))]],\n",
       "               dtype=[('Xarr', 'O'), ('Tarr', 'O')])                                                    ],\n",
       "        [array([[(array([[34.13341557, 41.48362137, 45.61377403, 53.67416089, 60.09456424,\n",
       "                         63.64482752],\n",
       "                        [39.81100209, 46.72529668, 53.67765977, 58.46797303, 63.96240975,\n",
       "                         72.65327229],\n",
       "                        [53.35816516, 60.77867344, 68.4692518 , 76.47205455, 81.51066381,\n",
       "                         87.35347528]]), array([[262.64, 262.84, 263.04, 263.24, 263.44, 263.64]]))]],\n",
       "               dtype=[('Xarr', 'O'), ('Tarr', 'O')])                                                  ],\n",
       "        [array([[(array([[ 40.28558997,  46.24181664,  51.56207023,  57.44442012,\n",
       "                          31.57136478,  36.75748279],\n",
       "                        [ 65.89501023,  72.60563323,  78.63135429,  84.65707535,\n",
       "                          64.16991446,  70.21341956],\n",
       "                        [ 70.16342271,  76.20905975,  81.90072988,  87.06144964,\n",
       "                          92.39335232, 100.12962928]]), array([[312.84, 313.04, 313.24, 313.44, 313.64, 313.84]]))]],\n",
       "               dtype=[('Xarr', 'O'), ('Tarr', 'O')])                                                                 ],\n",
       "        [array([[(array([[14.49940545, 20.42343896, 26.44750029, 31.64558074, 37.43571055],\n",
       "                        [50.3779938 , 56.68735627, 63.15283728, 69.35732246, 75.33496939],\n",
       "                        [67.92920197, 73.20973124, 78.3402787 , 86.53147045, 95.48782328]]), array([[314.84, 315.04, 315.24, 315.44, 315.64]]))]],\n",
       "               dtype=[('Xarr', 'O'), ('Tarr', 'O')])                                                                                              ],\n",
       "        [array([[(array([[31.50536204, 37.31749924, 42.99167776, 49.13196411, 55.41727572,\n",
       "                         61.01066274, 66.43106862],\n",
       "                        [37.23630888, 43.00648393, 49.36674014, 53.88696777, 60.3924182 ,\n",
       "                         66.89786863, 72.2433981 ],\n",
       "                        [46.74184727, 53.33717839, 59.01050336, 63.30081909, 68.99733745,\n",
       "                         76.80315977, 84.17902752]]), array([[325.24, 325.44, 325.64, 325.84, 326.04, 326.24, 326.44]]))]],\n",
       "               dtype=[('Xarr', 'O'), ('Tarr', 'O')])                                                                       ],\n",
       "        [array([[(array([[63.23479705, 69.4553278 , 49.98597374, 56.40233573],\n",
       "                        [65.50282635, 70.04724802, 75.38777917, 81.97655199],\n",
       "                        [65.84100849, 71.26950657, 78.66031695, 85.51320603]]), array([[333.24, 333.44, 333.64, 333.84]]))]],\n",
       "               dtype=[('Xarr', 'O'), ('Tarr', 'O')])                                                                         ],\n",
       "        [array([[(array([[48.58337263, 54.53771106, 61.61421494, 66.89509714],\n",
       "                        [49.9139655 , 56.34431859, 61.6546774 , 67.05667773],\n",
       "                        [67.01314733, 73.98383271, 80.37854353, 85.90929251]]), array([[354.04, 354.24, 354.44, 354.64]]))]],\n",
       "               dtype=[('Xarr', 'O'), ('Tarr', 'O')])                                                                         ],\n",
       "        [array([[(array([[22.83345733, 27.56351237, 32.83139203, 38.87954713],\n",
       "                        [28.32730719, 34.03741997, 40.76960723, 46.75782816],\n",
       "                        [73.24271281, 81.68669932, 88.97177975, 95.77785316]]), array([[363.44, 363.64, 363.84, 364.04]]))]],\n",
       "               dtype=[('Xarr', 'O'), ('Tarr', 'O')])                                                                         ],\n",
       "        [array([[(array([[27.96329849, 33.59340339, 40.39358563, 46.89886563, 53.40414562],\n",
       "                        [29.43132683, 36.26348027, 44.04572182, 50.8460242 , 58.7184923 ],\n",
       "                        [51.07402836, 59.59054378, 66.90910629, 74.41390386, 82.07476067]]), array([[386.64, 386.84, 387.04, 387.24, 387.44]]))]],\n",
       "               dtype=[('Xarr', 'O'), ('Tarr', 'O')])                                                                                              ],\n",
       "        [array([[(array([[33.57140921, 39.74956987, 47.69587297],\n",
       "                        [48.43508042, 54.73341419, 60.00875738],\n",
       "                        [79.49944098, 84.80512443, 92.24425451]]), array([[431.84, 432.04, 432.24]]))]],\n",
       "               dtype=[('Xarr', 'O'), ('Tarr', 'O')])                                                    ],\n",
       "        [array([[(array([[17.08434134, 22.26237728, 27.87244053, 33.26053154],\n",
       "                        [29.59132804, 34.25142021, 39.79557103, 45.35576767],\n",
       "                        [62.54475553, 68.58525356, 74.23581767, 80.27851038]]), array([[446.24, 446.44, 446.64, 446.84]]))]],\n",
       "               dtype=[('Xarr', 'O'), ('Tarr', 'O')])                                                                         ],\n",
       "        [array([[(array([[45.01376376, 51.2280353 , 58.76448587, 63.81684607],\n",
       "                        [49.5350514 , 55.39734839, 60.2976512 , 64.43995002],\n",
       "                        [63.13879414, 69.41933091, 75.94599922, 83.15288449]]), array([[447.44, 447.64, 447.84, 448.04]]))]],\n",
       "               dtype=[('Xarr', 'O'), ('Tarr', 'O')])                                                                         ],\n",
       "        [array([[(array([[39.78329433, 44.40945119, 49.05564865],\n",
       "                        [71.34368703, 74.05896217, 77.31133166],\n",
       "                        [77.21514684, 81.46868304, 87.09946656]]), array([[495.84, 496.04, 496.24]]))]],\n",
       "               dtype=[('Xarr', 'O'), ('Tarr', 'O')])                                                    ],\n",
       "        [array([[(array([[32.92039697, 36.81548784, 39.50455991, 43.20369183, 47.39586199],\n",
       "                        [53.80017695, 57.21037827, 61.23566343, 65.67100449, 68.42623131],\n",
       "                        [60.06827863, 65.78271233, 70.81715681, 73.61543767, 77.39985142]]), array([[496.84, 497.04, 497.24, 497.44, 497.64]]))]],\n",
       "               dtype=[('Xarr', 'O'), ('Tarr', 'O')])                                                                                              ],\n",
       "        [array([[(array([[45.16576677, 49.93397447, 55.31826032],\n",
       "                        [70.13439753, 73.19969906, 77.17715124],\n",
       "                        [77.54219953, 81.51666468, 84.26703216]]), array([[499.04, 499.24, 499.44]]))]],\n",
       "               dtype=[('Xarr', 'O'), ('Tarr', 'O')])                                                    ],\n",
       "        [array([[(array([[36.49947975, 39.73956941, 43.51970441],\n",
       "                        [43.06422892, 46.29135469, 49.82650536],\n",
       "                        [74.39683215, 77.10012388, 79.11036206]]), array([[500.64, 500.84, 501.04]]))]],\n",
       "               dtype=[('Xarr', 'O'), ('Tarr', 'O')])                                                    ],\n",
       "        [array([[(array([[33.19840612, 37.39349713, 41.00861595, 44.62373478, 48.95209817],\n",
       "                        [37.18466714, 39.99274887, 42.95084781, 45.7869566 , 49.12392723],\n",
       "                        [66.18904415, 69.06629584, 72.57164616, 75.87998555, 78.40028118]]), array([[502.24, 502.44, 502.64, 502.84, 503.04]]))]],\n",
       "               dtype=[('Xarr', 'O'), ('Tarr', 'O')])                                                                                              ],\n",
       "        [array([[(array([[34.71300812, 36.49965515, 38.19470972],\n",
       "                        [40.14357858, 44.21772188, 50.54600287],\n",
       "                        [72.71564467, 78.43627653, 84.84710222]]), array([[534.84, 535.04, 535.24]]))]],\n",
       "               dtype=[('Xarr', 'O'), ('Tarr', 'O')])                                                    ],\n",
       "        [array([[(array([[42.76867897, 46.7838224 , 49.47395045, 52.1640785 ],\n",
       "                        [56.8565305 , 59.60570332, 61.99086738, 64.1910352 ],\n",
       "                        [80.39402663, 82.26177037, 84.12951412, 85.99725787]]), array([[573.84, 574.04, 574.24, 574.44]]))]],\n",
       "               dtype=[('Xarr', 'O'), ('Tarr', 'O')])                                                                         ],\n",
       "        [array([[(array([[33.53416674, 23.79897821, 29.51705758],\n",
       "                        [43.68772327, 39.53432096, 42.9844338 ],\n",
       "                        [73.20173178, 49.09293513, 56.45433487],\n",
       "                        [78.36474838, 79.44444985, 86.59041956]]), array([[10.04, 10.24, 10.44]]))]],\n",
       "               dtype=[('Xarr', 'O'), ('Tarr', 'O')])                                                 ],\n",
       "        [array([[(array([[ 25.39326599,  14.14917408,  19.41720477],\n",
       "                        [ 57.44442012,  31.57136478,  36.75748279],\n",
       "                        [ 84.65707535,  64.16991446,  70.21341956],\n",
       "                        [ 87.06144964,  92.39335232, 100.12962928]]), array([[313.44, 313.64, 313.84]]))]],\n",
       "               dtype=[('Xarr', 'O'), ('Tarr', 'O')])                                                       ]],\n",
       "       dtype=object)}"
      ]
     },
     "execution_count": 4,
     "metadata": {},
     "output_type": "execute_result"
    }
   ],
   "source": [
    "mat"
   ]
  },
  {
   "cell_type": "markdown",
   "id": "38b15991",
   "metadata": {},
   "source": [
    "## Convert into a pandas data frame"
   ]
  },
  {
   "cell_type": "code",
   "execution_count": null,
   "id": "e77ba0c0",
   "metadata": {},
   "outputs": [],
   "source": [
    "mat.keys()"
   ]
  },
  {
   "cell_type": "code",
   "execution_count": null,
   "id": "95061362",
   "metadata": {
    "scrolled": true
   },
   "outputs": [],
   "source": [
    "type(mat['sequences']), mat['sequences'].shape, mat['sequences'][0].shape"
   ]
  },
  {
   "cell_type": "markdown",
   "id": "d8b3bbec",
   "metadata": {},
   "source": [
    "The struct of mat['sequences'] is given by:\n",
    "* (136, 1) means that we have 136 sequences\n",
    "* each sequence is made by two arrays: one corresponds to the x-positions of 2+ vehicles, the other to the corresponding timestamps."
   ]
  },
  {
   "cell_type": "code",
   "execution_count": null,
   "id": "3073147a",
   "metadata": {},
   "outputs": [],
   "source": [
    "matrix = mat['sequences']\n",
    "Xarr, Tarr, data = [],[], []\n",
    "nseq = matrix.shape[0]\n",
    "\n",
    "for seq in range(0,nseq):\n",
    "    tmp = matrix[seq][0][0][0]\n",
    "    Xarr.append(tmp[0].tolist())\n",
    "    Tarr.append(tmp[1][0].tolist())\n",
    "\n",
    "    sequence = []\n",
    "    for j in range(0,len(Xarr[seq])):\n",
    "        l1, l2 = Xarr[seq][j], Tarr[seq]\n",
    "        scene = [] # for each vehicles of a sequence I have a scene\n",
    "        for a,b in zip(l1,l2):\n",
    "            scene.append([a,b]) # couple (xpos, time)\n",
    "        sequence.append(scene)\n",
    "    data.append(sequence)\n",
    "    \n",
    "# attenzione che c'è qualche pos = 0 da rimuovere"
   ]
  },
  {
   "cell_type": "code",
   "execution_count": null,
   "id": "0ee2f94a",
   "metadata": {},
   "outputs": [],
   "source": [
    "len(data), len(Xarr), len(Tarr)"
   ]
  },
  {
   "cell_type": "code",
   "execution_count": null,
   "id": "8c7274d1",
   "metadata": {
    "scrolled": true
   },
   "outputs": [],
   "source": [
    "len(data[0])"
   ]
  },
  {
   "cell_type": "code",
   "execution_count": null,
   "id": "7396460b",
   "metadata": {},
   "outputs": [],
   "source": [
    "columns = [\"ciao\"]\n",
    "df = pd.DataFrame(data)"
   ]
  },
  {
   "cell_type": "code",
   "execution_count": null,
   "id": "4f814aa0",
   "metadata": {},
   "outputs": [],
   "source": [
    "df\n",
    "# columns are vehicles\n",
    "# rows are scene\n",
    "# each entry is the couple (x,t) of the vehicles j in the sequence i"
   ]
  },
  {
   "cell_type": "code",
   "execution_count": null,
   "id": "04f688f6",
   "metadata": {},
   "outputs": [],
   "source": [
    "print(\"There are\",df.isnull().sum().sum(),\"missing values in total.\")"
   ]
  },
  {
   "cell_type": "code",
   "execution_count": null,
   "id": "0968ef6e",
   "metadata": {},
   "outputs": [],
   "source": [
    "df[0][0]"
   ]
  }
 ],
 "metadata": {
  "kernelspec": {
   "display_name": "Python 3 (ipykernel)",
   "language": "python",
   "name": "python3"
  },
  "language_info": {
   "codemirror_mode": {
    "name": "ipython",
    "version": 3
   },
   "file_extension": ".py",
   "mimetype": "text/x-python",
   "name": "python",
   "nbconvert_exporter": "python",
   "pygments_lexer": "ipython3",
   "version": "3.10.9"
  }
 },
 "nbformat": 4,
 "nbformat_minor": 5
}
