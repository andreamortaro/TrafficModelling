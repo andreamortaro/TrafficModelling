{
 "cells": [
  {
   "cell_type": "code",
   "execution_count": null,
   "id": "c59bb6f9",
   "metadata": {},
   "outputs": [],
   "source": [
    "# Python libraries\n",
    "import os\n",
    "from scipy.io import loadmat\n",
    "import pandas as pd\n",
    "import numpy as np\n",
    "import itertools"
   ]
  },
  {
   "cell_type": "markdown",
   "id": "596646e0",
   "metadata": {},
   "source": [
    "# Load Matlab .mat files in Python\n",
    "[source](https://towardsdatascience.com/how-to-load-matlab-mat-files-in-python-1f200e1287b5)"
   ]
  },
  {
   "cell_type": "markdown",
   "id": "ed7b562f",
   "metadata": {},
   "source": [
    "## Some info about the dataset\n",
    "\n",
    "We have one-dimensional traffic data (x-coordinate) and the data contain 3+ vehicles in one lane.\n",
    "\n",
    "First, we interpolate the position data with timestamps to a\n",
    "reference time discretization. We filtered sequences of data where two or more vehicles are present in the camera frame. This yields a database with various sequences of different length and with different number of vehicles.\n",
    "\n",
    "### How to read these filenames?\n",
    "* The first number refers to the camera (1,...,5)\n",
    "* The second number is the day\n",
    "* The third number refers to the sequence\n",
    "\n",
    "### What do .mat files contain?\n",
    "These .mat files contain a cell array with several struct objects, each of these structs contains position and timestamps for the cars involved in that sequence.\n",
    "\n",
    "### Observation\n",
    "* sequence_data_1-1_1 is preprocessed\n",
    "* sequence_data1-1_1 is postprocessed"
   ]
  },
  {
   "cell_type": "markdown",
   "id": "2362d7a0",
   "metadata": {},
   "source": [
    "## Loading .mat files"
   ]
  },
  {
   "cell_type": "code",
   "execution_count": null,
   "id": "90c4f95c",
   "metadata": {},
   "outputs": [],
   "source": [
    "par_dir = os.path.dirname(os.getcwd()) # parent dir\n",
    "dir_name = par_dir + \"/NN-interaction\"\n",
    "base_filename = \"sequence_data1-1_1\"\n",
    "suffix = '.mat'\n",
    "pathfile = os.path.join(dir_name, base_filename + suffix)"
   ]
  },
  {
   "cell_type": "code",
   "execution_count": null,
   "id": "1b8e7821",
   "metadata": {},
   "outputs": [],
   "source": [
    "mat = loadmat(pathfile) #The loadmat method returns a python dictionary (as data struct)."
   ]
  },
  {
   "cell_type": "markdown",
   "id": "e2006589",
   "metadata": {},
   "source": [
    "## Formatting the data"
   ]
  },
  {
   "cell_type": "code",
   "execution_count": null,
   "id": "b169180c",
   "metadata": {
    "scrolled": true
   },
   "outputs": [],
   "source": [
    "mat"
   ]
  },
  {
   "cell_type": "markdown",
   "id": "38b15991",
   "metadata": {},
   "source": [
    "## Convert into a pandas data frame"
   ]
  },
  {
   "cell_type": "code",
   "execution_count": null,
   "id": "e77ba0c0",
   "metadata": {},
   "outputs": [],
   "source": [
    "mat.keys()"
   ]
  },
  {
   "cell_type": "code",
   "execution_count": null,
   "id": "95061362",
   "metadata": {
    "scrolled": true
   },
   "outputs": [],
   "source": [
    "type(mat['sequences']), mat['sequences'].shape, mat['sequences'][0].shape"
   ]
  },
  {
   "cell_type": "markdown",
   "id": "d8b3bbec",
   "metadata": {},
   "source": [
    "The struct of mat['sequences'] is given by:\n",
    "* (136, 1) means that we have 136 sequences\n",
    "* each sequence is made by two arrays: one corresponds to the x-positions of 2+ vehicles, the other to the corresponding timestamps."
   ]
  },
  {
   "cell_type": "code",
   "execution_count": null,
   "id": "3073147a",
   "metadata": {},
   "outputs": [],
   "source": [
    "matrix = mat['sequences']\n",
    "Xarr, Tarr, data = [],[], []\n",
    "nseq = matrix.shape[0]\n",
    "\n",
    "for seq in range(0,nseq):\n",
    "    tmp = matrix[seq][0][0][0]\n",
    "    Xarr.append(tmp[0].tolist())\n",
    "    Tarr.append(tmp[1][0].tolist())\n",
    "\n",
    "    sequence = []\n",
    "    for j in range(0,len(Xarr[seq])):\n",
    "        l1, l2 = Xarr[seq][j], Tarr[seq]\n",
    "        scene = [] # for each vehicles of a sequence I have a scene\n",
    "        for a,b in zip(l1,l2):\n",
    "            scene.append([a,b]) # couple (xpos, time)\n",
    "        sequence.append(scene)\n",
    "    data.append(sequence)\n",
    "    \n",
    "# attenzione che c'è qualche pos = 0 da rimuovere"
   ]
  },
  {
   "cell_type": "code",
   "execution_count": null,
   "id": "0ee2f94a",
   "metadata": {},
   "outputs": [],
   "source": [
    "len(data), len(Xarr), len(Tarr)"
   ]
  },
  {
   "cell_type": "code",
   "execution_count": null,
   "id": "8c7274d1",
   "metadata": {
    "scrolled": true
   },
   "outputs": [],
   "source": [
    "len(data[0])"
   ]
  },
  {
   "cell_type": "code",
   "execution_count": null,
   "id": "7396460b",
   "metadata": {},
   "outputs": [],
   "source": [
    "columns = [\"ciao\"]\n",
    "df = pd.DataFrame(data)"
   ]
  },
  {
   "cell_type": "code",
   "execution_count": null,
   "id": "4f814aa0",
   "metadata": {},
   "outputs": [],
   "source": [
    "df\n",
    "# columns are vehicles\n",
    "# rows are scene\n",
    "# each entry is the couple (x,t) of the vehicles j in the sequence i"
   ]
  },
  {
   "cell_type": "code",
   "execution_count": null,
   "id": "04f688f6",
   "metadata": {},
   "outputs": [],
   "source": [
    "print(\"There are\",df.isnull().sum().sum(),\"missing values in total.\")"
   ]
  },
  {
   "cell_type": "code",
   "execution_count": null,
   "id": "0968ef6e",
   "metadata": {},
   "outputs": [],
   "source": [
    "df[0][0]"
   ]
  },
  {
   "cell_type": "code",
   "execution_count": null,
   "id": "ea9662d3",
   "metadata": {},
   "outputs": [],
   "source": []
  }
 ],
 "metadata": {
  "kernelspec": {
   "display_name": "Python 3 (ipykernel)",
   "language": "python",
   "name": "python3"
  },
  "language_info": {
   "codemirror_mode": {
    "name": "ipython",
    "version": 3
   },
   "file_extension": ".py",
   "mimetype": "text/x-python",
   "name": "python",
   "nbconvert_exporter": "python",
   "pygments_lexer": "ipython3",
   "version": "3.10.9"
  }
 },
 "nbformat": 4,
 "nbformat_minor": 5
}
