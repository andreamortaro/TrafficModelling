{
 "cells": [
  {
   "cell_type": "markdown",
   "id": "d8f8c5f0",
   "metadata": {},
   "source": [
    "# Example\n",
    "[source](https://computationalmindset.com/en/neural-networks/experiments-with-neural-odes-in-python-with-tensorflowdiffeq.html)"
   ]
  },
  {
   "cell_type": "code",
   "execution_count": 1,
   "id": "f6061e6d",
   "metadata": {
    "scrolled": false
   },
   "outputs": [
    {
     "name": "stderr",
     "output_type": "stream",
     "text": [
      "2023-04-03 22:06:32.367855: I tensorflow/core/platform/cpu_feature_guard.cc:193] This TensorFlow binary is optimized with oneAPI Deep Neural Network Library (oneDNN) to use the following CPU instructions in performance-critical operations:  SSE4.1 SSE4.2 AVX AVX2 FMA\n",
      "To enable them in other operations, rebuild TensorFlow with the appropriate compiler flags.\n"
     ]
    }
   ],
   "source": [
    "import numpy as np\n",
    "import matplotlib.pyplot as plt\n",
    "\n",
    "import tensorflow as tf\n",
    "import tensorflow.keras.optimizers as tfko\n",
    "from tfdiffeq import odeint"
   ]
  },
  {
   "cell_type": "code",
   "execution_count": 2,
   "id": "2139aa64",
   "metadata": {},
   "outputs": [],
   "source": [
    "# !pip install --upgrade git+https://github.com/titu1994/tfdiffeq.git"
   ]
  },
  {
   "cell_type": "code",
   "execution_count": 3,
   "id": "f7765595",
   "metadata": {},
   "outputs": [],
   "source": [
    "def LWR_model_tf(t, X, args):\n",
    "\n",
    "    N, v0, L, flag = \\\n",
    "    args[0], args[1], args[2], args[3]\n",
    "    \n",
    "    # W function\n",
    "    match flag:\n",
    "        case \"Lin\":\n",
    "            W_lin = lambda z: v0*(1-1/z)\n",
    "            W = W_lin\n",
    "        case \"Log\":\n",
    "            W_log = lambda z: v0*tf.math.log(z)\n",
    "            W = W_log\n",
    "        case _:\n",
    "            return f\"No match for {flag}, you can only choose between \\\"Lin\\\" and \\\"Log\\\"\"\n",
    "\n",
    "    # ode sys\n",
    "    d_x = tf.Variable(tf.zeros(N, tf.float64))\n",
    "    \n",
    "    for i in range(0,N-1):\n",
    "        tmp = (X[i+1] - X[i])/L\n",
    "        d_x = d_x[i].assign(W(tmp))\n",
    "\n",
    "    d_x = d_x[N-1].assign(v0)\n",
    "        \n",
    "    return tf.stack(d_x)"
   ]
  },
  {
   "cell_type": "code",
   "execution_count": 4,
   "id": "fff967df",
   "metadata": {},
   "outputs": [],
   "source": [
    "def net():\n",
    "    return odeint(lambda ts, x0: LWR_model_tf(ts,x0,args), X_init, t_space_tensor)\n",
    "\n",
    "def loss_func(num_sol):\n",
    "    return tf.reduce_sum(tf.square(dataset_outs - num_sol))"
   ]
  },
  {
   "cell_type": "code",
   "execution_count": 5,
   "id": "0861fb77",
   "metadata": {},
   "outputs": [],
   "source": [
    "#true_params = [1.11, 2.43, -3.66, 1.37, 2.89, -1.97, 4.58, 2.86]\n",
    "\n",
    "t_begin=0.\n",
    "t_end=1.5\n",
    "t_nsamples=150\n",
    "t_space = np.linspace(t_begin, t_end, t_nsamples)\n",
    "t_space_tensor = tf.constant(t_space)\n",
    "\n",
    "N = 3                                       # numbers of vehicles\n",
    "v0, L = 2, 3                                # control param\n",
    "flag = \"Lin\"\n",
    "X0 = sorted(np.random.uniform(size=N)*100)  # initial condition\n",
    "X_init = tf.convert_to_tensor(X0, dtype=t_space_tensor.dtype)\n",
    "\n",
    "names = ['v0','L']\n",
    "arguments = [v0,L]\n",
    "\n",
    "args = [tf.Variable(initial_value=N, name='N', dtype=\"int32\")]\n",
    "tmp = [tf.Variable(initial_value=arguments[i], name=names[i], trainable=True,\n",
    "                    dtype=t_space_tensor.dtype) for i in range(0,len(names))]\n",
    "args.append(tmp[0])\n",
    "args.append(tmp[1])\n",
    "args.append(tf.Variable(initial_value=flag, name='flag'))"
   ]
  },
  {
   "cell_type": "code",
   "execution_count": 6,
   "id": "f816353c",
   "metadata": {},
   "outputs": [
    {
     "data": {
      "text/plain": [
       "[<tf.Variable 'N:0' shape=() dtype=int32, numpy=3>,\n",
       " <tf.Variable 'v0:0' shape=() dtype=float64, numpy=2.0>,\n",
       " <tf.Variable 'L:0' shape=() dtype=float64, numpy=3.0>,\n",
       " <tf.Variable 'flag:0' shape=() dtype=string, numpy=b'Lin'>]"
      ]
     },
     "execution_count": 6,
     "metadata": {},
     "output_type": "execute_result"
    }
   ],
   "source": [
    "args"
   ]
  },
  {
   "cell_type": "code",
   "execution_count": 7,
   "id": "5c206e0a",
   "metadata": {},
   "outputs": [],
   "source": [
    "dataset_outs = net()"
   ]
  },
  {
   "cell_type": "code",
   "execution_count": 8,
   "id": "886cbbb3",
   "metadata": {},
   "outputs": [],
   "source": [
    "learning_rate = 0.05\n",
    "epochs = 20\n",
    "optimizer = tfko.Adam(learning_rate=learning_rate)"
   ]
  },
  {
   "cell_type": "code",
   "execution_count": 9,
   "id": "92a80299",
   "metadata": {},
   "outputs": [
    {
     "name": "stdout",
     "output_type": "stream",
     "text": [
      "Epoch: 0  loss: 0.0\n",
      "Epoch: 1  loss: 0.0\n",
      "Epoch: 2  loss: 0.0\n",
      "Epoch: 3  loss: 0.0\n",
      "Epoch: 4  loss: 0.0\n",
      "Epoch: 5  loss: 0.0\n",
      "Epoch: 6  loss: 0.0\n",
      "Epoch: 7  loss: 0.0\n",
      "Epoch: 8  loss: 0.0\n",
      "Epoch: 9  loss: 0.0\n",
      "Epoch: 10  loss: 0.0\n",
      "Epoch: 11  loss: 0.0\n",
      "Epoch: 12  loss: 0.0\n",
      "Epoch: 13  loss: 0.0\n",
      "Epoch: 14  loss: 0.0\n",
      "Epoch: 15  loss: 0.0\n",
      "Epoch: 16  loss: 0.0\n",
      "Epoch: 17  loss: 0.0\n",
      "Epoch: 18  loss: 0.0\n",
      "Epoch: 19  loss: 0.0\n",
      "Learned parameters: [3, 2.0, 3.0, b'Lin']\n"
     ]
    }
   ],
   "source": [
    "for epoch in range(epochs):\n",
    "    with tf.GradientTape() as tape:\n",
    "        num_sol = net()\n",
    "        loss_value = loss_func(num_sol)\n",
    "        print(\"Epoch:\", epoch, \" loss:\", loss_value.numpy())\n",
    "\n",
    "print(\"Learned parameters:\", [args[i].numpy() for i in range(0, 4)])"
   ]
  },
  {
   "cell_type": "markdown",
   "id": "39b3e3c0",
   "metadata": {},
   "source": [
    "## Compare NN solution with the exact one"
   ]
  },
  {
   "cell_type": "code",
   "execution_count": null,
   "id": "a02949d2",
   "metadata": {},
   "outputs": [],
   "source": [
    "num_sol = net()\n",
    "x_num_sol = num_sol[:, 0].numpy()\n",
    "y_num_sol = num_sol[:, 1].numpy()\n",
    "\n",
    "x_an_sol = an_sol_x(t_space)\n",
    "y_an_sol = an_sol_y(t_space)"
   ]
  },
  {
   "cell_type": "code",
   "execution_count": null,
   "id": "4292eb20",
   "metadata": {},
   "outputs": [],
   "source": [
    "plt.figure()\n",
    "plt.plot(t_space, x_an_sol,'--', linewidth=2, label='analytical x')\n",
    "plt.plot(t_space, y_an_sol,'--', linewidth=2, label='analytical y')\n",
    "plt.plot(t_space, x_num_sol, linewidth=1, label='numerical x')\n",
    "plt.plot(t_space, y_num_sol, linewidth=1, label='numerical y')\n",
    "plt.title('Neural ODEs to fit params')\n",
    "plt.xlabel('t')\n",
    "plt.legend()\n",
    "plt.show()"
   ]
  },
  {
   "cell_type": "code",
   "execution_count": null,
   "id": "da72799d",
   "metadata": {},
   "outputs": [],
   "source": []
  }
 ],
 "metadata": {
  "kernelspec": {
   "display_name": "Python 3 (ipykernel)",
   "language": "python",
   "name": "python3"
  },
  "language_info": {
   "codemirror_mode": {
    "name": "ipython",
    "version": 3
   },
   "file_extension": ".py",
   "mimetype": "text/x-python",
   "name": "python",
   "nbconvert_exporter": "python",
   "pygments_lexer": "ipython3",
   "version": "3.10.9"
  }
 },
 "nbformat": 4,
 "nbformat_minor": 5
}
