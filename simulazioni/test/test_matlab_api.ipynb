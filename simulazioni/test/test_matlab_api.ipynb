{
 "cells": [
  {
   "cell_type": "markdown",
   "id": "c89d9f7d",
   "metadata": {},
   "source": [
    "# Start and Stop MATLAB Engine for Python\n",
    "https://www.mathworks.com/help/matlab/matlab_external/start-the-matlab-engine-for-python.html"
   ]
  },
  {
   "cell_type": "markdown",
   "id": "b1f6251c",
   "metadata": {},
   "source": [
    "### warning\n",
    "In order to execute this notebook and use this Matlab API you obviously need to have Matlab already installed on your machine. Of course, on the docker image built by binder there's no way to use Matlab."
   ]
  },
  {
   "cell_type": "code",
   "execution_count": 1,
   "id": "7d34bc61",
   "metadata": {},
   "outputs": [],
   "source": [
    "# Matlab Engine for Python API\n",
    "import matlab.engine\n",
    "eng = matlab.engine.start_matlab()"
   ]
  },
  {
   "cell_type": "code",
   "execution_count": 2,
   "id": "5398e9fd",
   "metadata": {},
   "outputs": [
    {
     "name": "stdout",
     "output_type": "stream",
     "text": [
      "/home/andrea/.local/lib/python3.10/site-packages/matlab/__init__.py\n"
     ]
    }
   ],
   "source": [
    "print(matlab.__file__) # To check which version of MATLAB was imported, in Python type:"
   ]
  },
  {
   "cell_type": "markdown",
   "id": "9b0f845b",
   "metadata": {},
   "source": [
    "## Run Multiple Engines\n",
    "Start each engine separately. Each engine starts and communicates with its own MATLAB process."
   ]
  },
  {
   "cell_type": "code",
   "execution_count": 3,
   "id": "b11d8ee8",
   "metadata": {},
   "outputs": [],
   "source": [
    "eng1 = matlab.engine.start_matlab()\n",
    "eng2 = matlab.engine.start_matlab()"
   ]
  },
  {
   "cell_type": "markdown",
   "id": "8d578947",
   "metadata": {},
   "source": [
    "## example: eigenvalues"
   ]
  },
  {
   "cell_type": "code",
   "execution_count": 4,
   "id": "d344bc6e",
   "metadata": {
    "scrolled": true
   },
   "outputs": [
    {
     "name": "stdout",
     "output_type": "stream",
     "text": [
      "V= [[0.06939950784450347,-0.4421928183150596,-0.810491018449599,0.3778273795717525],[-0.3619020163563867,0.7419860358173749,-0.18770341448628566,0.5322133795757003],[0.7693553355549394,0.04873539080548242,0.30097912769034296,0.5613633351323757],[-0.5218266058004986,-0.5015447096377738,0.46613657000656084,0.5087893432606572]] \n",
      "\n",
      "D= [[0.20775336892808532,0.0,0.0,0.0],[0.0,0.4078367277594622,0.0,0.0],[0.0,0.0,0.8482416513967361,0.0],[0.0,0.0,0.0,2.536168251915718]] \n",
      "\n",
      "The eigenvalues are [0.20775336892808532, 0.4078367277594622, 0.8482416513967361, 2.536168251915718] \n",
      "\n"
     ]
    }
   ],
   "source": [
    "eng = matlab.engine.start_matlab()\n",
    "A = [[1.0000,    0.5000,    0.3333,    0.2500],\n",
    "     [0.5000,    1.0000,    0.6667,    0.5000],\n",
    "     [0.3333,    0.6667,    1.0000,    0.7500],\n",
    "     [0.2500,    0.5000,    0.7500,    1.0000]]\n",
    "A = matlab.double(A)\n",
    "V, D = eng.eig(A, nargout=2)\n",
    "print(f\"V= {V} \\n\")\n",
    "print(f\"D= {D} \\n\")\n",
    "\n",
    "eigval = [D[i][i] for i in range(0,len(D))]\n",
    "print(f\"The eigenvalues are {eigval} \\n\")\n"
   ]
  },
  {
   "cell_type": "markdown",
   "id": "43a10ee5",
   "metadata": {},
   "source": [
    "### python representation with pandas"
   ]
  },
  {
   "cell_type": "code",
   "execution_count": 5,
   "id": "46956bf8",
   "metadata": {},
   "outputs": [],
   "source": [
    "import pandas as pd"
   ]
  },
  {
   "cell_type": "code",
   "execution_count": 6,
   "id": "eac9b0be",
   "metadata": {},
   "outputs": [],
   "source": [
    "dfV = pd.DataFrame(V)\n",
    "dfD = pd.DataFrame(D)"
   ]
  },
  {
   "cell_type": "code",
   "execution_count": 7,
   "id": "73cbef24",
   "metadata": {},
   "outputs": [
    {
     "data": {
      "text/html": [
       "<div>\n",
       "<style scoped>\n",
       "    .dataframe tbody tr th:only-of-type {\n",
       "        vertical-align: middle;\n",
       "    }\n",
       "\n",
       "    .dataframe tbody tr th {\n",
       "        vertical-align: top;\n",
       "    }\n",
       "\n",
       "    .dataframe thead th {\n",
       "        text-align: right;\n",
       "    }\n",
       "</style>\n",
       "<table border=\"1\" class=\"dataframe\">\n",
       "  <thead>\n",
       "    <tr style=\"text-align: right;\">\n",
       "      <th></th>\n",
       "      <th>0</th>\n",
       "      <th>1</th>\n",
       "      <th>2</th>\n",
       "      <th>3</th>\n",
       "    </tr>\n",
       "  </thead>\n",
       "  <tbody>\n",
       "    <tr>\n",
       "      <th>0</th>\n",
       "      <td>0.069400</td>\n",
       "      <td>-0.442193</td>\n",
       "      <td>-0.810491</td>\n",
       "      <td>0.377827</td>\n",
       "    </tr>\n",
       "    <tr>\n",
       "      <th>1</th>\n",
       "      <td>-0.361902</td>\n",
       "      <td>0.741986</td>\n",
       "      <td>-0.187703</td>\n",
       "      <td>0.532213</td>\n",
       "    </tr>\n",
       "    <tr>\n",
       "      <th>2</th>\n",
       "      <td>0.769355</td>\n",
       "      <td>0.048735</td>\n",
       "      <td>0.300979</td>\n",
       "      <td>0.561363</td>\n",
       "    </tr>\n",
       "    <tr>\n",
       "      <th>3</th>\n",
       "      <td>-0.521827</td>\n",
       "      <td>-0.501545</td>\n",
       "      <td>0.466137</td>\n",
       "      <td>0.508789</td>\n",
       "    </tr>\n",
       "  </tbody>\n",
       "</table>\n",
       "</div>"
      ],
      "text/plain": [
       "          0         1         2         3\n",
       "0  0.069400 -0.442193 -0.810491  0.377827\n",
       "1 -0.361902  0.741986 -0.187703  0.532213\n",
       "2  0.769355  0.048735  0.300979  0.561363\n",
       "3 -0.521827 -0.501545  0.466137  0.508789"
      ]
     },
     "execution_count": 7,
     "metadata": {},
     "output_type": "execute_result"
    }
   ],
   "source": [
    "dfV"
   ]
  },
  {
   "cell_type": "code",
   "execution_count": 8,
   "id": "9d0610af",
   "metadata": {},
   "outputs": [
    {
     "data": {
      "text/html": [
       "<div>\n",
       "<style scoped>\n",
       "    .dataframe tbody tr th:only-of-type {\n",
       "        vertical-align: middle;\n",
       "    }\n",
       "\n",
       "    .dataframe tbody tr th {\n",
       "        vertical-align: top;\n",
       "    }\n",
       "\n",
       "    .dataframe thead th {\n",
       "        text-align: right;\n",
       "    }\n",
       "</style>\n",
       "<table border=\"1\" class=\"dataframe\">\n",
       "  <thead>\n",
       "    <tr style=\"text-align: right;\">\n",
       "      <th></th>\n",
       "      <th>0</th>\n",
       "      <th>1</th>\n",
       "      <th>2</th>\n",
       "      <th>3</th>\n",
       "    </tr>\n",
       "  </thead>\n",
       "  <tbody>\n",
       "    <tr>\n",
       "      <th>0</th>\n",
       "      <td>0.207753</td>\n",
       "      <td>0.000000</td>\n",
       "      <td>0.000000</td>\n",
       "      <td>0.000000</td>\n",
       "    </tr>\n",
       "    <tr>\n",
       "      <th>1</th>\n",
       "      <td>0.000000</td>\n",
       "      <td>0.407837</td>\n",
       "      <td>0.000000</td>\n",
       "      <td>0.000000</td>\n",
       "    </tr>\n",
       "    <tr>\n",
       "      <th>2</th>\n",
       "      <td>0.000000</td>\n",
       "      <td>0.000000</td>\n",
       "      <td>0.848242</td>\n",
       "      <td>0.000000</td>\n",
       "    </tr>\n",
       "    <tr>\n",
       "      <th>3</th>\n",
       "      <td>0.000000</td>\n",
       "      <td>0.000000</td>\n",
       "      <td>0.000000</td>\n",
       "      <td>2.536168</td>\n",
       "    </tr>\n",
       "  </tbody>\n",
       "</table>\n",
       "</div>"
      ],
      "text/plain": [
       "          0         1         2         3\n",
       "0  0.207753  0.000000  0.000000  0.000000\n",
       "1  0.000000  0.407837  0.000000  0.000000\n",
       "2  0.000000  0.000000  0.848242  0.000000\n",
       "3  0.000000  0.000000  0.000000  2.536168"
      ]
     },
     "execution_count": 8,
     "metadata": {},
     "output_type": "execute_result"
    }
   ],
   "source": [
    "dfD"
   ]
  },
  {
   "cell_type": "code",
   "execution_count": null,
   "id": "1be1d37d",
   "metadata": {},
   "outputs": [],
   "source": []
  }
 ],
 "metadata": {
  "kernelspec": {
   "display_name": "Python 3 (ipykernel)",
   "language": "python",
   "name": "python3"
  },
  "language_info": {
   "codemirror_mode": {
    "name": "ipython",
    "version": 3
   },
   "file_extension": ".py",
   "mimetype": "text/x-python",
   "name": "python",
   "nbconvert_exporter": "python",
   "pygments_lexer": "ipython3",
   "version": "3.10.9"
  }
 },
 "nbformat": 4,
 "nbformat_minor": 5
}
