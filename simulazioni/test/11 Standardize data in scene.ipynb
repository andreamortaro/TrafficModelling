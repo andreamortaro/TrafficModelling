{
 "cells": [
  {
   "cell_type": "markdown",
   "id": "105a8d36",
   "metadata": {},
   "source": [
    "# Solve the NN driven model in a scene"
   ]
  },
  {
   "cell_type": "markdown",
   "id": "b1244e2c",
   "metadata": {},
   "source": [
    "## Import libraries"
   ]
  },
  {
   "cell_type": "code",
   "execution_count": 1,
   "id": "b7b2fb88",
   "metadata": {
    "scrolled": true
   },
   "outputs": [
    {
     "name": "stderr",
     "output_type": "stream",
     "text": [
      "2023-08-29 13:24:23.563674: I tensorflow/core/platform/cpu_feature_guard.cc:193] This TensorFlow binary is optimized with oneAPI Deep Neural Network Library (oneDNN) to use the following CPU instructions in performance-critical operations:  SSE4.1 SSE4.2 AVX AVX2 FMA\n",
      "To enable them in other operations, rebuild TensorFlow with the appropriate compiler flags.\n"
     ]
    },
    {
     "name": "stdout",
     "output_type": "stream",
     "text": [
      "Tensorflow/Keras: 2.11.0\n",
      "sklearn: 1.3.0\n"
     ]
    }
   ],
   "source": [
    "# Python libraries\n",
    "import os\n",
    "import pandas as pd # for data manipulation\n",
    "import numpy as np # for data manipulation\n",
    "import tensorflow as tf\n",
    "import matplotlib.pyplot as plt\n",
    "\n",
    "# To enable LaTeX and select a font\n",
    "plt.rcParams.update({\n",
    "    \"text.usetex\": True,\n",
    "    \"font.family\": \"sans-serif\",\n",
    "    \"font.sans-serif\": \"Helvetica\",\n",
    "})\n",
    "\n",
    "# Using ipynb import functions defined in other nb\n",
    "from ipynb.fs.defs.myfun_load_dataset import *\n",
    "from ipynb.fs.defs.myfun_models_STD import *\n",
    "from ipynb.fs.defs.myfun_plot import *"
   ]
  },
  {
   "cell_type": "markdown",
   "id": "4828fb37",
   "metadata": {},
   "source": [
    "## Data Acquisition"
   ]
  },
  {
   "cell_type": "code",
   "execution_count": 2,
   "id": "6a596e24",
   "metadata": {},
   "outputs": [],
   "source": [
    "# Load the dataset\n",
    "par_dir = os.path.dirname(os.getcwd()) # parent dir\n",
    "dir_name = par_dir + \"/NN-interaction\"\n",
    "merged_df, dflist = load_dataset(dir_name, 'post') # we have 10 pandas dataframe, one for each couple(camera,sequence)"
   ]
  },
  {
   "cell_type": "code",
   "execution_count": 3,
   "id": "67be0c45",
   "metadata": {
    "scrolled": true
   },
   "outputs": [],
   "source": [
    "# For sake of simplicity conseder only a scene\n",
    "df = dflist[0] # sequence\n",
    "scn = df.T[5]  # scene"
   ]
  },
  {
   "cell_type": "code",
   "execution_count": 4,
   "id": "8f322843",
   "metadata": {},
   "outputs": [
    {
     "data": {
      "text/plain": [
       "Tarr                         [148.04, 148.23999999999998, 148.44]\n",
       "Xarr            [[48.201888758537635, 52.58811573357667, 57.22...\n",
       "cons_dis        [[12.802741302154757, 13.596920632589942, 15.6...\n",
       "N. vehicles                                                     3\n",
       "cam                                                             1\n",
       "day                                                             1\n",
       "seq                                                             1\n",
       "N. file                                                         1\n",
       "Xarr_std        [[-0.42946882822049576, -0.18367331685189034, ...\n",
       "XarrMean                                                55.865771\n",
       "XarrStd                                                 17.845025\n",
       "cons_dis_std    [[0.7174403794402562, 0.7619446232364759, 0.87...\n",
       "Name: 5, dtype: object"
      ]
     },
     "execution_count": 4,
     "metadata": {},
     "output_type": "execute_result"
    }
   ],
   "source": [
    "scn"
   ]
  },
  {
   "cell_type": "code",
   "execution_count": 5,
   "id": "3412b2af",
   "metadata": {},
   "outputs": [],
   "source": [
    "# Useful params\n",
    "N = scn['N. vehicles']\n",
    "tstamps = scn['Tarr']"
   ]
  },
  {
   "cell_type": "code",
   "execution_count": 6,
   "id": "24a40003",
   "metadata": {
    "scrolled": false
   },
   "outputs": [
    {
     "data": {
      "text/plain": [
       "array([[48.20188876, 52.58811573, 57.22339205],\n",
       "       [61.00463006, 66.18503637, 72.82565786],\n",
       "       [73.44573965, 78.82936684, 84.63510644]])"
      ]
     },
     "execution_count": 6,
     "metadata": {},
     "output_type": "execute_result"
    }
   ],
   "source": [
    "scn['Xarr']"
   ]
  },
  {
   "cell_type": "code",
   "execution_count": 7,
   "id": "f90c9b3e",
   "metadata": {},
   "outputs": [
    {
     "data": {
      "text/plain": [
       "array([[-0.42946883, -0.18367332,  0.07607843],\n",
       "       [ 0.28797155,  0.57827131,  0.95039864],\n",
       "       [ 0.9851468 ,  1.28683466,  1.61217686]])"
      ]
     },
     "execution_count": 7,
     "metadata": {},
     "output_type": "execute_result"
    }
   ],
   "source": [
    "scn['Xarr_std']"
   ]
  },
  {
   "cell_type": "markdown",
   "id": "3555f92e",
   "metadata": {},
   "source": [
    "## Just to know the input of the NN"
   ]
  },
  {
   "cell_type": "code",
   "execution_count": 8,
   "id": "663a5989",
   "metadata": {},
   "outputs": [],
   "source": [
    "# Just to see what will be the X and y for our NN\n",
    "X_arr, y_arr = create_data_ann_scene(scn)"
   ]
  },
  {
   "cell_type": "code",
   "execution_count": 9,
   "id": "57b16fd6",
   "metadata": {},
   "outputs": [
    {
     "name": "stdout",
     "output_type": "stream",
     "text": [
      "We solve the NN driven ODE sys in each time interval of len=0.2s inside [148.04,148.44].\n",
      "\n"
     ]
    }
   ],
   "source": [
    "print(f\"We solve the NN driven ODE sys in each time interval of len=0.2s inside [{tstamps[0]},{tstamps[-1]}].\\n\")"
   ]
  },
  {
   "cell_type": "code",
   "execution_count": 10,
   "id": "85242f6e",
   "metadata": {},
   "outputs": [
    {
     "name": "stdout",
     "output_type": "stream",
     "text": [
      "In the first time interval [148.04,148.23999999999998] we evaluate our NN using as:\n",
      "\t * X: [0.76194462 0.70856335] (consecutive distances btw the 3 vehicles)\n",
      "\t * y: [1.29875873 1.86063668] (approximated velocities)\n"
     ]
    }
   ],
   "source": [
    "print(f\"In the first time interval [{tstamps[0]},{tstamps[1]}] we evaluate our NN using as:\\n\\\n",
    "\\t * X: {X_arr[:,1]} (consecutive distances btw the {N} vehicles)\\n\\\n",
    "\\t * y: {y_arr[:,1]} (approximated velocities)\")"
   ]
  },
  {
   "cell_type": "markdown",
   "id": "d998953f",
   "metadata": {},
   "source": [
    "## Create the model NN"
   ]
  },
  {
   "cell_type": "code",
   "execution_count": 11,
   "id": "a6bb4137",
   "metadata": {},
   "outputs": [
    {
     "name": "stdout",
     "output_type": "stream",
     "text": [
      "Model: \"sequential\"\n",
      "_________________________________________________________________\n",
      " Layer (type)                Output Shape              Param #   \n",
      "=================================================================\n",
      " Hidden-Layer-1 (Dense)      (None, 2)                 4         \n",
      "                                                                 \n",
      " Output-Layer (Dense)        (None, 1)                 3         \n",
      "                                                                 \n",
      "=================================================================\n",
      "Total params: 7\n",
      "Trainable params: 7\n",
      "Non-trainable params: 0\n",
      "_________________________________________________________________\n"
     ]
    }
   ],
   "source": [
    "DOE =[[1,2,1]] #Design of experiment\n",
    "\n",
    "# Create the model\n",
    "model = create_model(DOE[0])\n",
    "model.summary()"
   ]
  },
  {
   "cell_type": "markdown",
   "id": "4cb4cc10",
   "metadata": {},
   "source": [
    "## Evaluate the NN in each time interval"
   ]
  },
  {
   "cell_type": "code",
   "execution_count": 12,
   "id": "c5811b5b",
   "metadata": {},
   "outputs": [],
   "source": [
    "# DEFAULT TRAINING NN\n",
    "epochs = 200           # An epoch is an iteration over the entire x and y data provided\n",
    "batch_size = 5       # Number of samples per gradient update.\n",
    "v0 = 30\n",
    "deltat = 0.05"
   ]
  },
  {
   "cell_type": "code",
   "execution_count": 13,
   "id": "27229854",
   "metadata": {
    "scrolled": false
   },
   "outputs": [
    {
     "name": "stdout",
     "output_type": "stream",
     "text": [
      "====================================================================================================\n",
      "We have 2 time intervals inside [148.04,148.44]\n",
      "\n",
      "----------------------------------------------------------------------------------------------------\n",
      "Time interval n.0: [148.04, 148.24]\n",
      "\n",
      "        * X: [0.71744038 0.69717525]\n",
      "        * y_true: [1.22897756 1.45149878]\n",
      "        * y_pred: [1.6125304698944092, 1.601649522781372]\n",
      "        * v_ann: [1.6125304698944092, 1.601649522781372, 30.0]\n",
      "\n",
      "----------------------------------------------------------------------------------------------------\n",
      "----------------------------------------------------------------------------------------------------\n",
      "Time interval n.1: [148.24, 148.44]\n",
      "\n",
      "        * X: [0.76194462 0.70856335]\n",
      "        * y_true: [1.29875873 1.86063668]\n",
      "        * y_pred: [1.6210227012634277, 1.5924487113952637]\n",
      "        * v_ann: [1.6210227012634277, 1.5924487113952637, 30.0]\n",
      "\n",
      "----------------------------------------------------------------------------------------------------\n",
      "====================================================================================================\n"
     ]
    }
   ],
   "source": [
    "t_def, x_def, _ = solve_nn_scn_default(model, scn, batch_size, epochs, v0, deltat, verbose=0)"
   ]
  },
  {
   "cell_type": "code",
   "execution_count": 14,
   "id": "a4558427",
   "metadata": {},
   "outputs": [],
   "source": [
    "# CUSTOM TRAINING NN\n",
    "LEARNING_RATE_NN = 0.01\n",
    "tol = 10"
   ]
  },
  {
   "cell_type": "code",
   "execution_count": 15,
   "id": "67c9317b",
   "metadata": {},
   "outputs": [
    {
     "name": "stdout",
     "output_type": "stream",
     "text": [
      "====================================================================================================\n",
      "We have 2 time intervals inside [148.04,148.44]\n",
      "\n",
      "----------------------------------------------------------------------------------------------------\n",
      "Time interval n.0: [148.04, 148.24]\n",
      "\n",
      "        * X: [0.71744038 0.69717525]\n",
      "        * y_true: [1.22897756 1.45149878]\n",
      "        * y_pred: [1.5971746444702148, 1.5864014625549316]\n",
      "        * v_ann: [1.5971746444702148, 1.5864014625549316, 30.0]\n",
      "\n",
      "----------------------------------------------------------------------------------------------------\n",
      "----------------------------------------------------------------------------------------------------\n",
      "Time interval n.1: [148.24, 148.44]\n",
      "\n",
      "        * X: [0.76194462 0.70856335]\n",
      "        * y_true: [1.29875873 1.86063668]\n",
      "        * y_pred: [1.600780725479126, 1.5725388526916504]\n",
      "        * v_ann: [1.600780725479126, 1.5725388526916504, 30.0]\n",
      "\n",
      "----------------------------------------------------------------------------------------------------\n",
      "====================================================================================================\n"
     ]
    }
   ],
   "source": [
    "t_cus, x_cus, _ = solve_nn_scn_custom(model, scn, v0, LEARNING_RATE_NN)"
   ]
  },
  {
   "cell_type": "markdown",
   "id": "b1f52114",
   "metadata": {},
   "source": [
    "### Plot"
   ]
  },
  {
   "cell_type": "code",
   "execution_count": 16,
   "id": "d6dbe360",
   "metadata": {},
   "outputs": [],
   "source": [
    "# Params for the plot\n",
    "trajs = [scn['Xarr'], np.array(x_def),  np.array(x_cus)]\n",
    "labels_plot = [\"true\", \"nn sim default\", \"nn sim custom\"]\n",
    "title = f\"Trajs simulated by NN driven LWR model\""
   ]
  },
  {
   "cell_type": "code",
   "execution_count": 17,
   "id": "81bd8d56",
   "metadata": {
    "scrolled": true
   },
   "outputs": [],
   "source": [
    "def std_back(x,scn):\n",
    "    return scn['XarrStd']*x + scn['XarrMean'] "
   ]
  },
  {
   "cell_type": "code",
   "execution_count": 28,
   "id": "9e233439",
   "metadata": {
    "scrolled": false
   },
   "outputs": [
    {
     "data": {
      "image/png": "[encoded data removed]",
      "text/plain": [
       "<Figure size 700x500 with 1 Axes>"
      ]
     },
     "metadata": {},
     "output_type": "display_data"
    }
   ],
   "source": [
    "# fig \n",
    "width, height = 7, 5\n",
    "fig, ax = plt.subplots(figsize=(width,height))\n",
    "\n",
    "for veh in range(0,N):\n",
    "    ax.plot(tstamps, scn['Xarr'][veh])\n",
    "    ax.plot(t_def, std_back(x_def[veh],scn), '--')\n",
    "    ax.plot(t_cus, std_back(x_cus[veh],scn), '--x')\n",
    "\n",
    "\n",
    "for ts in tstamps:\n",
    "    ax.axvline(x = ts, color = 'red', linestyle = '--', linewidth=0.75)\n",
    "    \n",
    "# Annotate the name of each variable at the last value\n",
    "plot_annotation(ax, scn, trajs, scale=1.004)\n",
    "\n",
    "ax.set_xlabel(\"t\")\n",
    "ax.set_ylabel(\"X(t)\")\n",
    "ax.set_title(title, fontsize=15)\n",
    "# Limits for the plot\n",
    "#plot_limits(ax, scn, trajs, xbal=0, ybal=0.05)\n",
    "plt.legend(labels_plot)\n",
    "plt.grid()\n",
    "plt.show()"
   ]
  },
  {
   "cell_type": "markdown",
   "id": "7d3dfcae",
   "metadata": {},
   "source": [
    "## Match the computed solution to the same timestamps of the scene"
   ]
  },
  {
   "cell_type": "code",
   "execution_count": 19,
   "id": "361fbec9",
   "metadata": {},
   "outputs": [
    {
     "name": "stdout",
     "output_type": "stream",
     "text": [
      "timestamps coincide!\n",
      "* tstamps: \t\t\t [148.04 148.24 148.44] \n",
      "* np.array(t_ann_list): \t [148.04 148.24 148.44]\n"
     ]
    }
   ],
   "source": [
    "# To recover the same timestep in the data\n",
    "factor = int(0.2/deltat)\n",
    "\n",
    "if len(set(tstamps - np.array(t_def)[::factor])) == 1:\n",
    "    print(f\"timestamps coincide!\")\n",
    "    print(\"* tstamps: \\t\\t\\t\", tstamps,\\\n",
    "          \"\\n* np.array(t_ann_list): \\t\",np.array(t_def)[::factor])\n",
    "else:\n",
    "    print(f\"There is a mismatch in the timestamps: tstamps != tspan[::factor]\")"
   ]
  },
  {
   "cell_type": "code",
   "execution_count": 20,
   "id": "523cc9aa",
   "metadata": {},
   "outputs": [],
   "source": [
    "## To match solution and timestamps\n",
    "t_ann = np.array(t_def)[::factor]\n",
    "x_ann = np.array([traj[::factor] for traj in x_def])"
   ]
  }
 ],
 "metadata": {
  "kernelspec": {
   "display_name": "Python 3 (ipykernel)",
   "language": "python",
   "name": "python3"
  },
  "language_info": {
   "codemirror_mode": {
    "name": "ipython",
    "version": 3
   },
   "file_extension": ".py",
   "mimetype": "text/x-python",
   "name": "python",
   "nbconvert_exporter": "python",
   "pygments_lexer": "ipython3",
   "version": "3.10.9"
  }
 },
 "nbformat": 4,
 "nbformat_minor": 5
}
