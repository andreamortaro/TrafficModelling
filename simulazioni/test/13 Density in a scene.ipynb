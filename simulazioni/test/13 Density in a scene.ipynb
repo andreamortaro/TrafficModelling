{
 "cells": [
  {
   "cell_type": "code",
   "execution_count": 1,
   "id": "18707cef",
   "metadata": {},
   "outputs": [
    {
     "name": "stderr",
     "output_type": "stream",
     "text": [
      "2023-09-20 10:48:38.310056: I tensorflow/core/platform/cpu_feature_guard.cc:193] This TensorFlow binary is optimized with oneAPI Deep Neural Network Library (oneDNN) to use the following CPU instructions in performance-critical operations:  SSE4.1 SSE4.2 AVX AVX2 FMA\n",
      "To enable them in other operations, rebuild TensorFlow with the appropriate compiler flags.\n"
     ]
    },
    {
     "name": "stdout",
     "output_type": "stream",
     "text": [
      "Tensorflow/Keras: 2.11.0\n",
      "sklearn: 1.3.0\n"
     ]
    }
   ],
   "source": [
    "# Python libraries\n",
    "import os\n",
    "import sys\n",
    "import pandas as pd # for data manipulation\n",
    "import numpy as np # for data manipulation\n",
    "import tensorflow as tf\n",
    "import matplotlib.pyplot as plt\n",
    "from datetime import datetime\n",
    "\n",
    "# To enable LaTeX and select a font\n",
    "plt.rcParams.update({\n",
    "    \"text.usetex\": True,\n",
    "    \"font.family\": \"sans-serif\",\n",
    "    \"font.sans-serif\": \"Helvetica\",\n",
    "})\n",
    "\n",
    "# Using ipynb import functions defined in other nb\n",
    "sys.path.append(\"myfun/\")\n",
    "from ipynb.fs.full.myfun_model_usefulfuns import *"
   ]
  },
  {
   "cell_type": "code",
   "execution_count": 2,
   "id": "f42d2de0",
   "metadata": {},
   "outputs": [],
   "source": [
    "# save the figure\n",
    "flag_save = False"
   ]
  },
  {
   "cell_type": "code",
   "execution_count": 3,
   "id": "692f7b42",
   "metadata": {},
   "outputs": [
    {
     "name": "stdout",
     "output_type": "stream",
     "text": [
      "2023-09-12_00-24-13_df1-2-3-4-5-6-7-8-9-10_500it-PRE-nn2\n",
      "2023-09-12_03-46-07_df1-2-3-4-5-6-7-8-9-10_500it-PRE-nn4\n",
      "2023-09-12_12-12-01_df1-2-3-4-5-6-7-8-9-10_500it-PRE-nn10\n",
      "2023-09-12_17-01-56_df1-2-3-4-5-6-7-8-9-10_500it-PRE-nn-all\n",
      "2023-09-12_20-58-20_df1-2-3-4-5-6-7-8-9-10-PRE-linlog\n",
      "2023-09-12_22-17-04_all\n"
     ]
    }
   ],
   "source": [
    "target_dir = \"./out/\"\n",
    "for name in sorted(os.listdir(target_dir)):\n",
    "    print(name)"
   ]
  },
  {
   "cell_type": "markdown",
   "id": "c21a940d",
   "metadata": {},
   "source": [
    "## Loading info"
   ]
  },
  {
   "cell_type": "code",
   "execution_count": 4,
   "id": "8a40b424",
   "metadata": {},
   "outputs": [],
   "source": [
    "# NN\n",
    "dir_nn2 = \"2023-09-12_00-24-13_df1-2-3-4-5-6-7-8-9-10_500it-PRE-nn2\"\n",
    "dir_nn4 = \"2023-09-12_03-46-07_df1-2-3-4-5-6-7-8-9-10_500it-PRE-nn4\"\n",
    "dir_nn10 = \"2023-09-12_12-12-01_df1-2-3-4-5-6-7-8-9-10_500it-PRE-nn10\"\n",
    "\n",
    "## LIN LOG\n",
    "dir_linlog = \"2023-09-12_20-58-20_df1-2-3-4-5-6-7-8-9-10-PRE-linlog\""
   ]
  },
  {
   "cell_type": "markdown",
   "id": "1f4407c4",
   "metadata": {},
   "source": [
    "### NN2"
   ]
  },
  {
   "cell_type": "code",
   "execution_count": 5,
   "id": "58d7f3c1",
   "metadata": {},
   "outputs": [
    {
     "name": "stdout",
     "output_type": "stream",
     "text": [
      "08a NN model in whole dataset - pre NN2 - Jupyter Notebook.pdf\n",
      "info_nn2.txt\n"
     ]
    }
   ],
   "source": [
    "path = target_dir + dir_nn2\n",
    "for name in sorted(os.listdir(path)):\n",
    "    print(name)"
   ]
  },
  {
   "cell_type": "code",
   "execution_count": 6,
   "id": "000a4e16",
   "metadata": {},
   "outputs": [],
   "source": [
    "namefile_nn2 = \"/info_nn2.txt\"\n",
    "\n",
    "# Construct a list for header\n",
    "with open(path + namefile_nn2) as f:\n",
    "    header = f.readline().split(sep=',')\n",
    "header[-1] = header[-1].split(\"\\n\")[0]"
   ]
  },
  {
   "cell_type": "code",
   "execution_count": 7,
   "id": "74fee1b0",
   "metadata": {},
   "outputs": [],
   "source": [
    "info_nn2 = pd.read_csv(path + namefile_nn2, sep=',', usecols= header)"
   ]
  },
  {
   "cell_type": "markdown",
   "id": "89ef06d4",
   "metadata": {},
   "source": [
    "### NN4"
   ]
  },
  {
   "cell_type": "code",
   "execution_count": 8,
   "id": "5dc9235a",
   "metadata": {},
   "outputs": [
    {
     "name": "stdout",
     "output_type": "stream",
     "text": [
      "08a NN model in whole dataset - pre NN4 - Jupyter Notebook.pdf\n",
      "info_nn4.txt\n"
     ]
    }
   ],
   "source": [
    "path = target_dir + dir_nn4\n",
    "for name in sorted(os.listdir(path)):\n",
    "    print(name)"
   ]
  },
  {
   "cell_type": "code",
   "execution_count": 9,
   "id": "00d57917",
   "metadata": {},
   "outputs": [],
   "source": [
    "namefile_nn4 = \"/info_nn4.txt\"\n",
    "\n",
    "# Construct a list for header\n",
    "with open(path + namefile_nn4) as f:\n",
    "    header = f.readline().split(sep=',')\n",
    "header[-1] = header[-1].split(\"\\n\")[0]"
   ]
  },
  {
   "cell_type": "code",
   "execution_count": 10,
   "id": "c0929f54",
   "metadata": {},
   "outputs": [],
   "source": [
    "info_nn4 = pd.read_csv(path + namefile_nn4, sep=',', usecols= header)"
   ]
  },
  {
   "cell_type": "markdown",
   "id": "8cd45ac9",
   "metadata": {},
   "source": [
    "### NN10"
   ]
  },
  {
   "cell_type": "code",
   "execution_count": 11,
   "id": "b2b78b76",
   "metadata": {},
   "outputs": [
    {
     "name": "stdout",
     "output_type": "stream",
     "text": [
      "08a NN model in whole dataset - pre NN10 - Jupyter Notebook.pdf\n",
      "info_nn10.txt\n"
     ]
    }
   ],
   "source": [
    "path = target_dir + dir_nn10\n",
    "for name in sorted(os.listdir(path)):\n",
    "    print(name)"
   ]
  },
  {
   "cell_type": "code",
   "execution_count": 12,
   "id": "7b52fd6b",
   "metadata": {},
   "outputs": [],
   "source": [
    "namefile_nn10 = \"/info_nn10.txt\"\n",
    "\n",
    "# Construct a list for header\n",
    "with open(path + namefile_nn10) as f:\n",
    "    header = f.readline().split(sep=',')\n",
    "header[-1] = header[-1].split(\"\\n\")[0]"
   ]
  },
  {
   "cell_type": "code",
   "execution_count": 13,
   "id": "5f411c0f",
   "metadata": {},
   "outputs": [],
   "source": [
    "info_nn10 = pd.read_csv(path + namefile_nn10, sep=',', usecols= header)"
   ]
  },
  {
   "cell_type": "markdown",
   "id": "1a1714c5",
   "metadata": {},
   "source": [
    "### NN info"
   ]
  },
  {
   "cell_type": "code",
   "execution_count": 14,
   "id": "86769570",
   "metadata": {},
   "outputs": [],
   "source": [
    "# For better handling the plot\n",
    "info_nn = pd.concat([info_nn2, info_nn4, info_nn10]).reset_index()"
   ]
  },
  {
   "cell_type": "markdown",
   "id": "3937fafa",
   "metadata": {},
   "source": [
    "### Lin Log info"
   ]
  },
  {
   "cell_type": "code",
   "execution_count": 15,
   "id": "c6e04c09",
   "metadata": {},
   "outputs": [
    {
     "name": "stdout",
     "output_type": "stream",
     "text": [
      "info_data.txt\n",
      "v0_df1-2-3-4-5-6-7-8-9-10_1.svg\n"
     ]
    }
   ],
   "source": [
    "path = target_dir + dir_linlog\n",
    "for name in sorted(os.listdir(path)):\n",
    "    print(name)"
   ]
  },
  {
   "cell_type": "code",
   "execution_count": 16,
   "id": "f13ab0e2",
   "metadata": {},
   "outputs": [],
   "source": [
    "namefile = '/info_data.txt'\n",
    "\n",
    "# get the header\n",
    "with open(path + namefile) as f:\n",
    "    header = f.readline().split(sep=',')\n",
    "header[-1] = header[-1].split(\"\\n\")[0]"
   ]
  },
  {
   "cell_type": "code",
   "execution_count": 17,
   "id": "47118547",
   "metadata": {},
   "outputs": [],
   "source": [
    "info_linlog = pd.read_csv(path + namefile, sep=',', usecols= header).reset_index()"
   ]
  },
  {
   "cell_type": "markdown",
   "id": "354dd10d",
   "metadata": {},
   "source": [
    "## Make str into numpy arrays in dfs"
   ]
  },
  {
   "cell_type": "code",
   "execution_count": 18,
   "id": "dbcca6f6",
   "metadata": {},
   "outputs": [],
   "source": [
    "nn_cols = ['t_list', 'x_list', 'v_list', 'v0_scn']\n",
    "\n",
    "for col in nn_cols:\n",
    "    info_nn[col] = info_nn[col].apply(lambda x: x.replace('array','np.array')).apply(eval).apply(np.array)"
   ]
  },
  {
   "cell_type": "code",
   "execution_count": 19,
   "id": "6b665e1e",
   "metadata": {},
   "outputs": [],
   "source": [
    "ll_cols = ['t_list', 'x_list']\n",
    "\n",
    "for col in ll_cols:\n",
    "    info_linlog[col] = info_linlog[col].apply(lambda x: x.replace('array','np.array')).apply(eval).apply(np.array)"
   ]
  },
  {
   "cell_type": "markdown",
   "id": "6a3c1dfc",
   "metadata": {},
   "source": [
    "# Density - in a scene"
   ]
  },
  {
   "cell_type": "code",
   "execution_count": 61,
   "id": "4e9d6b66",
   "metadata": {},
   "outputs": [
    {
     "data": {
      "text/plain": [
       "index                                                      522\n",
       "t_list       [21.560000000000002, 21.610000000000003, 21.66...\n",
       "x_list       [[55.8842894, 57.05071794, 58.26944336, 59.528...\n",
       "v0_scn                                               29.263694\n",
       "L_scn                                                 7.086173\n",
       "n_scn                                                       76\n",
       "N. file                                                      3\n",
       "LWR_flag                                                   Log\n",
       "processed                                                  pre\n",
       "Name: 522, dtype: object"
      ]
     },
     "execution_count": 61,
     "metadata": {},
     "output_type": "execute_result"
    }
   ],
   "source": [
    "scn = info_linlog.T[522]\n",
    "scn"
   ]
  },
  {
   "cell_type": "code",
   "execution_count": 21,
   "id": "b5ee9ef6",
   "metadata": {},
   "outputs": [],
   "source": [
    "t = scn['t_list']\n",
    "x = scn['x_list']\n",
    "n = len(scn['x_list'])\n",
    "ln = 1/n"
   ]
  },
  {
   "cell_type": "markdown",
   "id": "c36c37e0",
   "metadata": {},
   "source": [
    "## Standardization"
   ]
  },
  {
   "cell_type": "code",
   "execution_count": 55,
   "id": "ab74b05c",
   "metadata": {},
   "outputs": [],
   "source": [
    "## Standardize x\n",
    "xMean = x.mean()\n",
    "xStd = x.std()\n",
    "x_std = (x - xMean)/xStd\n",
    "\n",
    "## Traslate time\n",
    "t_std = t - t[0]"
   ]
  },
  {
   "cell_type": "code",
   "execution_count": 56,
   "id": "b974320d",
   "metadata": {},
   "outputs": [
    {
     "data": {
      "text/plain": [
       "(87.59533700388887, 19.979006364335042)"
      ]
     },
     "execution_count": 56,
     "metadata": {},
     "output_type": "execute_result"
    }
   ],
   "source": [
    "xMean, xStd"
   ]
  },
  {
   "cell_type": "code",
   "execution_count": 57,
   "id": "826cd4e1",
   "metadata": {},
   "outputs": [
    {
     "data": {
      "text/plain": [
       "(array([[ 55.8842894 ,  57.05071794,  58.26944336,  59.52895053,\n",
       "          60.8201091 ,  62.13559965,  63.46950922,  64.81705566,\n",
       "          66.17437056],\n",
       "        [ 71.28351043,  73.08411878,  74.81583499,  76.48604044,\n",
       "          78.10160016,  79.66890747,  81.19391073,  82.68210706,\n",
       "          84.13855318],\n",
       "        [ 96.16390739,  96.75723223,  97.45862477,  98.24887701,\n",
       "          99.11360651, 100.04169396, 101.02430738, 102.05430255,\n",
       "         103.12579394],\n",
       "        [106.35161203, 107.81479674, 109.27798145, 110.74116615,\n",
       "         112.20435086, 113.66753557, 115.13072027, 116.59390498,\n",
       "         118.05708969]]),\n",
       " array([[-1.58721845, -1.52883574, -1.46783544, -1.40479391, -1.34016815,\n",
       "         -1.2743245 , -1.20755894, -1.14011082, -1.07217376],\n",
       "        [-0.81644834, -0.72632332, -0.63964653, -0.5560485 , -0.47518564,\n",
       "         -0.39673793, -0.32040764, -0.24591963, -0.17302081],\n",
       "        [ 0.42887871,  0.45857612,  0.4936826 ,  0.53323673,  0.57651864,\n",
       "          0.62297177,  0.67215407,  0.72370794,  0.77733881],\n",
       "        [ 0.93879919,  1.0120353 ,  1.08527141,  1.15850752,  1.23174363,\n",
       "          1.30497974,  1.37821585,  1.45145196,  1.52468807]]))"
      ]
     },
     "execution_count": 57,
     "metadata": {},
     "output_type": "execute_result"
    }
   ],
   "source": [
    "x, x_std"
   ]
  },
  {
   "cell_type": "markdown",
   "id": "73bad326",
   "metadata": {},
   "source": [
    "### Plot trajs standardized"
   ]
  },
  {
   "cell_type": "code",
   "execution_count": 104,
   "id": "0d792016",
   "metadata": {},
   "outputs": [
    {
     "data": {
      "image/png": "[encoded data removed]",
      "text/plain": [
       "<Figure size 1400x500 with 2 Axes>"
      ]
     },
     "metadata": {},
     "output_type": "display_data"
    }
   ],
   "source": [
    "# Initialize the figure\n",
    "width = 7\n",
    "height = 5\n",
    "nfig = 2\n",
    "fig = plt.figure(figsize = (width*nfig,height))\n",
    "\n",
    "N = len(x)\n",
    "\n",
    "# 1. Trajs before standardization\n",
    "ax1 = fig.add_subplot(1, nfig, 1)\n",
    "t_matched, x_matched = match_timestamps_scene(t, x)\n",
    "for veh in range(0,N):\n",
    "    # X.T (transposed) is the list of trajectories of the vehicles\n",
    "    ax1.plot(t_matched, x_matched[veh])\n",
    "ax1.set_xlabel(\"t\")\n",
    "ax1.set_ylabel(\"X(t)\")\n",
    "ax1.set_title('Trajs before standardization',fontsize=18);\n",
    "ax1.grid(color='grey', linestyle='-', linewidth=0.3);\n",
    "\n",
    "# 2. Trajs after standardization\n",
    "ax2 = fig.add_subplot(1, nfig, 2);\n",
    "t_matched_std, x_matched_std = match_timestamps_scene(t_std, x_std)\n",
    "for veh in range(0,N):\n",
    "    # X.T (transposed) is the list of trajectories of the vehicles\n",
    "    ax2.plot(t_matched_std, x_matched_std[veh])\n",
    "ax2.set_xlabel(\"t\")\n",
    "ax2.set_ylabel(\"X(t)\")\n",
    "ax2.set_title('Trajs after standardization',fontsize=18);\n",
    "ax2.grid(color='grey', linestyle='-', linewidth=0.3);\n",
    "\n",
    "fig.suptitle('Trajectories',fontsize=25, y=0.97);\n",
    "fig.subplots_adjust(top=0.8)\n",
    "plt.show();"
   ]
  },
  {
   "cell_type": "markdown",
   "id": "cb20c3c1",
   "metadata": {},
   "source": [
    "### Plot"
   ]
  },
  {
   "cell_type": "code",
   "execution_count": 82,
   "id": "8157011e",
   "metadata": {},
   "outputs": [],
   "source": [
    "idx = 0"
   ]
  },
  {
   "cell_type": "code",
   "execution_count": 86,
   "id": "89d17db0",
   "metadata": {},
   "outputs": [],
   "source": [
    "t_fixed = t_std[idx]\n",
    "pos = x_std[:,idx]\n",
    "den = np.diff(pos,axis=0)\n",
    "d = ln/den"
   ]
  },
  {
   "cell_type": "code",
   "execution_count": 87,
   "id": "455c5789",
   "metadata": {},
   "outputs": [
    {
     "data": {
      "text/plain": [
       "array([-1.58721845, -0.81644834,  0.42887871,  0.93879919])"
      ]
     },
     "execution_count": 87,
     "metadata": {},
     "output_type": "execute_result"
    }
   ],
   "source": [
    "pos"
   ]
  },
  {
   "cell_type": "code",
   "execution_count": 88,
   "id": "644fffb7",
   "metadata": {},
   "outputs": [
    {
     "data": {
      "text/plain": [
       "array([0.32435093, 0.20075048, 0.49027252])"
      ]
     },
     "execution_count": 88,
     "metadata": {},
     "output_type": "execute_result"
    }
   ],
   "source": [
    "d"
   ]
  },
  {
   "cell_type": "code",
   "execution_count": 100,
   "id": "aa764768",
   "metadata": {
    "scrolled": false
   },
   "outputs": [
    {
     "data": {
      "image/png": "[encoded data removed]",
      "text/plain": [
       "<Figure size 640x480 with 1 Axes>"
      ]
     },
     "metadata": {},
     "output_type": "display_data"
    }
   ],
   "source": [
    "# plt.step(pos[:-1], d, where='post', label='step(where=\"post\")')\n",
    "plt.stairs(d, pos, baseline=None, color='r')\n",
    "plt.grid(color='grey', linestyle='-', linewidth=0.3);\n",
    "\n",
    "fmt = '{:.2f}'\n",
    "plt.title(f'time={fmt.format(t_fixed)}')\n",
    "plt.xlabel(\"t\")\n",
    "plt.ylabel(rf\"$\\rho(t,x)$\")\n",
    "plt.show()"
   ]
  },
  {
   "cell_type": "markdown",
   "id": "f6104210",
   "metadata": {},
   "source": [
    "### Plot all the time"
   ]
  },
  {
   "cell_type": "code",
   "execution_count": 36,
   "id": "c25e5dab",
   "metadata": {},
   "outputs": [],
   "source": [
    "fmt = '{:.2f}'"
   ]
  },
  {
   "cell_type": "code",
   "execution_count": 102,
   "id": "5cb9d800",
   "metadata": {
    "scrolled": false
   },
   "outputs": [
    {
     "data": {
      "image/png": "[encoded data removed]",
      "text/plain": [
       "<Figure size 700x500 with 1 Axes>"
      ]
     },
     "metadata": {},
     "output_type": "display_data"
    }
   ],
   "source": [
    "# Create fig\n",
    "width, height = 7, 5\n",
    "fig, ax = plt.subplots(figsize=(width,height))\n",
    "\n",
    "for idx in range(len(t)):\n",
    "    \n",
    "    pos = x_std[:,idx]\n",
    "    den = np.diff(pos,axis=0)\n",
    "    d = ln/den\n",
    "    \n",
    "    t_fixed = t_std[idx]\n",
    "    \n",
    "    plt.stairs(d, pos, baseline=None, label=f'time={fmt.format(t_fixed)}')\n",
    "    \n",
    "ax.set_xlabel(\"x\")\n",
    "ax.set_ylabel(rf\"$\\rho(t,x)$\")\n",
    "ax.grid(color='grey', linestyle='-', linewidth=0.3);\n",
    "ax.legend()\n",
    "\n",
    "nf, ns = scn['N. file'], scn['n_scn']\n",
    "plt.title(f'Dataset n. {nf}, scene n. {ns}')\n",
    "    \n",
    "plt.show()"
   ]
  },
  {
   "cell_type": "code",
   "execution_count": 69,
   "id": "9b435f84",
   "metadata": {},
   "outputs": [
    {
     "data": {
      "text/plain": [
       "index                                                      522\n",
       "t_list       [21.560000000000002, 21.610000000000003, 21.66...\n",
       "x_list       [[55.8842894, 57.05071794, 58.26944336, 59.528...\n",
       "v0_scn                                               29.263694\n",
       "L_scn                                                 7.086173\n",
       "n_scn                                                       76\n",
       "N. file                                                      3\n",
       "LWR_flag                                                   Log\n",
       "processed                                                  pre\n",
       "Name: 522, dtype: object"
      ]
     },
     "execution_count": 69,
     "metadata": {},
     "output_type": "execute_result"
    }
   ],
   "source": [
    "scn"
   ]
  },
  {
   "cell_type": "code",
   "execution_count": null,
   "id": "065911c9",
   "metadata": {},
   "outputs": [],
   "source": []
  }
 ],
 "metadata": {
  "kernelspec": {
   "display_name": "Python 3 (ipykernel)",
   "language": "python",
   "name": "python3"
  },
  "language_info": {
   "codemirror_mode": {
    "name": "ipython",
    "version": 3
   },
   "file_extension": ".py",
   "mimetype": "text/x-python",
   "name": "python",
   "nbconvert_exporter": "python",
   "pygments_lexer": "ipython3",
   "version": "3.11.7"
  }
 },
 "nbformat": 4,
 "nbformat_minor": 5
}
