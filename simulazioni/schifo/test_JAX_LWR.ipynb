{
 "cells": [
  {
   "cell_type": "markdown",
   "id": "d8f8c5f0",
   "metadata": {},
   "source": [
    "# Example: How to solve an ODE with a neural network\n",
    "[source](https://towardsdatascience.com/how-to-solve-an-ode-with-a-neural-network-917d11918932)"
   ]
  },
  {
   "cell_type": "markdown",
   "id": "b48f1eee",
   "metadata": {},
   "source": [
    "## Implement the network"
   ]
  },
  {
   "cell_type": "code",
   "execution_count": 1,
   "id": "f829e85b",
   "metadata": {},
   "outputs": [],
   "source": [
    "import jax.numpy as np\n",
    "\n",
    "# activation function\n",
    "def sigmoid(x):\n",
    "    return 1./(1. + np.exp(-x))\n",
    "\n",
    "# net\n",
    "def f(params, x):\n",
    "    \"Note that f has two arguments:\\\n",
    "        * an array of network parameters (params),\\\n",
    "        * and an input value (x). \"\n",
    "    w0 = params[:10]\n",
    "    b0 = params[10:20]\n",
    "    w1 = params[20:30]\n",
    "    b1 = params[30]\n",
    "    x = sigmoid(x*w0 + b0)\n",
    "    x = sigmoid(np.sum(x*w1) + b1)\n",
    "    return x"
   ]
  },
  {
   "cell_type": "markdown",
   "id": "70179603",
   "metadata": {},
   "source": [
    "## Initialization of network params"
   ]
  },
  {
   "cell_type": "code",
   "execution_count": 2,
   "id": "18c126d6",
   "metadata": {},
   "outputs": [
    {
     "name": "stderr",
     "output_type": "stream",
     "text": [
      "WARNING:jax._src.lib.xla_bridge:No GPU/TPU found, falling back to CPU. (Set TF_CPP_MIN_LOG_LEVEL=0 and rerun for more info.)\n"
     ]
    }
   ],
   "source": [
    "from jax import random\n",
    "\n",
    "key = random.PRNGKey(0) # pseudo-random number generator\n",
    "                        # By creating a PRNG key with a certain seed\n",
    "                        # we ensure that our results will be reproducible.\n",
    "params = random.normal(key, shape=(31,))"
   ]
  },
  {
   "cell_type": "code",
   "execution_count": 3,
   "id": "9c85f473",
   "metadata": {},
   "outputs": [],
   "source": [
    "from jax import grad\n",
    "\n",
    "dfdx = grad(f, 1) # derivative of wrt x (1 means deriving x wrt the 2nd entry)"
   ]
  },
  {
   "cell_type": "markdown",
   "id": "460c1cb0",
   "metadata": {},
   "source": [
    "## ODE"
   ]
  },
  {
   "cell_type": "markdown",
   "id": "eb921348",
   "metadata": {},
   "source": [
    "$$\n",
    "\\begin{equation}\n",
    "    \\begin{cases}\n",
    "        y'(x) = 2xy\\\\\n",
    "        y(0) = 1\n",
    "    \\end{cases}\\,.\n",
    "\\end{equation}\n",
    "$$"
   ]
  },
  {
   "cell_type": "code",
   "execution_count": null,
   "id": "0b3f2d75",
   "metadata": {},
   "outputs": [],
   "source": [
    "inputs = np.linspace(-2., 2., num=401) # domain of the ode"
   ]
  },
  {
   "cell_type": "code",
   "execution_count": null,
   "id": "e3cb528d",
   "metadata": {},
   "outputs": [],
   "source": [
    "# Vectorize f using vmap because of differentiation purposes\n",
    "# in fact JAX requires a scalar function, so we must pass a single value as input\n",
    "# in order to get a single value as output\n",
    "\n",
    "from jax import vmap\n",
    "\n",
    "f_vect = vmap(f, (None, 0))\n",
    "dfdx_vect = vmap(dfdx, (None, 0)) # each function is to be mapped over the 0-axis of the second argument (x),\n",
    "                                  # while the first argument (params) should be left untouched"
   ]
  },
  {
   "cell_type": "code",
   "execution_count": null,
   "id": "1c6bb7c8",
   "metadata": {},
   "outputs": [],
   "source": [
    "# Loss function: it contains the ode to solve\n",
    "\n",
    "from jax import jit # just-in-time compilation (to accelerate computations we use GPU)\n",
    "\n",
    "@jit\n",
    "def loss(params, inputs):\n",
    "    eq = 0\n",
    "    for i in range(0,N-1):\n",
    "        ode_rhs = \n",
    "        eq = eq - ode_rhs\n",
    "    eq = dfdx_vect(params, inputs) + 2.*inputs*f_vect(params, inputs)\n",
    "    ic = f(params, 0.) - 1.\n",
    "    return np.mean(eq**2) + ic**2"
   ]
  },
  {
   "cell_type": "code",
   "execution_count": null,
   "id": "f3cf86ea",
   "metadata": {},
   "outputs": [],
   "source": [
    "# differentiate the loss function with respect to the trainable parameters:\n",
    "\n",
    "grad_loss = jit(grad(loss, 0)) # grad wrt 0=first entry, i.e. params"
   ]
  },
  {
   "cell_type": "markdown",
   "id": "bf86f271",
   "metadata": {},
   "source": [
    "## Training process"
   ]
  },
  {
   "cell_type": "markdown",
   "id": "fb4fe618",
   "metadata": {},
   "source": [
    "To accelerate things a bit, we will use gradient descent with **Nesterov momentum**.\n",
    "![title](img/nestorov.webp)"
   ]
  },
  {
   "cell_type": "code",
   "execution_count": null,
   "id": "93693b6f",
   "metadata": {},
   "outputs": [],
   "source": [
    "epochs = 1000\n",
    "learning_rate = 0.1\n",
    "momentum = 0.99\n",
    "velocity = 0.\n",
    "\n",
    "for epoch in range(epochs):\n",
    "    if epoch % 100 == 0:\n",
    "        print('epoch: %3d loss: %.6f' % (epoch, loss(params, inputs)))\n",
    "    gradient = grad_loss(params + momentum*velocity, inputs)\n",
    "    velocity = momentum*velocity - learning_rate*gradient\n",
    "    params += velocity"
   ]
  },
  {
   "cell_type": "markdown",
   "id": "16cf62a1",
   "metadata": {},
   "source": [
    "## Result and plot"
   ]
  },
  {
   "cell_type": "code",
   "execution_count": null,
   "id": "0c6aee08",
   "metadata": {},
   "outputs": [],
   "source": [
    "import matplotlib.pyplot as plt\n",
    "\n",
    "plt.plot(inputs, np.exp(-inputs**2), label='exact')\n",
    "plt.plot(inputs, f_vect(params, inputs), label='approx')\n",
    "plt.legend()\n",
    "plt.show()"
   ]
  },
  {
   "cell_type": "code",
   "execution_count": null,
   "id": "c9481194",
   "metadata": {},
   "outputs": [],
   "source": []
  }
 ],
 "metadata": {
  "kernelspec": {
   "display_name": "Python 3 (ipykernel)",
   "language": "python",
   "name": "python3"
  },
  "language_info": {
   "codemirror_mode": {
    "name": "ipython",
    "version": 3
   },
   "file_extension": ".py",
   "mimetype": "text/x-python",
   "name": "python",
   "nbconvert_exporter": "python",
   "pygments_lexer": "ipython3",
   "version": "3.10.9"
  }
 },
 "nbformat": 4,
 "nbformat_minor": 5
}
