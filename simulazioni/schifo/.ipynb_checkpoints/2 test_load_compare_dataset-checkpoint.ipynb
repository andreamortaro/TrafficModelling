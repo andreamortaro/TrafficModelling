{
 "cells": [
  {
   "cell_type": "code",
   "execution_count": 1,
   "id": "905d9e3e",
   "metadata": {
    "scrolled": false
   },
   "outputs": [],
   "source": [
    "# Python libraries\n",
    "import os\n",
    "from scipy.io import loadmat\n",
    "import pandas as pd\n",
    "import numpy as np\n",
    "import itertools\n",
    "\n",
    "# Using ipynb import functions defined in other nb\n",
    "from ipynb.fs.full.my_functions import *"
   ]
  },
  {
   "cell_type": "markdown",
   "id": "1d0c3c91",
   "metadata": {},
   "source": [
    "## Comparison btw datasets"
   ]
  },
  {
   "cell_type": "code",
   "execution_count": 6,
   "id": "92eb7b6e",
   "metadata": {},
   "outputs": [],
   "source": [
    "# load .mat\n",
    "par_dir = os.path.dirname(os.getcwd()) # parent dir\n",
    "dir_name = par_dir + \"/NN-interaction\"\n",
    "# list of .mat files (seen as nd.array..)"
   ]
  },
  {
   "cell_type": "code",
   "execution_count": 7,
   "id": "b599a4f0",
   "metadata": {},
   "outputs": [],
   "source": [
    "dflist1 = load_dataset(dir_name, 'post')\n",
    "dflist2 = load_dataset(dir_name, 'pre')"
   ]
  },
  {
   "cell_type": "code",
   "execution_count": 8,
   "id": "123f530c",
   "metadata": {},
   "outputs": [
    {
     "data": {
      "text/plain": [
       "(10, 10)"
      ]
     },
     "execution_count": 8,
     "metadata": {},
     "output_type": "execute_result"
    }
   ],
   "source": [
    "len(dflist1), len(dflist2)"
   ]
  },
  {
   "cell_type": "code",
   "execution_count": 9,
   "id": "a414e4ea",
   "metadata": {},
   "outputs": [],
   "source": [
    "# fixing a row -> same timestamps => rows are scenes!\n",
    "# columns correspond to cars\n",
    "df1 = dflist1[0]\n",
    "df2 = dflist2[0]"
   ]
  },
  {
   "cell_type": "code",
   "execution_count": 10,
   "id": "c5026e14",
   "metadata": {},
   "outputs": [
    {
     "data": {
      "text/plain": [
       "(136, 952)"
      ]
     },
     "execution_count": 10,
     "metadata": {},
     "output_type": "execute_result"
    }
   ],
   "source": [
    "df1.size, df2.size"
   ]
  },
  {
   "cell_type": "code",
   "execution_count": 11,
   "id": "a6579ae3",
   "metadata": {},
   "outputs": [
    {
     "data": {
      "text/plain": [
       "[[29.373325674060805, 9.440000000000001],\n",
       " [34.22142942994519, 9.64],\n",
       " [38.50653305682816, 9.840000000000002],\n",
       " [43.68772327214238, 10.040000000000001],\n",
       " [39.534320959607726, 10.240000000000002],\n",
       " [42.98443379996635, 10.440000000000001]]"
      ]
     },
     "execution_count": 11,
     "metadata": {},
     "output_type": "execute_result"
    }
   ],
   "source": [
    "df1[0][0]"
   ]
  },
  {
   "cell_type": "code",
   "execution_count": 12,
   "id": "3ce69804",
   "metadata": {},
   "outputs": [
    {
     "data": {
      "text/plain": [
       "[[6.541155827428105, 2.24],\n",
       " [12.833169506389222, 2.44],\n",
       " [18.847200494827277, 2.64],\n",
       " [25.135262251149367, 2.8400000000000003]]"
      ]
     },
     "execution_count": 12,
     "metadata": {},
     "output_type": "execute_result"
    }
   ],
   "source": [
    "df2[0][0]"
   ]
  },
  {
   "cell_type": "code",
   "execution_count": null,
   "id": "a52bf1bf",
   "metadata": {},
   "outputs": [],
   "source": []
  }
 ],
 "metadata": {
  "kernelspec": {
   "display_name": "Python 3 (ipykernel)",
   "language": "python",
   "name": "python3"
  },
  "language_info": {
   "codemirror_mode": {
    "name": "ipython",
    "version": 3
   },
   "file_extension": ".py",
   "mimetype": "text/x-python",
   "name": "python",
   "nbconvert_exporter": "python",
   "pygments_lexer": "ipython3",
   "version": "3.10.9"
  }
 },
 "nbformat": 4,
 "nbformat_minor": 5
}
