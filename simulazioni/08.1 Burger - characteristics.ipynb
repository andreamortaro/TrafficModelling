{
 "cells": [
  {
   "cell_type": "code",
   "execution_count": 1,
   "id": "a7402294",
   "metadata": {
    "scrolled": true
   },
   "outputs": [
    {
     "name": "stderr",
     "output_type": "stream",
     "text": [
      "2024-02-13 11:41:14.794683: E external/local_xla/xla/stream_executor/cuda/cuda_dnn.cc:9261] Unable to register cuDNN factory: Attempting to register factory for plugin cuDNN when one has already been registered\n",
      "2024-02-13 11:41:14.794714: E external/local_xla/xla/stream_executor/cuda/cuda_fft.cc:607] Unable to register cuFFT factory: Attempting to register factory for plugin cuFFT when one has already been registered\n",
      "2024-02-13 11:41:14.795533: E external/local_xla/xla/stream_executor/cuda/cuda_blas.cc:1515] Unable to register cuBLAS factory: Attempting to register factory for plugin cuBLAS when one has already been registered\n",
      "2024-02-13 11:41:14.801066: I tensorflow/core/platform/cpu_feature_guard.cc:182] This TensorFlow binary is optimized to use available CPU instructions in performance-critical operations.\n",
      "To enable the following instructions: AVX2 FMA, in other operations, rebuild TensorFlow with the appropriate compiler flags.\n",
      "2024-02-13 11:41:15.536001: W tensorflow/compiler/tf2tensorrt/utils/py_utils.cc:38] TF-TRT Warning: Could not find TensorRT\n"
     ]
    }
   ],
   "source": [
    "# Python libraries\n",
    "import os\n",
    "import sys\n",
    "import pandas as pd # for data manipulation\n",
    "import numpy as np # for data manipulation\n",
    "import keras\n",
    "import matplotlib.pyplot as plt\n",
    "\n",
    "# To enable LaTeX and select a font\n",
    "plt.rcParams.update({\n",
    "    \"text.usetex\": True,\n",
    "    \"font.family\": \"sans-serif\",\n",
    "    \"font.sans-serif\": \"Helvetica\",\n",
    "})\n",
    "\n",
    "# Import custom functions from other notebooks\n",
    "sys.path.append(\"myfun/\")\n",
    "from ipynb.fs.full.myfun_nn import *\n",
    "from ipynb.fs.full.myfun_model_nn import *\n",
    "from ipynb.fs.full.myfun_model_linlog import *"
   ]
  },
  {
   "cell_type": "markdown",
   "id": "2961f72c",
   "metadata": {},
   "source": [
    "# Solve the Burger equation"
   ]
  },
  {
   "cell_type": "code",
   "execution_count": 2,
   "id": "493e8bec",
   "metadata": {},
   "outputs": [],
   "source": [
    "## Params\n",
    "N = 200\n",
    "T = 0.5\n",
    "trange = 0, 0.245, T\n",
    "rho_l = 0.4\n",
    "rho_r = 0.8\n",
    "flux_flag = 0 # Case study"
   ]
  },
  {
   "cell_type": "code",
   "execution_count": 3,
   "id": "5c6d29db",
   "metadata": {},
   "outputs": [
    {
     "name": "stdout",
     "output_type": "stream",
     "text": [
      "There's at least a vehicle not sorted\n"
     ]
    }
   ],
   "source": [
    "# Intial positions and consecutive distances\n",
    "## Space\n",
    "rng = np.random.default_rng(12)\n",
    "a = rng.uniform(-1, 0, int(N/3))\n",
    "b = rng.uniform(0, 1, N-int(N/3))\n",
    "\n",
    "my_rnd = np.concatenate([a, b])\n",
    "\n",
    "# Check if sorted\n",
    "if all(my_rnd[i] <= my_rnd[i+1] for i in range(len(my_rnd) - 1)):\n",
    "    print(\"All the vehicles are sorted\")\n",
    "    X = m_rnd\n",
    "else:\n",
    "    print(\"There's at least a vehicle not sorted\")\n",
    "    X = my_rnd.copy()\n",
    "    X.sort()\n",
    "    \n",
    "c = [0]*100\n",
    "xspan = np.concatenate([X,c])"
   ]
  },
  {
   "cell_type": "code",
   "execution_count": 4,
   "id": "2a9492d5",
   "metadata": {},
   "outputs": [
    {
     "data": {
      "text/plain": [
       "array([-0.99717297, -0.97977128, -0.9356443 , -0.91829671, -0.89314873,\n",
       "       -0.88492062, -0.86564826, -0.86491214, -0.82975373, -0.82070859,\n",
       "       -0.81210979, -0.81067962, -0.7986553 , -0.78061007, -0.7777861 ,\n",
       "       -0.76945875, -0.74917554, -0.74204504, -0.74122891, -0.71735959,\n",
       "       -0.67610495, -0.65011076, -0.59190153, -0.58310396, -0.58099295,\n",
       "       -0.56346368, -0.55103662, -0.54638388, -0.53185341, -0.52400287,\n",
       "       -0.49987615, -0.46391139, -0.45853384, -0.44173466, -0.39988971,\n",
       "       -0.39971521, -0.38352318, -0.35075963, -0.33836553, -0.32955426,\n",
       "       -0.32948953, -0.31323989, -0.28854613, -0.27112862, -0.25675002,\n",
       "       -0.23637491, -0.22115991, -0.2196172 , -0.20702992, -0.199222  ,\n",
       "       -0.14186951, -0.12844415, -0.11975   , -0.10369063, -0.1018428 ,\n",
       "       -0.09391613, -0.08547541, -0.07718912, -0.0724833 , -0.06330388,\n",
       "       -0.05688332, -0.05439932, -0.0533813 , -0.05324706, -0.0530318 ,\n",
       "       -0.05073388,  0.00272549,  0.00658222,  0.00707994,  0.0074969 ,\n",
       "        0.01023417,  0.03518623,  0.0378487 ,  0.04097307,  0.04331116,\n",
       "        0.05595927,  0.05719585,  0.05725456,  0.06820318,  0.07120823,\n",
       "        0.073748  ,  0.0773905 ,  0.07836445,  0.08170851,  0.09053098,\n",
       "        0.09833248,  0.09893088,  0.10246358,  0.1083938 ,  0.12143312,\n",
       "        0.12231022,  0.12400543,  0.13015358,  0.14544345,  0.15012964,\n",
       "        0.15017842,  0.17960469,  0.18455818,  0.18869199,  0.18894525,\n",
       "        0.18910526,  0.19231207,  0.19301719,  0.19666771,  0.20171939,\n",
       "        0.21062884,  0.21925692,  0.22244532,  0.2360827 ,  0.24072089,\n",
       "        0.24438015,  0.24505267,  0.25731102,  0.26150284,  0.27673641,\n",
       "        0.28901536,  0.29110715,  0.29294636,  0.29447452,  0.2954974 ,\n",
       "        0.31014068,  0.31372551,  0.34200102,  0.36929492,  0.3849054 ,\n",
       "        0.40095732,  0.40447284,  0.4050286 ,  0.40593661,  0.40923309,\n",
       "        0.41912567,  0.43307411,  0.43536222,  0.45772561,  0.46115929,\n",
       "        0.46934859,  0.47864246,  0.4848949 ,  0.48551807,  0.4889647 ,\n",
       "        0.49900353,  0.50419923,  0.52134161,  0.5354308 ,  0.54643986,\n",
       "        0.56456315,  0.56591141,  0.57598894,  0.57861684,  0.60252899,\n",
       "        0.60644792,  0.61035023,  0.65314676,  0.66157367,  0.68122731,\n",
       "        0.68328311,  0.68740998,  0.69133897,  0.69177326,  0.69466874,\n",
       "        0.69487056,  0.69552966,  0.69557314,  0.6967552 ,  0.72092886,\n",
       "        0.7511388 ,  0.75258389,  0.76340216,  0.76531955,  0.76953447,\n",
       "        0.77549597,  0.77766012,  0.78216345,  0.78981421,  0.7933686 ,\n",
       "        0.79459139,  0.80600356,  0.81881056,  0.82835466,  0.83615773,\n",
       "        0.84128334,  0.85380245,  0.85957317,  0.87120988,  0.87905935,\n",
       "        0.88129106,  0.8860097 ,  0.88878937,  0.89173685,  0.9033217 ,\n",
       "        0.91866393,  0.92134724,  0.9337309 ,  0.94236282,  0.95157369,\n",
       "        0.96222943,  0.98106839,  0.98686953,  0.99292775,  0.99580003,\n",
       "        0.        ,  0.        ,  0.        ,  0.        ,  0.        ,\n",
       "        0.        ,  0.        ,  0.        ,  0.        ,  0.        ,\n",
       "        0.        ,  0.        ,  0.        ,  0.        ,  0.        ,\n",
       "        0.        ,  0.        ,  0.        ,  0.        ,  0.        ,\n",
       "        0.        ,  0.        ,  0.        ,  0.        ,  0.        ,\n",
       "        0.        ,  0.        ,  0.        ,  0.        ,  0.        ,\n",
       "        0.        ,  0.        ,  0.        ,  0.        ,  0.        ,\n",
       "        0.        ,  0.        ,  0.        ,  0.        ,  0.        ,\n",
       "        0.        ,  0.        ,  0.        ,  0.        ,  0.        ,\n",
       "        0.        ,  0.        ,  0.        ,  0.        ,  0.        ,\n",
       "        0.        ,  0.        ,  0.        ,  0.        ,  0.        ,\n",
       "        0.        ,  0.        ,  0.        ,  0.        ,  0.        ,\n",
       "        0.        ,  0.        ,  0.        ,  0.        ,  0.        ,\n",
       "        0.        ,  0.        ,  0.        ,  0.        ,  0.        ,\n",
       "        0.        ,  0.        ,  0.        ,  0.        ,  0.        ,\n",
       "        0.        ,  0.        ,  0.        ,  0.        ,  0.        ,\n",
       "        0.        ,  0.        ,  0.        ,  0.        ,  0.        ,\n",
       "        0.        ,  0.        ,  0.        ,  0.        ,  0.        ,\n",
       "        0.        ,  0.        ,  0.        ,  0.        ,  0.        ,\n",
       "        0.        ,  0.        ,  0.        ,  0.        ,  0.        ])"
      ]
     },
     "execution_count": 4,
     "metadata": {},
     "output_type": "execute_result"
    }
   ],
   "source": [
    "xspan"
   ]
  },
  {
   "cell_type": "code",
   "execution_count": 5,
   "id": "601d9307",
   "metadata": {},
   "outputs": [],
   "source": [
    "tspan = np.linspace(0,T,160)"
   ]
  },
  {
   "cell_type": "code",
   "execution_count": 6,
   "id": "7db065c5",
   "metadata": {},
   "outputs": [],
   "source": [
    "# Flux\n",
    "\n",
    "if flux_flag == 0:\n",
    "\n",
    "    # Case study\n",
    "    def f(z):\n",
    "        return z*(1-z)\n",
    "\n",
    "    def fprime(z):\n",
    "        return 1-2*z\n",
    "\n",
    "    def fprime_inv(z):\n",
    "        return .5*(1-z)\n",
    "    \n",
    "if flux_flag == 1:\n",
    "\n",
    "    ## Burger\n",
    "    def f(z):\n",
    "        return z*z\n",
    "\n",
    "    def fprime(z):\n",
    "        return 2*z\n",
    "\n",
    "    def fprime_inv(z):\n",
    "        return z/2"
   ]
  },
  {
   "cell_type": "code",
   "execution_count": 7,
   "id": "f339110c",
   "metadata": {},
   "outputs": [],
   "source": [
    "# Initial Condition\n",
    "def rho_bar(x):\n",
    "    result = 0\n",
    "    if(x >= -1 and x <= 0):\n",
    "        result = rho_l\n",
    "    if(x > 0 and x < 1):\n",
    "        result = rho_r\n",
    "    return result\n",
    "\n",
    "# Solution (rarefaction wave)\n",
    "def rho(x,t):\n",
    "    result = 0\n",
    "    if(x <= fprime(rho_l)*t):\n",
    "        result = rho_l\n",
    "    if(x > fprime(rho_l)*t and x <= fprime(rho_r)*t):\n",
    "        result = fprime_inv(x/t)\n",
    "    if(x > fprime(rho_r)*t):\n",
    "        result = rho_r\n",
    "    return result"
   ]
  },
  {
   "cell_type": "code",
   "execution_count": 8,
   "id": "19ead1c7",
   "metadata": {},
   "outputs": [],
   "source": [
    "# speed of shock\n",
    "s = (f(rho_r) - f(rho_l))/(rho_r - rho_l)\n",
    "\n",
    "# shock\n",
    "def gamma(t):\n",
    "    return s*t\n",
    "\n",
    "# Lax-Entropy condition\n",
    "if fprime(rho_l) < s or fprime(rho_r) > s:\n",
    "    print(\"Lax-Entropy condition not satisfied\")"
   ]
  },
  {
   "cell_type": "code",
   "execution_count": 9,
   "id": "5ff28954",
   "metadata": {},
   "outputs": [
    {
     "data": {
      "text/plain": [
       "(-0.20000000000000004,\n",
       " (0.15999999999999998, 0.24),\n",
       " (0.19999999999999996, -0.6000000000000001))"
      ]
     },
     "execution_count": 9,
     "metadata": {},
     "output_type": "execute_result"
    }
   ],
   "source": [
    "s, (f(rho_r),f(rho_l)), (fprime(rho_l), fprime(rho_r))"
   ]
  },
  {
   "cell_type": "markdown",
   "id": "f9f61566",
   "metadata": {},
   "source": [
    "### Characteristics"
   ]
  },
  {
   "cell_type": "code",
   "execution_count": 10,
   "id": "ffe64b0c",
   "metadata": {},
   "outputs": [],
   "source": [
    "## Characteristics\n",
    "\n",
    "def ispositive(n):\n",
    "    result = True\n",
    "    if n < 0:\n",
    "        result = False\n",
    "    return result\n",
    "\n",
    "def characteristic(xspan,tspan):\n",
    "    \n",
    "    result = []\n",
    "    \n",
    "    for x0 in xspan:\n",
    "        \n",
    "        tmp = x0\n",
    "        char = [x0]\n",
    "        shock = [gamma(tspan[0])]\n",
    "        nocross_cond = True\n",
    "        \n",
    "        for t in tspan[1:]:\n",
    "            \n",
    "            shock.append(gamma(t))\n",
    "            cond = (tmp <= shock[-1])\n",
    "            \n",
    "            if cond:\n",
    "                tmp = x0 + rho_l*t\n",
    "            else:\n",
    "                tmp = x0 + rho_r*t\n",
    "\n",
    "            if nocross_cond:\n",
    "                val = (tmp-shock[-1])/(char[-1]-shock[-2])  \n",
    "                nocross_cond = ispositive(val)\n",
    "            else:\n",
    "                #print(\"nocross_cond is False now\")\n",
    "                tmp = gamma(t)\n",
    "\n",
    "            char.append(tmp)\n",
    "            \n",
    "        result.append(char)\n",
    "\n",
    "    return result"
   ]
  },
  {
   "cell_type": "code",
   "execution_count": 11,
   "id": "68aab737",
   "metadata": {},
   "outputs": [
    {
     "name": "stderr",
     "output_type": "stream",
     "text": [
      "/tmp/ipykernel_4326/490521149.py:31: RuntimeWarning: divide by zero encountered in scalar divide\n",
      "  val = (tmp-shock[-1])/(char[-1]-shock[-2])\n"
     ]
    },
    {
     "data": {
      "text/plain": [
       "(160, 160)"
      ]
     },
     "execution_count": 11,
     "metadata": {},
     "output_type": "execute_result"
    }
   ],
   "source": [
    "chars = characteristic(xspan,tspan)\n",
    "len(chars[0]), len(tspan)"
   ]
  },
  {
   "cell_type": "code",
   "execution_count": 12,
   "id": "e03430b6",
   "metadata": {
    "scrolled": false
   },
   "outputs": [
    {
     "data": {
      "image/png": "[encoded data removed]",
      "text/plain": [
       "<Figure size 700x500 with 1 Axes>"
      ]
     },
     "metadata": {},
     "output_type": "display_data"
    }
   ],
   "source": [
    "# Initialize the fig\n",
    "nrow, ncol = 1, 1\n",
    "width, height = 7, 5 # single subplot\n",
    "fig, ax = plt.subplots(nrow,ncol,figsize=(width,height))\n",
    "\n",
    "for ch in chars:\n",
    "    ax.plot(ch,tspan, c='red', ls='-', lw = 0.5, marker = '.')\n",
    "\n",
    "ax.plot(gamma(tspan),tspan)\n",
    "\n",
    "# labeling     \n",
    "ax.set_xlabel(r\"$x$\",fontsize=14)\n",
    "ax.set_ylabel(r\"$t$\",fontsize=14)\n",
    "ax.set_title(fr\"$characteristics$\",fontsize=14)\n",
    "ax.grid(color='grey', linestyle='-', linewidth=0.5)\n",
    "    \n",
    "plt.show()"
   ]
  },
  {
   "cell_type": "markdown",
   "id": "7cc1ef7f",
   "metadata": {},
   "source": [
    "### Solution"
   ]
  },
  {
   "cell_type": "code",
   "execution_count": 13,
   "id": "a922416d",
   "metadata": {},
   "outputs": [],
   "source": [
    "yrange = []\n",
    "\n",
    "for x in xspan:\n",
    "    y = []\n",
    "    for t in trange:\n",
    "        y.append(rho(x,t))\n",
    "    yrange.append(y)"
   ]
  },
  {
   "cell_type": "code",
   "execution_count": 14,
   "id": "42e5b6f8",
   "metadata": {},
   "outputs": [],
   "source": [
    "tspan_rounded = list(np.round(tspan,3))\n",
    "\n",
    "idx = [tspan_rounded.index(t) for t in trange]\n",
    "charrange = [[ch[i] for i in idx] for ch in chars]"
   ]
  },
  {
   "cell_type": "code",
   "execution_count": 15,
   "id": "ba5dd0ba",
   "metadata": {},
   "outputs": [
    {
     "data": {
      "image/png": "[encoded data removed]",
      "text/plain": [
       "<Figure size 1575x375 with 3 Axes>"
      ]
     },
     "metadata": {},
     "output_type": "display_data"
    }
   ],
   "source": [
    "# Initialize the fig\n",
    "nrow, ncol = 1, 3\n",
    "width, height = 7, 5 # single subplot\n",
    "fig, axes = plt.subplots(nrow,ncol,figsize=(width*ncol*.75,height*.75))\n",
    "\n",
    "for step, (ax, t) in enumerate(zip(axes.ravel(), trange)):\n",
    "    char, y = [c[step] for c in charrange], [y[step] for y in yrange]\n",
    "    ax.plot(char,y,c='red', ls='-', lw = 0.5, ms=5, marker='*', label=\"Discretized density\")\n",
    "    #     ax.plot(char,y*0,c='blue', ls='', ms=5, marker='o', label=\"Particles\")\n",
    "\n",
    "    ax.set_xlim([-1.5,1.5])\n",
    "    ax.set_ylim([0, 1])\n",
    "\n",
    "    # labeling     \n",
    "    ax.set_xlabel(r\"$x$\",fontsize=14)\n",
    "    ax.set_ylabel(r\"$\\rho$\",fontsize=14)\n",
    "    ax.set_title(fr\"$t={t}$\",fontsize=14)\n",
    "\n",
    "    ax.grid(color='grey', linestyle='-', linewidth=0.5)\n",
    "    ax.legend()\n",
    "    \n",
    "plt.show()"
   ]
  },
  {
   "cell_type": "code",
   "execution_count": null,
   "id": "aea8e020",
   "metadata": {},
   "outputs": [],
   "source": []
  },
  {
   "cell_type": "code",
   "execution_count": null,
   "id": "431aa79f",
   "metadata": {},
   "outputs": [],
   "source": []
  }
 ],
 "metadata": {
  "kernelspec": {
   "display_name": "Python 3 (ipykernel)",
   "language": "python",
   "name": "python3"
  },
  "language_info": {
   "codemirror_mode": {
    "name": "ipython",
    "version": 3
   },
   "file_extension": ".py",
   "mimetype": "text/x-python",
   "name": "python",
   "nbconvert_exporter": "python",
   "pygments_lexer": "ipython3",
   "version": "3.11.7"
  }
 },
 "nbformat": 4,
 "nbformat_minor": 5
}
