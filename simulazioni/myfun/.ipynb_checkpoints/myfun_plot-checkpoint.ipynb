{
 "cells": [
  {
   "cell_type": "code",
   "execution_count": 1,
   "id": "a801b172",
   "metadata": {},
   "outputs": [],
   "source": [
    "# Python libraries\n",
    "import os\n",
    "import matplotlib.pyplot as plt\n",
    "\n",
    "# To enable LaTeX and select a font\n",
    "plt.rcParams.update({\n",
    "    \"text.usetex\": True,\n",
    "    \"font.family\": \"sans-serif\",\n",
    "    \"font.sans-serif\": \"Helvetica\",\n",
    "})"
   ]
  },
  {
   "cell_type": "markdown",
   "id": "1d8eaea1",
   "metadata": {},
   "source": [
    "## Functions to plot"
   ]
  },
  {
   "cell_type": "code",
   "execution_count": 2,
   "id": "dc74aec4",
   "metadata": {},
   "outputs": [],
   "source": [
    "def plot_annotation(ax, scn, trajs, scale=1.0001):\n",
    "\n",
    "    \"\"\"\n",
    "    Annotate the number of the machine close to the endpoint of each trajectory\n",
    "    \n",
    "    INPUT:\n",
    "    * ax is the object where we want to plot over\n",
    "    * scn is a scene of the dataset\n",
    "    * trajs is an array of the trajectories to plot\n",
    "    * scale allows to adjust how near to write the number to each machine\n",
    "    \"\"\"\n",
    "    \n",
    "    N = scn['N. vehicles']\n",
    "    tstamps = scn['Tarr']\n",
    "    \n",
    "    # Annotate the name of each variable at the last value\n",
    "    labels = list(range(1,N+1,1))\n",
    "    for ycoord in trajs:\n",
    "        coords = zip([tstamps[-1]*scale]*N,ycoord[:,-1]) # last value where I want to annotate the corresponding label\n",
    "        for coord,lab in zip(coords,labels):\n",
    "            ax.annotate(xy=coord,                    # The point (x, y) to annotate.\n",
    "                        xytext=coord,                # The position (x, y) to place the text at.\n",
    "        #                 textcoords='offset points',\n",
    "                        text=lab,\n",
    "                        verticalalignment='center')\n",
    "            \n",
    "    return"
   ]
  },
  {
   "cell_type": "code",
   "execution_count": 3,
   "id": "754e9a72",
   "metadata": {},
   "outputs": [],
   "source": [
    "def plot_limits(ax, scn, trajs, xbal=0.01, ybal=0.05):\n",
    "\n",
    "    \"\"\"\n",
    "    Annotate the number of the machine close to the endpoint of each trajectory\n",
    "    \n",
    "    INPUT:\n",
    "    * ax is the object where we want to plot over\n",
    "    * scn is a scene of the dataset\n",
    "    * trajs is an array of the trajectories to plot\n",
    "    * scale allows to adjust how near to write the number to each machine\n",
    "    \"\"\"\n",
    "    \n",
    "    tstamps = scn['Tarr']\n",
    "    \n",
    "    # X LIM\n",
    "    ax.set_xlim(tstamps[0]*(1-xbal), tstamps[-1]*(1+xbal))\n",
    "    # Y LIM\n",
    "    mmin, mmax = min([x.min() for x in trajs]), max([x.max() for x in trajs])\n",
    "    ax.set_ylim(mmin*(1-2.5*ybal), mmax*(1+ybal))\n",
    "\n",
    "    return"
   ]
  },
  {
   "cell_type": "markdown",
   "id": "72dfa9f2",
   "metadata": {},
   "source": [
    "## Plot functions for NN model"
   ]
  },
  {
   "cell_type": "code",
   "execution_count": 4,
   "id": "d73ed677",
   "metadata": {},
   "outputs": [],
   "source": [
    "def plot_scn(scn, traj_sim, title=f\"Trajs simulated by NN driven LWR model\", xbal=0.01, ybal=0.05, scale=1.0001):\n",
    "    \"\"\"\n",
    "    Plot and annotate trajectories from a scene.\n",
    "\n",
    "    Args:\n",
    "    - scn: A scene from the dataset.\n",
    "    - traj_sim: An array of simulated trajectories to plot.\n",
    "    - title: Title for the plot.\n",
    "    - xbal: Balance factor for the x-axis plot limits.\n",
    "    - ybal: Balance factor for the y-axis plot limits.\n",
    "    - scale: Adjustment factor for annotation placement.\n",
    "    \"\"\"\n",
    "\n",
    "    # Extract necessary data from the scene\n",
    "    trajs = [scn['Xarr'], traj_sim]\n",
    "    labels_plot = [\"true\", \"traj sim\"]\n",
    "    tstamps = scn['Tarr']\n",
    "    N = scn['N. vehicles']\n",
    "\n",
    "    # Create a figure and axis for the plot\n",
    "    width, height = 7, 5\n",
    "    fig, ax = plt.subplots(figsize=(width, height))\n",
    "\n",
    "    # Plot the true and simulated trajectories for each vehicle\n",
    "    for veh in range(0, N):\n",
    "        ax.plot(tstamps, scn['Xarr'][veh])\n",
    "        ax.plot(tstamps, trajs[-1][veh], '--')\n",
    "\n",
    "    # Add vertical dashed lines at time stamps\n",
    "    for ts in tstamps:\n",
    "        ax.axvline(x=ts, color='red', linestyle='--', linewidth=0.75)\n",
    "\n",
    "    # Annotate the names of each vehicle at the last time stamp\n",
    "    plot_annotation(ax, scn, trajs, scale)\n",
    "\n",
    "    ax.set_xlabel(\"$t$\")\n",
    "    ax.set_ylabel(\"$X(t)$\")\n",
    "    ax.set_title(title, fontsize=15)\n",
    "\n",
    "    # Uncomment this line if you want to set custom plot limits\n",
    "    # plot_limits(ax, scn, trajs, xbal=xbal, ybal=ybal)\n",
    "\n",
    "    # Add a legend and display the grid\n",
    "    plt.legend(labels_plot)\n",
    "    plt.grid()\n",
    "    plt.show()\n",
    "\n",
    "    return"
   ]
  },
  {
   "cell_type": "markdown",
   "id": "3cfcee09",
   "metadata": {},
   "source": [
    "## Plot functions for LIN/LOG models"
   ]
  },
  {
   "cell_type": "code",
   "execution_count": 5,
   "id": "524973fd",
   "metadata": {},
   "outputs": [],
   "source": [
    "def plot_TD_LWR_scn(scn, x_list_matched, title):\n",
    "    \"\"\"\n",
    "    Plot time-discretized LWR (Lighthill-Whitham-Richards) model scene for the case Lin/Log.\n",
    "\n",
    "    Args:\n",
    "    - scn: A scene of the dataset.\n",
    "    - x_list_matched: A list of matched trajectories.\n",
    "    - title: Title for the plot.\n",
    "    \"\"\"\n",
    "\n",
    "    tstamps = scn['Tarr']\n",
    "\n",
    "    # Calculate a scaling factor for annotation placement based on the time range\n",
    "    tscale = 1 + (tstamps[-1] - tstamps[0]) / 10000\n",
    "\n",
    "    # Plot the scene and matched trajectories\n",
    "    plot_scn(scn, x_list_matched, title, xbal=0.01, ybal=0.05, scale=tscale)\n",
    "\n",
    "    return"
   ]
  }
 ],
 "metadata": {
  "kernelspec": {
   "display_name": "Python 3 (ipykernel)",
   "language": "python",
   "name": "python3"
  },
  "language_info": {
   "codemirror_mode": {
    "name": "ipython",
    "version": 3
   },
   "file_extension": ".py",
   "mimetype": "text/x-python",
   "name": "python",
   "nbconvert_exporter": "python",
   "pygments_lexer": "ipython3",
   "version": "3.11.7"
  }
 },
 "nbformat": 4,
 "nbformat_minor": 5
}
