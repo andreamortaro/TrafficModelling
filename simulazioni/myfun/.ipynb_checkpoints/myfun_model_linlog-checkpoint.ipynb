{
 "cells": [
  {
   "cell_type": "code",
   "execution_count": 1,
   "id": "1d554e98",
   "metadata": {
    "scrolled": true
   },
   "outputs": [
    {
     "name": "stderr",
     "output_type": "stream",
     "text": [
      "2023-12-21 16:56:22.120730: E external/local_xla/xla/stream_executor/cuda/cuda_dnn.cc:9261] Unable to register cuDNN factory: Attempting to register factory for plugin cuDNN when one has already been registered\n",
      "2023-12-21 16:56:22.120759: E external/local_xla/xla/stream_executor/cuda/cuda_fft.cc:607] Unable to register cuFFT factory: Attempting to register factory for plugin cuFFT when one has already been registered\n",
      "2023-12-21 16:56:22.121808: E external/local_xla/xla/stream_executor/cuda/cuda_blas.cc:1515] Unable to register cuBLAS factory: Attempting to register factory for plugin cuBLAS when one has already been registered\n",
      "2023-12-21 16:56:22.127473: I tensorflow/core/platform/cpu_feature_guard.cc:182] This TensorFlow binary is optimized to use available CPU instructions in performance-critical operations.\n",
      "To enable the following instructions: AVX2 FMA, in other operations, rebuild TensorFlow with the appropriate compiler flags.\n",
      "2023-12-21 16:56:22.928063: W tensorflow/compiler/tf2tensorrt/utils/py_utils.cc:38] TF-TRT Warning: Could not find TensorRT\n"
     ]
    }
   ],
   "source": [
    "## ODE\n",
    "import numpy as np\n",
    "import pandas as pd # for data manipulation\n",
    "import time\n",
    "from scipy.integrate import odeint, solve_ivp\n",
    "from sklearn.metrics import mean_squared_error\n",
    "import scipy.optimize as optimize\n",
    "\n",
    "from ipynb.fs.full.myfun_model_usefulfuns import *\n",
    "from ipynb.fs.defs.myfun_plot import *"
   ]
  },
  {
   "cell_type": "markdown",
   "id": "7ddce756",
   "metadata": {},
   "source": [
    "# Lin and Log models"
   ]
  },
  {
   "cell_type": "code",
   "execution_count": 1,
   "id": "4d6718d0",
   "metadata": {},
   "outputs": [],
   "source": [
    "## Traffic dynamic with LWR-model\n",
    "\n",
    "def TD_LWR_model(t, X, N, v0, L, flag):\n",
    "    \"\"\"\n",
    "    Lighthill-Whitham-Richards (LWR) traffic flow model in 1D\n",
    "    \"\"\"\n",
    "    #N, v0, L, flag = args[0], args[1], args[2], args[3]\n",
    "    \n",
    "    # W function\n",
    "    match flag:\n",
    "        case \"Lin\":\n",
    "            W = lambda z: v0*max(1-1/z,0)\n",
    "        case \"Log\":\n",
    "            W = lambda z: v0*max(np.log(z),0)\n",
    "        case _:\n",
    "            return f\"No match for {flag}, you can only choose between \\\"Lin\\\" and \\\"Log\\\"\"\n",
    "\n",
    "    # ode sys\n",
    "    d_x = np.zeros(N)\n",
    "    \n",
    "    for i in range(0,N-1):\n",
    "        tmp = (X[i+1] - X[i])/L\n",
    "        d_x[i] = W(tmp)\n",
    "\n",
    "    d_x[N-1] = v0\n",
    "        \n",
    "    return d_x"
   ]
  },
  {
   "cell_type": "markdown",
   "id": "6a53591c",
   "metadata": {},
   "source": [
    "## Optimize v0 and L in a scene"
   ]
  },
  {
   "cell_type": "code",
   "execution_count": 3,
   "id": "e72d8c2a",
   "metadata": {},
   "outputs": [],
   "source": [
    "def define_loss(TD_LWR_model, flag, scn, v0, L, whole_tspan, x0, N, deltat):\n",
    "\n",
    "    \"\"\"\n",
    "    f, loss_fun = define_loss(TD_LWR_model, flag, v0, L, whole_tspan, x0, N)\n",
    "    \"\"\"\n",
    "    \n",
    "    # Solve scn, freezing v0 and L\n",
    "    def f(params):\n",
    "        v0, L = params\n",
    "        sol = odeint(TD_LWR_model, x0, whole_tspan, args=(N, v0, L, flag), tfirst = True).T  \n",
    "        return sol\n",
    "\n",
    "    # Define Loss function to be optimized\n",
    "    def loss_fun(params):\n",
    "\n",
    "        sol = f(params)\n",
    "        _, sol_matched = match_timestamps_scene(whole_tspan, sol, deltat)\n",
    "        return mean_squared_error(y_true = scn['Xarr'], y_pred = sol_matched)\n",
    "    \n",
    "    return f, loss_fun"
   ]
  },
  {
   "cell_type": "code",
   "execution_count": 4,
   "id": "50e7447e",
   "metadata": {},
   "outputs": [],
   "source": [
    "def optimize_v0_L(TD_LWR_model, flag, scn, v0, L, deltat=0.05, method=\"L-BFGS-B\", tol=1e-10):\n",
    "    \n",
    "    N, tstamps = scn['N. vehicles'], scn['Tarr']\n",
    "    whole_tspan = time_discretization(tstamps[0], tstamps[-1], deltat)\n",
    "    x0 = scn['Xarr'][:,0].tolist()\n",
    "    \n",
    "    f, loss_fun = define_loss(TD_LWR_model, flag, scn, v0, L, whole_tspan, x0, N, deltat)\n",
    "\n",
    "    print('--'*50)\n",
    "    print(f\"Scene n.{scn.name}.\\n\\\n",
    "    Optimizing parameters...\\n\\\n",
    "    Initial mse: {loss_fun([v0,L])}\\n\")\n",
    "\n",
    "    # Optimizing procedure\n",
    "    bnds = ((0, np.inf), (2, np.inf))\n",
    "    result = optimize.minimize(loss_fun, x0 = [v0,L], bounds = bnds, method=method,tol=tol)\n",
    "    if result.success:\n",
    "        v0_upd, L_upd = result.x\n",
    "        print(f\"After optimizing, new params: v0 = {v0_upd}, L = {L_upd}\")\n",
    "    else:\n",
    "#          raise ValueError(result.message)\n",
    "        v0_upd, L_upd = v0, L\n",
    "        print(\"Optimization not succeed\")\n",
    "    \n",
    "\n",
    "    print(f\"\\nmse: {loss_fun([v0_upd, L_upd])}\")\n",
    "    print('--'*50)\n",
    "    \n",
    "    return v0_upd, L_upd"
   ]
  },
  {
   "cell_type": "markdown",
   "id": "1623d3b7",
   "metadata": {},
   "source": [
    "## Ode solver in a scn"
   ]
  },
  {
   "cell_type": "code",
   "execution_count": 5,
   "id": "fb616bbe",
   "metadata": {},
   "outputs": [],
   "source": [
    "def solve_TD_LWR_scn(TD_LWR_model, flag, scn, v0, L, deltat, pplot=False):\n",
    "\n",
    "    \"\"\"\n",
    "    x_list, t_list = solve_TD_LWR_scn(TD_LWR_model, flag, scn, v0, L, deltat)\n",
    "    \"\"\"\n",
    "    \n",
    "    N, tstamps, fmt = scn['N. vehicles'], scn['Tarr'], '{0:.02f}'\n",
    "    \n",
    "    print(\"--\"*50)\n",
    "    print(f\"We have {len(tstamps)-1} time intervals inside \\\n",
    "    [{fmt.format(tstamps[0])},{fmt.format(tstamps[-1])}]\")\n",
    "\n",
    "    x_list, t_list, v_list = [[i] for i in scn['Xarr'][:,0]], [scn['Tarr'][0]], []\n",
    "\n",
    "    for i in range(0,len(tstamps)-1):\n",
    "\n",
    "        print(f\"Time interval n.{i}: [{fmt.format(scn['Tarr'][i])}, {fmt.format(scn['Tarr'][i+1])}]\")\n",
    "\n",
    "        ## STEP 1: Solve the ODE sys in this time interval\n",
    "        x0 = [l[-1] for l in np.vstack(x_list).tolist()]  # last values computed\n",
    "        t0, tend = scn['Tarr'][i], scn['Tarr'][i+1]\n",
    "        tspan = time_discretization(t0, tend, deltat=0.05)\n",
    "\n",
    "        sol = odeint(TD_LWR_model, x0, tspan, args=(N, v0, L, flag), tfirst = True).T # transpose to get N trajs!\n",
    "\n",
    "        ## STEP 2: store info\n",
    "        x_list, t_list = update_sol_lists(N, tspan, sol, x_list, t_list)\n",
    "\n",
    "        ## STEP 3: Plot the result: with scn['Xarr']\n",
    "        if pplot:\n",
    "            _, x_list_matched = match_timestamps_scene(t_list, x_list)\n",
    "            title = rf\"$TD\\_LWR\\_model\\ using\\ W\\_{flag}$\"\n",
    "            plot_TD_LWR_scn(scn, x_list_matched, title)\n",
    "\n",
    "    print(\"--\"*50)\n",
    "    \n",
    "    return x_list, t_list"
   ]
  },
  {
   "cell_type": "markdown",
   "id": "56a66788",
   "metadata": {},
   "source": [
    "## Solve in a df (many scenes)"
   ]
  },
  {
   "cell_type": "code",
   "execution_count": 6,
   "id": "3c5f4a7e",
   "metadata": {},
   "outputs": [],
   "source": [
    "def solve_TD_LWR_df(df, TD_LWR_model, flag, v0=30, L=5, deltat=0.05, tol=1e-8, pplot=False):\n",
    "\n",
    "    info_scn = []\n",
    "    \n",
    "    for _, scn in df.iterrows():\n",
    "\n",
    "        tstamps, fmt = scn['Tarr'], '{0:.02f}'\n",
    "\n",
    "        print(\"==\"*50)\n",
    "        print(f\"df n.{df['N. file'][0]} - Scene n.{scn.name}/{len(df)}\")\n",
    "\n",
    "        # Optimize v0 and L\n",
    "        v0_upd, L_upd = optimize_v0_L(TD_LWR_model, flag, scn, v0, L, deltat=0.05, method=\"L-BFGS-B\", tol=1e-8)\n",
    "\n",
    "        # Solve the ODE\n",
    "        x_list, t_list = solve_TD_LWR_scn(TD_LWR_model, flag, scn, v0_upd, L_upd, deltat, pplot=False)\n",
    "        \n",
    "        # Store the result\n",
    "        info_scn.append([t_list, x_list, v0_upd, L_upd, scn.name, df['N. file'][0]])\n",
    "\n",
    "        print(\"==\"*50)   \n",
    "\n",
    "    # to better handle, transposte info_df\n",
    "    tmp = list(map(list, zip(*info_scn)))\n",
    "\n",
    "    info_df = pd.DataFrame({'t_list': tmp[0],\\\n",
    "                            'x_list': tmp[1],\\\n",
    "                            'v0_scn': tmp[2],\\\n",
    "                            'L_scn': tmp[3],\\\n",
    "                            'n_scn': tmp[4],\\\n",
    "                            'N. file': tmp[5]\n",
    "                           })\n",
    "  \n",
    "    return info_df"
   ]
  },
  {
   "cell_type": "code",
   "execution_count": 7,
   "id": "c24d756e",
   "metadata": {},
   "outputs": [],
   "source": [
    "def solve_TD_LWR_df_flag(df, TD_LWR_model, v0=30, L=5, deltat=0.05, tol=1e-8, pplot=False):\n",
    "    \n",
    "    \"\"\"\n",
    "    info_df = solve_TD_LWR_df_flag(df, TD_LWR_model, v0=30, L=5, deltat=0.05, tol=1e-8, pplot=False)\n",
    "    \n",
    "    Solve ODE for all the scenes in a df, using both Lin and then Log flag\n",
    "    \"\"\"\n",
    "    \n",
    "    l = []\n",
    "    for flag in ['Lin', 'Log']:\n",
    "\n",
    "        tmp = solve_TD_LWR_df(df, TD_LWR_model, flag, v0=30, L=5, deltat=0.05, tol=1e-12, pplot=False)\n",
    "        tmp['LWR_flag'] = [flag] * tmp.shape[0]\n",
    "\n",
    "        l.append(tmp)\n",
    "        \n",
    "    info_df = pd.concat(l)\n",
    "    \n",
    "    return info_df"
   ]
  },
  {
   "cell_type": "markdown",
   "id": "4ae9a80b",
   "metadata": {},
   "source": [
    "## Solving in all the df"
   ]
  },
  {
   "cell_type": "code",
   "execution_count": 8,
   "id": "84774eb3",
   "metadata": {},
   "outputs": [],
   "source": [
    "def solve_TD_LWR_dataset(dflist, TD_LWR_model, v0, L, deltat, tol, pplot=False):\n",
    "    \n",
    "    \"\"\"\n",
    "    info_alldataset = solve_TD_LWR_dataset(dflist, TD_LWR_model, v0=30, L=5, deltat=0.05, tol=1e-8, pplot=False)\n",
    "    \n",
    "    Solve ODE for all df (many scenes) in dflist, using both Lin and then Log flag\n",
    "    \"\"\"\n",
    "    \n",
    "    l = []\n",
    "    for df in dflist:\n",
    "        tmp = solve_TD_LWR_df_flag(df, TD_LWR_model, v0=30, L=5, deltat=0.05, tol=1e-8, pplot=False)    \n",
    "        l.append(tmp)\n",
    "        \n",
    "    info_alldataset = pd.concat(l)\n",
    "    \n",
    "    return info_alldataset"
   ]
  }
 ],
 "metadata": {
  "kernelspec": {
   "display_name": "Python 3 (ipykernel)",
   "language": "python",
   "name": "python3"
  },
  "language_info": {
   "codemirror_mode": {
    "name": "ipython",
    "version": 3
   },
   "file_extension": ".py",
   "mimetype": "text/x-python",
   "name": "python",
   "nbconvert_exporter": "python",
   "pygments_lexer": "ipython3",
   "version": "3.11.7"
  }
 },
 "nbformat": 4,
 "nbformat_minor": 5
}
