{
 "cells": [
  {
   "cell_type": "code",
   "execution_count": null,
   "id": "1d554e98",
   "metadata": {},
   "outputs": [],
   "source": [
    "## ODE\n",
    "import numpy as np\n",
    "import pandas as pd # for data manipulation\n",
    "import time\n",
    "from scipy.integrate import odeint, solve_ivp\n",
    "from sklearn.metrics import mean_squared_error\n",
    "import scipy.optimize as optimize\n",
    "\n",
    "from ipynb.fs.full.myfun_nn import *\n",
    "from ipynb.fs.defs.myfun_plot import *"
   ]
  },
  {
   "cell_type": "markdown",
   "id": "00022eda",
   "metadata": {},
   "source": [
    "# Useful functions"
   ]
  },
  {
   "cell_type": "code",
   "execution_count": null,
   "id": "b2e27410",
   "metadata": {},
   "outputs": [],
   "source": [
    "def time_discretization(t0, tend, deltat=0.05):\n",
    "    \"\"\"\n",
    "    Discretize a time span from t0 to tend with a specified time step.\n",
    "\n",
    "    Args:\n",
    "    - t0: Initial time.\n",
    "    - tend: End time.\n",
    "    - deltat: Time step (default is 0.05).\n",
    "\n",
    "    Returns:\n",
    "    - tspan: Array of discretized time points.\n",
    "    \"\"\"\n",
    "\n",
    "    Nt = round((tend - t0) / deltat) + 1    # Calculate the number of discretization points\n",
    "    tspan = np.linspace(t0, tend, int(Nt))  # Generate the time span using np.linspace\n",
    "    \n",
    "    return tspan"
   ]
  },
  {
   "cell_type": "code",
   "execution_count": null,
   "id": "7383e192",
   "metadata": {},
   "outputs": [],
   "source": [
    "def seq2scn(df):\n",
    "    \"\"\"\n",
    "    Convert a DataFrame of scenes into a list of scenes.\n",
    "\n",
    "    Args:\n",
    "    - df: A pandas DataFrame containing scenes.\n",
    "\n",
    "    Returns:\n",
    "    - seq: A list of scenes.\n",
    "    \"\"\"\n",
    "    \n",
    "    seq = []\n",
    "\n",
    "    # Iterate over rows to extract input and target for each scene\n",
    "    for row in df.iterrows():\n",
    "        scn = row[1]     # Extract the scene from the row\n",
    "        seq.append(scn)  # Append the scene to the list\n",
    "\n",
    "    return seq"
   ]
  },
  {
   "cell_type": "code",
   "execution_count": null,
   "id": "e2927300",
   "metadata": {},
   "outputs": [],
   "source": [
    "def match_timestamps_scene(t, x, deltat=0.05):\n",
    "    \"\"\"\n",
    "    Match the computed solution timestamps to the same timestamps of the scene data.\n",
    "\n",
    "    Args:\n",
    "    - t: Computed solution timestamps.\n",
    "    - x: Computed solution trajectories.\n",
    "    - deltat: Time step (default is 0.05).\n",
    "\n",
    "    Returns:\n",
    "    - t_matched: Matched timestamps.\n",
    "    - x_matched: Matched trajectories.\n",
    "    \"\"\"\n",
    "    \n",
    "    # Calculate the factor for matching based on the time step\n",
    "    factor = int(0.2 / deltat)\n",
    "\n",
    "    # Match timestamps and trajectories using slicing\n",
    "    t_matched = np.array(t)[::factor]\n",
    "    x_matched = np.array([traj[::factor] for traj in x])\n",
    "\n",
    "    return t_matched, x_matched"
   ]
  },
  {
   "cell_type": "code",
   "execution_count": null,
   "id": "b5b17894",
   "metadata": {},
   "outputs": [],
   "source": [
    "def update_sol_lists(N, tspan_ann, sol_ann, x_list, t_list):\n",
    "    \"\"\"\n",
    "    Update lists containing time and trajectory data after solving an ODE in a sub-interval of a scene.\n",
    "\n",
    "    Args:\n",
    "    - N: Number of vehicles.\n",
    "    - tspan_ann: Timestamps for the sub-interval solution.\n",
    "    - sol_ann: Computed solution for the sub-interval.\n",
    "    - x_list: List of vehicle trajectories.\n",
    "    - t_list: List of timestamps.\n",
    "\n",
    "    Returns:\n",
    "    - x_list: Updated list of vehicle trajectories.\n",
    "    - t_list: Updated list of timestamps.\n",
    "    \"\"\"\n",
    "\n",
    "    # Convert the solution and timestamps to lists\n",
    "    x_ann = sol_ann.tolist()\n",
    "    t_ann = tspan_ann[1:]  # Exclude the first recording\n",
    "\n",
    "    # Add the solution to the correct vehicle trajectory\n",
    "    for j in range(0, N):\n",
    "        tmp = x_ann[j][1:]  # Exclude the first recording\n",
    "        x_list[j] = np.concatenate([x_list[j], tmp])\n",
    "    \n",
    "    t_list = np.concatenate([t_list, t_ann]).tolist()\n",
    "\n",
    "    return x_list, t_list"
   ]
  }
 ],
 "metadata": {
  "kernelspec": {
   "display_name": "Python 3 (ipykernel)",
   "language": "python",
   "name": "python3"
  },
  "language_info": {
   "codemirror_mode": {
    "name": "ipython",
    "version": 3
   },
   "file_extension": ".py",
   "mimetype": "text/x-python",
   "name": "python",
   "nbconvert_exporter": "python",
   "pygments_lexer": "ipython3",
   "version": "3.10.9"
  }
 },
 "nbformat": 4,
 "nbformat_minor": 5
}
