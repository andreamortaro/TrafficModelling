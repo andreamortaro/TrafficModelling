{
 "cells": [
  {
   "cell_type": "code",
   "execution_count": null,
   "id": "1d554e98",
   "metadata": {},
   "outputs": [],
   "source": [
    "## ODE\n",
    "import numpy as np\n",
    "import pandas as pd # for data manipulation\n",
    "import time\n",
    "from scipy.integrate import odeint, solve_ivp\n",
    "from sklearn.metrics import mean_squared_error\n",
    "import scipy.optimize as optimize\n",
    "\n",
    "from ipynb.fs.full.myfun_nn import *\n",
    "from ipynb.fs.defs.myfun_plot import *"
   ]
  },
  {
   "cell_type": "markdown",
   "id": "00022eda",
   "metadata": {},
   "source": [
    "# Useful functions"
   ]
  },
  {
   "cell_type": "code",
   "execution_count": null,
   "id": "62becfdc",
   "metadata": {},
   "outputs": [],
   "source": [
    "def time_discretization(t0, tend, deltat=0.05):\n",
    "    \n",
    "    Nt = round((tend-t0)/deltat) + 1               # number of discretization points\n",
    "                                                   # cast the value into int, us round to avoid cast problem\n",
    "    tspan = np.linspace(t0, tend, int(Nt))         # timespan\n",
    "    \n",
    "    return tspan"
   ]
  },
  {
   "cell_type": "code",
   "execution_count": null,
   "id": "ff1323fe",
   "metadata": {},
   "outputs": [],
   "source": [
    "def seq2scn(df):\n",
    "    \n",
    "    \"\"\"\n",
    "    get an array of scenes, pandas obj\n",
    "    \"\"\"\n",
    "    \n",
    "    seq = []\n",
    "    \n",
    "    # extract input and target for each scene\n",
    "    for row in df.iterrows(): #run over rows\n",
    "        scn = row[1]\n",
    "        seq.append(scn)\n",
    "\n",
    "    return seq"
   ]
  },
  {
   "cell_type": "code",
   "execution_count": null,
   "id": "80cbf531",
   "metadata": {},
   "outputs": [],
   "source": [
    "def match_timestamps_scene(t, x, deltat = 0.05):\n",
    "    \n",
    "    \"\"\"\n",
    "    Match the computed solution to the same timestamps of the scene\n",
    "    \n",
    "    t_matched, x_matched = match_timestamps_scene(t, x, deltat = 0.05)\n",
    "    \"\"\"\n",
    "    # To recover the same timestep in the data\n",
    "    factor = int(0.2/deltat)\n",
    "    \n",
    "    t_matched = np.array(t)[::factor]\n",
    "    x_matched = np.array([traj[::factor] for traj in x])\n",
    "    \n",
    "    return t_matched, x_matched"
   ]
  },
  {
   "cell_type": "code",
   "execution_count": null,
   "id": "0ec84188",
   "metadata": {},
   "outputs": [],
   "source": [
    "def update_sol_lists(N, tspan_ann, sol_ann, x_list, t_list):\n",
    "    \n",
    "    \"\"\"\n",
    "    Once you solve the ode in a sub-interval of a scene, you update the lists containing t,x\n",
    "    \n",
    "    x_list, t_list = update_sol_lists(N, tspan_ann, sol_ann, x_list, t_list)\n",
    "    \"\"\"\n",
    "    \n",
    "    x_ann = sol_ann.tolist()\n",
    "    t_ann = tspan_ann[1:] # avoid the first recording\n",
    "\n",
    "    # add sol to the correct veh\n",
    "    for j in range(0,N):\n",
    "        tmp = x_ann[j][1:] # avoid the first recording\n",
    "        x_list[j] = np.concatenate([x_list[j],tmp])\n",
    "    t_list = np.concatenate([t_list,t_ann]).tolist()\n",
    "    \n",
    "    return x_list, t_list"
   ]
  },
  {
   "cell_type": "markdown",
   "id": "552dc2c0",
   "metadata": {},
   "source": [
    "## Recovering numpy arrays after storing csv"
   ]
  },
  {
   "cell_type": "code",
   "execution_count": null,
   "id": "0a6932e1",
   "metadata": {},
   "outputs": [],
   "source": [
    "# .apply(lambda x: x.replace('array','np.array')).apply(eval).apply(np.array)"
   ]
  }
 ],
 "metadata": {
  "kernelspec": {
   "display_name": "Python 3 (ipykernel)",
   "language": "python",
   "name": "python3"
  },
  "language_info": {
   "codemirror_mode": {
    "name": "ipython",
    "version": 3
   },
   "file_extension": ".py",
   "mimetype": "text/x-python",
   "name": "python",
   "nbconvert_exporter": "python",
   "pygments_lexer": "ipython3",
   "version": "3.10.9"
  }
 },
 "nbformat": 4,
 "nbformat_minor": 5
}
