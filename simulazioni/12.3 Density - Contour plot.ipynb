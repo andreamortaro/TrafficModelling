{
 "cells": [
  {
   "cell_type": "code",
   "execution_count": 1,
   "id": "a7402294",
   "metadata": {
    "scrolled": false
   },
   "outputs": [
    {
     "name": "stderr",
     "output_type": "stream",
     "text": [
      "2024-03-05 17:58:52.780536: E external/local_xla/xla/stream_executor/cuda/cuda_dnn.cc:9261] Unable to register cuDNN factory: Attempting to register factory for plugin cuDNN when one has already been registered\n",
      "2024-03-05 17:58:52.780571: E external/local_xla/xla/stream_executor/cuda/cuda_fft.cc:607] Unable to register cuFFT factory: Attempting to register factory for plugin cuFFT when one has already been registered\n",
      "2024-03-05 17:58:52.781494: E external/local_xla/xla/stream_executor/cuda/cuda_blas.cc:1515] Unable to register cuBLAS factory: Attempting to register factory for plugin cuBLAS when one has already been registered\n",
      "2024-03-05 17:58:52.787493: I tensorflow/core/platform/cpu_feature_guard.cc:182] This TensorFlow binary is optimized to use available CPU instructions in performance-critical operations.\n",
      "To enable the following instructions: AVX2 FMA, in other operations, rebuild TensorFlow with the appropriate compiler flags.\n",
      "2024-03-05 17:58:53.756728: W tensorflow/compiler/tf2tensorrt/utils/py_utils.cc:38] TF-TRT Warning: Could not find TensorRT\n"
     ]
    }
   ],
   "source": [
    "# Python libraries\n",
    "import os\n",
    "import sys\n",
    "import pandas as pd # for data manipulation\n",
    "import numpy as np # for data manipulation\n",
    "import keras\n",
    "import matplotlib.pyplot as plt\n",
    "from datetime import datetime\n",
    "from sklearn.metrics import mean_absolute_error\n",
    "\n",
    "# To enable LaTeX and select a font\n",
    "plt.rcParams.update({\n",
    "    \"text.usetex\": True,\n",
    "    \"font.family\": \"sans-serif\",\n",
    "    \"font.sans-serif\": \"Helvetica\",\n",
    "})\n",
    "\n",
    "# Import custom functions from other notebooks\n",
    "sys.path.append(\"myfun/\")\n",
    "from ipynb.fs.full.myfun_model_linlog import *\n",
    "from ipynb.fs.full.myfun_model_nn import *\n",
    "from ipynb.fs.full.myfun_density import *\n",
    "from ipynb.fs.full.myfun_model_usefulfuns import *"
   ]
  },
  {
   "cell_type": "code",
   "execution_count": 2,
   "id": "2cc5a6dd",
   "metadata": {},
   "outputs": [],
   "source": [
    "flag_save = False"
   ]
  },
  {
   "cell_type": "code",
   "execution_count": 3,
   "id": "ae73ff8d",
   "metadata": {},
   "outputs": [],
   "source": [
    "# Create the directory..\n",
    "if flag_save:\n",
    "    \n",
    "    ext = \".svg\"\n",
    "    \n",
    "    # Create directory where to save the image\n",
    "    now = datetime.now() \n",
    "    d = now.strftime(f\"%Y-%m-%d_%H-%M-%S_density_contour\")\n",
    "    \n",
    "    path = 'out/' + d\n",
    "    os.mkdir(path)"
   ]
  },
  {
   "cell_type": "code",
   "execution_count": 4,
   "id": "776cc8fe",
   "metadata": {},
   "outputs": [],
   "source": [
    "dir_nn10 = \"2023-12-10_11-38-47_df1-2-3-4-5-6-7-8-9-10_500it-PRE-nn10\"\n",
    "dir_nn10_v2 = \"2024-03-04_03-44-51_df1-2-3-4-5-6-7-8-9-10_500it-PRE-nn10-v2\"\n",
    "\n",
    "target_dir = \"./out/\"\n",
    "namefile_model_nn = \"/model_nn10.keras\""
   ]
  },
  {
   "cell_type": "markdown",
   "id": "fc6522be",
   "metadata": {},
   "source": [
    "# 1. Contour density - Linear case"
   ]
  },
  {
   "cell_type": "markdown",
   "id": "3f89905b",
   "metadata": {},
   "source": [
    "## Preliminary"
   ]
  },
  {
   "cell_type": "code",
   "execution_count": 5,
   "id": "042ea2f3",
   "metadata": {},
   "outputs": [],
   "source": [
    "## Params\n",
    "Nx = 400\n",
    "Nt = 320\n",
    "T = .5"
   ]
  },
  {
   "cell_type": "code",
   "execution_count": 6,
   "id": "6eda448b",
   "metadata": {},
   "outputs": [],
   "source": [
    "# Space - linearly distributed\n",
    "dx = 1/int(Nx/3)\n",
    "a = np.linspace(-1,0,int(Nx/3))\n",
    "b = np.linspace(0+dx/2, 1, Nx-int(Nx/3))\n",
    "xspan = np.concatenate([a, b])\n",
    "\n",
    "# Time\n",
    "tspan = np.linspace(0,T,Nt)\n",
    "tspan_rounded = list(np.round(tspan,2))"
   ]
  },
  {
   "cell_type": "markdown",
   "id": "cdb08c4f",
   "metadata": {},
   "source": [
    "## Lin simulation"
   ]
  },
  {
   "cell_type": "code",
   "execution_count": 7,
   "id": "bcbaffea",
   "metadata": {},
   "outputs": [],
   "source": [
    "# Model params\n",
    "L_lin = .0025\n",
    "v0 = 1\n",
    "\n",
    "# Solving the ODE\n",
    "sol_lin = odeint(TD_LWR_model, xspan, tspan, args=(Nx, v0, L_lin, 'Lin'), tfirst = True).T\n",
    "\n",
    "# Discretized density\n",
    "ln = 1/Nx\n",
    "rho_dis_lin = ln/np.diff(sol_lin, axis=0)"
   ]
  },
  {
   "cell_type": "code",
   "execution_count": 8,
   "id": "be87a64d",
   "metadata": {},
   "outputs": [],
   "source": [
    "# Density and car trajs matrices\n",
    "DM_lin = []\n",
    "CTM_lin = []\n",
    "for i_t in range(len(tspan)):\n",
    "    \n",
    "    # Density matrix\n",
    "    tmp1 = rho_dis_lin[:,i_t] # density sliced at time tspan[i_t]\n",
    "    DM_lin.append(tmp1.flatten().tolist())\n",
    "    \n",
    "    # Car Trajs matrix\n",
    "    tmp2 = sol_lin[:,i_t][1:]\n",
    "    CTM_lin.append(tmp2.flatten().tolist())\n",
    "    \n",
    "TM_lin = [[t]*(Nx-1) for t in tspan]"
   ]
  },
  {
   "cell_type": "code",
   "execution_count": 9,
   "id": "52d9c844",
   "metadata": {},
   "outputs": [],
   "source": [
    "# len(DM_lin), len(CTM_lin), len(TM_lin), len(DM_lin[0]), len(CTM_lin[0]), len(TM_lin[0])"
   ]
  },
  {
   "cell_type": "markdown",
   "id": "cde86954",
   "metadata": {},
   "source": [
    "## Plot"
   ]
  },
  {
   "cell_type": "code",
   "execution_count": 10,
   "id": "a23c85b4",
   "metadata": {
    "scrolled": false
   },
   "outputs": [
    {
     "data": {
      "image/png": "[encoded data removed]",
      "text/plain": [
       "<Figure size 600x412.5 with 2 Axes>"
      ]
     },
     "metadata": {},
     "output_type": "display_data"
    }
   ],
   "source": [
    "# Initialize the fig\n",
    "nrow, ncol = 1, 1\n",
    "width, height = 8,5.5 # single subplot\n",
    "fig, ax = plt.subplots(nrow,ncol,figsize=(width*ncol*.75,height*.75))\n",
    "\n",
    "X = CTM_lin\n",
    "Y = TM_lin\n",
    "Z = DM_lin\n",
    "\n",
    "cs = ax.contourf(X, Y, Z)\n",
    "cbar = fig.colorbar(cs)\n",
    "\n",
    "# Mask blank areas\n",
    "cmap = cs.get_cmap()\n",
    "colors = cmap(np.linspace(0, 1, 10))\n",
    "plt.gca().patch.set_color(colors[0])\n",
    "\n",
    "ax.set_xlim([-1,2])\n",
    "ax.set_ylim([0, T])\n",
    "ax.set_xlabel(r\"$x$\",fontsize=12)\n",
    "ax.set_ylabel(r\"$t$\",fontsize=12)\n",
    "ax.set_title(fr\"$Density\\ contour\\ plot\\ -\\ Lin\\ case$\",fontsize=14)\n",
    "\n",
    "fig.tight_layout()\n",
    "plt.show()"
   ]
  },
  {
   "cell_type": "markdown",
   "id": "499ede28",
   "metadata": {},
   "source": [
    "# 2. Contour density - NN10 case"
   ]
  },
  {
   "cell_type": "markdown",
   "id": "867dcbe9",
   "metadata": {},
   "source": [
    "## NN simulation"
   ]
  },
  {
   "cell_type": "code",
   "execution_count": 13,
   "id": "b1648a6a",
   "metadata": {},
   "outputs": [],
   "source": [
    "# Load NN10 model\n",
    "dir_nn = dir_nn10\n",
    "# dir_nn = dir_nn10_v2\n",
    "\n",
    "path = target_dir + dir_nn\n",
    "model_nn = keras.models.load_model(path + namefile_model_nn)"
   ]
  },
  {
   "cell_type": "code",
   "execution_count": 22,
   "id": "ba82d644",
   "metadata": {},
   "outputs": [],
   "source": [
    "# ODE computation\n",
    "normalize_flag = False\n",
    "t_list, sol_ann_list, v_list = nn_odesolver(model_nn, Nx, xspan, tspan, normalize_flag)\n",
    "\n",
    "## Discretized density reconstruction\n",
    "ln = 1/Nx\n",
    "rho_dis_ann = ln/np.diff(sol_ann_list, axis=0)"
   ]
  },
  {
   "cell_type": "code",
   "execution_count": 23,
   "id": "7a645a43",
   "metadata": {},
   "outputs": [],
   "source": [
    "# Density and car trajs matrices\n",
    "DM_nn = []\n",
    "CTM_nn = []\n",
    "for i_t in range(len(tspan)):\n",
    "    \n",
    "    # Density matrix\n",
    "    tmp1 = rho_dis_ann[:,i_t] # density sliced at time tspan[i_t]\n",
    "    DM_nn.append(tmp1.flatten().tolist())\n",
    "    \n",
    "    # Car Trajs matrix\n",
    "    tmp2 = sol_ann_list[:,i_t][1:]\n",
    "    CTM_nn.append(tmp2.flatten().tolist())\n",
    "    \n",
    "TM_nn = [[t]*(Nx-1) for t in tspan]"
   ]
  },
  {
   "cell_type": "code",
   "execution_count": 24,
   "id": "72541074",
   "metadata": {},
   "outputs": [
    {
     "data": {
      "text/plain": [
       "(320, 320, 320, 399, 399, 399)"
      ]
     },
     "execution_count": 24,
     "metadata": {},
     "output_type": "execute_result"
    }
   ],
   "source": [
    "len(DM_nn), len(CTM_nn), len(TM_nn), len(DM_nn[0]), len(CTM_nn[0]), len(TM_nn[0])"
   ]
  },
  {
   "cell_type": "markdown",
   "id": "e671db95",
   "metadata": {},
   "source": [
    "## Plot"
   ]
  },
  {
   "cell_type": "code",
   "execution_count": 26,
   "id": "9e2d71cd",
   "metadata": {
    "scrolled": false
   },
   "outputs": [
    {
     "data": {
      "image/png": "[encoded data removed]",
      "text/plain": [
       "<Figure size 600x412.5 with 2 Axes>"
      ]
     },
     "metadata": {},
     "output_type": "display_data"
    }
   ],
   "source": [
    "# Initialize the fig\n",
    "nrow, ncol = 1, 1\n",
    "width, height = 8,5.5 # single subplot\n",
    "fig, ax = plt.subplots(nrow,ncol,figsize=(width*ncol*.75,height*.75))\n",
    "\n",
    "X = CTM_nn\n",
    "Y = TM_nn\n",
    "Z = DM_nn\n",
    "\n",
    "cs = ax.contourf(X, Y, Z)\n",
    "cbar = fig.colorbar(cs)\n",
    "\n",
    "# Mask blank areas\n",
    "cmap = cs.get_cmap()\n",
    "colors = cmap(np.linspace(0, 1, 10))\n",
    "plt.gca().patch.set_color(colors[0])\n",
    "\n",
    "# ax.set_xlim([-1,2])\n",
    "ax.set_ylim([0, T])\n",
    "ax.set_xlabel(r\"$x$\",fontsize=12)\n",
    "ax.set_ylabel(r\"$t$\",fontsize=12)\n",
    "ax.set_title(fr\"$Density\\ contour\\ plot\\ -\\ NN10\\ case$\",fontsize=14)\n",
    "\n",
    "fig.tight_layout()\n",
    "plt.show()"
   ]
  }
 ],
 "metadata": {
  "kernelspec": {
   "display_name": "Python 3 (ipykernel)",
   "language": "python",
   "name": "python3"
  },
  "language_info": {
   "codemirror_mode": {
    "name": "ipython",
    "version": 3
   },
   "file_extension": ".py",
   "mimetype": "text/x-python",
   "name": "python",
   "nbconvert_exporter": "python",
   "pygments_lexer": "ipython3",
   "version": "3.11.7"
  }
 },
 "nbformat": 4,
 "nbformat_minor": 5
}
