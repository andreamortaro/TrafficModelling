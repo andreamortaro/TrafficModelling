{
 "cells": [
  {
   "cell_type": "code",
   "execution_count": 1,
   "id": "a7402294",
   "metadata": {
    "scrolled": false
   },
   "outputs": [
    {
     "name": "stderr",
     "output_type": "stream",
     "text": [
      "2024-03-05 14:54:36.198732: E external/local_xla/xla/stream_executor/cuda/cuda_dnn.cc:9261] Unable to register cuDNN factory: Attempting to register factory for plugin cuDNN when one has already been registered\n",
      "2024-03-05 14:54:36.198761: E external/local_xla/xla/stream_executor/cuda/cuda_fft.cc:607] Unable to register cuFFT factory: Attempting to register factory for plugin cuFFT when one has already been registered\n",
      "2024-03-05 14:54:36.199819: E external/local_xla/xla/stream_executor/cuda/cuda_blas.cc:1515] Unable to register cuBLAS factory: Attempting to register factory for plugin cuBLAS when one has already been registered\n",
      "2024-03-05 14:54:36.208839: I tensorflow/core/platform/cpu_feature_guard.cc:182] This TensorFlow binary is optimized to use available CPU instructions in performance-critical operations.\n",
      "To enable the following instructions: AVX2 FMA, in other operations, rebuild TensorFlow with the appropriate compiler flags.\n",
      "2024-03-05 14:54:36.990811: W tensorflow/compiler/tf2tensorrt/utils/py_utils.cc:38] TF-TRT Warning: Could not find TensorRT\n"
     ]
    }
   ],
   "source": [
    "# Python libraries\n",
    "import os\n",
    "import sys\n",
    "import pandas as pd # for data manipulation\n",
    "import numpy as np # for data manipulation\n",
    "import keras\n",
    "import matplotlib.pyplot as plt\n",
    "from datetime import datetime\n",
    "from sklearn.metrics import mean_absolute_error\n",
    "\n",
    "# To enable LaTeX and select a font\n",
    "plt.rcParams.update({\n",
    "    \"text.usetex\": True,\n",
    "    \"font.family\": \"sans-serif\",\n",
    "    \"font.sans-serif\": \"Helvetica\",\n",
    "})\n",
    "\n",
    "# Import custom functions from other notebooks\n",
    "sys.path.append(\"myfun/\")\n",
    "from ipynb.fs.full.myfun_model_linlog import *\n",
    "from ipynb.fs.full.myfun_model_nn import *\n",
    "from ipynb.fs.full.myfun_density import *\n",
    "from ipynb.fs.full.myfun_model_usefulfuns import *"
   ]
  },
  {
   "cell_type": "code",
   "execution_count": 2,
   "id": "2cc5a6dd",
   "metadata": {},
   "outputs": [],
   "source": [
    "flag_save = False"
   ]
  },
  {
   "cell_type": "code",
   "execution_count": 3,
   "id": "ae73ff8d",
   "metadata": {},
   "outputs": [],
   "source": [
    "# Create the directory..\n",
    "if flag_save:\n",
    "    \n",
    "    ext = \".svg\"\n",
    "    \n",
    "    # Create directory where to save the image\n",
    "    now = datetime.now() \n",
    "    d = now.strftime(f\"%Y-%m-%d_%H-%M-%S_density_misc_part2\")\n",
    "    \n",
    "    path = 'out/' + d\n",
    "    os.mkdir(path)"
   ]
  },
  {
   "cell_type": "code",
   "execution_count": 4,
   "id": "776cc8fe",
   "metadata": {},
   "outputs": [],
   "source": [
    "dir_nn10 = \"2023-12-10_11-38-47_df1-2-3-4-5-6-7-8-9-10_500it-PRE-nn10\"\n",
    "dir_nn10_v2 = \"2024-03-04_03-44-51_df1-2-3-4-5-6-7-8-9-10_500it-PRE-nn10-v2\"\n",
    "\n",
    "target_dir = \"./out/\"\n",
    "namefile_model_nn = \"/model_nn10.keras\""
   ]
  },
  {
   "cell_type": "markdown",
   "id": "59dc3ceb",
   "metadata": {},
   "source": [
    "# 1. Velocity vs distances and densities"
   ]
  },
  {
   "cell_type": "markdown",
   "id": "7622bfb2",
   "metadata": {},
   "source": [
    "## Preliminary"
   ]
  },
  {
   "cell_type": "code",
   "execution_count": 5,
   "id": "db247a06",
   "metadata": {},
   "outputs": [],
   "source": [
    "# space\n",
    "N = 100\n",
    "xspan1 = np.linspace(0.01,1,N) # consecutive distances\n",
    "\n",
    "# time\n",
    "Nt = 201\n",
    "T = .5\n",
    "tspan1 = np.linspace(0,T,Nt)\n",
    "dt = T/len(tspan1)\n",
    "\n",
    "it = -1"
   ]
  },
  {
   "cell_type": "markdown",
   "id": "20610b36",
   "metadata": {},
   "source": [
    "## Lin model"
   ]
  },
  {
   "cell_type": "code",
   "execution_count": 6,
   "id": "4cc51464",
   "metadata": {},
   "outputs": [],
   "source": [
    "# Model params\n",
    "L_lin = .0025\n",
    "v0 = 1\n",
    "\n",
    "# Solving the ODE\n",
    "sol_lin1 = odeint(TD_LWR_model, xspan1, tspan1, args=(N, v0, L_lin, 'Lin'), tfirst = True).T"
   ]
  },
  {
   "cell_type": "code",
   "execution_count": 7,
   "id": "017101aa",
   "metadata": {},
   "outputs": [],
   "source": [
    "# consecutive distances\n",
    "xx_lin = np.diff(sol_lin1[:,it],axis=0)\n",
    "\n",
    "# velocities\n",
    "dx_sol_lin = []\n",
    "for car_traj in sol_lin1:\n",
    "    dx_ct = np.diff(car_traj, axis=0)\n",
    "    dx_sol_lin.append(dx_ct)\n",
    "\n",
    "vv_lin = [dx[it]/dt for dx in dx_sol_lin][:-1]\n",
    "\n",
    "# densities\n",
    "dd_lin = 1/xx_lin"
   ]
  },
  {
   "cell_type": "markdown",
   "id": "bef99c43",
   "metadata": {},
   "source": [
    "## NN10 model"
   ]
  },
  {
   "cell_type": "code",
   "execution_count": 8,
   "id": "012c2af5",
   "metadata": {},
   "outputs": [],
   "source": [
    "# Load NN10 model\n",
    "dir_nn = dir_nn10\n",
    "# dir_nn = dir_nn10_v2\n",
    "\n",
    "path = target_dir + dir_nn\n",
    "model_nn = keras.models.load_model(path + namefile_model_nn)\n",
    "\n",
    "# ODE computation\n",
    "t_list, sol_ann_list, v_list = nn_odesolver(model_nn, N, xspan1, tspan1)"
   ]
  },
  {
   "cell_type": "code",
   "execution_count": 9,
   "id": "d1ebf565",
   "metadata": {},
   "outputs": [],
   "source": [
    "# consecutive distances\n",
    "xx_nn = np.diff(sol_ann_list[:,it],axis=0)\n",
    "\n",
    "# velocities\n",
    "## 1. postprocessed\n",
    "dx_sol_ann = []\n",
    "for car_traj in sol_ann_list:\n",
    "    dx_ct = np.diff(car_traj, axis=0)\n",
    "    dx_sol_ann.append(dx_ct)\n",
    "vv_nn1 = [dx[it]/dt for dx in dx_sol_ann][:-1]\n",
    "\n",
    "## 2. preprocessed\n",
    "vv_nn2 = v_list[:,it][:-1]\n",
    "\n",
    "vv_nn = vv_nn2\n",
    "\n",
    "# densities\n",
    "dd_nn = 1/xx_nn"
   ]
  },
  {
   "cell_type": "markdown",
   "id": "6ce512db",
   "metadata": {},
   "source": [
    "## Plot"
   ]
  },
  {
   "cell_type": "code",
   "execution_count": 10,
   "id": "6f462499",
   "metadata": {},
   "outputs": [],
   "source": [
    "# vv_lin = vv_lin/np.max(vv_lin)\n",
    "# vv_nn = vv_nn/np.max(vv_nn)"
   ]
  },
  {
   "cell_type": "code",
   "execution_count": 11,
   "id": "8dc3c928",
   "metadata": {},
   "outputs": [
    {
     "data": {
      "image/png": "[encoded data removed]",
      "text/plain": [
       "<Figure size 675x337.5 with 2 Axes>"
      ]
     },
     "metadata": {},
     "output_type": "display_data"
    },
    {
     "data": {
      "image/png": "[encoded data removed]",
      "text/plain": [
       "<Figure size 675x337.5 with 2 Axes>"
      ]
     },
     "metadata": {},
     "output_type": "display_data"
    }
   ],
   "source": [
    "# Initialize the fig\n",
    "nrow, ncol = 1, 2\n",
    "width, height = 4.5, 4.5 # single subplot\n",
    "fig, ax = plt.subplots(nrow,ncol,figsize=(width*ncol*.75,height*.75))\n",
    "\n",
    "# AX 0\n",
    "ax[0].plot(xx_lin, vv_lin)\n",
    "\n",
    "ax[0].grid(color='grey', linestyle='-', linewidth=0.1)\n",
    "# ax[0].set_title(fr\"$NN10\\ velocity$\", fontsize=18)\n",
    "ax[0].set_xlabel(fr\"$distances$\", fontsize=15)\n",
    "ax[0].set_ylabel(fr\"$velocity$\", fontsize=15)\n",
    "\n",
    "# AX 1\n",
    "dd_lin2 = dd_lin/np.max(dd_lin)\n",
    "\n",
    "ax[1].plot(dd_lin2, vv_lin)\n",
    "\n",
    "ax[1].grid(color='grey', linestyle='-', linewidth=0.1)\n",
    "# ax[1].set_title(fr\"$NN10\\ velocity$\", fontsize=18)\n",
    "ax[1].set_xlabel(fr\"$\\rho$\", fontsize=15)\n",
    "ax[1].set_ylabel(fr\"$velocity$\", fontsize=15)\n",
    "\n",
    "fig.tight_layout()\n",
    "plt.suptitle(fr\"$Lin\\ velocity\\ at\\ t={tspan1[it]}$\", fontsize=16,y=1.05);\n",
    "plt.show()\n",
    "\n",
    "\n",
    "# Initialize the fig\n",
    "nrow, ncol = 1, 2\n",
    "width, height = 4.5, 4.5 # single subplot\n",
    "fig, ax = plt.subplots(nrow,ncol,figsize=(width*ncol*.75,height*.75))\n",
    "\n",
    "# AX 0\n",
    "ax[0].plot(xx_nn, vv_nn)\n",
    "\n",
    "ax[0].grid(color='grey', linestyle='-', linewidth=0.1)\n",
    "# ax[0].set_title(fr\"$NN10\\ velocity$\", fontsize=18)\n",
    "ax[0].set_xlabel(fr\"$distances$\", fontsize=15)\n",
    "ax[0].set_ylabel(fr\"$velocity$\", fontsize=15)\n",
    "\n",
    "# AX 1\n",
    "dd_nn2 = dd_nn/np.max(dd_nn)\n",
    "ax[1].plot(dd_nn2, vv_nn)\n",
    "\n",
    "ax[1].grid(color='grey', linestyle='-', linewidth=0.1)\n",
    "# ax[1].set_title(fr\"$NN10\\ velocity$\", fontsize=18)\n",
    "ax[1].set_xlabel(fr\"$\\rho$\", fontsize=15)\n",
    "ax[1].set_ylabel(fr\"$velocity$\", fontsize=15)\n",
    "\n",
    "fig.tight_layout()\n",
    "plt.suptitle(fr\"$NN10\\ velocity\\ at\\ t={tspan1[it]}$\", fontsize=16,y=1.05);\n",
    "plt.show()"
   ]
  },
  {
   "cell_type": "markdown",
   "id": "1e0c8dad",
   "metadata": {},
   "source": [
    "# 2. Riemann problem"
   ]
  },
  {
   "cell_type": "markdown",
   "id": "c2e73416",
   "metadata": {},
   "source": [
    "Since velocities predicted by NN are too large..."
   ]
  },
  {
   "cell_type": "markdown",
   "id": "2af6a34d",
   "metadata": {},
   "source": [
    "## Preliminary"
   ]
  },
  {
   "cell_type": "code",
   "execution_count": 12,
   "id": "82a6f905",
   "metadata": {},
   "outputs": [],
   "source": [
    "## Params\n",
    "Nx = 400\n",
    "Nt = 201\n",
    "T = .5"
   ]
  },
  {
   "cell_type": "code",
   "execution_count": 13,
   "id": "44245bac",
   "metadata": {},
   "outputs": [],
   "source": [
    "# Space - linearly distributed\n",
    "dx = 1/int(Nx/3)\n",
    "a = np.linspace(-1,0,int(Nx/3))\n",
    "b = np.linspace(0+dx/2, 1, Nx-int(Nx/3))\n",
    "xspan2 = np.concatenate([a, b])\n",
    "\n",
    "# Time\n",
    "tspan = np.linspace(0,T,Nt)\n",
    "tspan_rounded = list(np.round(tspan,2))"
   ]
  },
  {
   "cell_type": "markdown",
   "id": "a1a5b87b",
   "metadata": {},
   "source": [
    "## Lin simulation"
   ]
  },
  {
   "cell_type": "code",
   "execution_count": 14,
   "id": "fc09bb66",
   "metadata": {},
   "outputs": [],
   "source": [
    "# Model params\n",
    "L_lin = .0025\n",
    "v0 = 1\n",
    "\n",
    "# Solving the ODE\n",
    "sol_lin2 = odeint(TD_LWR_model, xspan2, tspan, args=(Nx, v0, L_lin, 'Lin'), tfirst = True).T\n",
    "\n",
    "# Discretized density\n",
    "ln = 1/Nx\n",
    "rho_dis_lin = ln/np.diff(sol_lin2, axis=0)"
   ]
  },
  {
   "cell_type": "markdown",
   "id": "ed64bcf5",
   "metadata": {},
   "source": [
    "## NN10 simulation"
   ]
  },
  {
   "cell_type": "code",
   "execution_count": 15,
   "id": "030c4d85",
   "metadata": {},
   "outputs": [],
   "source": [
    "# Load NN10 model\n",
    "dir_nn = dir_nn10\n",
    "# dir_nn = dir_nn10_v2\n",
    "\n",
    "path = target_dir + dir_nn\n",
    "model_nn = keras.models.load_model(path + namefile_model_nn)"
   ]
  },
  {
   "cell_type": "code",
   "execution_count": 16,
   "id": "4de6d76d",
   "metadata": {},
   "outputs": [],
   "source": [
    "# ODE computation\n",
    "normalize_flag = False\n",
    "t_list2, sol_ann_list2, v_list2 = nn_odesolver(model_nn, Nx, xspan2, tspan, normalize_flag)\n",
    "\n",
    "## Discretized density reconstruction\n",
    "ln = 1/Nx\n",
    "rho_dis_ann = ln/np.diff(sol_ann_list2, axis=0)"
   ]
  },
  {
   "cell_type": "markdown",
   "id": "d7688dd6",
   "metadata": {},
   "source": [
    "## Plot"
   ]
  },
  {
   "cell_type": "code",
   "execution_count": 17,
   "id": "0a9985c7",
   "metadata": {},
   "outputs": [],
   "source": [
    "# Plot params\n",
    "exact_flag = False\n",
    "fix_flag = True\n",
    "\n",
    "idx = 0, int(len(tspan)*.5), -1"
   ]
  },
  {
   "cell_type": "code",
   "execution_count": 18,
   "id": "eb9edd22",
   "metadata": {},
   "outputs": [
    {
     "data": {
      "image/png": "[encoded data removed]",
      "text/plain": [
       "<Figure size 1575x375 with 3 Axes>"
      ]
     },
     "metadata": {},
     "output_type": "display_data"
    }
   ],
   "source": [
    "# Initialize the fig\n",
    "nrow, ncol = 1, 3\n",
    "width, height = 7, 5 # single subplot\n",
    "fig, axes = plt.subplots(nrow,ncol,figsize=(width*ncol*.75,height*.75))\n",
    "\n",
    "fig.suptitle(fr\"$Discretized\\ density$\", fontsize=20, y = 1.05); # Figure titles\n",
    "\n",
    "for ax, i in zip(axes, idx):\n",
    "    \n",
    "    t = tspan[i]\n",
    "\n",
    "    # exact density\n",
    "    if exact_flag:\n",
    "        idx_t, (cp_t, d_t), _, _ = rho_2s(xlims, Ndens, tspan, rho_l, rho_r, rho_out, flux, np.round(t,8), drho)\n",
    "        ax.plot(cp_t, d_t, c='g', ls = '-', lw = .5, marker='*', label=\"Exact density\")\n",
    "        \n",
    "    # NN10 model\n",
    "    x_nn = sol_ann_list2[:,i][1:]\n",
    "    rho_nn = rho_dis_ann[:,i]    \n",
    "    ax.plot(x_nn, rho_nn, c='r', ls='-', lw = 0.5, ms=5, marker='*', label=\"NN10 density\")\n",
    "#     ax.plot(x_nn,x_nn*0,c='blue', ls='', ms=5, marker='o', label=\"Particles\")\n",
    "\n",
    "#     # Linear model\n",
    "#     x_lin = sol_lin2[:,i][1:]\n",
    "#     rho_lin = rho_dis_lin[:,i]\n",
    "#     ax.plot(x_lin, rho_lin ,c='orange', ls='-', lw = 0.5, ms=5, marker='*', label=\"Lin density\")\n",
    "# #     ax.plot(x_lin,x_lin*0,c='blue', ls='', ms=5, marker='o', label=\"Particles\")\n",
    "\n",
    "#     ax.set_xlim([-1.25,1.75])\n",
    "    ax.set_ylim([0, 1])\n",
    "    ax.set_title(fr\"$t={t.round(2)}$\",fontsize=16)\n",
    "\n",
    "    ax.grid(color='grey', linestyle='-', linewidth=0.5)\n",
    "    ax.legend()\n",
    "\n",
    "plt.show()"
   ]
  }
 ],
 "metadata": {
  "kernelspec": {
   "display_name": "Python 3 (ipykernel)",
   "language": "python",
   "name": "python3"
  },
  "language_info": {
   "codemirror_mode": {
    "name": "ipython",
    "version": 3
   },
   "file_extension": ".py",
   "mimetype": "text/x-python",
   "name": "python",
   "nbconvert_exporter": "python",
   "pygments_lexer": "ipython3",
   "version": "3.11.7"
  }
 },
 "nbformat": 4,
 "nbformat_minor": 5
}
