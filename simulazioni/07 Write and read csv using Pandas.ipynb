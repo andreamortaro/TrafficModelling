{
 "cells": [
  {
   "cell_type": "code",
   "execution_count": 1,
   "id": "a2abf80e",
   "metadata": {},
   "outputs": [
    {
     "name": "stderr",
     "output_type": "stream",
     "text": [
      "2023-09-07 18:49:02.849987: I tensorflow/core/platform/cpu_feature_guard.cc:193] This TensorFlow binary is optimized with oneAPI Deep Neural Network Library (oneDNN) to use the following CPU instructions in performance-critical operations:  SSE4.1 SSE4.2 AVX AVX2 FMA\n",
      "To enable them in other operations, rebuild TensorFlow with the appropriate compiler flags.\n"
     ]
    }
   ],
   "source": [
    "# Python libraries\n",
    "import os\n",
    "import sys\n",
    "import pandas as pd # for data manipulation\n",
    "import numpy as np # for data manipulation\n",
    "import tensorflow as tf\n",
    "import matplotlib.pyplot as plt\n",
    "from datetime import datetime\n",
    "\n",
    "# To enable LaTeX and select a font\n",
    "plt.rcParams.update({\n",
    "    \"text.usetex\": True,\n",
    "    \"font.family\": \"sans-serif\",\n",
    "    \"font.sans-serif\": \"Helvetica\",\n",
    "})\n",
    "\n",
    "# # Using ipynb import functions defined in other nb\n",
    "# sys.path.append(\"myfun/\")\n",
    "# from ipynb.fs.defs.myfun_load_dataset import *\n",
    "# from ipynb.fs.full.myfun_models import *\n",
    "# from ipynb.fs.full.myfun_nn import *\n",
    "# from ipynb.fs.defs.myfun_plot import *"
   ]
  },
  {
   "cell_type": "code",
   "execution_count": 2,
   "id": "dd73431a",
   "metadata": {},
   "outputs": [
    {
     "name": "stdout",
     "output_type": "stream",
     "text": [
      "2023-09-07_17-28-26_df1-2-3_1it\n",
      "2023-09-07_18-41-29_df8-9_5it\n"
     ]
    }
   ],
   "source": [
    "target_dir = \"./out/\"\n",
    "for name in sorted(os.listdir(target_dir)):\n",
    "    print(name)"
   ]
  },
  {
   "cell_type": "code",
   "execution_count": 3,
   "id": "33d4517b",
   "metadata": {},
   "outputs": [
    {
     "data": {
      "text/plain": [
       "'2023-09-07_18-41-29_df8-9_5it'"
      ]
     },
     "execution_count": 3,
     "metadata": {},
     "output_type": "execute_result"
    }
   ],
   "source": [
    "last = sorted(os.listdir(target_dir))[-1]\n",
    "last"
   ]
  },
  {
   "cell_type": "markdown",
   "id": "cde6ede8",
   "metadata": {},
   "source": [
    "### Load the df"
   ]
  },
  {
   "cell_type": "code",
   "execution_count": 4,
   "id": "eb384b9d",
   "metadata": {},
   "outputs": [],
   "source": [
    "path = target_dir + last\n",
    "namefile = '/info_dataset.txt'\n",
    "colnames = ['t_list', 'x_list', 'v_list', 'v0_scn', 'v0_scn_mean', 'n_scn', 'N. file', 'iter', 'DOE', 'processed']"
   ]
  },
  {
   "cell_type": "code",
   "execution_count": 5,
   "id": "49f0684b",
   "metadata": {},
   "outputs": [
    {
     "data": {
      "text/plain": [
       "'./out/2023-09-07_18-41-29_df8-9_5it'"
      ]
     },
     "execution_count": 5,
     "metadata": {},
     "output_type": "execute_result"
    }
   ],
   "source": [
    "path"
   ]
  },
  {
   "cell_type": "code",
   "execution_count": 6,
   "id": "b255f5ac",
   "metadata": {},
   "outputs": [],
   "source": [
    "info_dataset = pd.read_csv(path + namefile, sep=',', usecols= colnames)"
   ]
  },
  {
   "cell_type": "code",
   "execution_count": 7,
   "id": "d38b8f03",
   "metadata": {},
   "outputs": [],
   "source": [
    "NUM_ITER = int(last.split(\"_\")[-1].split(\"it\")[0])"
   ]
  },
  {
   "cell_type": "markdown",
   "id": "b5e5b5ca",
   "metadata": {},
   "source": [
    "## Plot"
   ]
  },
  {
   "cell_type": "code",
   "execution_count": 18,
   "id": "4743f2f1",
   "metadata": {},
   "outputs": [
    {
     "data": {
      "text/plain": [
       "<pandas.core.groupby.generic.DataFrameGroupBy object at 0x7f0c18c19c30>"
      ]
     },
     "execution_count": 18,
     "metadata": {},
     "output_type": "execute_result"
    }
   ],
   "source": [
    "info_dataset.groupby(['DOE'])"
   ]
  },
  {
   "cell_type": "code",
   "execution_count": 19,
   "id": "ba508099",
   "metadata": {},
   "outputs": [
    {
     "data": {
      "image/png": "[encoded data removed]",
      "text/plain": [
       "<Figure size 700x500 with 1 Axes>"
      ]
     },
     "metadata": {},
     "output_type": "display_data"
    }
   ],
   "source": [
    "# Initialize the figure\n",
    "width, height = 7, 5\n",
    "fig, ax = plt.subplots(figsize=(width,height))\n",
    "\n",
    "ms2kmh = 3.6\n",
    "\n",
    "for _, scn in info_dataset.iterrows():\n",
    "\n",
    "    # Convert velocities to km/h\n",
    "    v0_scn_mean_kmh = scn['v0_scn_mean']*ms2kmh\n",
    "\n",
    "    # For each scene, plot v0 mean (averagin over iterations)\n",
    "    ax.scatter(scn['N. file'], v0_scn_mean_kmh, alpha = .2, color = 'darkblue');\n",
    "\n",
    "# For a dataset, plot v0 mean (averaging v0 mean in all the scenes)\n",
    "info_grouped = info_dataset.groupby(['N. file']).mean(numeric_only=True)\n",
    "for nf, p in info_grouped.iterrows():\n",
    "    ax.plot(nf, p['v0_scn_mean']*ms2kmh, color = 'r', marker=\"x\")\n",
    "\n",
    "# Plot v0 mean over all dfs\n",
    "alldfs = [a for a, _ in info_grouped.iterrows()]\n",
    "v0_mean_alldfs = info_grouped['v0_scn_mean'].mean()*ms2kmh\n",
    "ax.plot(alldfs, [v0_mean_alldfs]*len(alldfs), color = 'r')  \n",
    "\n",
    "ax.set_xlabel(r\"$data set$\",fontsize=14)\n",
    "ax.set_ylabel(r\"$v_{0}\\ [km/h]$\",fontsize=14)\n",
    "ax.set_title(fr\"$Velocities\\ v_{0}\\ of\\ the\\ leading\\ car$\"\n",
    "               \"\\n\"  # Newline: the backslash is interpreted as usual\n",
    "             fr\"$with\\ {NUM_ITER}\\ iter\\ and\\ NN\\ structure\\ {str(info_dataset['DOE'][0])}$\",fontsize=14)\n",
    "\n",
    "xlim = [0.75,10.25]\n",
    "ax.set_xlim(xlim)\n",
    "ax.set_xticks(range(1,11))\n",
    "ylim = ax.get_ylim()\n",
    "\n",
    "ax.grid(color='grey', linestyle='-', linewidth=0.5);\n",
    "\n",
    "plt.show()"
   ]
  },
  {
   "cell_type": "code",
   "execution_count": null,
   "id": "c9b8d4b9",
   "metadata": {},
   "outputs": [],
   "source": []
  }
 ],
 "metadata": {
  "kernelspec": {
   "display_name": "Python 3 (ipykernel)",
   "language": "python",
   "name": "python3"
  },
  "language_info": {
   "codemirror_mode": {
    "name": "ipython",
    "version": 3
   },
   "file_extension": ".py",
   "mimetype": "text/x-python",
   "name": "python",
   "nbconvert_exporter": "python",
   "pygments_lexer": "ipython3",
   "version": "3.10.9"
  }
 },
 "nbformat": 4,
 "nbformat_minor": 5
}
