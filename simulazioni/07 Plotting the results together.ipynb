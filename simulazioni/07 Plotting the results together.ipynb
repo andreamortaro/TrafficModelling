{
 "cells": [
  {
   "cell_type": "code",
   "execution_count": 1,
   "id": "18707cef",
   "metadata": {},
   "outputs": [
    {
     "name": "stderr",
     "output_type": "stream",
     "text": [
      "2024-01-18 21:47:30.565459: E external/local_xla/xla/stream_executor/cuda/cuda_dnn.cc:9261] Unable to register cuDNN factory: Attempting to register factory for plugin cuDNN when one has already been registered\n",
      "2024-01-18 21:47:30.565491: E external/local_xla/xla/stream_executor/cuda/cuda_fft.cc:607] Unable to register cuFFT factory: Attempting to register factory for plugin cuFFT when one has already been registered\n",
      "2024-01-18 21:47:30.566310: E external/local_xla/xla/stream_executor/cuda/cuda_blas.cc:1515] Unable to register cuBLAS factory: Attempting to register factory for plugin cuBLAS when one has already been registered\n",
      "2024-01-18 21:47:30.571978: I tensorflow/core/platform/cpu_feature_guard.cc:182] This TensorFlow binary is optimized to use available CPU instructions in performance-critical operations.\n",
      "To enable the following instructions: AVX2 FMA, in other operations, rebuild TensorFlow with the appropriate compiler flags.\n",
      "2024-01-18 21:47:31.577485: W tensorflow/compiler/tf2tensorrt/utils/py_utils.cc:38] TF-TRT Warning: Could not find TensorRT\n"
     ]
    }
   ],
   "source": [
    "# Python libraries\n",
    "import os\n",
    "import sys\n",
    "import pandas as pd # for data manipulation\n",
    "import numpy as np # for data manipulation\n",
    "import tensorflow as tf\n",
    "import matplotlib.pyplot as plt\n",
    "from datetime import datetime\n",
    "\n",
    "# To enable LaTeX and select a font\n",
    "plt.rcParams.update({\n",
    "    \"text.usetex\": True,\n",
    "    \"font.family\": \"sans-serif\",\n",
    "    \"font.sans-serif\": \"Helvetica\",\n",
    "})"
   ]
  },
  {
   "cell_type": "code",
   "execution_count": 2,
   "id": "f42d2de0",
   "metadata": {},
   "outputs": [],
   "source": [
    "# save the figure\n",
    "flag_save = False"
   ]
  },
  {
   "cell_type": "code",
   "execution_count": 3,
   "id": "692f7b42",
   "metadata": {},
   "outputs": [
    {
     "name": "stdout",
     "output_type": "stream",
     "text": [
      "2023-12-04_18-15-30_df8-9_15it_0.33ts\n",
      "2023-12-08_18-44-13_df8-9_500it_0.33ts\n",
      "2023-12-09_18-32-28_df1-2-3-4-5-6-7-8-9-10_1it-PRE-nn2\n",
      "2023-12-09_18-40-50_df1-2-3-4-5-6-7-8-9-10_1it-PRE-nn2\n",
      "2023-12-09_21-54-43_df1-2-3-4-5-6-7-8-9-10_500it-PRE-nn2\n",
      "2023-12-10_01-23-07_df1-2-3-4-5-6-7-8-9-10_500it-PRE-nn4\n",
      "2023-12-10_11-38-47_df1-2-3-4-5-6-7-8-9-10_500it-PRE-nn10\n",
      "2023-12-21_17-19-18_df1-2-3-4-5-6-7-8-9-10-PRE-LINLOG\n",
      "2023-12-21_17-39-01_all\n",
      "2023-12-21_17-41-28_500it-PRE-nn-all\n",
      "2023-12-25_10-54-47_500it-PRE-nn-all\n",
      "old\n"
     ]
    }
   ],
   "source": [
    "target_dir = \"./out/\"\n",
    "for name in sorted(os.listdir(target_dir)):\n",
    "    print(name)"
   ]
  },
  {
   "cell_type": "markdown",
   "id": "c21a940d",
   "metadata": {},
   "source": [
    "## Loading info"
   ]
  },
  {
   "cell_type": "code",
   "execution_count": 4,
   "id": "8a40b424",
   "metadata": {},
   "outputs": [],
   "source": [
    "# NN\n",
    "dir_nn2 = \"2023-12-09_21-54-43_df1-2-3-4-5-6-7-8-9-10_500it-PRE-nn2\"\n",
    "dir_nn4 = \"2023-12-10_01-23-07_df1-2-3-4-5-6-7-8-9-10_500it-PRE-nn4\"\n",
    "dir_nn10 = \"2023-12-10_11-38-47_df1-2-3-4-5-6-7-8-9-10_500it-PRE-nn10\"\n",
    "\n",
    "## LIN LOG\n",
    "dir_linlog = \"2023-12-21_17-19-18_df1-2-3-4-5-6-7-8-9-10-PRE-LINLOG\""
   ]
  },
  {
   "cell_type": "markdown",
   "id": "1f4407c4",
   "metadata": {},
   "source": [
    "### NN2"
   ]
  },
  {
   "cell_type": "code",
   "execution_count": 5,
   "id": "58d7f3c1",
   "metadata": {},
   "outputs": [
    {
     "name": "stdout",
     "output_type": "stream",
     "text": [
      "06 NN model in whole dataset - pre NN02 - Jupyter Notebook.pdf\n",
      "info_nn2.txt\n",
      "model_nn2.keras\n"
     ]
    }
   ],
   "source": [
    "path = target_dir + dir_nn2\n",
    "for name in sorted(os.listdir(path)):\n",
    "    print(name)"
   ]
  },
  {
   "cell_type": "code",
   "execution_count": 6,
   "id": "982106d1",
   "metadata": {},
   "outputs": [],
   "source": [
    "namefile_nn2 = \"/info_nn2.txt\""
   ]
  },
  {
   "cell_type": "code",
   "execution_count": 7,
   "id": "000a4e16",
   "metadata": {},
   "outputs": [],
   "source": [
    "# Construct a list for header\n",
    "with open(path + namefile_nn2) as f:\n",
    "    header = f.readline().split(sep=',')\n",
    "header[-1] = header[-1].split(\"\\n\")[0]"
   ]
  },
  {
   "cell_type": "code",
   "execution_count": 8,
   "id": "74fee1b0",
   "metadata": {},
   "outputs": [],
   "source": [
    "info_nn2 = pd.read_csv(path + namefile_nn2, sep=',', usecols= header)"
   ]
  },
  {
   "cell_type": "markdown",
   "id": "89ef06d4",
   "metadata": {},
   "source": [
    "### NN4"
   ]
  },
  {
   "cell_type": "code",
   "execution_count": 9,
   "id": "5dc9235a",
   "metadata": {},
   "outputs": [
    {
     "name": "stdout",
     "output_type": "stream",
     "text": [
      "06 NN model in whole dataset - pre NN04 - Jupyter Notebook.pdf\n",
      "info_nn4.txt\n",
      "model_nn4.keras\n"
     ]
    }
   ],
   "source": [
    "path = target_dir + dir_nn4\n",
    "for name in sorted(os.listdir(path)):\n",
    "    print(name)"
   ]
  },
  {
   "cell_type": "code",
   "execution_count": 10,
   "id": "90da5866",
   "metadata": {},
   "outputs": [],
   "source": [
    "namefile_nn4 = \"/info_nn4.txt\""
   ]
  },
  {
   "cell_type": "code",
   "execution_count": 11,
   "id": "00d57917",
   "metadata": {},
   "outputs": [],
   "source": [
    "# Construct a list for header\n",
    "with open(path + namefile_nn4) as f:\n",
    "    header = f.readline().split(sep=',')\n",
    "header[-1] = header[-1].split(\"\\n\")[0]"
   ]
  },
  {
   "cell_type": "code",
   "execution_count": 12,
   "id": "c0929f54",
   "metadata": {},
   "outputs": [],
   "source": [
    "info_nn4 = pd.read_csv(path + namefile_nn4, sep=',', usecols= header)"
   ]
  },
  {
   "cell_type": "markdown",
   "id": "8cd45ac9",
   "metadata": {},
   "source": [
    "### NN10"
   ]
  },
  {
   "cell_type": "code",
   "execution_count": 13,
   "id": "b2b78b76",
   "metadata": {},
   "outputs": [
    {
     "name": "stdout",
     "output_type": "stream",
     "text": [
      "06 NN model in whole dataset - pre NN10 - Jupyter Notebook.pdf\n",
      "info_nn10.txt\n",
      "model_nn10.keras\n"
     ]
    }
   ],
   "source": [
    "path = target_dir + dir_nn10\n",
    "for name in sorted(os.listdir(path)):\n",
    "    print(name)"
   ]
  },
  {
   "cell_type": "code",
   "execution_count": 14,
   "id": "59b2c47c",
   "metadata": {},
   "outputs": [],
   "source": [
    "namefile_nn10 = \"/info_nn10.txt\""
   ]
  },
  {
   "cell_type": "code",
   "execution_count": 15,
   "id": "7b52fd6b",
   "metadata": {},
   "outputs": [],
   "source": [
    "# Construct a list for header\n",
    "with open(path + namefile_nn10) as f:\n",
    "    header = f.readline().split(sep=',')\n",
    "header[-1] = header[-1].split(\"\\n\")[0]"
   ]
  },
  {
   "cell_type": "code",
   "execution_count": 16,
   "id": "5f411c0f",
   "metadata": {},
   "outputs": [],
   "source": [
    "info_nn10 = pd.read_csv(path + namefile_nn10, sep=',', usecols= header)"
   ]
  },
  {
   "cell_type": "markdown",
   "id": "1a1714c5",
   "metadata": {},
   "source": [
    "### NN info"
   ]
  },
  {
   "cell_type": "code",
   "execution_count": 17,
   "id": "86769570",
   "metadata": {},
   "outputs": [],
   "source": [
    "# For better handling the plot\n",
    "info_nn = pd.concat([info_nn2, info_nn4, info_nn10])"
   ]
  },
  {
   "cell_type": "code",
   "execution_count": 18,
   "id": "eb50f653",
   "metadata": {
    "scrolled": true
   },
   "outputs": [
    {
     "data": {
      "text/html": [
       "<div>\n",
       "<style scoped>\n",
       "    .dataframe tbody tr th:only-of-type {\n",
       "        vertical-align: middle;\n",
       "    }\n",
       "\n",
       "    .dataframe tbody tr th {\n",
       "        vertical-align: top;\n",
       "    }\n",
       "\n",
       "    .dataframe thead th {\n",
       "        text-align: right;\n",
       "    }\n",
       "</style>\n",
       "<table border=\"1\" class=\"dataframe\">\n",
       "  <thead>\n",
       "    <tr style=\"text-align: right;\">\n",
       "      <th></th>\n",
       "      <th>t_list</th>\n",
       "      <th>x_list</th>\n",
       "      <th>v_list</th>\n",
       "      <th>v0</th>\n",
       "      <th>n_scn</th>\n",
       "      <th>iter</th>\n",
       "      <th>mse</th>\n",
       "      <th>type</th>\n",
       "      <th>mse_mean</th>\n",
       "      <th>N. file</th>\n",
       "      <th>DOE</th>\n",
       "      <th>processed</th>\n",
       "    </tr>\n",
       "  </thead>\n",
       "  <tbody>\n",
       "    <tr>\n",
       "      <th>0</th>\n",
       "      <td>[239.44, 239.49, 239.54, 239.58999999999997, 2...</td>\n",
       "      <td>[array([39.95957801, 42.03637912, 44.11318023,...</td>\n",
       "      <td>[[41.5360221862793, 25.42638142521775], [36.78...</td>\n",
       "      <td>25.426381</td>\n",
       "      <td>28</td>\n",
       "      <td>500.0</td>\n",
       "      <td>1.706032</td>\n",
       "      <td>train</td>\n",
       "      <td>9.488313</td>\n",
       "      <td>1</td>\n",
       "      <td>[1, 2, 1]</td>\n",
       "      <td>pre</td>\n",
       "    </tr>\n",
       "    <tr>\n",
       "      <th>1</th>\n",
       "      <td>[310.84, 310.89, 310.93999999999994, 310.98999...</td>\n",
       "      <td>[array([57.56243538, 59.37110581, 61.17977623,...</td>\n",
       "      <td>[[36.17340850830078, 28.339874492422428], [34....</td>\n",
       "      <td>28.339874</td>\n",
       "      <td>40</td>\n",
       "      <td>350.0</td>\n",
       "      <td>0.235741</td>\n",
       "      <td>train</td>\n",
       "      <td>9.488313</td>\n",
       "      <td>1</td>\n",
       "      <td>[1, 2, 1]</td>\n",
       "      <td>pre</td>\n",
       "    </tr>\n",
       "    <tr>\n",
       "      <th>2</th>\n",
       "      <td>[52.84, 52.89, 52.940000000000005, 52.99000000...</td>\n",
       "      <td>[array([46.99583421, 48.46745506, 49.9390759 ,...</td>\n",
       "      <td>[[29.432416915893555, 35.912822353566604], [27...</td>\n",
       "      <td>35.912822</td>\n",
       "      <td>5</td>\n",
       "      <td>500.0</td>\n",
       "      <td>1.206520</td>\n",
       "      <td>train</td>\n",
       "      <td>9.488313</td>\n",
       "      <td>1</td>\n",
       "      <td>[1, 2, 1]</td>\n",
       "      <td>pre</td>\n",
       "    </tr>\n",
       "    <tr>\n",
       "      <th>3</th>\n",
       "      <td>[362.84, 362.89, 362.93999999999994, 362.98999...</td>\n",
       "      <td>[array([ 6.42715625,  8.02105359,  9.61495093,...</td>\n",
       "      <td>[[31.877946853637695, 30.31390300321738], [48....</td>\n",
       "      <td>30.313976</td>\n",
       "      <td>53</td>\n",
       "      <td>500.0</td>\n",
       "      <td>3.320242</td>\n",
       "      <td>train</td>\n",
       "      <td>9.488313</td>\n",
       "      <td>1</td>\n",
       "      <td>[1, 2, 1]</td>\n",
       "      <td>pre</td>\n",
       "    </tr>\n",
       "    <tr>\n",
       "      <th>4</th>\n",
       "      <td>[444.24, 444.28999999999996, 444.34, 444.39, 4...</td>\n",
       "      <td>[array([47.60987183, 48.71461893, 49.81936604,...</td>\n",
       "      <td>[[22.094942092895508, 28.494973095574913], [22...</td>\n",
       "      <td>28.494973</td>\n",
       "      <td>62</td>\n",
       "      <td>500.0</td>\n",
       "      <td>0.338340</td>\n",
       "      <td>train</td>\n",
       "      <td>9.488313</td>\n",
       "      <td>1</td>\n",
       "      <td>[1, 2, 1]</td>\n",
       "      <td>pre</td>\n",
       "    </tr>\n",
       "    <tr>\n",
       "      <th>...</th>\n",
       "      <td>...</td>\n",
       "      <td>...</td>\n",
       "      <td>...</td>\n",
       "      <td>...</td>\n",
       "      <td>...</td>\n",
       "      <td>...</td>\n",
       "      <td>...</td>\n",
       "      <td>...</td>\n",
       "      <td>...</td>\n",
       "      <td>...</td>\n",
       "      <td>...</td>\n",
       "      <td>...</td>\n",
       "    </tr>\n",
       "    <tr>\n",
       "      <th>666</th>\n",
       "      <td>[531.72, 531.77, 531.82, 531.8700000000001, 53...</td>\n",
       "      <td>[array([41.40738261, 41.88411973, 42.36085685,...</td>\n",
       "      <td>[[9.53474235534668, 28.339420318603516, 20.430...</td>\n",
       "      <td>20.430849</td>\n",
       "      <td>70</td>\n",
       "      <td>NaN</td>\n",
       "      <td>4.251004</td>\n",
       "      <td>test</td>\n",
       "      <td>3.803427</td>\n",
       "      <td>10</td>\n",
       "      <td>[1, 10, 1]</td>\n",
       "      <td>pre</td>\n",
       "    </tr>\n",
       "    <tr>\n",
       "      <th>667</th>\n",
       "      <td>[159.92, 159.97, 160.01999999999998, 160.07, 1...</td>\n",
       "      <td>[array([27.5184678 , 27.57005802, 27.62164824,...</td>\n",
       "      <td>[[1.0318043231964111, 20.430848898200367], [0....</td>\n",
       "      <td>20.430849</td>\n",
       "      <td>16</td>\n",
       "      <td>NaN</td>\n",
       "      <td>3.271203</td>\n",
       "      <td>test</td>\n",
       "      <td>3.803427</td>\n",
       "      <td>10</td>\n",
       "      <td>[1, 10, 1]</td>\n",
       "      <td>pre</td>\n",
       "    </tr>\n",
       "    <tr>\n",
       "      <th>668</th>\n",
       "      <td>[335.52000000000004, 335.57000000000005, 335.6...</td>\n",
       "      <td>[array([27.9492996 , 27.94999953, 27.95069947,...</td>\n",
       "      <td>[[0.013998721726238728, 20.430848898200367], [...</td>\n",
       "      <td>20.430849</td>\n",
       "      <td>35</td>\n",
       "      <td>NaN</td>\n",
       "      <td>5.010990</td>\n",
       "      <td>test</td>\n",
       "      <td>3.803427</td>\n",
       "      <td>10</td>\n",
       "      <td>[1, 10, 1]</td>\n",
       "      <td>pre</td>\n",
       "    </tr>\n",
       "    <tr>\n",
       "      <th>669</th>\n",
       "      <td>[475.32000000000005, 475.37000000000006, 475.4...</td>\n",
       "      <td>[array([49.61394897, 50.78115449, 51.94836002,...</td>\n",
       "      <td>[[23.3441104888916, 20.430848898200367], [18.6...</td>\n",
       "      <td>20.430849</td>\n",
       "      <td>44</td>\n",
       "      <td>NaN</td>\n",
       "      <td>3.519740</td>\n",
       "      <td>test</td>\n",
       "      <td>3.803427</td>\n",
       "      <td>10</td>\n",
       "      <td>[1, 10, 1]</td>\n",
       "      <td>pre</td>\n",
       "    </tr>\n",
       "    <tr>\n",
       "      <th>670</th>\n",
       "      <td>[317.32, 317.37, 317.42, 317.47, 317.520000000...</td>\n",
       "      <td>[array([45.14575653, 46.60423384, 48.06271115,...</td>\n",
       "      <td>[[29.169546127319336, 12.253687858581543, 20.4...</td>\n",
       "      <td>20.430849</td>\n",
       "      <td>61</td>\n",
       "      <td>NaN</td>\n",
       "      <td>7.508327</td>\n",
       "      <td>test</td>\n",
       "      <td>3.803427</td>\n",
       "      <td>10</td>\n",
       "      <td>[1, 10, 1]</td>\n",
       "      <td>pre</td>\n",
       "    </tr>\n",
       "  </tbody>\n",
       "</table>\n",
       "<p>2013 rows × 12 columns</p>\n",
       "</div>"
      ],
      "text/plain": [
       "                                                t_list  \\\n",
       "0    [239.44, 239.49, 239.54, 239.58999999999997, 2...   \n",
       "1    [310.84, 310.89, 310.93999999999994, 310.98999...   \n",
       "2    [52.84, 52.89, 52.940000000000005, 52.99000000...   \n",
       "3    [362.84, 362.89, 362.93999999999994, 362.98999...   \n",
       "4    [444.24, 444.28999999999996, 444.34, 444.39, 4...   \n",
       "..                                                 ...   \n",
       "666  [531.72, 531.77, 531.82, 531.8700000000001, 53...   \n",
       "667  [159.92, 159.97, 160.01999999999998, 160.07, 1...   \n",
       "668  [335.52000000000004, 335.57000000000005, 335.6...   \n",
       "669  [475.32000000000005, 475.37000000000006, 475.4...   \n",
       "670  [317.32, 317.37, 317.42, 317.47, 317.520000000...   \n",
       "\n",
       "                                                x_list  \\\n",
       "0    [array([39.95957801, 42.03637912, 44.11318023,...   \n",
       "1    [array([57.56243538, 59.37110581, 61.17977623,...   \n",
       "2    [array([46.99583421, 48.46745506, 49.9390759 ,...   \n",
       "3    [array([ 6.42715625,  8.02105359,  9.61495093,...   \n",
       "4    [array([47.60987183, 48.71461893, 49.81936604,...   \n",
       "..                                                 ...   \n",
       "666  [array([41.40738261, 41.88411973, 42.36085685,...   \n",
       "667  [array([27.5184678 , 27.57005802, 27.62164824,...   \n",
       "668  [array([27.9492996 , 27.94999953, 27.95069947,...   \n",
       "669  [array([49.61394897, 50.78115449, 51.94836002,...   \n",
       "670  [array([45.14575653, 46.60423384, 48.06271115,...   \n",
       "\n",
       "                                                v_list         v0  n_scn  \\\n",
       "0    [[41.5360221862793, 25.42638142521775], [36.78...  25.426381     28   \n",
       "1    [[36.17340850830078, 28.339874492422428], [34....  28.339874     40   \n",
       "2    [[29.432416915893555, 35.912822353566604], [27...  35.912822      5   \n",
       "3    [[31.877946853637695, 30.31390300321738], [48....  30.313976     53   \n",
       "4    [[22.094942092895508, 28.494973095574913], [22...  28.494973     62   \n",
       "..                                                 ...        ...    ...   \n",
       "666  [[9.53474235534668, 28.339420318603516, 20.430...  20.430849     70   \n",
       "667  [[1.0318043231964111, 20.430848898200367], [0....  20.430849     16   \n",
       "668  [[0.013998721726238728, 20.430848898200367], [...  20.430849     35   \n",
       "669  [[23.3441104888916, 20.430848898200367], [18.6...  20.430849     44   \n",
       "670  [[29.169546127319336, 12.253687858581543, 20.4...  20.430849     61   \n",
       "\n",
       "      iter       mse   type  mse_mean  N. file         DOE processed  \n",
       "0    500.0  1.706032  train  9.488313        1   [1, 2, 1]       pre  \n",
       "1    350.0  0.235741  train  9.488313        1   [1, 2, 1]       pre  \n",
       "2    500.0  1.206520  train  9.488313        1   [1, 2, 1]       pre  \n",
       "3    500.0  3.320242  train  9.488313        1   [1, 2, 1]       pre  \n",
       "4    500.0  0.338340  train  9.488313        1   [1, 2, 1]       pre  \n",
       "..     ...       ...    ...       ...      ...         ...       ...  \n",
       "666    NaN  4.251004   test  3.803427       10  [1, 10, 1]       pre  \n",
       "667    NaN  3.271203   test  3.803427       10  [1, 10, 1]       pre  \n",
       "668    NaN  5.010990   test  3.803427       10  [1, 10, 1]       pre  \n",
       "669    NaN  3.519740   test  3.803427       10  [1, 10, 1]       pre  \n",
       "670    NaN  7.508327   test  3.803427       10  [1, 10, 1]       pre  \n",
       "\n",
       "[2013 rows x 12 columns]"
      ]
     },
     "execution_count": 18,
     "metadata": {},
     "output_type": "execute_result"
    }
   ],
   "source": [
    "info_nn"
   ]
  },
  {
   "cell_type": "markdown",
   "id": "3937fafa",
   "metadata": {},
   "source": [
    "### Lin Log info"
   ]
  },
  {
   "cell_type": "code",
   "execution_count": 19,
   "id": "c6e04c09",
   "metadata": {},
   "outputs": [
    {
     "name": "stdout",
     "output_type": "stream",
     "text": [
      "info_alldataset.txt\n",
      "v0_df1-2-3-4-5-6-7-8-9-10_1.svg\n"
     ]
    }
   ],
   "source": [
    "path = target_dir + dir_linlog\n",
    "for name in sorted(os.listdir(path)):\n",
    "    print(name)"
   ]
  },
  {
   "cell_type": "code",
   "execution_count": 20,
   "id": "db7c9d9b",
   "metadata": {},
   "outputs": [],
   "source": [
    "namefile = '/info_alldataset.txt'"
   ]
  },
  {
   "cell_type": "code",
   "execution_count": 21,
   "id": "f13ab0e2",
   "metadata": {},
   "outputs": [],
   "source": [
    "# get the header\n",
    "with open(path + namefile) as f:\n",
    "    header = f.readline().split(sep=',')\n",
    "header[-1] = header[-1].split(\"\\n\")[0]"
   ]
  },
  {
   "cell_type": "code",
   "execution_count": 22,
   "id": "47118547",
   "metadata": {},
   "outputs": [],
   "source": [
    "info_linlog = pd.read_csv(path + namefile, sep=',', usecols= header)"
   ]
  },
  {
   "cell_type": "code",
   "execution_count": 23,
   "id": "467c3cd2",
   "metadata": {},
   "outputs": [
    {
     "data": {
      "text/html": [
       "<div>\n",
       "<style scoped>\n",
       "    .dataframe tbody tr th:only-of-type {\n",
       "        vertical-align: middle;\n",
       "    }\n",
       "\n",
       "    .dataframe tbody tr th {\n",
       "        vertical-align: top;\n",
       "    }\n",
       "\n",
       "    .dataframe thead th {\n",
       "        text-align: right;\n",
       "    }\n",
       "</style>\n",
       "<table border=\"1\" class=\"dataframe\">\n",
       "  <thead>\n",
       "    <tr style=\"text-align: right;\">\n",
       "      <th></th>\n",
       "      <th>t_list</th>\n",
       "      <th>x_list</th>\n",
       "      <th>v0_scn</th>\n",
       "      <th>L_scn</th>\n",
       "      <th>n_scn</th>\n",
       "      <th>N. file</th>\n",
       "      <th>LWR_flag</th>\n",
       "    </tr>\n",
       "  </thead>\n",
       "  <tbody>\n",
       "    <tr>\n",
       "      <th>0</th>\n",
       "      <td>[2.24, 2.29, 2.34, 2.39, 2.44, 2.49, 2.54, 2.5...</td>\n",
       "      <td>[array([ 6.54115583,  8.08862013,  9.63622603,...</td>\n",
       "      <td>32.524004</td>\n",
       "      <td>2.114480</td>\n",
       "      <td>0</td>\n",
       "      <td>1</td>\n",
       "      <td>Lin</td>\n",
       "    </tr>\n",
       "    <tr>\n",
       "      <th>1</th>\n",
       "      <td>[16.44, 16.490000000000002, 16.54, 16.59, 16.6...</td>\n",
       "      <td>[array([25.56044125, 26.84719157, 28.1340413 ,...</td>\n",
       "      <td>27.026376</td>\n",
       "      <td>2.000000</td>\n",
       "      <td>1</td>\n",
       "      <td>1</td>\n",
       "      <td>Lin</td>\n",
       "    </tr>\n",
       "    <tr>\n",
       "      <th>2</th>\n",
       "      <td>[33.440000000000005, 33.49, 33.540000000000006...</td>\n",
       "      <td>[array([29.01531893, 30.33136515, 31.64823598,...</td>\n",
       "      <td>30.000000</td>\n",
       "      <td>5.000000</td>\n",
       "      <td>2</td>\n",
       "      <td>1</td>\n",
       "      <td>Lin</td>\n",
       "    </tr>\n",
       "    <tr>\n",
       "      <th>3</th>\n",
       "      <td>[37.440000000000005, 37.49, 37.540000000000006...</td>\n",
       "      <td>[array([42.18965274, 43.43449131, 44.68247025,...</td>\n",
       "      <td>29.109448</td>\n",
       "      <td>2.000000</td>\n",
       "      <td>3</td>\n",
       "      <td>1</td>\n",
       "      <td>Lin</td>\n",
       "    </tr>\n",
       "    <tr>\n",
       "      <th>4</th>\n",
       "      <td>[44.24, 44.290000000000006, 44.34, 44.39, 44.4...</td>\n",
       "      <td>[array([43.43569439, 44.76042962, 46.08598381,...</td>\n",
       "      <td>29.381092</td>\n",
       "      <td>2.477765</td>\n",
       "      <td>4</td>\n",
       "      <td>1</td>\n",
       "      <td>Lin</td>\n",
       "    </tr>\n",
       "    <tr>\n",
       "      <th>...</th>\n",
       "      <td>...</td>\n",
       "      <td>...</td>\n",
       "      <td>...</td>\n",
       "      <td>...</td>\n",
       "      <td>...</td>\n",
       "      <td>...</td>\n",
       "      <td>...</td>\n",
       "    </tr>\n",
       "    <tr>\n",
       "      <th>1337</th>\n",
       "      <td>[483.92, 483.97, 484.02, 484.07, 484.12, 484.1...</td>\n",
       "      <td>[array([48.41808799, 49.07859852, 49.71023581,...</td>\n",
       "      <td>20.562864</td>\n",
       "      <td>6.152083</td>\n",
       "      <td>69</td>\n",
       "      <td>10</td>\n",
       "      <td>Log</td>\n",
       "    </tr>\n",
       "    <tr>\n",
       "      <th>1338</th>\n",
       "      <td>[531.72, 531.77, 531.82, 531.8700000000001, 53...</td>\n",
       "      <td>[array([41.40738261, 42.27069584, 43.08731731,...</td>\n",
       "      <td>16.684511</td>\n",
       "      <td>7.865350</td>\n",
       "      <td>70</td>\n",
       "      <td>10</td>\n",
       "      <td>Log</td>\n",
       "    </tr>\n",
       "    <tr>\n",
       "      <th>1339</th>\n",
       "      <td>[202.52, 202.57, 202.62, 202.67000000000002, 2...</td>\n",
       "      <td>[array([28.41048427, 29.50190918, 30.56793629,...</td>\n",
       "      <td>16.839222</td>\n",
       "      <td>2.052634</td>\n",
       "      <td>71</td>\n",
       "      <td>10</td>\n",
       "      <td>Log</td>\n",
       "    </tr>\n",
       "    <tr>\n",
       "      <th>1340</th>\n",
       "      <td>[342.92, 342.97, 343.02, 343.07, 343.12, 343.1...</td>\n",
       "      <td>[array([30.1618309 , 31.17852216, 32.16701988,...</td>\n",
       "      <td>9.269797</td>\n",
       "      <td>2.000000</td>\n",
       "      <td>72</td>\n",
       "      <td>10</td>\n",
       "      <td>Log</td>\n",
       "    </tr>\n",
       "    <tr>\n",
       "      <th>1341</th>\n",
       "      <td>[441.12, 441.17, 441.22, 441.27000000000004, 4...</td>\n",
       "      <td>[array([29.64532795, 30.55940574, 31.44191637,...</td>\n",
       "      <td>10.227470</td>\n",
       "      <td>2.777547</td>\n",
       "      <td>73</td>\n",
       "      <td>10</td>\n",
       "      <td>Log</td>\n",
       "    </tr>\n",
       "  </tbody>\n",
       "</table>\n",
       "<p>1342 rows × 7 columns</p>\n",
       "</div>"
      ],
      "text/plain": [
       "                                                 t_list  \\\n",
       "0     [2.24, 2.29, 2.34, 2.39, 2.44, 2.49, 2.54, 2.5...   \n",
       "1     [16.44, 16.490000000000002, 16.54, 16.59, 16.6...   \n",
       "2     [33.440000000000005, 33.49, 33.540000000000006...   \n",
       "3     [37.440000000000005, 37.49, 37.540000000000006...   \n",
       "4     [44.24, 44.290000000000006, 44.34, 44.39, 44.4...   \n",
       "...                                                 ...   \n",
       "1337  [483.92, 483.97, 484.02, 484.07, 484.12, 484.1...   \n",
       "1338  [531.72, 531.77, 531.82, 531.8700000000001, 53...   \n",
       "1339  [202.52, 202.57, 202.62, 202.67000000000002, 2...   \n",
       "1340  [342.92, 342.97, 343.02, 343.07, 343.12, 343.1...   \n",
       "1341  [441.12, 441.17, 441.22, 441.27000000000004, 4...   \n",
       "\n",
       "                                                 x_list     v0_scn     L_scn  \\\n",
       "0     [array([ 6.54115583,  8.08862013,  9.63622603,...  32.524004  2.114480   \n",
       "1     [array([25.56044125, 26.84719157, 28.1340413 ,...  27.026376  2.000000   \n",
       "2     [array([29.01531893, 30.33136515, 31.64823598,...  30.000000  5.000000   \n",
       "3     [array([42.18965274, 43.43449131, 44.68247025,...  29.109448  2.000000   \n",
       "4     [array([43.43569439, 44.76042962, 46.08598381,...  29.381092  2.477765   \n",
       "...                                                 ...        ...       ...   \n",
       "1337  [array([48.41808799, 49.07859852, 49.71023581,...  20.562864  6.152083   \n",
       "1338  [array([41.40738261, 42.27069584, 43.08731731,...  16.684511  7.865350   \n",
       "1339  [array([28.41048427, 29.50190918, 30.56793629,...  16.839222  2.052634   \n",
       "1340  [array([30.1618309 , 31.17852216, 32.16701988,...   9.269797  2.000000   \n",
       "1341  [array([29.64532795, 30.55940574, 31.44191637,...  10.227470  2.777547   \n",
       "\n",
       "      n_scn  N. file LWR_flag  \n",
       "0         0        1      Lin  \n",
       "1         1        1      Lin  \n",
       "2         2        1      Lin  \n",
       "3         3        1      Lin  \n",
       "4         4        1      Lin  \n",
       "...     ...      ...      ...  \n",
       "1337     69       10      Log  \n",
       "1338     70       10      Log  \n",
       "1339     71       10      Log  \n",
       "1340     72       10      Log  \n",
       "1341     73       10      Log  \n",
       "\n",
       "[1342 rows x 7 columns]"
      ]
     },
     "execution_count": 23,
     "metadata": {},
     "output_type": "execute_result"
    }
   ],
   "source": [
    "info_linlog"
   ]
  },
  {
   "cell_type": "markdown",
   "id": "fe705dc7",
   "metadata": {},
   "source": [
    "## Plot"
   ]
  },
  {
   "cell_type": "code",
   "execution_count": 24,
   "id": "50557bf8",
   "metadata": {},
   "outputs": [],
   "source": [
    "ms2kmh = 3.6\n",
    "DOE =[[1,2,1], [1,4,1], [1,10,1]] #Design of experiment\n",
    "NUM_ITER = int(dir_nn2.split(\"_\")[-1].split(\"it\")[0]) #same for all the models"
   ]
  },
  {
   "cell_type": "code",
   "execution_count": 25,
   "id": "e2a37bac",
   "metadata": {
    "scrolled": false
   },
   "outputs": [
    {
     "data": {
      "image/png": "[encoded data removed]",
      "text/plain": [
       "<Figure size 700x500 with 1 Axes>"
      ]
     },
     "metadata": {},
     "output_type": "display_data"
    }
   ],
   "source": [
    "# Initialize the figure\n",
    "width, height = 7, 5\n",
    "fig, ax = plt.subplots(figsize=(width,height))\n",
    "\n",
    "ms2kmh = 3.6\n",
    "\n",
    "palette = ['green', 'royalblue', 'coral']\n",
    "lin_color, log_color = 'gold', 'lime'\n",
    "\n",
    "## NN model\n",
    "for step, d in enumerate(DOE):   \n",
    "        \n",
    "    # get the right df\n",
    "#     info_dataset = info_nn.loc[info_nn['DOE'].isin([d])]\n",
    "    info_dataset = info_nn.loc[info_nn['DOE'].isin([str(d)])]\n",
    "    color = palette[step]\n",
    "\n",
    "    # For a dataset, plot v0 mean (averaging v0 mean in all the scenes)\n",
    "    info_grouped = info_dataset.groupby(['N. file']).mean(numeric_only=True)\n",
    "    for nf, p in info_grouped.iterrows():\n",
    "        ax.scatter(nf, p['v0']*ms2kmh, facecolors='none', edgecolors=color)\n",
    "\n",
    "    # Plot v0 mean over all dfs\n",
    "    alldfs = [a for a, _ in info_grouped.iterrows()]\n",
    "    v0_mean_alldfs = info_grouped['v0'].mean()*ms2kmh\n",
    "    label = fr\"$NN {str(d[1])}$\"\n",
    "    ax.plot(alldfs, [v0_mean_alldfs]*len(alldfs), color = color, label=label)\n",
    "    \n",
    "\n",
    "## LIN LOG\n",
    "for key, grp in info_linlog.groupby(['LWR_flag','N. file']):\n",
    "    tmp = grp.mean(numeric_only=True)\n",
    "    nf = key[1]\n",
    "    match key[0]:\n",
    "        case 'Lin':\n",
    "            ax.scatter(nf, tmp['v0_scn']*ms2kmh, facecolors='none', edgecolors=lin_color)\n",
    "        case 'Log':\n",
    "            ax.scatter(nf, tmp['v0_scn']*ms2kmh, facecolors='none', edgecolors=log_color)\n",
    "\n",
    "            \n",
    "for key, grp in info_linlog.groupby('LWR_flag'):\n",
    "    tmp = grp.mean(numeric_only=True)\n",
    "    \n",
    "    xrange = [i for i in range(1,11)]\n",
    "    yval = [tmp['v0_scn']*ms2kmh] * len(xrange) \n",
    "    match key:\n",
    "        case 'Lin':\n",
    "            ax.plot(xrange, yval, color = lin_color, label = fr\"$Lin$\")\n",
    "        case 'Log':\n",
    "            ax.plot(xrange, yval, color = log_color,  label = fr\"$Log$\")\n",
    "\n",
    "\n",
    "ax.set_xlabel(r\"$data set$\",fontsize=14)\n",
    "ax.set_ylabel(r\"$v_{0}\\ [km/h]$\",fontsize=14)\n",
    "ax.set_title(fr\"$Velocities\\ v_{0}\\ of\\ the\\ leading\\ car$\",fontsize=14)\n",
    "\n",
    "xlim = [0.75,10.25]\n",
    "ax.set_xlim(xlim)\n",
    "ax.set_xticks(range(1,11))\n",
    "ylim = ax.get_ylim()\n",
    "\n",
    "ax.legend()\n",
    "ax.grid(color='grey', linestyle='-', linewidth=0.5);\n",
    "\n",
    "plt.show()"
   ]
  },
  {
   "cell_type": "markdown",
   "id": "5787b838",
   "metadata": {},
   "source": [
    "## Table"
   ]
  },
  {
   "cell_type": "code",
   "execution_count": 26,
   "id": "4495656b",
   "metadata": {},
   "outputs": [
    {
     "data": {
      "text/html": [
       "<div>\n",
       "<style scoped>\n",
       "    .dataframe tbody tr th:only-of-type {\n",
       "        vertical-align: middle;\n",
       "    }\n",
       "\n",
       "    .dataframe tbody tr th {\n",
       "        vertical-align: top;\n",
       "    }\n",
       "\n",
       "    .dataframe thead th {\n",
       "        text-align: right;\n",
       "    }\n",
       "</style>\n",
       "<table border=\"1\" class=\"dataframe\">\n",
       "  <thead>\n",
       "    <tr style=\"text-align: right;\">\n",
       "      <th></th>\n",
       "      <th></th>\n",
       "      <th>L_scn</th>\n",
       "    </tr>\n",
       "    <tr>\n",
       "      <th>LWR_flag</th>\n",
       "      <th>N. file</th>\n",
       "      <th></th>\n",
       "    </tr>\n",
       "  </thead>\n",
       "  <tbody>\n",
       "    <tr>\n",
       "      <th rowspan=\"10\" valign=\"top\">Lin</th>\n",
       "      <th>1</th>\n",
       "      <td>2.803242</td>\n",
       "    </tr>\n",
       "    <tr>\n",
       "      <th>2</th>\n",
       "      <td>4.578451</td>\n",
       "    </tr>\n",
       "    <tr>\n",
       "      <th>3</th>\n",
       "      <td>3.686626</td>\n",
       "    </tr>\n",
       "    <tr>\n",
       "      <th>4</th>\n",
       "      <td>4.328019</td>\n",
       "    </tr>\n",
       "    <tr>\n",
       "      <th>5</th>\n",
       "      <td>2.871606</td>\n",
       "    </tr>\n",
       "    <tr>\n",
       "      <th>6</th>\n",
       "      <td>4.250591</td>\n",
       "    </tr>\n",
       "    <tr>\n",
       "      <th>7</th>\n",
       "      <td>3.920488</td>\n",
       "    </tr>\n",
       "    <tr>\n",
       "      <th>8</th>\n",
       "      <td>6.100698</td>\n",
       "    </tr>\n",
       "    <tr>\n",
       "      <th>9</th>\n",
       "      <td>3.422784</td>\n",
       "    </tr>\n",
       "    <tr>\n",
       "      <th>10</th>\n",
       "      <td>4.450371</td>\n",
       "    </tr>\n",
       "    <tr>\n",
       "      <th rowspan=\"10\" valign=\"top\">Log</th>\n",
       "      <th>1</th>\n",
       "      <td>7.721689</td>\n",
       "    </tr>\n",
       "    <tr>\n",
       "      <th>2</th>\n",
       "      <td>7.913829</td>\n",
       "    </tr>\n",
       "    <tr>\n",
       "      <th>3</th>\n",
       "      <td>8.869658</td>\n",
       "    </tr>\n",
       "    <tr>\n",
       "      <th>4</th>\n",
       "      <td>8.854229</td>\n",
       "    </tr>\n",
       "    <tr>\n",
       "      <th>5</th>\n",
       "      <td>7.595487</td>\n",
       "    </tr>\n",
       "    <tr>\n",
       "      <th>6</th>\n",
       "      <td>7.229299</td>\n",
       "    </tr>\n",
       "    <tr>\n",
       "      <th>7</th>\n",
       "      <td>7.724031</td>\n",
       "    </tr>\n",
       "    <tr>\n",
       "      <th>8</th>\n",
       "      <td>9.384782</td>\n",
       "    </tr>\n",
       "    <tr>\n",
       "      <th>9</th>\n",
       "      <td>7.492782</td>\n",
       "    </tr>\n",
       "    <tr>\n",
       "      <th>10</th>\n",
       "      <td>7.206939</td>\n",
       "    </tr>\n",
       "  </tbody>\n",
       "</table>\n",
       "</div>"
      ],
      "text/plain": [
       "                     L_scn\n",
       "LWR_flag N. file          \n",
       "Lin      1        2.803242\n",
       "         2        4.578451\n",
       "         3        3.686626\n",
       "         4        4.328019\n",
       "         5        2.871606\n",
       "         6        4.250591\n",
       "         7        3.920488\n",
       "         8        6.100698\n",
       "         9        3.422784\n",
       "         10       4.450371\n",
       "Log      1        7.721689\n",
       "         2        7.913829\n",
       "         3        8.869658\n",
       "         4        8.854229\n",
       "         5        7.595487\n",
       "         6        7.229299\n",
       "         7        7.724031\n",
       "         8        9.384782\n",
       "         9        7.492782\n",
       "         10       7.206939"
      ]
     },
     "execution_count": 26,
     "metadata": {},
     "output_type": "execute_result"
    }
   ],
   "source": [
    "info_linlog.groupby(['LWR_flag','N. file']).mean(numeric_only=True)[['L_scn']]"
   ]
  },
  {
   "cell_type": "code",
   "execution_count": 27,
   "id": "4116c372",
   "metadata": {},
   "outputs": [
    {
     "name": "stdout",
     "output_type": "stream",
     "text": [
      "For Lin-model: the average for L is 4.0302562205026895\n",
      "For Log-model: the average for L is 8.089193743413015\n"
     ]
    }
   ],
   "source": [
    "for flag, grp in info_linlog.groupby('LWR_flag'):\n",
    "    print(f\"For {flag}-model: the average for L is {grp['L_scn'].mean()}\")"
   ]
  },
  {
   "cell_type": "markdown",
   "id": "35d2ad16",
   "metadata": {},
   "source": [
    "## Prepare the out dir"
   ]
  },
  {
   "cell_type": "code",
   "execution_count": 28,
   "id": "a631c66d",
   "metadata": {},
   "outputs": [],
   "source": [
    "# Create the directory..\n",
    "if flag_save:\n",
    "    \n",
    "    ext = \".svg\"\n",
    "    \n",
    "    # Create directory where to save the image\n",
    "    now = datetime.now() \n",
    "    d = now.strftime(f\"%Y-%m-%d_%H-%M-%S_all\")\n",
    "    \n",
    "    path = 'out/' + d\n",
    "    os.mkdir(path)"
   ]
  },
  {
   "cell_type": "code",
   "execution_count": 29,
   "id": "d93a8508",
   "metadata": {},
   "outputs": [],
   "source": [
    "# Save figure\n",
    "if flag_save:\n",
    "\n",
    "    title = f\"/v0_plot\"     \n",
    "    fig.savefig(path+title+ext, bbox_inches='tight')"
   ]
  }
 ],
 "metadata": {
  "kernelspec": {
   "display_name": "Python 3 (ipykernel)",
   "language": "python",
   "name": "python3"
  },
  "language_info": {
   "codemirror_mode": {
    "name": "ipython",
    "version": 3
   },
   "file_extension": ".py",
   "mimetype": "text/x-python",
   "name": "python",
   "nbconvert_exporter": "python",
   "pygments_lexer": "ipython3",
   "version": "3.11.7"
  }
 },
 "nbformat": 4,
 "nbformat_minor": 5
}
