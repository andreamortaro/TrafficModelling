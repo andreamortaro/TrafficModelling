{
 "cells": [
  {
   "cell_type": "markdown",
   "id": "b1244e2c",
   "metadata": {},
   "source": [
    "# Import libraries"
   ]
  },
  {
   "cell_type": "code",
   "execution_count": 1,
   "id": "b7b2fb88",
   "metadata": {},
   "outputs": [],
   "source": [
    "# Python libraries\n",
    "import os\n",
    "import matplotlib.pyplot as plt\n",
    "\n",
    "# To enable LaTeX and select a font\n",
    "plt.rcParams.update({\n",
    "    \"text.usetex\": True,\n",
    "    \"font.family\": \"sans-serif\",\n",
    "    \"font.sans-serif\": \"Helvetica\",\n",
    "})\n",
    "\n",
    "# Using ipynb import functions defined in other nb\n",
    "from ipynb.fs.defs.myfun_load_dataset import *\n",
    "from ipynb.fs.defs.myfun_models import *\n",
    "# from ipynb.fs.full.myfun_plot import *"
   ]
  },
  {
   "cell_type": "code",
   "execution_count": 2,
   "id": "b38b1268",
   "metadata": {
    "scrolled": true
   },
   "outputs": [
    {
     "name": "stderr",
     "output_type": "stream",
     "text": [
      "2023-08-14 10:37:38.247414: I tensorflow/core/platform/cpu_feature_guard.cc:193] This TensorFlow binary is optimized with oneAPI Deep Neural Network Library (oneDNN) to use the following CPU instructions in performance-critical operations:  SSE4.1 SSE4.2 AVX AVX2 FMA\n",
      "To enable them in other operations, rebuild TensorFlow with the appropriate compiler flags.\n"
     ]
    },
    {
     "name": "stdout",
     "output_type": "stream",
     "text": [
      "Tensorflow/Keras: 2.11.0\n",
      "pandas: 1.5.3\n",
      "numpy: 1.23.5\n",
      "sklearn: 1.3.0\n",
      "plotly: 5.9.0\n"
     ]
    }
   ],
   "source": [
    "# Tensorflow / Keras\n",
    "from tensorflow import keras # for building Neural Networks\n",
    "print('Tensorflow/Keras: %s' % keras.__version__) # print version\n",
    "from keras.models import Sequential # for creating a linear stack of layers for our Neural Network\n",
    "from keras import Input # for instantiating a keras tensor\n",
    "from keras.layers import Dense # for creating regular densely-connected NN layers.\n",
    "import keras.metrics as metrics\n",
    "\n",
    "# Data manipulation\n",
    "import pandas as pd # for data manipulation\n",
    "print('pandas: %s' % pd.__version__) # print version\n",
    "import numpy as np # for data manipulation\n",
    "print('numpy: %s' % np.__version__) # print version\n",
    "\n",
    "# Sklearn\n",
    "import sklearn # for model evaluation\n",
    "print('sklearn: %s' % sklearn.__version__) # print version\n",
    "from sklearn.model_selection import train_test_split # for splitting data into train and test samples\n",
    "from sklearn.metrics import classification_report # for model evaluation metrics\n",
    "\n",
    "# Visualization\n",
    "import plotly \n",
    "import plotly.express as px\n",
    "import plotly.graph_objects as go\n",
    "print('plotly: %s' % plotly.__version__) # print version"
   ]
  },
  {
   "cell_type": "markdown",
   "id": "4828fb37",
   "metadata": {},
   "source": [
    "# Data Acquisition"
   ]
  },
  {
   "cell_type": "code",
   "execution_count": 3,
   "id": "6a596e24",
   "metadata": {},
   "outputs": [],
   "source": [
    "# Load the dataset\n",
    "par_dir = os.path.dirname(os.getcwd()) # parent dir\n",
    "dir_name = par_dir + \"/NN-interaction\"\n",
    "merged_df, dflist = load_dataset(dir_name, 'post') # we have 10 pandas dataframe, one for each couple(camera,sequence)"
   ]
  },
  {
   "cell_type": "markdown",
   "id": "572797a8",
   "metadata": {},
   "source": [
    "> **WARNING:**\n",
    "> I have to standardize the data?"
   ]
  },
  {
   "cell_type": "markdown",
   "id": "be7b1cf9",
   "metadata": {},
   "source": [
    "# Train and Evaluate a Neural Network"
   ]
  },
  {
   "cell_type": "markdown",
   "id": "691417f9",
   "metadata": {},
   "source": [
    "## Step 1: Select data for modeling\n",
    "\n",
    "* X will be the consective distances btw vehicles and v0\n",
    "* y will be the solution of our NN driven ODE model"
   ]
  },
  {
   "cell_type": "code",
   "execution_count": 4,
   "id": "67be0c45",
   "metadata": {},
   "outputs": [],
   "source": [
    "# For sake of simplicity conseder only a scene\n",
    "df = dflist[0] # fix a sequence\n",
    "scn = df.T[0]  # fix a scene"
   ]
  },
  {
   "cell_type": "code",
   "execution_count": 5,
   "id": "e48c41b9",
   "metadata": {},
   "outputs": [
    {
     "data": {
      "text/plain": [
       "Tarr           [9.440000000000001, 9.64, 9.840000000000002, 1...\n",
       "Xarr           [[29.373325674060805, 34.22142942994519, 38.50...\n",
       "Cons Dis       [[28.985128254938463, 28.827356057195246, 29.0...\n",
       "N. vehicles                                                    3\n",
       "cam                                                            1\n",
       "day                                                            1\n",
       "seq                                                            1\n",
       "N. file                                                        1\n",
       "Name: 0, dtype: object"
      ]
     },
     "execution_count": 5,
     "metadata": {},
     "output_type": "execute_result"
    }
   ],
   "source": [
    "scn"
   ]
  },
  {
   "cell_type": "markdown",
   "id": "91933e9d",
   "metadata": {},
   "source": [
    "### Create X"
   ]
  },
  {
   "cell_type": "markdown",
   "id": "6d208abf",
   "metadata": {},
   "source": [
    ">! **WARNING**: Chi è X? il rhs del modello ANN?"
   ]
  },
  {
   "cell_type": "code",
   "execution_count": 6,
   "id": "b679ae50",
   "metadata": {},
   "outputs": [],
   "source": [
    "cd = scn['Cons Dis']\n",
    "cd_initial = cd[:,0]            # consecutive distances btw vehicles at initial time\n",
    "#v0 = np.random.rand()*10\n",
    "v0 = 30\n",
    "X = np.append(cd_initial,v0) "
   ]
  },
  {
   "cell_type": "code",
   "execution_count": 7,
   "id": "ff5e934f",
   "metadata": {},
   "outputs": [
    {
     "data": {
      "text/plain": [
       "(30, array([28.98512825,  1.78659013, 30.        ]))"
      ]
     },
     "execution_count": 7,
     "metadata": {},
     "output_type": "execute_result"
    }
   ],
   "source": [
    "v0, X"
   ]
  },
  {
   "cell_type": "markdown",
   "id": "41d79db8",
   "metadata": {},
   "source": [
    "### Create y\n",
    "\n",
    "we need to simulate our NN driven ODE model"
   ]
  },
  {
   "cell_type": "code",
   "execution_count": 8,
   "id": "7e91db77",
   "metadata": {
    "scrolled": true
   },
   "outputs": [],
   "source": [
    "# time discretization\n",
    "tstamps = scn['Tarr']                  # timestamps scene\n",
    "\n",
    "deltat = 0.05\n",
    "factor = int(0.2/deltat)               # to get back the same timestamps\n",
    "t0, tf = tstamps[0], tstamps[-1]       # initial and final time\n",
    "Nt = int((tf-t0)/deltat) + 1           # number of discretization points (we need to cast the value)\n",
    "tspan = np.linspace(t0, tf, Nt)        # timespan\n",
    "\n",
    "N = scn['N. vehicles']                      # numbers of vehicles\n",
    "# X0 = sorted(np.random.uniform(size=N)*100)  # initial condition\n",
    "X0 =  scn['Xarr'][:,0]  # initial condition"
   ]
  },
  {
   "cell_type": "markdown",
   "id": "f787341c",
   "metadata": {},
   "source": [
    "> Cambia x0 con le posizioni iniizali già in Xarr\n",
    "> X non è Xarr ma COns dis"
   ]
  },
  {
   "cell_type": "code",
   "execution_count": 9,
   "id": "d1d60c93",
   "metadata": {},
   "outputs": [
    {
     "data": {
      "text/plain": [
       "(array([ 9.44,  9.64,  9.84, 10.04, 10.24, 10.44]),\n",
       " array([ 9.44,  9.64,  9.84, 10.04, 10.24, 10.44]))"
      ]
     },
     "execution_count": 9,
     "metadata": {},
     "output_type": "execute_result"
    }
   ],
   "source": [
    "# check that we have the same timestamps:\n",
    "tstamps, tspan[::factor]"
   ]
  },
  {
   "cell_type": "code",
   "execution_count": 10,
   "id": "2dc2e01b",
   "metadata": {},
   "outputs": [],
   "source": [
    "# For a single argument do not forget to add the comma in the tuple e.g.\n",
    "vel = X\n",
    "sol = odeint(TD_ANN_model, X0, tspan, args=(vel,), tfirst = True).T"
   ]
  },
  {
   "cell_type": "code",
   "execution_count": 11,
   "id": "adade0d3",
   "metadata": {},
   "outputs": [],
   "source": [
    "if len(set(tstamps - tspan[::factor])) == 1:\n",
    "    y = sol[:,::factor]\n",
    "else:\n",
    "    print(f\"There is a mismatch in the timestamps: tstamps != tspan[::factor]\")"
   ]
  },
  {
   "cell_type": "code",
   "execution_count": 12,
   "id": "f954871b",
   "metadata": {},
   "outputs": [
    {
     "data": {
      "text/plain": [
       "array([[29.37332567, 35.17035133, 40.96737698, 46.76440263, 52.56142828,\n",
       "        58.35845393],\n",
       "       [58.35845393, 58.71577196, 59.07308998, 59.43040801, 59.78772604,\n",
       "        60.14504406],\n",
       "       [60.14504406, 66.14504406, 72.14504406, 78.14504406, 84.14504406,\n",
       "        90.14504406]])"
      ]
     },
     "execution_count": 12,
     "metadata": {},
     "output_type": "execute_result"
    }
   ],
   "source": [
    "y"
   ]
  },
  {
   "cell_type": "markdown",
   "id": "b7294ac0",
   "metadata": {},
   "source": [
    "### Comparing trajectories of our scene and the one predicted in y"
   ]
  },
  {
   "cell_type": "code",
   "execution_count": 13,
   "id": "a651c240",
   "metadata": {
    "scrolled": false
   },
   "outputs": [
    {
     "data": {
      "image/png": "[encoded data removed]",
      "text/plain": [
       "<Figure size 700x500 with 1 Axes>"
      ]
     },
     "metadata": {},
     "output_type": "display_data"
    }
   ],
   "source": [
    "# fig \n",
    "width, height = 7, 5\n",
    "fig, ax = plt.subplots(figsize=(width,height))\n",
    "\n",
    "N = scn['N. vehicles']\n",
    "\n",
    "for veh in range(0,N):\n",
    "    ax.plot(tstamps, scn['Xarr'][veh])\n",
    "    ax.plot(tspan[::factor], y[veh], '*')\n",
    "\n",
    "\n",
    "# Annotate the name of each variable at the last value\n",
    "scale = 1.004\n",
    "labels = list(range(1,N+1,1))\n",
    "\n",
    "for ycoord in [scn['Xarr'],y]:\n",
    "    coords = zip([tf*scale]*N,ycoord[:,-1]) # last value where I want to annotate the corresponding label\n",
    "    for coord,lab in zip(coords,labels):\n",
    "        ax.annotate(xy=coord,                    # The point (x, y) to annotate.\n",
    "                    xytext=coord,                # The position (x, y) to place the text at.\n",
    "    #                 textcoords='offset points',\n",
    "                    text=lab,\n",
    "                    verticalalignment='center')\n",
    "\n",
    "\n",
    "ax.set_xlabel(\"t\")\n",
    "ax.set_ylabel(\"X(t)\")\n",
    "ax.set_title(f\"Initialization\", fontsize=15)\n",
    "xbal = 0.01\n",
    "ybal = 0.05\n",
    "ax.set_xlim(tstamps[0]*(1-xbal), tstamps[-1]*(1+xbal))\n",
    "mmin, mmax = min(y.min(),scn['Xarr'].min()), max(y.max(),scn['Xarr'].max())\n",
    "ax.set_ylim(mmin*(1-10*ybal), mmax*(1+ybal))\n",
    "plt.legend([\"true\",\"simulated\"])\n",
    "plt.grid()\n",
    "plt.show()"
   ]
  },
  {
   "cell_type": "markdown",
   "id": "1e2c63af",
   "metadata": {},
   "source": [
    "## Step 2: Create training and testing samples"
   ]
  },
  {
   "cell_type": "code",
   "execution_count": 14,
   "id": "25109adc",
   "metadata": {},
   "outputs": [],
   "source": [
    "# X_train, X_test, y_train, y_test = train_test_split(X, y, test_size=0.2, random_state=0)"
   ]
  },
  {
   "cell_type": "markdown",
   "id": "010c4f7a",
   "metadata": {},
   "source": [
    "> !**WARNING**:\\\n",
    "> It doesn't make sense t split X and y\\\n",
    "> to add randomness we need to choose a particular sequence instead of all the dataset?"
   ]
  },
  {
   "cell_type": "markdown",
   "id": "d998953f",
   "metadata": {},
   "source": [
    "## Step 3: Specify the structure of a Neural Network (1-2-1)"
   ]
  },
  {
   "cell_type": "code",
   "execution_count": 15,
   "id": "f018e6d7",
   "metadata": {},
   "outputs": [],
   "source": [
    "model = Sequential(name=\"Model-with-One-Input\") # Model\n",
    "\n",
    "# Input Layer - need to speicfy the shape of inputs\n",
    "model.add(Input(shape=(1,), name='Input-Layer'))\n",
    "\n",
    "# Hidden Layer, softplus(x) = log(exp(x) + 1)\n",
    "model.add(Dense(2, activation='softplus', use_bias=True, name='Hidden-Layer'))\n",
    "\n",
    "# Output Layer, linear(x) = x\n",
    "model.add(Dense(1, activation='linear', use_bias=True, name='Output-Layer'))"
   ]
  },
  {
   "cell_type": "code",
   "execution_count": 16,
   "id": "01ca5b13",
   "metadata": {},
   "outputs": [
    {
     "name": "stdout",
     "output_type": "stream",
     "text": [
      "Model: \"Model-with-One-Input\"\n",
      "_________________________________________________________________\n",
      " Layer (type)                Output Shape              Param #   \n",
      "=================================================================\n",
      " Hidden-Layer (Dense)        (None, 2)                 4         \n",
      "                                                                 \n",
      " Output-Layer (Dense)        (None, 1)                 3         \n",
      "                                                                 \n",
      "=================================================================\n",
      "Total params: 7\n",
      "Trainable params: 7\n",
      "Non-trainable params: 0\n",
      "_________________________________________________________________\n"
     ]
    }
   ],
   "source": [
    "model.summary()"
   ]
  },
  {
   "cell_type": "markdown",
   "id": "a445d952",
   "metadata": {},
   "source": [
    "## Step 4: Compile keras model"
   ]
  },
  {
   "cell_type": "code",
   "execution_count": 17,
   "id": "848e2dd7",
   "metadata": {},
   "outputs": [],
   "source": [
    "# mae = tf.keras.losses.MeanAbsoluteError()\n",
    "\n",
    "# loss_fun = mean(abs(y_true - y_pred))"
   ]
  },
  {
   "cell_type": "code",
   "execution_count": 18,
   "id": "a9d8cfe5",
   "metadata": {},
   "outputs": [],
   "source": [
    "model.compile(optimizer='adam', # default='rmsprop', an algorithm to be used in backpropagation\n",
    "              loss='mean_squared_error', # Loss function to be optimized. tf.keras.losses.Loss instance.\n",
    "              metrics=[metrics.mae] # List of metrics to be evaluated by the model during training and testing.\n",
    "           )"
   ]
  },
  {
   "cell_type": "markdown",
   "id": "d56eca7c",
   "metadata": {},
   "source": [
    "## Step 5: Fit keras model on the dataset"
   ]
  },
  {
   "cell_type": "code",
   "execution_count": 19,
   "id": "fdf2f86a",
   "metadata": {
    "scrolled": true
   },
   "outputs": [
    {
     "name": "stdout",
     "output_type": "stream",
     "text": [
      "Epoch 1/3\n",
      "1/1 [==============================] - 0s 381ms/step - loss: 3764.6594 - mean_absolute_error: 59.4457\n",
      "Epoch 2/3\n",
      "1/1 [==============================] - 0s 6ms/step - loss: 3764.5095 - mean_absolute_error: 59.4444\n",
      "Epoch 3/3\n",
      "1/1 [==============================] - 0s 8ms/step - loss: 3764.3601 - mean_absolute_error: 59.4432\n"
     ]
    },
    {
     "data": {
      "text/plain": [
       "<keras.callbacks.History at 0x7f45242de890>"
      ]
     },
     "execution_count": 19,
     "metadata": {},
     "output_type": "execute_result"
    }
   ],
   "source": [
    "model.fit(X, # input data\n",
    "          y, # target data\n",
    "          batch_size=10, # default=32, Number of samples per gradient update.\n",
    "          epochs=3, # default=1, Number of epochs to train the model.\n",
    "                    # An epoch is an iteration over the entire x and y data provided\n",
    "          verbose='auto'\n",
    "        )"
   ]
  },
  {
   "cell_type": "markdown",
   "id": "6adcd2b7",
   "metadata": {},
   "source": [
    "## Step 6: Use model to make predictions"
   ]
  },
  {
   "cell_type": "code",
   "execution_count": 20,
   "id": "1d2b297d",
   "metadata": {},
   "outputs": [
    {
     "name": "stdout",
     "output_type": "stream",
     "text": [
      "1/1 [==============================] - 0s 116ms/step\n"
     ]
    }
   ],
   "source": [
    "# # Predict class labels on training data\n",
    "# pred_labels_tr = (model.predict(X_train) > 0.5).astype(int)\n",
    "# # Predict class labels on a test data\n",
    "# pred_labels_te = (model.predict(X_test) > 0.5).astype(int)\n",
    "\n",
    "y_pred = model.predict(X)"
   ]
  },
  {
   "cell_type": "code",
   "execution_count": 53,
   "id": "90cd512a",
   "metadata": {},
   "outputs": [],
   "source": [
    "def get_test_stats(model, xtest, ytest, verbose_flag):\n",
    "    \n",
    "    # Compute LOSS and MAE on Test set\n",
    "    loss, mae = model.evaluate(xtest, ytest, verbose = verbose_flag);\n",
    "    \n",
    "    y_pred = model.predict(xtest)\n",
    "    weights = model.get_weights() # Getting params\n",
    "\n",
    "    \n",
    "    return loss, mae, y_pred, weights"
   ]
  },
  {
   "cell_type": "code",
   "execution_count": 54,
   "id": "1fbf1af6",
   "metadata": {
    "scrolled": true
   },
   "outputs": [
    {
     "name": "stdout",
     "output_type": "stream",
     "text": [
      "1/1 [==============================] - 0s 22ms/step - loss: 3764.2102 - mean_absolute_error: 59.4419\n",
      "1/1 [==============================] - 0s 22ms/step\n"
     ]
    }
   ],
   "source": [
    "loss, mae, y_pred, weights = get_test_stats(model, X, y, verbose_flag = 1)"
   ]
  },
  {
   "cell_type": "code",
   "execution_count": 57,
   "id": "d3026431",
   "metadata": {},
   "outputs": [
    {
     "name": "stdout",
     "output_type": "stream",
     "text": [
      "- Stats: \n",
      "\t* Loss:\t\t 3764.210205078125 \n",
      "\t* MAE:\t\t 59.441925048828125 \n",
      "\t* y_pred:\t [[0.0029996666125953197], [-0.06909048557281494], [0.0029997846577316523]]\n"
     ]
    }
   ],
   "source": [
    "print(\n",
    "'- Stats:',\n",
    "'\\n\\t* Loss:\\t\\t', loss,\n",
    "'\\n\\t* MAE:\\t\\t', mae,\n",
    "'\\n\\t* y_pred:\\t', y_pred.tolist()\n",
    ")"
   ]
  },
  {
   "cell_type": "markdown",
   "id": "925033f6",
   "metadata": {},
   "source": [
    "## Step 7: Model Performance Summary"
   ]
  },
  {
   "cell_type": "code",
   "execution_count": 24,
   "id": "4e479463",
   "metadata": {},
   "outputs": [
    {
     "name": "stdout",
     "output_type": "stream",
     "text": [
      "\n",
      "-------------------- Model Summary --------------------\n",
      "Model: \"Model-with-One-Input\"\n",
      "_________________________________________________________________\n",
      " Layer (type)                Output Shape              Param #   \n",
      "=================================================================\n",
      " Hidden-Layer (Dense)        (None, 2)                 4         \n",
      "                                                                 \n",
      " Output-Layer (Dense)        (None, 1)                 3         \n",
      "                                                                 \n",
      "=================================================================\n",
      "Total params: 7\n",
      "Trainable params: 7\n",
      "Non-trainable params: 0\n",
      "_________________________________________________________________\n",
      "\n",
      "-------------------- Weights and Biases --------------------\n",
      "Layer:  Hidden-Layer\n",
      "  --Kernels (Weights):  [[-0.47013143 -1.0093865 ]]\n",
      "  --Biases:  [-0.00299941  0.00300088]\n",
      "Layer:  Output-Layer\n",
      "  --Kernels (Weights):  [[-0.25844148]\n",
      " [ 0.1335816 ]]\n",
      "  --Biases:  [0.00299998]\n",
      "\n"
     ]
    }
   ],
   "source": [
    "print(\"\")\n",
    "print('-------------------- Model Summary --------------------')\n",
    "model.summary() # print model summary\n",
    "print(\"\")\n",
    "print('-------------------- Weights and Biases --------------------')\n",
    "for layer in model.layers:\n",
    "    print(\"Layer: \", layer.name) # print layer name\n",
    "    print(\"  --Kernels (Weights): \", layer.get_weights()[0]) # kernels (weights)\n",
    "    print(\"  --Biases: \", layer.get_weights()[1]) # biases\n",
    "    \n",
    "print(\"\")\n",
    "# print('---------- Evaluation on Training Data ----------')\n",
    "# print(classification_report(y_train, pred_labels_tr))\n",
    "# print(\"\")\n",
    "\n",
    "# print('---------- Evaluation on Test Data ----------')\n",
    "# print(classification_report(y_test, pred_labels_te))\n",
    "# print(\"\")"
   ]
  },
  {
   "cell_type": "markdown",
   "id": "3520434d",
   "metadata": {},
   "source": [
    "## Step 8: Solve the ODE with the output of the ANN"
   ]
  },
  {
   "cell_type": "code",
   "execution_count": 25,
   "id": "d6beaa02",
   "metadata": {},
   "outputs": [],
   "source": [
    "# For a single argument do not forget to add the comma in the tuple e.g.\n",
    "sol_ann = odeint(TD_ANN_model, X0, tspan, args=(y_pred[:,0],), tfirst = True).T\n",
    "y_ann = sol_ann[:,::factor]"
   ]
  },
  {
   "cell_type": "code",
   "execution_count": 26,
   "id": "dfdec047",
   "metadata": {},
   "outputs": [
    {
     "data": {
      "image/png": "[encoded data removed]",
      "text/plain": [
       "<Figure size 700x500 with 1 Axes>"
      ]
     },
     "metadata": {},
     "output_type": "display_data"
    }
   ],
   "source": [
    "# fig \n",
    "width, height = 7, 5\n",
    "fig, ax = plt.subplots(figsize=(width,height))\n",
    "\n",
    "N = scn['N. vehicles']\n",
    "\n",
    "for veh in range(0,N):\n",
    "    ax.plot(tstamps, scn['Xarr'][veh])\n",
    "    ax.plot(tspan[::factor], y[veh], '*')\n",
    "    ax.plot(tspan[::factor], y_ann[veh], '--')\n",
    "\n",
    "\n",
    "# Annotate the name of each variable at the last value\n",
    "scale = 1.004\n",
    "labels = list(range(1,N+1,1))\n",
    "\n",
    "for ycoord in [scn['Xarr'],y,y_ann]:\n",
    "    coords = zip([tf*scale]*N,ycoord[:,-1]) # last value where I want to annotate the corresponding label\n",
    "    for coord,lab in zip(coords,labels):\n",
    "        ax.annotate(xy=coord,                    # The point (x, y) to annotate.\n",
    "                    xytext=coord,                # The position (x, y) to place the text at.\n",
    "    #                 textcoords='offset points',\n",
    "                    text=lab,\n",
    "                    verticalalignment='center')\n",
    "\n",
    "\n",
    "ax.set_xlabel(\"t\")\n",
    "ax.set_ylabel(\"X(t)\")\n",
    "ax.set_title(f\"Initialization\", fontsize=15)\n",
    "xbal = 0.01\n",
    "ybal = 0.05\n",
    "ax.set_xlim(tstamps[0]*(1-xbal), tstamps[-1]*(1+xbal))\n",
    "mmin, mmax = min(y_ann.min(),scn['Xarr'].min()), max(y_ann.max(),scn['Xarr'].max())\n",
    "ax.set_ylim(mmin*(1-10*ybal), mmax*(1+ybal))\n",
    "plt.legend([\"true\",\"init sim\",\"nn sim\"])\n",
    "plt.grid()\n",
    "plt.show()"
   ]
  },
  {
   "cell_type": "code",
   "execution_count": null,
   "id": "547d41a2",
   "metadata": {},
   "outputs": [],
   "source": []
  }
 ],
 "metadata": {
  "kernelspec": {
   "display_name": "Python 3 (ipykernel)",
   "language": "python",
   "name": "python3"
  },
  "language_info": {
   "codemirror_mode": {
    "name": "ipython",
    "version": 3
   },
   "file_extension": ".py",
   "mimetype": "text/x-python",
   "name": "python",
   "nbconvert_exporter": "python",
   "pygments_lexer": "ipython3",
   "version": "3.10.9"
  }
 },
 "nbformat": 4,
 "nbformat_minor": 5
}
