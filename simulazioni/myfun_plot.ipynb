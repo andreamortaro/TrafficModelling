{
 "cells": [
  {
   "cell_type": "code",
   "execution_count": null,
   "id": "a801b172",
   "metadata": {},
   "outputs": [],
   "source": [
    "# Python libraries\n",
    "import os\n",
    "import matplotlib.pyplot as plt\n",
    "\n",
    "# To enable LaTeX and select a font\n",
    "plt.rcParams.update({\n",
    "    \"text.usetex\": True,\n",
    "    \"font.family\": \"sans-serif\",\n",
    "    \"font.sans-serif\": \"Helvetica\",\n",
    "})"
   ]
  },
  {
   "cell_type": "markdown",
   "id": "1d8eaea1",
   "metadata": {},
   "source": [
    "## Functions to plot"
   ]
  },
  {
   "cell_type": "code",
   "execution_count": null,
   "id": "0a4273f8",
   "metadata": {},
   "outputs": [],
   "source": [
    "# def plot_trajs(width, height, tstamps, trajs, labels):\n",
    "    \n",
    "#     # width, height = 7, 5\n",
    "#     fig, ax = plt.subplots(figsize=(width,height))\n",
    "    \n",
    "#     # set the number of vehicles given in the list trajs\n",
    "#     Nvehicles = [len(x) for x in trajs]  \n",
    "#     if len(set(Nvehicles)) == 1:\n",
    "#         N = len(Nvehicles[0])\n",
    "#     else:\n",
    "#         return f\"Mismatch in the number of vehicles\"\n",
    "    \n",
    "    \n",
    "#     for veh in range(0,N):\n",
    "#         ax.plot(tstamps, scn['Xarr'][veh])\n",
    "#         ax.plot(tspan[::factor], y[veh], '*')\n",
    "    \n",
    "    \n",
    "    \n",
    "#     return"
   ]
  },
  {
   "cell_type": "code",
   "execution_count": null,
   "id": "087e2117",
   "metadata": {},
   "outputs": [],
   "source": [
    "# # fig \n",
    "# width, height = 7, 5\n",
    "# fig, ax = plt.subplots(figsize=(width,height))\n",
    "\n",
    "# N = scn['N. vehicles']\n",
    "\n",
    "# for veh in range(0,N):\n",
    "#     ax.plot(tstamps, scn['Xarr'][veh])\n",
    "#     ax.plot(tspan[::factor], y[veh], '*')\n",
    "\n",
    "\n",
    "# # Annotate the name of each variable at the last value\n",
    "# scale = 1.004\n",
    "# labels = list(range(1,N+1,1))\n",
    "\n",
    "# for ycoord in [scn['Xarr'],y]:\n",
    "#     coords = zip([tf*scale]*N,ycoord[:,-1]) # last value where I want to annotate the corresponding label\n",
    "#     for coord,lab in zip(coords,labels):\n",
    "#         ax.annotate(xy=coord,                    # The point (x, y) to annotate.\n",
    "#                     xytext=coord,                # The position (x, y) to place the text at.\n",
    "#     #                 textcoords='offset points',\n",
    "#                     text=lab,\n",
    "#                     verticalalignment='center')\n",
    "\n",
    "\n",
    "# ax.set_xlabel(\"t\")\n",
    "# ax.set_ylabel(\"X(t)\")\n",
    "# ax.set_title(f\"Initialization\", fontsize=15)\n",
    "# xbal = 0.01\n",
    "# ybal = 0.05\n",
    "# ax.set_xlim(tstamps[0]*(1-xbal), tstamps[-1]*(1+xbal))\n",
    "# mmin, mmax = min(y.min(),scn['Xarr'].min()), max(y.max(),scn['Xarr'].max())\n",
    "# ax.set_ylim(mmin*(1-10*ybal), mmax*(1+ybal))\n",
    "# plt.legend([\"true\",\"simulated\"])\n",
    "# plt.grid()\n",
    "# plt.show()"
   ]
  }
 ],
 "metadata": {
  "kernelspec": {
   "display_name": "Python 3 (ipykernel)",
   "language": "python",
   "name": "python3"
  },
  "language_info": {
   "codemirror_mode": {
    "name": "ipython",
    "version": 3
   },
   "file_extension": ".py",
   "mimetype": "text/x-python",
   "name": "python",
   "nbconvert_exporter": "python",
   "pygments_lexer": "ipython3",
   "version": "3.10.9"
  }
 },
 "nbformat": 4,
 "nbformat_minor": 5
}
