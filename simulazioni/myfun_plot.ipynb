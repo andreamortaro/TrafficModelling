{
 "cells": [
  {
   "cell_type": "code",
   "execution_count": 1,
   "id": "a801b172",
   "metadata": {},
   "outputs": [],
   "source": [
    "# Python libraries\n",
    "import os\n",
    "import matplotlib.pyplot as plt\n",
    "\n",
    "# To enable LaTeX and select a font\n",
    "plt.rcParams.update({\n",
    "    \"text.usetex\": True,\n",
    "    \"font.family\": \"sans-serif\",\n",
    "    \"font.sans-serif\": \"Helvetica\",\n",
    "})"
   ]
  },
  {
   "cell_type": "markdown",
   "id": "1d8eaea1",
   "metadata": {},
   "source": [
    "## Functions to plot"
   ]
  },
  {
   "cell_type": "code",
   "execution_count": 7,
   "id": "dc74aec4",
   "metadata": {},
   "outputs": [],
   "source": [
    "def plot_annotation(ax, scn, trajs, scale=1.004):\n",
    "\n",
    "    \"\"\"\n",
    "    Annotate the number of the machine close to the endpoint of each trajectory\n",
    "    \n",
    "    INPUT:\n",
    "    * ax is the object where we want to plot over\n",
    "    * scn is a scene of the dataset\n",
    "    * trajs is an array of the trajectories to plot\n",
    "    * scale allows to adjust how near to write the number to each machine\n",
    "    \"\"\"\n",
    "    \n",
    "    N = scn['N. vehicles']\n",
    "    tstamps = scn['Tarr']\n",
    "    \n",
    "    # Annotate the name of each variable at the last value\n",
    "    labels = list(range(1,N+1,1))\n",
    "    for ycoord in trajs:\n",
    "        coords = zip([tstamps[-1]*scale]*N,ycoord[:,-1]) # last value where I want to annotate the corresponding label\n",
    "        for coord,lab in zip(coords,labels):\n",
    "            ax.annotate(xy=coord,                    # The point (x, y) to annotate.\n",
    "                        xytext=coord,                # The position (x, y) to place the text at.\n",
    "        #                 textcoords='offset points',\n",
    "                        text=lab,\n",
    "                        verticalalignment='center')\n",
    "            \n",
    "    return"
   ]
  },
  {
   "cell_type": "code",
   "execution_count": null,
   "id": "754e9a72",
   "metadata": {},
   "outputs": [],
   "source": [
    "def plot_limits(ax, scn, trajs, xbal=0.01, ybal=0.05):\n",
    "\n",
    "    \"\"\"\n",
    "    Annotate the number of the machine close to the endpoint of each trajectory\n",
    "    \n",
    "    INPUT:\n",
    "    * ax is the object where we want to plot over\n",
    "    * scn is a scene of the dataset\n",
    "    * trajs is an array of the trajectories to plot\n",
    "    * scale allows to adjust how near to write the number to each machine\n",
    "    \"\"\"\n",
    "    \n",
    "    tstamps = scn['Tarr']\n",
    "    \n",
    "    # X LIM\n",
    "    ax.set_xlim(tstamps[0]*(1-xbal), tstamps[-1]*(1+xbal))\n",
    "    # Y LIM\n",
    "    mmin, mmax = min([x.min() for x in trajs]), max([x.max() for x in trajs])\n",
    "    ax.set_ylim(mmin*(1-2.5*ybal), mmax*(1+ybal))\n",
    "\n",
    "    return"
   ]
  },
  {
   "cell_type": "code",
   "execution_count": 6,
   "id": "0a4273f8",
   "metadata": {},
   "outputs": [],
   "source": [
    "# def plot_trajs(width, height, scn, trajs, title=\"\",labels=\"\", scale=1.004):\n",
    "    \n",
    "#     \"\"\"\n",
    "#     INPUT:\n",
    "#     * width, height is about the figsize of the plot\n",
    "#     * scn is a scene of the dataset\n",
    "#     * trajs is an array of the trajectories to plot\n",
    "#     \"\"\"\n",
    "    \n",
    "#     # width, height = 7, 5\n",
    "#     fig, ax = plt.subplots(figsize=(width,height))\n",
    "    \n",
    "#     # get the params\n",
    "#     N = scn['N. vehicles']\n",
    "#     tstamps = scn['Tarr']\n",
    "#     t0, tf = tstamps[0], tstamps[-1]\n",
    "\n",
    "#     # Plotting the trajs\n",
    "#     for veh in range(0,N):\n",
    "#         for traj in trajs:\n",
    "#             ax.plot(tstamps, traj[veh])\n",
    "    \n",
    "#     # Annotate the number of each machine\n",
    "#     annotation(ax, scn, trajs, scale)\n",
    "    \n",
    "#     ax.set_xlabel(\"t\")\n",
    "#     ax.set_ylabel(\"X(t)\")\n",
    "#     ax.set_title(title, fontsize=15)\n",
    "#     # X LIM\n",
    "#     xbal = 0.01\n",
    "#     ax.set_xlim(tstamps[0]*(1-xbal), tstamps[-1]*(1+xbal))\n",
    "#     # Y LIM\n",
    "#     ybal = 0.05\n",
    "#     mmin, mmax = min([x.min() for x in trajs]), max([x.max() for x in trajs])\n",
    "#     ax.set_ylim(mmin*(1-10*ybal), mmax*(1+ybal))\n",
    "    \n",
    "    \n",
    "#     plt.legend(labels)\n",
    "#     plt.grid()\n",
    "#     plt.show()\n",
    "    \n",
    "#     return"
   ]
  },
  {
   "cell_type": "code",
   "execution_count": null,
   "id": "3b123f84",
   "metadata": {},
   "outputs": [],
   "source": []
  }
 ],
 "metadata": {
  "kernelspec": {
   "display_name": "Python 3 (ipykernel)",
   "language": "python",
   "name": "python3"
  },
  "language_info": {
   "codemirror_mode": {
    "name": "ipython",
    "version": 3
   },
   "file_extension": ".py",
   "mimetype": "text/x-python",
   "name": "python",
   "nbconvert_exporter": "python",
   "pygments_lexer": "ipython3",
   "version": "3.10.9"
  }
 },
 "nbformat": 4,
 "nbformat_minor": 5
}
