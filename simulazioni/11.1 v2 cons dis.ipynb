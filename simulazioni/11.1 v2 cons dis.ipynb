{
 "cells": [
  {
   "cell_type": "markdown",
   "id": "ad5e4d47",
   "metadata": {},
   "source": [
    "## Import libraries"
   ]
  },
  {
   "cell_type": "code",
   "execution_count": 2,
   "id": "c84869a2",
   "metadata": {
    "scrolled": false
   },
   "outputs": [
    {
     "name": "stderr",
     "output_type": "stream",
     "text": [
      "2024-03-03 15:49:04.478346: E external/local_xla/xla/stream_executor/cuda/cuda_dnn.cc:9261] Unable to register cuDNN factory: Attempting to register factory for plugin cuDNN when one has already been registered\n",
      "2024-03-03 15:49:04.478380: E external/local_xla/xla/stream_executor/cuda/cuda_fft.cc:607] Unable to register cuFFT factory: Attempting to register factory for plugin cuFFT when one has already been registered\n",
      "2024-03-03 15:49:04.479706: E external/local_xla/xla/stream_executor/cuda/cuda_blas.cc:1515] Unable to register cuBLAS factory: Attempting to register factory for plugin cuBLAS when one has already been registered\n",
      "2024-03-03 15:49:04.485963: I tensorflow/core/platform/cpu_feature_guard.cc:182] This TensorFlow binary is optimized to use available CPU instructions in performance-critical operations.\n",
      "To enable the following instructions: AVX2 FMA, in other operations, rebuild TensorFlow with the appropriate compiler flags.\n",
      "2024-03-03 15:49:05.430914: W tensorflow/compiler/tf2tensorrt/utils/py_utils.cc:38] TF-TRT Warning: Could not find TensorRT\n"
     ]
    }
   ],
   "source": [
    "# Python libraries\n",
    "import os\n",
    "import sys\n",
    "import pandas as pd # for data manipulation\n",
    "import numpy as np # for data manipulation\n",
    "import tensorflow as tf\n",
    "from sklearn.model_selection import train_test_split\n",
    "from datetime import datetime\n",
    "import time\n",
    "\n",
    "# Plotting\n",
    "import matplotlib.pyplot as plt\n",
    "\n",
    "# To enable LaTeX and select a font\n",
    "plt.rcParams.update({\n",
    "    \"text.usetex\": True,\n",
    "    \"font.family\": \"sans-serif\",\n",
    "    \"font.sans-serif\": \"Helvetica\",\n",
    "})\n",
    "\n",
    "# Using ipynb import functions defined in other nb\n",
    "sys.path.append(\"myfun/\")\n",
    "from ipynb.fs.defs.myfun_load_dataset import *\n",
    "from ipynb.fs.full.myfun_model_nn_v2 import *\n",
    "from ipynb.fs.defs.myfun_plot import *"
   ]
  },
  {
   "cell_type": "markdown",
   "id": "0e0e4056",
   "metadata": {},
   "source": [
    "## Data Acquisition"
   ]
  },
  {
   "cell_type": "code",
   "execution_count": 3,
   "id": "12ab8161",
   "metadata": {},
   "outputs": [],
   "source": [
    "# Load the dataset\n",
    "par_dir = os.path.dirname(os.getcwd()) # parent dir\n",
    "dir_name = par_dir + \"/NN-interaction\""
   ]
  },
  {
   "cell_type": "code",
   "execution_count": 4,
   "id": "3a1949d7",
   "metadata": {},
   "outputs": [],
   "source": [
    "processed_flag = 'post'\n",
    "# load the data\n",
    "_, dflist = load_dataset(dir_name, processed_flag)\n",
    "dataset = dflist"
   ]
  },
  {
   "cell_type": "code",
   "execution_count": 90,
   "id": "777534d8",
   "metadata": {
    "scrolled": false
   },
   "outputs": [],
   "source": [
    "cd_dataset = []\n",
    "for step, d in enumerate(dataset):\n",
    "#     print(step)\n",
    "    cd_d = []\n",
    "    \n",
    "#     print(fr\"We have {len(d)} scenes.\")\n",
    "    \n",
    "    for cd_scn in d[\"cons_dis\"]:\n",
    "        tmp = np.min(cd_scn)\n",
    "        cd_d.append(tmp)\n",
    "#         print(fr\"The min consecutive distance is: {tmp}\")\n",
    "    \n",
    "#     width, height = 7, 4.5 # single subplot\n",
    "#     fig, axs = plt.subplots(1, 1, figsize=(width*.75,height*.75))\n",
    "#     axs.hist(cd_d, bins=len(cd_d))\n",
    "#     axs.set_title(fr\"cons_dis distribution - df n.{step}\")\n",
    "    \n",
    "    plt.show()\n",
    "    \n",
    "#     print(len(cd_d))\n",
    "#     print(\"==\"*50)\n",
    "    cd_dataset.append(cd_d)"
   ]
  },
  {
   "cell_type": "code",
   "execution_count": 91,
   "id": "cfefb74c",
   "metadata": {},
   "outputs": [],
   "source": [
    "cd_dataset = []\n",
    "for d in dataset:\n",
    "    cd_d = []\n",
    "    \n",
    "    [cd_d.append(np.min(cd_scn)) for cd_scn in d[\"cons_dis\"]]\n",
    "\n",
    "    cd_dataset.append(cd_d)"
   ]
  },
  {
   "cell_type": "code",
   "execution_count": 87,
   "id": "1a2ff79b",
   "metadata": {},
   "outputs": [
    {
     "data": {
      "image/png": "[encoded data removed]",
      "text/plain": [
       "<Figure size 1050x337.5 with 1 Axes>"
      ]
     },
     "metadata": {},
     "output_type": "display_data"
    }
   ],
   "source": [
    "width, height = 14, 4.5 # single subplot\n",
    "fig, axs = plt.subplots(1, 1, figsize=(width*.75,height*.75))\n",
    "axs.hist(cd_dataset, bins=len(cd_dataset))\n",
    "axs.set_title(fr\"cons_dis distribution\")\n",
    "\n",
    "plt.show()"
   ]
  },
  {
   "cell_type": "code",
   "execution_count": 84,
   "id": "a09af337",
   "metadata": {},
   "outputs": [
    {
     "name": "stdout",
     "output_type": "stream",
     "text": [
      "There are 39 min distances less than 1.\n"
     ]
    }
   ],
   "source": [
    "soglia = 1\n",
    "l = [1 for cd_d in cd_dataset for cd_scn in cd_d if cd_scn<soglia]\n",
    "print(fr\"There are {len(l)} min distances less than {soglia}.\")"
   ]
  },
  {
   "cell_type": "code",
   "execution_count": 120,
   "id": "af6e7394",
   "metadata": {},
   "outputs": [],
   "source": [
    "cd_dataset_flat = [cd_scn for cd_d in cd_dataset for cd_scn in cd_d]\n",
    "perc = 0.2\n",
    "threshold = int(len(cd_dataset_flat)*perc)\n",
    "\n",
    "l = []\n",
    "ll = cd_dataset_flat.copy()\n",
    "\n",
    "while(len(l)<threshold):\n",
    "    mmin = np.min(ll)\n",
    "    imin = ll.index(mmin)\n",
    "    l.append(mmin), ll.pop(imin)\n",
    "    \n",
    "threshold_min = l[-1]"
   ]
  },
  {
   "cell_type": "code",
   "execution_count": 121,
   "id": "fed99287",
   "metadata": {},
   "outputs": [
    {
     "data": {
      "text/plain": [
       "1.0314439568624607"
      ]
     },
     "execution_count": 121,
     "metadata": {},
     "output_type": "execute_result"
    }
   ],
   "source": [
    "l[-1]"
   ]
  }
 ],
 "metadata": {
  "kernelspec": {
   "display_name": "Python 3 (ipykernel)",
   "language": "python",
   "name": "python3"
  },
  "language_info": {
   "codemirror_mode": {
    "name": "ipython",
    "version": 3
   },
   "file_extension": ".py",
   "mimetype": "text/x-python",
   "name": "python",
   "nbconvert_exporter": "python",
   "pygments_lexer": "ipython3",
   "version": "3.11.7"
  }
 },
 "nbformat": 4,
 "nbformat_minor": 5
}
