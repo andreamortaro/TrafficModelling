{
 "cells": [
  {
   "cell_type": "code",
   "execution_count": null,
   "id": "9e09d9e6",
   "metadata": {},
   "outputs": [],
   "source": [
    "# Python libraries\n",
    "import numpy as np # for data manipulation\n",
    "import tensorflow as tf\n",
    "\n",
    "# # Using ipynb import functions defined in other nb\n",
    "# from ipynb.fs.defs.myfun_load_dataset import *\n",
    "# from ipynb.fs.full.myfun_models import *\n",
    "# from ipynb.fs.full.myfun_nn import *\n",
    "# from ipynb.fs.defs.myfun_plot import *"
   ]
  },
  {
   "cell_type": "code",
   "execution_count": null,
   "id": "69424b2e",
   "metadata": {},
   "outputs": [],
   "source": [
    "global loss_objective\n",
    "\n",
    "loss_objective = tf.keras.losses.MeanSquaredError()"
   ]
  },
  {
   "cell_type": "code",
   "execution_count": null,
   "id": "a29e96da",
   "metadata": {},
   "outputs": [],
   "source": [
    "def SGD_v0(scn, x_list_matched, v0, LEARNING_RATE_v0):\n",
    "    \n",
    "    \"\"\"\n",
    "    v0_upd = SGD_v0(scn, x_list_matched, v0, LEARNING_RATE_v0)\n",
    "    \"\"\"\n",
    "    \n",
    "    with tf.GradientTape(persistent=True) as tape:\n",
    "\n",
    "        trajs_true_tensor = tf.convert_to_tensor(scn['Xarr'], dtype=tf.float64)\n",
    "\n",
    "        # Create tensor that you will watch\n",
    "        trajs_pred_tensor = tf.convert_to_tensor(x_list_matched, dtype=tf.float64)\n",
    "        tape.watch(trajs_pred_tensor)\n",
    "\n",
    "        loss_val = loss_objective(y_true = trajs_true_tensor, y_pred = trajs_pred_tensor)\n",
    "\n",
    "    # Compute gradients\n",
    "    grads = tape.gradient(loss_val, trajs_pred_tensor)\n",
    "\n",
    "    # Update weights\n",
    "    g = grads[-1].numpy()[1:].mean() # I'm watching at a mean velocity of the leader car..\n",
    "    v0_upd = v0 - LEARNING_RATE_v0*g\n",
    "    \n",
    "    return v0_upd, loss_val, grads, g"
   ]
  }
 ],
 "metadata": {
  "kernelspec": {
   "display_name": "Python 3 (ipykernel)",
   "language": "python",
   "name": "python3"
  },
  "language_info": {
   "codemirror_mode": {
    "name": "ipython",
    "version": 3
   },
   "file_extension": ".py",
   "mimetype": "text/x-python",
   "name": "python",
   "nbconvert_exporter": "python",
   "pygments_lexer": "ipython3",
   "version": "3.10.9"
  }
 },
 "nbformat": 4,
 "nbformat_minor": 5
}
