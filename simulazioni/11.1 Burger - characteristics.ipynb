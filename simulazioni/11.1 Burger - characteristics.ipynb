{
 "cells": [
  {
   "cell_type": "code",
   "execution_count": 1,
   "id": "a7402294",
   "metadata": {
    "scrolled": true
   },
   "outputs": [
    {
     "name": "stderr",
     "output_type": "stream",
     "text": [
      "2024-02-12 21:59:01.771269: E external/local_xla/xla/stream_executor/cuda/cuda_dnn.cc:9261] Unable to register cuDNN factory: Attempting to register factory for plugin cuDNN when one has already been registered\n",
      "2024-02-12 21:59:01.771299: E external/local_xla/xla/stream_executor/cuda/cuda_fft.cc:607] Unable to register cuFFT factory: Attempting to register factory for plugin cuFFT when one has already been registered\n",
      "2024-02-12 21:59:01.772296: E external/local_xla/xla/stream_executor/cuda/cuda_blas.cc:1515] Unable to register cuBLAS factory: Attempting to register factory for plugin cuBLAS when one has already been registered\n",
      "2024-02-12 21:59:01.778332: I tensorflow/core/platform/cpu_feature_guard.cc:182] This TensorFlow binary is optimized to use available CPU instructions in performance-critical operations.\n",
      "To enable the following instructions: AVX2 FMA, in other operations, rebuild TensorFlow with the appropriate compiler flags.\n",
      "2024-02-12 21:59:02.566710: W tensorflow/compiler/tf2tensorrt/utils/py_utils.cc:38] TF-TRT Warning: Could not find TensorRT\n"
     ]
    }
   ],
   "source": [
    "# Python libraries\n",
    "import os\n",
    "import sys\n",
    "import pandas as pd # for data manipulation\n",
    "import numpy as np # for data manipulation\n",
    "import keras\n",
    "import matplotlib.pyplot as plt\n",
    "\n",
    "# To enable LaTeX and select a font\n",
    "plt.rcParams.update({\n",
    "    \"text.usetex\": True,\n",
    "    \"font.family\": \"sans-serif\",\n",
    "    \"font.sans-serif\": \"Helvetica\",\n",
    "})\n",
    "\n",
    "# Import custom functions from other notebooks\n",
    "sys.path.append(\"myfun/\")\n",
    "from ipynb.fs.full.myfun_nn import *\n",
    "from ipynb.fs.full.myfun_model_nn import *\n",
    "from ipynb.fs.full.myfun_model_linlog import *"
   ]
  },
  {
   "cell_type": "markdown",
   "id": "2961f72c",
   "metadata": {},
   "source": [
    "# Solve the Burger equation"
   ]
  },
  {
   "cell_type": "code",
   "execution_count": 2,
   "id": "493e8bec",
   "metadata": {},
   "outputs": [],
   "source": [
    "## Params\n",
    "N = 200\n",
    "T = 0.5\n",
    "trange = 0, 0.245, T\n",
    "rho_l = 0.4\n",
    "rho_r = 0.8\n",
    "flux_flag = 0 # Case study"
   ]
  },
  {
   "cell_type": "code",
   "execution_count": 3,
   "id": "5c6d29db",
   "metadata": {},
   "outputs": [
    {
     "name": "stdout",
     "output_type": "stream",
     "text": [
      "There's at least a vehicle not sorted\n"
     ]
    }
   ],
   "source": [
    "# Intial positions and consecutive distances\n",
    "## Space\n",
    "rng = np.random.default_rng(12)\n",
    "a = rng.uniform(-1, 0, int(N/3))\n",
    "b = rng.uniform(0, 1, N-int(N/3))\n",
    "\n",
    "my_rnd = np.concatenate([a, b])\n",
    "\n",
    "# Check if sorted\n",
    "if all(my_rnd[i] <= my_rnd[i+1] for i in range(len(my_rnd) - 1)):\n",
    "    print(\"All the vehicles are sorted\")\n",
    "    X = m_rnd\n",
    "else:\n",
    "    print(\"There's at least a vehicle not sorted\")\n",
    "    X = my_rnd.copy()\n",
    "    X.sort()"
   ]
  },
  {
   "cell_type": "code",
   "execution_count": 4,
   "id": "601d9307",
   "metadata": {},
   "outputs": [],
   "source": [
    "xspan = X\n",
    "tspan = np.linspace(0,T,160)"
   ]
  },
  {
   "cell_type": "code",
   "execution_count": 5,
   "id": "7db065c5",
   "metadata": {},
   "outputs": [],
   "source": [
    "# Flux\n",
    "\n",
    "if flux_flag == 0:\n",
    "\n",
    "    # Case study\n",
    "    def f(z):\n",
    "        return z*(1-z)\n",
    "\n",
    "    def fprime(z):\n",
    "        return 1-2*z\n",
    "\n",
    "    def fprime_inv(z):\n",
    "        return .5*(1-z)\n",
    "    \n",
    "if flux_flag == 1:\n",
    "\n",
    "    ## Burger\n",
    "    def f(z):\n",
    "        return z*z\n",
    "\n",
    "    def fprime(z):\n",
    "        return 2*z\n",
    "\n",
    "    def fprime_inv(z):\n",
    "        return z/2"
   ]
  },
  {
   "cell_type": "code",
   "execution_count": 15,
   "id": "f339110c",
   "metadata": {},
   "outputs": [],
   "source": [
    "# Initial Condition\n",
    "def rho_bar(x):\n",
    "    result = 0\n",
    "    if(x >= -1 and x <= 0):\n",
    "        result = rho_l\n",
    "    if(x > 0 and x < 1):\n",
    "        result = rho_r\n",
    "    return result\n",
    "\n",
    "# Solution (rarefaction wave)\n",
    "def rho(x,t):\n",
    "    result = 0\n",
    "    if(x <= fprime(rho_l)*t):\n",
    "        result = rho_l\n",
    "    if(x > fprime(rho_l)*t and x <= fprime(rho_r)*t):\n",
    "        result = fprime_inv(x/t)\n",
    "    if(x > fprime(rho_r)*t):\n",
    "        result = rho_r\n",
    "    return result"
   ]
  },
  {
   "cell_type": "code",
   "execution_count": 16,
   "id": "19ead1c7",
   "metadata": {},
   "outputs": [],
   "source": [
    "# speed of shock\n",
    "s = (f(rho_r) - f(rho_l))/(rho_r - rho_l)\n",
    "\n",
    "# shock\n",
    "def gamma(t):\n",
    "    return s*t\n",
    "\n",
    "# Lax-Entropy condition\n",
    "if fprime(rho_l) < s or fprime(rho_r) > s:\n",
    "    print(\"Lax-Entropy condition not satisfied\")"
   ]
  },
  {
   "cell_type": "code",
   "execution_count": 17,
   "id": "5ff28954",
   "metadata": {},
   "outputs": [
    {
     "data": {
      "text/plain": [
       "(-0.20000000000000004,\n",
       " (0.15999999999999998, 0.24),\n",
       " (0.19999999999999996, -0.6000000000000001))"
      ]
     },
     "execution_count": 17,
     "metadata": {},
     "output_type": "execute_result"
    }
   ],
   "source": [
    "s, (f(rho_r),f(rho_l)), (fprime(rho_l), fprime(rho_r))"
   ]
  },
  {
   "cell_type": "markdown",
   "id": "f9f61566",
   "metadata": {},
   "source": [
    "### Characteristics"
   ]
  },
  {
   "cell_type": "code",
   "execution_count": 18,
   "id": "ffe64b0c",
   "metadata": {},
   "outputs": [],
   "source": [
    "## Characteristics\n",
    "\n",
    "def ispositive(n):\n",
    "    result = True\n",
    "    if n < 0:\n",
    "        result = False\n",
    "    return result\n",
    "\n",
    "def characteristic(xspan,tspan):\n",
    "    \n",
    "    result = []\n",
    "    \n",
    "    for x0 in xspan:\n",
    "        \n",
    "        tmp = x0\n",
    "        char = [x0]\n",
    "        shock = [gamma(tspan[0])]\n",
    "        nocross_cond = True\n",
    "        \n",
    "        for t in tspan[1:]:\n",
    "            \n",
    "            shock.append(gamma(t))\n",
    "            cond = (tmp <= shock[-1])\n",
    "            \n",
    "            if cond:\n",
    "                tmp = x0 + rho_l*t\n",
    "            else:\n",
    "                tmp = x0 + rho_r*t\n",
    "\n",
    "            if nocross_cond:\n",
    "                val = (tmp-shock[-1])/(char[-1]-shock[-2])  \n",
    "                nocross_cond = ispositive(val)\n",
    "            else:\n",
    "                #print(\"nocross_cond is False now\")\n",
    "                tmp = gamma(t)\n",
    "\n",
    "            char.append(tmp)\n",
    "            \n",
    "        result.append(char)\n",
    "\n",
    "    return result"
   ]
  },
  {
   "cell_type": "code",
   "execution_count": 19,
   "id": "68aab737",
   "metadata": {},
   "outputs": [
    {
     "data": {
      "text/plain": [
       "(160, 160)"
      ]
     },
     "execution_count": 19,
     "metadata": {},
     "output_type": "execute_result"
    }
   ],
   "source": [
    "chars = characteristic(xspan,tspan)\n",
    "len(chars[0]), len(tspan)"
   ]
  },
  {
   "cell_type": "code",
   "execution_count": 20,
   "id": "e03430b6",
   "metadata": {
    "scrolled": false
   },
   "outputs": [
    {
     "data": {
      "image/png": "[encoded data removed]",
      "text/plain": [
       "<Figure size 700x500 with 1 Axes>"
      ]
     },
     "metadata": {},
     "output_type": "display_data"
    }
   ],
   "source": [
    "# Initialize the fig\n",
    "nrow, ncol = 1, 1\n",
    "width, height = 7, 5 # single subplot\n",
    "fig, ax = plt.subplots(nrow,ncol,figsize=(width,height))\n",
    "\n",
    "for ch in chars:\n",
    "    ax.plot(ch,tspan, c='red', ls='-', lw = 0.5, marker = '.')\n",
    "\n",
    "ax.plot(gamma(tspan),tspan)\n",
    "\n",
    "# labeling     \n",
    "ax.set_xlabel(r\"$x$\",fontsize=14)\n",
    "ax.set_ylabel(r\"$t$\",fontsize=14)\n",
    "ax.set_title(fr\"$characteristics$\",fontsize=14)\n",
    "ax.grid(color='grey', linestyle='-', linewidth=0.5)\n",
    "    \n",
    "plt.show()"
   ]
  },
  {
   "cell_type": "markdown",
   "id": "7cc1ef7f",
   "metadata": {},
   "source": [
    "### Solution"
   ]
  },
  {
   "cell_type": "code",
   "execution_count": 21,
   "id": "a922416d",
   "metadata": {},
   "outputs": [],
   "source": [
    "yrange = []\n",
    "\n",
    "for x in xspan:\n",
    "    y = []\n",
    "    for t in trange:\n",
    "        y.append(rho(x,t))\n",
    "    yrange.append(y)"
   ]
  },
  {
   "cell_type": "code",
   "execution_count": 22,
   "id": "42e5b6f8",
   "metadata": {},
   "outputs": [],
   "source": [
    "tspan_rounded = list(np.round(tspan,3))\n",
    "\n",
    "idx = [tspan_rounded.index(t) for t in trange]\n",
    "charrange = [[ch[i] for i in idx] for ch in chars]"
   ]
  },
  {
   "cell_type": "code",
   "execution_count": 23,
   "id": "ba5dd0ba",
   "metadata": {},
   "outputs": [
    {
     "data": {
      "image/png": "[encoded data removed]",
      "text/plain": [
       "<Figure size 1575x375 with 3 Axes>"
      ]
     },
     "metadata": {},
     "output_type": "display_data"
    }
   ],
   "source": [
    "# Initialize the fig\n",
    "nrow, ncol = 1, 3\n",
    "width, height = 7, 5 # single subplot\n",
    "fig, axes = plt.subplots(nrow,ncol,figsize=(width*ncol*.75,height*.75))\n",
    "\n",
    "for step, (ax, t) in enumerate(zip(axes.ravel(), trange)):\n",
    "    char, y = [c[step] for c in charrange], [y[step] for y in yrange]\n",
    "    ax.plot(char,y,c='red', ls='-', lw = 0.5, ms=5, marker='*', label=\"Discretized density\")\n",
    "    #     ax.plot(char,y*0,c='blue', ls='', ms=5, marker='o', label=\"Particles\")\n",
    "\n",
    "    ax.set_xlim([-1.5,1.5])\n",
    "    ax.set_ylim([0, 1])\n",
    "\n",
    "    # labeling     \n",
    "    ax.set_xlabel(r\"$x$\",fontsize=14)\n",
    "    ax.set_ylabel(r\"$\\rho$\",fontsize=14)\n",
    "    ax.set_title(fr\"$t={t}$\",fontsize=14)\n",
    "\n",
    "    ax.grid(color='grey', linestyle='-', linewidth=0.5)\n",
    "    ax.legend()\n",
    "    \n",
    "plt.show()"
   ]
  },
  {
   "cell_type": "code",
   "execution_count": null,
   "id": "036b442e",
   "metadata": {},
   "outputs": [],
   "source": []
  }
 ],
 "metadata": {
  "kernelspec": {
   "display_name": "Python 3 (ipykernel)",
   "language": "python",
   "name": "python3"
  },
  "language_info": {
   "codemirror_mode": {
    "name": "ipython",
    "version": 3
   },
   "file_extension": ".py",
   "mimetype": "text/x-python",
   "name": "python",
   "nbconvert_exporter": "python",
   "pygments_lexer": "ipython3",
   "version": "3.11.7"
  }
 },
 "nbformat": 4,
 "nbformat_minor": 5
}
