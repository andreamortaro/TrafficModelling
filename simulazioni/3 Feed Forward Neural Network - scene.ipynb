{
 "cells": [
  {
   "cell_type": "markdown",
   "id": "105a8d36",
   "metadata": {},
   "source": [
    "# Solve the NN driven model in a scene"
   ]
  },
  {
   "cell_type": "markdown",
   "id": "b1244e2c",
   "metadata": {},
   "source": [
    "## Import libraries"
   ]
  },
  {
   "cell_type": "code",
   "execution_count": 1,
   "id": "b7b2fb88",
   "metadata": {
    "scrolled": true
   },
   "outputs": [
    {
     "name": "stderr",
     "output_type": "stream",
     "text": [
      "2023-08-25 15:13:47.933156: I tensorflow/core/platform/cpu_feature_guard.cc:193] This TensorFlow binary is optimized with oneAPI Deep Neural Network Library (oneDNN) to use the following CPU instructions in performance-critical operations:  SSE4.1 SSE4.2 AVX AVX2 FMA\n",
      "To enable them in other operations, rebuild TensorFlow with the appropriate compiler flags.\n"
     ]
    },
    {
     "name": "stdout",
     "output_type": "stream",
     "text": [
      "Tensorflow/Keras: 2.11.0\n",
      "sklearn: 1.3.0\n"
     ]
    }
   ],
   "source": [
    "# Python libraries\n",
    "import os\n",
    "import pandas as pd # for data manipulation\n",
    "import numpy as np # for data manipulation\n",
    "import tensorflow as tf\n",
    "import matplotlib.pyplot as plt\n",
    "\n",
    "# To enable LaTeX and select a font\n",
    "plt.rcParams.update({\n",
    "    \"text.usetex\": True,\n",
    "    \"font.family\": \"sans-serif\",\n",
    "    \"font.sans-serif\": \"Helvetica\",\n",
    "})\n",
    "\n",
    "# Using ipynb import functions defined in other nb\n",
    "from ipynb.fs.defs.myfun_load_dataset import *\n",
    "from ipynb.fs.defs.myfun_models import *\n",
    "from ipynb.fs.defs.myfun_plot import *"
   ]
  },
  {
   "cell_type": "markdown",
   "id": "4828fb37",
   "metadata": {},
   "source": [
    "## Data Acquisition"
   ]
  },
  {
   "cell_type": "code",
   "execution_count": 2,
   "id": "6a596e24",
   "metadata": {},
   "outputs": [],
   "source": [
    "# Load the dataset\n",
    "par_dir = os.path.dirname(os.getcwd()) # parent dir\n",
    "dir_name = par_dir + \"/NN-interaction\"\n",
    "merged_df, dflist = load_dataset(dir_name, 'post') # we have 10 pandas dataframe, one for each couple(camera,sequence)"
   ]
  },
  {
   "cell_type": "code",
   "execution_count": 3,
   "id": "67be0c45",
   "metadata": {
    "scrolled": true
   },
   "outputs": [],
   "source": [
    "# For sake of simplicity conseder only a scene\n",
    "df = dflist[0] # sequence\n",
    "scn = df.T[0]  # scene"
   ]
  },
  {
   "cell_type": "code",
   "execution_count": 4,
   "id": "8f322843",
   "metadata": {},
   "outputs": [
    {
     "data": {
      "text/plain": [
       "Tarr           [9.440000000000001, 9.64, 9.840000000000002, 1...\n",
       "Xarr           [[29.373325674060805, 34.22142942994519, 38.50...\n",
       "Cons Dis       [[28.985128254938463, 28.827356057195246, 29.0...\n",
       "N. vehicles                                                    3\n",
       "cam                                                            1\n",
       "day                                                            1\n",
       "seq                                                            1\n",
       "N. file                                                        1\n",
       "Name: 0, dtype: object"
      ]
     },
     "execution_count": 4,
     "metadata": {},
     "output_type": "execute_result"
    }
   ],
   "source": [
    "scn"
   ]
  },
  {
   "cell_type": "code",
   "execution_count": 5,
   "id": "3412b2af",
   "metadata": {},
   "outputs": [],
   "source": [
    "# Useful params\n",
    "N = scn['N. vehicles']\n",
    "tstamps = scn['Tarr']"
   ]
  },
  {
   "cell_type": "code",
   "execution_count": 6,
   "id": "24a40003",
   "metadata": {
    "scrolled": false
   },
   "outputs": [
    {
     "data": {
      "text/plain": [
       "array([[29.37332567, 34.22142943, 38.50653306, 43.68772327, 39.53432096,\n",
       "        42.9844338 ],\n",
       "       [58.35845393, 63.04878549, 67.56118147, 73.20173178, 49.09293513,\n",
       "        56.45433487],\n",
       "       [60.14504406, 65.53744755, 70.75192501, 78.36474838, 79.44444985,\n",
       "        86.59041956]])"
      ]
     },
     "execution_count": 6,
     "metadata": {},
     "output_type": "execute_result"
    }
   ],
   "source": [
    "scn['Xarr']"
   ]
  },
  {
   "cell_type": "markdown",
   "id": "3555f92e",
   "metadata": {},
   "source": [
    "## Just to know the input of the NN"
   ]
  },
  {
   "cell_type": "code",
   "execution_count": 7,
   "id": "663a5989",
   "metadata": {},
   "outputs": [],
   "source": [
    "# Just to see what will be the X and y for our NN\n",
    "X_arr, y_arr = create_data_ann_scene(scn)"
   ]
  },
  {
   "cell_type": "code",
   "execution_count": 8,
   "id": "57b16fd6",
   "metadata": {},
   "outputs": [
    {
     "name": "stdout",
     "output_type": "stream",
     "text": [
      "We solve the NN driven ODE sys in each time interval of len=0.2s inside [9.440000000000001,10.440000000000001].\n",
      "\n"
     ]
    }
   ],
   "source": [
    "print(f\"We solve the NN driven ODE sys in each time interval of len=0.2s inside [{tstamps[0]},{tstamps[-1]}].\\n\")"
   ]
  },
  {
   "cell_type": "code",
   "execution_count": 9,
   "id": "85242f6e",
   "metadata": {},
   "outputs": [
    {
     "name": "stdout",
     "output_type": "stream",
     "text": [
      "In the first time interval [9.440000000000001,9.64] we evaluate our NN using as:\n",
      "\t * X: [28.82735606  2.48866206] (consecutive distances btw the 3 vehicles)\n",
      "\t * y: [21.42551813 22.56197993] (approximated velocities)\n"
     ]
    }
   ],
   "source": [
    "print(f\"In the first time interval [{tstamps[0]},{tstamps[1]}] we evaluate our NN using as:\\n\\\n",
    "\\t * X: {X_arr[:,1]} (consecutive distances btw the {N} vehicles)\\n\\\n",
    "\\t * y: {y_arr[:,1]} (approximated velocities)\")"
   ]
  },
  {
   "cell_type": "markdown",
   "id": "d998953f",
   "metadata": {},
   "source": [
    "## Create the model NN"
   ]
  },
  {
   "cell_type": "code",
   "execution_count": 10,
   "id": "a6bb4137",
   "metadata": {},
   "outputs": [],
   "source": [
    "DOE =[[1,2,1]] #Design of experiment"
   ]
  },
  {
   "cell_type": "code",
   "execution_count": 11,
   "id": "75e7aa94",
   "metadata": {},
   "outputs": [
    {
     "name": "stderr",
     "output_type": "stream",
     "text": [
      "/home/andrea/anaconda3/envs/tesi/lib/python3.10/site-packages/keras/initializers/initializers_v2.py:120: UserWarning: The initializer RandomUniform is unseeded and being called multiple times, which will return identical values  each time (even if the initializer is unseeded). Please update your code to provide a seed to the initializer, or avoid using the same initalizer instance more than once.\n",
      "  warnings.warn(\n"
     ]
    }
   ],
   "source": [
    "model = create_model(DOE[0])\n",
    "# model.summary()"
   ]
  },
  {
   "cell_type": "markdown",
   "id": "4cb4cc10",
   "metadata": {},
   "source": [
    "## Evaluate the NN in each time interval"
   ]
  },
  {
   "cell_type": "code",
   "execution_count": 12,
   "id": "c5811b5b",
   "metadata": {},
   "outputs": [],
   "source": [
    "# parameters to set\n",
    "epochs = 200           # An epoch is an iteration over the entire x and y data provided\n",
    "batch_size = 100       # Number of samples per gradient update.\n",
    "v0 = 30\n",
    "deltat = 0.05"
   ]
  },
  {
   "cell_type": "code",
   "execution_count": 13,
   "id": "27229854",
   "metadata": {
    "scrolled": true
   },
   "outputs": [
    {
     "name": "stdout",
     "output_type": "stream",
     "text": [
      "====================================================================================================\n",
      "We have 5 time intervals inside [9.44,10.44]\n",
      "\n",
      "----------------------------------------------------------------------------------------------------\n",
      "Time interval n.0: [9.44, 9.64]\n",
      "\n",
      "        * y_true: [24.24051878 23.45165779]\n",
      "        * y_pred: [3.449268102645874, 0.6312088966369629]\n",
      "\n",
      "----------------------------------------------------------------------------------------------------\n",
      "----------------------------------------------------------------------------------------------------\n",
      "Time interval n.1: [9.64, 9.84]\n",
      "\n",
      "        * y_true: [21.42551813 22.56197993]\n",
      "        * y_pred: [8.954209327697754, 1.5317424535751343]\n",
      "\n",
      "----------------------------------------------------------------------------------------------------\n",
      "----------------------------------------------------------------------------------------------------\n",
      "Time interval n.2: [9.84, 10.04]\n",
      "\n",
      "        * y_true: [25.90595108 28.20275155]\n",
      "        * y_pred: [16.591957092285156, 2.928370475769043]\n",
      "\n",
      "----------------------------------------------------------------------------------------------------\n",
      "----------------------------------------------------------------------------------------------------\n",
      "Time interval n.3: [10.04, 10.24]\n",
      "\n",
      "        * y_true: [ -20.76701156 -120.54398325]\n",
      "        * y_pred: [9.528138160705566, 2.3157799243927]\n",
      "\n",
      "----------------------------------------------------------------------------------------------------\n",
      "----------------------------------------------------------------------------------------------------\n",
      "Time interval n.4: [10.24, 10.44]\n",
      "\n",
      "        * y_true: [17.2505642  36.80699865]\n",
      "        * y_pred: [6.512746810913086, 18.034212112426758]\n",
      "\n",
      "----------------------------------------------------------------------------------------------------\n",
      "====================================================================================================\n"
     ]
    }
   ],
   "source": [
    "t_ann_list, x_ann_list, _ = odesolver_ann_scene(model, scn, batch_size, epochs, v0, deltat, verbose=0)"
   ]
  },
  {
   "cell_type": "markdown",
   "id": "b1f52114",
   "metadata": {},
   "source": [
    "### Plot"
   ]
  },
  {
   "cell_type": "code",
   "execution_count": 14,
   "id": "d6dbe360",
   "metadata": {},
   "outputs": [],
   "source": [
    "# Params for the plot\n",
    "trajs = [scn['Xarr'], np.array(x_ann_list)]\n",
    "labels_plot = [\"true\",\"nn sim\"]\n",
    "title = f\"Trajs simulated by NN driven LWR model\""
   ]
  },
  {
   "cell_type": "code",
   "execution_count": 15,
   "id": "9e233439",
   "metadata": {
    "scrolled": false
   },
   "outputs": [
    {
     "data": {
      "image/png": "[encoded data removed]",
      "text/plain": [
       "<Figure size 700x500 with 1 Axes>"
      ]
     },
     "metadata": {},
     "output_type": "display_data"
    }
   ],
   "source": [
    "# fig \n",
    "width, height = 7, 5\n",
    "fig, ax = plt.subplots(figsize=(width,height))\n",
    "\n",
    "for veh in range(0,N):\n",
    "    ax.plot(tstamps, scn['Xarr'][veh])\n",
    "    ax.plot(t_ann_list, x_ann_list[veh], '--')\n",
    "\n",
    "for ts in tstamps:\n",
    "    ax.axvline(x = ts, color = 'red', linestyle = '--', linewidth=0.75)\n",
    "    \n",
    "# Annotate the name of each variable at the last value\n",
    "plot_annotation(ax, scn, trajs, scale=1.004)\n",
    "\n",
    "ax.set_xlabel(\"t\")\n",
    "ax.set_ylabel(\"X(t)\")\n",
    "ax.set_title(title, fontsize=15)\n",
    "# Limits for the plot\n",
    "plot_limits(ax, scn, trajs, xbal=0.01, ybal=0.05)\n",
    "plt.legend(labels_plot)\n",
    "plt.grid()\n",
    "plt.show()"
   ]
  },
  {
   "cell_type": "markdown",
   "id": "7d3dfcae",
   "metadata": {},
   "source": [
    "## Match the computed solution to the same timestamps of the scene"
   ]
  },
  {
   "cell_type": "code",
   "execution_count": 16,
   "id": "361fbec9",
   "metadata": {},
   "outputs": [
    {
     "name": "stdout",
     "output_type": "stream",
     "text": [
      "timestamps coincide!\n",
      "* tstamps: \t\t\t [ 9.44  9.64  9.84 10.04 10.24 10.44] \n",
      "* np.array(t_ann_list): \t [ 9.44  9.64  9.84 10.04 10.24 10.44]\n"
     ]
    }
   ],
   "source": [
    "# To recover the same timestep in the data\n",
    "factor = int(0.2/deltat)\n",
    "\n",
    "if len(set(tstamps - np.array(t_ann_list)[::factor])) == 1:\n",
    "    print(f\"timestamps coincide!\")\n",
    "    print(\"* tstamps: \\t\\t\\t\", tstamps,\\\n",
    "          \"\\n* np.array(t_ann_list): \\t\",np.array(t_ann_list)[::factor])\n",
    "else:\n",
    "    print(f\"There is a mismatch in the timestamps: tstamps != tspan[::factor]\")"
   ]
  },
  {
   "cell_type": "code",
   "execution_count": 17,
   "id": "523cc9aa",
   "metadata": {},
   "outputs": [],
   "source": [
    "## To match solution and timestamps\n",
    "t_ann = np.array(t_ann_list)[::factor]\n",
    "x_ann = np.array([traj[::factor] for traj in x_ann_list])"
   ]
  }
 ],
 "metadata": {
  "kernelspec": {
   "display_name": "Python 3 (ipykernel)",
   "language": "python",
   "name": "python3"
  },
  "language_info": {
   "codemirror_mode": {
    "name": "ipython",
    "version": 3
   },
   "file_extension": ".py",
   "mimetype": "text/x-python",
   "name": "python",
   "nbconvert_exporter": "python",
   "pygments_lexer": "ipython3",
   "version": "3.10.9"
  }
 },
 "nbformat": 4,
 "nbformat_minor": 5
}
