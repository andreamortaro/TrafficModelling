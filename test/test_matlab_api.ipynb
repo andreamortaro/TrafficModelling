{
 "cells": [
  {
   "cell_type": "markdown",
   "id": "c89d9f7d",
   "metadata": {},
   "source": [
    "# Start and Stop MATLAB Engine for Python\n",
    "https://www.mathworks.com/help/matlab/matlab_external/start-the-matlab-engine-for-python.html"
   ]
  },
  {
   "cell_type": "markdown",
   "id": "b1f6251c",
   "metadata": {},
   "source": [
    "### warning\n",
    "In order to execute this notebook and use this Matlab API you obviously need to have Matlab already installed on your machine. Of course, on the docker image built by binder there's no way to use Matlab."
   ]
  },
  {
   "cell_type": "code",
   "execution_count": 1,
   "id": "7d34bc61",
   "metadata": {},
   "outputs": [],
   "source": [
    "# Matlab Engine for Python API\n",
    "import matlab.engine\n",
    "eng = matlab.engine.start_matlab()"
   ]
  },
  {
   "cell_type": "code",
   "execution_count": 2,
   "id": "5398e9fd",
   "metadata": {},
   "outputs": [
    {
     "name": "stdout",
     "output_type": "stream",
     "text": [
      "/home/andrea/.local/lib/python3.10/site-packages/matlab/__init__.py\n"
     ]
    }
   ],
   "source": [
    "print(matlab.__file__) # To check which version of MATLAB was imported, in Python type:"
   ]
  },
  {
   "cell_type": "markdown",
   "id": "9b0f845b",
   "metadata": {},
   "source": [
    "## Run Multiple Engines\n",
    "Start each engine separately. Each engine starts and communicates with its own MATLAB process."
   ]
  },
  {
   "cell_type": "code",
   "execution_count": null,
   "id": "b11d8ee8",
   "metadata": {},
   "outputs": [],
   "source": [
    "eng1 = matlab.engine.start_matlab()\n",
    "eng2 = matlab.engine.start_matlab()"
   ]
  },
  {
   "cell_type": "markdown",
   "id": "8d578947",
   "metadata": {},
   "source": [
    "## example: eigenvalues"
   ]
  },
  {
   "cell_type": "code",
   "execution_count": null,
   "id": "d344bc6e",
   "metadata": {
    "scrolled": true
   },
   "outputs": [],
   "source": [
    "eng = matlab.engine.start_matlab()\n",
    "A = [[1.0000,    0.5000,    0.3333,    0.2500],\n",
    "     [0.5000,    1.0000,    0.6667,    0.5000],\n",
    "     [0.3333,    0.6667,    1.0000,    0.7500],\n",
    "     [0.2500,    0.5000,    0.7500,    1.0000]]\n",
    "A = matlab.double(A)\n",
    "V, D = eng.eig(A, nargout=2)\n",
    "print(f\"V= {V} \\n\")\n",
    "print(f\"D= {D} \\n\")\n",
    "\n",
    "eigval = [D[i][i] for i in range(0,len(D))]\n",
    "print(f\"The eigenvalues are {eigval} \\n\")\n"
   ]
  },
  {
   "cell_type": "markdown",
   "id": "43a10ee5",
   "metadata": {},
   "source": [
    "### python representation with pandas"
   ]
  },
  {
   "cell_type": "code",
   "execution_count": null,
   "id": "46956bf8",
   "metadata": {},
   "outputs": [],
   "source": [
    "import pandas as pd"
   ]
  },
  {
   "cell_type": "code",
   "execution_count": null,
   "id": "eac9b0be",
   "metadata": {},
   "outputs": [],
   "source": [
    "dfV = pd.DataFrame(V)\n",
    "dfD = pd.DataFrame(D)"
   ]
  },
  {
   "cell_type": "code",
   "execution_count": null,
   "id": "73cbef24",
   "metadata": {},
   "outputs": [],
   "source": [
    "dfV"
   ]
  },
  {
   "cell_type": "code",
   "execution_count": null,
   "id": "9d0610af",
   "metadata": {},
   "outputs": [],
   "source": [
    "dfD"
   ]
  },
  {
   "cell_type": "code",
   "execution_count": null,
   "id": "1be1d37d",
   "metadata": {},
   "outputs": [],
   "source": []
  }
 ],
 "metadata": {
  "kernelspec": {
   "display_name": "Python 3 (ipykernel)",
   "language": "python",
   "name": "python3"
  },
  "language_info": {
   "codemirror_mode": {
    "name": "ipython",
    "version": 3
   },
   "file_extension": ".py",
   "mimetype": "text/x-python",
   "name": "python",
   "nbconvert_exporter": "python",
   "pygments_lexer": "ipython3",
   "version": "3.10.9"
  }
 },
 "nbformat": 4,
 "nbformat_minor": 5
}
