{
 "cells": [
  {
   "cell_type": "code",
   "execution_count": null,
   "id": "319a9ecd",
   "metadata": {
    "scrolled": true
   },
   "outputs": [],
   "source": [
    "# data analysis and wrangling\n",
    "import numpy as np # linear algebra\n",
    "import pandas as pd # data processing, CSV file I/O (e.g. pd.read_csv)\n",
    "# import random as rnd\n",
    "\n",
    "# visualization\n",
    "import matplotlib.pyplot as plt\n",
    "# %matplotlib inline\n",
    "\n",
    "# machine learning\n",
    "import tensorflow as tf\n",
    "from tensorflow import keras\n",
    "from keras.models import  Sequential\n",
    "from keras.layers.core import Dense\n",
    "import keras.metrics as metrics"
   ]
  },
  {
   "cell_type": "markdown",
   "id": "34815b43",
   "metadata": {},
   "source": [
    "## Create the ANN"
   ]
  },
  {
   "cell_type": "code",
   "execution_count": null,
   "id": "4f3501e7",
   "metadata": {},
   "outputs": [],
   "source": [
    "model = Sequential()\n",
    "\n",
    "# Input Layer\n",
    "model.add(Dense(10, input_dim=X_train.shape[1], activation='relu'))\n",
    "\n",
    "# Hidden Layers\n",
    "model.add(Dense(30, activation='relu'))\n",
    "model.add(Dense(40, activation='relu'))\n",
    "\n",
    "# Output Layer\n",
    "model.add(Dense(1))"
   ]
  },
  {
   "cell_type": "markdown",
   "id": "107a0836",
   "metadata": {},
   "source": [
    "## Compile network"
   ]
  },
  {
   "cell_type": "code",
   "execution_count": null,
   "id": "04c9b3a4",
   "metadata": {},
   "outputs": [],
   "source": [
    "opt = tf.keras.optimizers.Adadelta(\n",
    "            learning_rate=0.001,\n",
    "            rho=0.95,\n",
    "            epsilon=1e-07,\n",
    "            weight_decay=None,\n",
    "            clipnorm=None,\n",
    "            clipvalue=None,\n",
    "            global_clipnorm=None,\n",
    "            use_ema=False,\n",
    "            ema_momentum=0.99,\n",
    "            ema_overwrite_frequency=None,\n",
    "            jit_compile=True,\n",
    "            name=\"Adadelta\")"
   ]
  },
  {
   "cell_type": "code",
   "execution_count": null,
   "id": "0cb5ec11",
   "metadata": {},
   "outputs": [],
   "source": [
    "# Compile the model\n",
    "model.compile(optimizer = opt,           # Optimizer: an algorithm for first-order stochastic gradiend descent\n",
    "              loss = 'mean_squared_error', # Loss function: the objective that the model will try to minimize\n",
    "              metrics=[metrics.mae])       # A list of metrics: used to judge the performance of your model"
   ]
  },
  {
   "cell_type": "markdown",
   "id": "a94631d3",
   "metadata": {},
   "source": [
    "Adadelta optimization is a **stochastic gradient descent method** that is based on adaptive learning rate per dimension to address two drawbacks:\n",
    "* The continual decay of learning rates throughout training.\n",
    "* The need for a manually selected global learning rate."
   ]
  },
  {
   "cell_type": "code",
   "execution_count": null,
   "id": "a77e862e",
   "metadata": {},
   "outputs": [],
   "source": [
    "\n"
   ]
  },
  {
   "cell_type": "code",
   "execution_count": null,
   "id": "eecbcefe",
   "metadata": {},
   "outputs": [],
   "source": []
  }
 ],
 "metadata": {
  "kernelspec": {
   "display_name": "Python 3 (ipykernel)",
   "language": "python",
   "name": "python3"
  },
  "language_info": {
   "codemirror_mode": {
    "name": "ipython",
    "version": 3
   },
   "file_extension": ".py",
   "mimetype": "text/x-python",
   "name": "python",
   "nbconvert_exporter": "python",
   "pygments_lexer": "ipython3",
   "version": "3.10.9"
  }
 },
 "nbformat": 4,
 "nbformat_minor": 5
}
