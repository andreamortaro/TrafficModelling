{
 "cells": [
  {
   "cell_type": "code",
   "execution_count": 1,
   "id": "905d9e3e",
   "metadata": {},
   "outputs": [],
   "source": [
    "# Python libraries\n",
    "import os\n",
    "from scipy.io import loadmat\n",
    "import pandas as pd\n",
    "import numpy as np\n",
    "import itertools\n",
    "\n",
    "# Using ipynb import functions defined in other nb\n",
    "from ipynb.fs.full.my_functions import *"
   ]
  },
  {
   "cell_type": "code",
   "execution_count": 2,
   "id": "aa8141ba",
   "metadata": {},
   "outputs": [],
   "source": [
    "# store path filenames\n",
    "prefix, suffix = \"sequence_data\", \".mat\"\n",
    "cameras = [\"1\",\"2\",\"3\",\"4\",\"5\"]\n",
    "days = [\"-1_\"]\n",
    "sequences = [\"1\",\"2\"]\n",
    "pathfiles = []\n",
    "\n",
    "for cam,day,seq in itertools.product(cameras,days,sequences):\n",
    "    pathfiles.append(prefix+cam+day+seq+suffix)"
   ]
  },
  {
   "cell_type": "code",
   "execution_count": 3,
   "id": "92eb7b6e",
   "metadata": {},
   "outputs": [],
   "source": [
    "# load .mat\n",
    "dir_name = os.getcwd() + \"/NN-interaction\"\n",
    "mat = [] # list of .mat files (seen as nd.array..)\n",
    "\n",
    "for base_filename in pathfiles:\n",
    "    pathfile = os.path.join(dir_name, base_filename)\n",
    "    mat.append(loadmat(pathfile)) #The loadmat method returns a python dictionary (as data struct)."
   ]
  },
  {
   "cell_type": "code",
   "execution_count": 4,
   "id": "99e068b6",
   "metadata": {},
   "outputs": [],
   "source": [
    "# Converting mat into a dataframe\n",
    "dflist = []\n",
    "\n",
    "for matfile in mat:\n",
    "    matrix = matfile['sequences']\n",
    "\n",
    "    _,_,data = convert_mat(matrix)\n",
    "    dflist.append(mat2df(data))"
   ]
  },
  {
   "cell_type": "markdown",
   "id": "9fc2b276",
   "metadata": {},
   "source": [
    "## Comparison with preprocessed(?) data"
   ]
  },
  {
   "cell_type": "code",
   "execution_count": 9,
   "id": "34e92a0e",
   "metadata": {},
   "outputs": [],
   "source": [
    "# store path filenames\n",
    "prefix, suffix = \"sequence_data\", \".mat\"\n",
    "cameras = [\"_1\",\"_2\",\"_3\",\"_4\",\"_5\"]\n",
    "days = [\"-1_\"]\n",
    "sequences = [\"1\",\"2\"]\n",
    "pathfiles2 = []\n",
    "\n",
    "for cam,day,seq in itertools.product(cameras,days,sequences):\n",
    "    pathfiles2.append(prefix+cam+day+seq+suffix)"
   ]
  },
  {
   "cell_type": "code",
   "execution_count": 11,
   "id": "e8b3ee3f",
   "metadata": {},
   "outputs": [],
   "source": [
    "# load .mat\n",
    "dir_name = os.getcwd() + \"/NN-interaction\"\n",
    "mat = [] # list of .mat files (seen as nd.array..)\n",
    "\n",
    "for base_filename in pathfiles2:\n",
    "    pathfile2 = os.path.join(dir_name, base_filename)\n",
    "    mat.append(loadmat(pathfile2)) #The loadmat method returns a python dictionary (as data struct)."
   ]
  },
  {
   "cell_type": "code",
   "execution_count": 12,
   "id": "a305a56f",
   "metadata": {},
   "outputs": [],
   "source": [
    "# Converting mat into a dataframe\n",
    "dflist2 = []\n",
    "\n",
    "for matfile in mat:\n",
    "    matrix = matfile['sequences']\n",
    "\n",
    "    _,_,data2 = convert_mat(matrix)\n",
    "    dflist2.append(mat2df(data2))"
   ]
  },
  {
   "cell_type": "code",
   "execution_count": 13,
   "id": "123f530c",
   "metadata": {},
   "outputs": [
    {
     "data": {
      "text/plain": [
       "(10, 10)"
      ]
     },
     "execution_count": 13,
     "metadata": {},
     "output_type": "execute_result"
    }
   ],
   "source": [
    "len(dflist), len(dflist2)"
   ]
  },
  {
   "cell_type": "code",
   "execution_count": 21,
   "id": "a414e4ea",
   "metadata": {},
   "outputs": [],
   "source": [
    "df = dflist[0]\n",
    "df2 = dflist2[0]"
   ]
  },
  {
   "cell_type": "code",
   "execution_count": null,
   "id": "c5026e14",
   "metadata": {},
   "outputs": [],
   "source": []
  }
 ],
 "metadata": {
  "kernelspec": {
   "display_name": "Python 3 (ipykernel)",
   "language": "python",
   "name": "python3"
  },
  "language_info": {
   "codemirror_mode": {
    "name": "ipython",
    "version": 3
   },
   "file_extension": ".py",
   "mimetype": "text/x-python",
   "name": "python",
   "nbconvert_exporter": "python",
   "pygments_lexer": "ipython3",
   "version": "3.10.9"
  }
 },
 "nbformat": 4,
 "nbformat_minor": 5
}
