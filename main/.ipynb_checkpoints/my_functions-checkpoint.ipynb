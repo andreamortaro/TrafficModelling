{
 "cells": [
  {
   "cell_type": "code",
   "execution_count": 6,
   "id": "8fe1d0c8",
   "metadata": {},
   "outputs": [],
   "source": [
    "import pandas as pd"
   ]
  },
  {
   "cell_type": "code",
   "execution_count": 1,
   "id": "160bc5c8",
   "metadata": {},
   "outputs": [],
   "source": [
    "# Format a nd.array imported by mat files into a more readable list of lists\n",
    "def convert_mat(matrix):\n",
    "    Xarr, Tarr, data = [],[], []\n",
    "    nseq = matrix.shape[0]\n",
    "\n",
    "    for seq in range(0,nseq):\n",
    "        tmp = matrix[seq][0][0][0]\n",
    "        Xarr.append(tmp[0].tolist())\n",
    "        Tarr.append(tmp[1][0].tolist())\n",
    "\n",
    "        sequence = []\n",
    "        for j in range(0,len(Xarr[seq])):\n",
    "            l1, l2 = Xarr[seq][j], Tarr[seq]\n",
    "            scene = [] # for each vehicole of a sequence I have a scene\n",
    "            for a,b in zip(l1,l2):\n",
    "                scene.append([a,b]) # couple (xpos, time)\n",
    "            sequence.append(scene)\n",
    "        data.append(sequence)\n",
    "        \n",
    "    return Xarr, Tarr, data"
   ]
  },
  {
   "cell_type": "code",
   "execution_count": 2,
   "id": "b3ed658c",
   "metadata": {},
   "outputs": [],
   "source": [
    "# convert a list of lists into a dataframe\n",
    "def mat2df(data):\n",
    "    df = pd.DataFrame(data)\n",
    "    return df"
   ]
  },
  {
   "cell_type": "code",
   "execution_count": null,
   "id": "09ef8c10",
   "metadata": {},
   "outputs": [],
   "source": []
  }
 ],
 "metadata": {
  "kernelspec": {
   "display_name": "Python 3 (ipykernel)",
   "language": "python",
   "name": "python3"
  },
  "language_info": {
   "codemirror_mode": {
    "name": "ipython",
    "version": 3
   },
   "file_extension": ".py",
   "mimetype": "text/x-python",
   "name": "python",
   "nbconvert_exporter": "python",
   "pygments_lexer": "ipython3",
   "version": "3.10.9"
  }
 },
 "nbformat": 4,
 "nbformat_minor": 5
}
